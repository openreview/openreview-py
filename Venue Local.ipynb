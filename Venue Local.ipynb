{
 "cells": [
  {
   "cell_type": "markdown",
   "id": "79f10581",
   "metadata": {},
   "source": []
  },
  {
   "cell_type": "code",
   "execution_count": 2,
   "id": "6a5da49f-1505-40ab-a3db-56be31f9bdf8",
   "metadata": {},
   "outputs": [
    {
     "ename": "ModuleNotFoundError",
     "evalue": "No module named 'urllib3.packages.six.moves'",
     "output_type": "error",
     "traceback": [
      "\u001b[0;31m---------------------------------------------------------------------------\u001b[0m",
      "\u001b[0;31mModuleNotFoundError\u001b[0m                       Traceback (most recent call last)",
      "Cell \u001b[0;32mIn[2], line 1\u001b[0m\n\u001b[0;32m----> 1\u001b[0m \u001b[38;5;28;01mimport\u001b[39;00m\u001b[38;5;250m \u001b[39m\u001b[38;5;21;01mopenreview\u001b[39;00m\n\u001b[1;32m      2\u001b[0m \u001b[38;5;28;01mfrom\u001b[39;00m\u001b[38;5;250m \u001b[39m\u001b[38;5;21;01mtqdm\u001b[39;00m\u001b[38;5;250m \u001b[39m\u001b[38;5;28;01mimport\u001b[39;00m tqdm\n\u001b[1;32m      3\u001b[0m \u001b[38;5;28;01mimport\u001b[39;00m\u001b[38;5;250m \u001b[39m\u001b[38;5;21;01mdatetime\u001b[39;00m\n",
      "File \u001b[0;32m~/openreview/openreview-py/openreview/__init__.py:1\u001b[0m\n\u001b[0;32m----> 1\u001b[0m \u001b[38;5;28;01mfrom\u001b[39;00m\u001b[38;5;250m \u001b[39m\u001b[38;5;21;01m.\u001b[39;00m\u001b[38;5;21;01mopenreview\u001b[39;00m\u001b[38;5;250m \u001b[39m\u001b[38;5;28;01mimport\u001b[39;00m \u001b[38;5;241m*\u001b[39m\n\u001b[1;32m      2\u001b[0m \u001b[38;5;28;01mfrom\u001b[39;00m\u001b[38;5;250m \u001b[39m\u001b[38;5;21;01m.\u001b[39;00m\u001b[38;5;250m \u001b[39m\u001b[38;5;28;01mimport\u001b[39;00m tools\n\u001b[1;32m      3\u001b[0m \u001b[38;5;28;01mfrom\u001b[39;00m\u001b[38;5;250m \u001b[39m\u001b[38;5;21;01m.\u001b[39;00m\u001b[38;5;21;01mconference\u001b[39;00m\u001b[38;5;250m \u001b[39m\u001b[38;5;28;01mimport\u001b[39;00m \u001b[38;5;241m*\u001b[39m\n",
      "File \u001b[0;32m~/openreview/openreview-py/openreview/openreview.py:10\u001b[0m\n\u001b[1;32m      7\u001b[0m     string_types \u001b[38;5;241m=\u001b[39m [\u001b[38;5;28mstr\u001b[39m]\n\u001b[1;32m      9\u001b[0m \u001b[38;5;28;01mfrom\u001b[39;00m\u001b[38;5;250m \u001b[39m\u001b[38;5;21;01m.\u001b[39;00m\u001b[38;5;250m \u001b[39m\u001b[38;5;28;01mimport\u001b[39;00m tools\n\u001b[0;32m---> 10\u001b[0m \u001b[38;5;28;01mimport\u001b[39;00m\u001b[38;5;250m \u001b[39m\u001b[38;5;21;01mrequests\u001b[39;00m\n\u001b[1;32m     11\u001b[0m \u001b[38;5;28;01mfrom\u001b[39;00m\u001b[38;5;250m \u001b[39m\u001b[38;5;21;01mrequests\u001b[39;00m\u001b[38;5;21;01m.\u001b[39;00m\u001b[38;5;21;01madapters\u001b[39;00m\u001b[38;5;250m \u001b[39m\u001b[38;5;28;01mimport\u001b[39;00m HTTPAdapter\n\u001b[1;32m     12\u001b[0m \u001b[38;5;28;01mfrom\u001b[39;00m\u001b[38;5;250m \u001b[39m\u001b[38;5;21;01mrequests\u001b[39;00m\u001b[38;5;21;01m.\u001b[39;00m\u001b[38;5;21;01mpackages\u001b[39;00m\u001b[38;5;21;01m.\u001b[39;00m\u001b[38;5;21;01murllib3\u001b[39;00m\u001b[38;5;21;01m.\u001b[39;00m\u001b[38;5;21;01mutil\u001b[39;00m\u001b[38;5;21;01m.\u001b[39;00m\u001b[38;5;21;01mretry\u001b[39;00m\u001b[38;5;250m \u001b[39m\u001b[38;5;28;01mimport\u001b[39;00m Retry\n",
      "File \u001b[0;32m/Library/Frameworks/Python.framework/Versions/3.13/lib/python3.13/site-packages/requests/__init__.py:43\u001b[0m\n\u001b[1;32m      1\u001b[0m \u001b[38;5;66;03m# -*- coding: utf-8 -*-\u001b[39;00m\n\u001b[1;32m      2\u001b[0m \n\u001b[1;32m      3\u001b[0m \u001b[38;5;66;03m#   __\u001b[39;00m\n\u001b[1;32m      4\u001b[0m \u001b[38;5;66;03m#  /__)  _  _     _   _ _/   _\u001b[39;00m\n\u001b[1;32m      5\u001b[0m \u001b[38;5;66;03m# / (   (- (/ (/ (- _)  /  _)\u001b[39;00m\n\u001b[1;32m      6\u001b[0m \u001b[38;5;66;03m#          /\u001b[39;00m\n\u001b[1;32m      8\u001b[0m \u001b[38;5;124;03m\"\"\"\u001b[39;00m\n\u001b[1;32m      9\u001b[0m \u001b[38;5;124;03mRequests HTTP Library\u001b[39;00m\n\u001b[1;32m     10\u001b[0m \u001b[38;5;124;03m~~~~~~~~~~~~~~~~~~~~~\u001b[39;00m\n\u001b[0;32m   (...)\u001b[0m\n\u001b[1;32m     40\u001b[0m \u001b[38;5;124;03m:license: Apache 2.0, see LICENSE for more details.\u001b[39;00m\n\u001b[1;32m     41\u001b[0m \u001b[38;5;124;03m\"\"\"\u001b[39;00m\n\u001b[0;32m---> 43\u001b[0m \u001b[38;5;28;01mimport\u001b[39;00m\u001b[38;5;250m \u001b[39m\u001b[38;5;21;01murllib3\u001b[39;00m\n\u001b[1;32m     44\u001b[0m \u001b[38;5;28;01mimport\u001b[39;00m\u001b[38;5;250m \u001b[39m\u001b[38;5;21;01mchardet\u001b[39;00m\n\u001b[1;32m     45\u001b[0m \u001b[38;5;28;01mimport\u001b[39;00m\u001b[38;5;250m \u001b[39m\u001b[38;5;21;01mwarnings\u001b[39;00m\n",
      "File \u001b[0;32m/Library/Frameworks/Python.framework/Versions/3.13/lib/python3.13/site-packages/urllib3/__init__.py:7\u001b[0m\n\u001b[1;32m      4\u001b[0m \u001b[38;5;28;01mfrom\u001b[39;00m\u001b[38;5;250m \u001b[39m\u001b[38;5;21;01m__future__\u001b[39;00m\u001b[38;5;250m \u001b[39m\u001b[38;5;28;01mimport\u001b[39;00m absolute_import\n\u001b[1;32m      5\u001b[0m \u001b[38;5;28;01mimport\u001b[39;00m\u001b[38;5;250m \u001b[39m\u001b[38;5;21;01mwarnings\u001b[39;00m\n\u001b[0;32m----> 7\u001b[0m \u001b[38;5;28;01mfrom\u001b[39;00m\u001b[38;5;250m \u001b[39m\u001b[38;5;21;01m.\u001b[39;00m\u001b[38;5;21;01mconnectionpool\u001b[39;00m\u001b[38;5;250m \u001b[39m\u001b[38;5;28;01mimport\u001b[39;00m HTTPConnectionPool, HTTPSConnectionPool, connection_from_url\n\u001b[1;32m      9\u001b[0m \u001b[38;5;28;01mfrom\u001b[39;00m\u001b[38;5;250m \u001b[39m\u001b[38;5;21;01m.\u001b[39;00m\u001b[38;5;250m \u001b[39m\u001b[38;5;28;01mimport\u001b[39;00m exceptions\n\u001b[1;32m     10\u001b[0m \u001b[38;5;28;01mfrom\u001b[39;00m\u001b[38;5;250m \u001b[39m\u001b[38;5;21;01m.\u001b[39;00m\u001b[38;5;21;01mfilepost\u001b[39;00m\u001b[38;5;250m \u001b[39m\u001b[38;5;28;01mimport\u001b[39;00m encode_multipart_formdata\n",
      "File \u001b[0;32m/Library/Frameworks/Python.framework/Versions/3.13/lib/python3.13/site-packages/urllib3/connectionpool.py:11\u001b[0m\n\u001b[1;32m      7\u001b[0m \u001b[38;5;28;01mfrom\u001b[39;00m\u001b[38;5;250m \u001b[39m\u001b[38;5;21;01msocket\u001b[39;00m\u001b[38;5;250m \u001b[39m\u001b[38;5;28;01mimport\u001b[39;00m error \u001b[38;5;28;01mas\u001b[39;00m SocketError, timeout \u001b[38;5;28;01mas\u001b[39;00m SocketTimeout\n\u001b[1;32m      8\u001b[0m \u001b[38;5;28;01mimport\u001b[39;00m\u001b[38;5;250m \u001b[39m\u001b[38;5;21;01msocket\u001b[39;00m\n\u001b[0;32m---> 11\u001b[0m \u001b[38;5;28;01mfrom\u001b[39;00m\u001b[38;5;250m \u001b[39m\u001b[38;5;21;01m.\u001b[39;00m\u001b[38;5;21;01mexceptions\u001b[39;00m\u001b[38;5;250m \u001b[39m\u001b[38;5;28;01mimport\u001b[39;00m (\n\u001b[1;32m     12\u001b[0m     ClosedPoolError,\n\u001b[1;32m     13\u001b[0m     ProtocolError,\n\u001b[1;32m     14\u001b[0m     EmptyPoolError,\n\u001b[1;32m     15\u001b[0m     HeaderParsingError,\n\u001b[1;32m     16\u001b[0m     HostChangedError,\n\u001b[1;32m     17\u001b[0m     LocationValueError,\n\u001b[1;32m     18\u001b[0m     MaxRetryError,\n\u001b[1;32m     19\u001b[0m     ProxyError,\n\u001b[1;32m     20\u001b[0m     ReadTimeoutError,\n\u001b[1;32m     21\u001b[0m     SSLError,\n\u001b[1;32m     22\u001b[0m     \u001b[38;5;167;01mTimeoutError\u001b[39;00m,\n\u001b[1;32m     23\u001b[0m     InsecureRequestWarning,\n\u001b[1;32m     24\u001b[0m     NewConnectionError,\n\u001b[1;32m     25\u001b[0m )\n\u001b[1;32m     26\u001b[0m \u001b[38;5;28;01mfrom\u001b[39;00m\u001b[38;5;250m \u001b[39m\u001b[38;5;21;01m.\u001b[39;00m\u001b[38;5;21;01mpackages\u001b[39;00m\u001b[38;5;21;01m.\u001b[39;00m\u001b[38;5;21;01mssl_match_hostname\u001b[39;00m\u001b[38;5;250m \u001b[39m\u001b[38;5;28;01mimport\u001b[39;00m CertificateError\n\u001b[1;32m     27\u001b[0m \u001b[38;5;28;01mfrom\u001b[39;00m\u001b[38;5;250m \u001b[39m\u001b[38;5;21;01m.\u001b[39;00m\u001b[38;5;21;01mpackages\u001b[39;00m\u001b[38;5;250m \u001b[39m\u001b[38;5;28;01mimport\u001b[39;00m six\n",
      "File \u001b[0;32m/Library/Frameworks/Python.framework/Versions/3.13/lib/python3.13/site-packages/urllib3/exceptions.py:2\u001b[0m\n\u001b[1;32m      1\u001b[0m \u001b[38;5;28;01mfrom\u001b[39;00m\u001b[38;5;250m \u001b[39m\u001b[38;5;21;01m__future__\u001b[39;00m\u001b[38;5;250m \u001b[39m\u001b[38;5;28;01mimport\u001b[39;00m absolute_import\n\u001b[0;32m----> 2\u001b[0m \u001b[38;5;28;01mfrom\u001b[39;00m\u001b[38;5;250m \u001b[39m\u001b[38;5;21;01m.\u001b[39;00m\u001b[38;5;21;01mpackages\u001b[39;00m\u001b[38;5;21;01m.\u001b[39;00m\u001b[38;5;21;01msix\u001b[39;00m\u001b[38;5;21;01m.\u001b[39;00m\u001b[38;5;21;01mmoves\u001b[39;00m\u001b[38;5;21;01m.\u001b[39;00m\u001b[38;5;21;01mhttp_client\u001b[39;00m\u001b[38;5;250m \u001b[39m\u001b[38;5;28;01mimport\u001b[39;00m IncompleteRead \u001b[38;5;28;01mas\u001b[39;00m httplib_IncompleteRead\n\u001b[1;32m      4\u001b[0m \u001b[38;5;66;03m# Base Exceptions\u001b[39;00m\n\u001b[1;32m      7\u001b[0m \u001b[38;5;28;01mclass\u001b[39;00m\u001b[38;5;250m \u001b[39m\u001b[38;5;21;01mHTTPError\u001b[39;00m(\u001b[38;5;167;01mException\u001b[39;00m):\n",
      "\u001b[0;31mModuleNotFoundError\u001b[0m: No module named 'urllib3.packages.six.moves'"
     ]
    }
   ],
   "source": [
    "import openreview\n",
    "from tqdm import tqdm\n",
    "import datetime\n",
    "import re"
   ]
  },
  {
   "cell_type": "code",
   "execution_count": null,
   "id": "e78d4ffc",
   "metadata": {},
   "outputs": [
    {
     "ename": "",
     "evalue": "",
     "output_type": "error",
     "traceback": [
      "\u001b[1;31mRunning cells with 'py-3.8 (Python 3.9.6)' requires the ipykernel package.\n",
      "\u001b[1;31mRun the following command to install 'ipykernel' into the Python environment. \n",
      "\u001b[1;31mCommand: '/Users/melisabok/openreview/py-3.8/bin/python3 -m pip install ipykernel -U --force-reinstall'"
     ]
    }
   ],
   "source": [
    "client = openreview.Client(baseurl = 'https://api.openreview.net', username = 'OpenReview.net', password = '@lIu<1j^qa<_qeq$UV+$O)+k)ASaWh4acy*zh2tSdVc$?==3Qlb4JgCfm!3RMTna')\n",
    "client_v2 = openreview.api.OpenReviewClient(baseurl = 'https://api2.openreview.net', username = 'OpenReview.net', password = '@lIu<1j^qa<_qeq$UV+$O)+k)ASaWh4acy*zh2tSdVc$?==3Qlb4JgCfm!3RMTna')\n",
    "\n"
   ]
  },
  {
   "cell_type": "code",
   "execution_count": 6,
   "id": "6ea45a0e",
   "metadata": {},
   "outputs": [
    {
     "ename": "AttributeError",
     "evalue": "module 'openreview' has no attribute 'Client'",
     "output_type": "error",
     "traceback": [
      "\u001b[0;31m---------------------------------------------------------------------------\u001b[0m",
      "\u001b[0;31mAttributeError\u001b[0m                            Traceback (most recent call last)",
      "Cell \u001b[0;32mIn[6], line 1\u001b[0m\n\u001b[0;32m----> 1\u001b[0m client_v1 \u001b[38;5;241m=\u001b[39m \u001b[43mopenreview\u001b[49m\u001b[38;5;241;43m.\u001b[39;49m\u001b[43mClient\u001b[49m(baseurl\u001b[38;5;241m=\u001b[39m\u001b[38;5;124m'\u001b[39m\u001b[38;5;124mhttps://devapi.openreview.net\u001b[39m\u001b[38;5;124m'\u001b[39m, username\u001b[38;5;241m=\u001b[39m\u001b[38;5;124m'\u001b[39m\u001b[38;5;124mmccallum@cs.umass.edu\u001b[39m\u001b[38;5;124m'\u001b[39m, password\u001b[38;5;241m=\u001b[39m\u001b[38;5;124m'\u001b[39m\u001b[38;5;124m1234\u001b[39m\u001b[38;5;124m'\u001b[39m)\n",
      "\u001b[0;31mAttributeError\u001b[0m: module 'openreview' has no attribute 'Client'"
     ]
    }
   ],
   "source": [
    "client_v1 = openreview.Client(baseurl='https://devapi.openreview.net', username='mccallum@cs.umass.edu', password='1234')"
   ]
  },
  {
   "cell_type": "code",
   "execution_count": 3,
   "id": "8df20281",
   "metadata": {},
   "outputs": [
    {
     "data": {
      "text/plain": [
       "'6834889786642160301'"
      ]
     },
     "execution_count": 3,
     "metadata": {},
     "output_type": "execute_result"
    }
   ],
   "source": [
    "import random\n",
    "str(random.getrandbits(64))"
   ]
  },
  {
   "cell_type": "code",
   "execution_count": 2,
   "id": "aaed9a00-26c7-4aec-b61c-ede921d282ac",
   "metadata": {},
   "outputs": [],
   "source": [
    "client = openreview.api.OpenReviewClient(baseurl='http://localhost:3001', username='openreview.net', password='Or$3cur3P@ssw0rd')\n",
    "client_v1 = openreview.Client(baseurl='http://localhost:3000', username='openreview.net', password='Or$3cur3P@ssw0rd')\n"
   ]
  },
  {
   "cell_type": "code",
   "execution_count": 9,
   "id": "47a59dc1",
   "metadata": {},
   "outputs": [],
   "source": [
    "def process(client, edit, invitation):\n",
    "\n",
    "    domain = client.get_group(invitation.domain)\n",
    "    venue_id = domain.id\n",
    "    meta_invitation_id = domain.content['meta_invitation_id']['value']\n",
    "    contact_email = domain.content['contact']['value']    \n",
    "    invited_group = client.get_group(domain.content['reviewers_invited_id']['value'])\n",
    "    group_id = domain.content['reviewers_id']['value']\n",
    "    reviewers_invited_response_id = domain.content['reviewers_invited_response_id']['value']\n",
    "    reviewers_invited_message_id = domain.content['reviewers_invited_message_id']['value']\n",
    "    reviewers_invited_response_invitation = client.get_invitation(reviewers_invited_response_id)\n",
    "    hash_seed = reviewers_invited_response_invitation.content['hash_seed']['value']\n",
    "\n",
    "    invitee_details = edit.content['invitee_details']['value'].strip().split('\\n')\n",
    "\n",
    "    recruitment_status = {\n",
    "        'invited': [],\n",
    "        'already_invited': {},\n",
    "        'already_member': {},\n",
    "        'errors': {}\n",
    "    }\n",
    "    \n",
    "    invitee_emails = []\n",
    "    invitee_names = []\n",
    "    for invitee in invitee_details:\n",
    "        if invitee:\n",
    "            details = [i.strip() for i in invitee.split(',') if i]\n",
    "            if len(details) == 1:\n",
    "                email = details[0][1:] if details[0].startswith('(') else details[0]\n",
    "                name = None\n",
    "            else:\n",
    "                email = details[0][1:] if details[0].startswith('(') else details[0]\n",
    "                name = details[1][:-1] if details[1].endswith(')') else details[1]\n",
    "            invitee_emails.append(email)\n",
    "            invitee_names.append(name)\n",
    "\n",
    "    valid_invitees = []\n",
    "\n",
    "    for index, email in enumerate(invitee_emails):\n",
    "        profile_emails = []\n",
    "        profile = None\n",
    "        is_profile_id = email.startswith('~')\n",
    "        invalid_profile_id = False\n",
    "        no_profile_found = False\n",
    "        if is_profile_id:\n",
    "            try:\n",
    "                profile = openreview.tools.get_profile(client, email)\n",
    "            except openreview.OpenReviewException as e:\n",
    "                error_string = repr(e)\n",
    "                if 'ValidationError' in error_string:\n",
    "                    invalid_profile_id = True\n",
    "                else:\n",
    "                    if error_string not in recruitment_status['errors']:\n",
    "                        recruitment_status['errors'][error_string] = []\n",
    "                    recruitment_status['errors'][error_string].append(email)\n",
    "                    continue\n",
    "            if not profile:\n",
    "                no_profile_found = True\n",
    "            profile_emails = profile.content['emails'] if profile else []\n",
    "        try:\n",
    "            memberships = [g.id for g in client.get_groups(member=email, prefix=venue_id)]\n",
    "        except:\n",
    "            memberships = []\n",
    "        invited_roles = [invited_group.id]\n",
    "        member_roles = [group_id]\n",
    "\n",
    "        invited_group_ids=list(set(invited_roles) & set(memberships))\n",
    "        member_group_ids=list(set(member_roles) & set(memberships))\n",
    "\n",
    "        if profile and not profile_emails:\n",
    "            if 'profiles_without_email' not in recruitment_status['errors']:\n",
    "                recruitment_status['errors']['profiles_without_email'] = []\n",
    "            recruitment_status['errors']['profiles_without_email'].append(email)\n",
    "        elif invalid_profile_id:\n",
    "            if 'invalid_profile_ids' not in recruitment_status['errors']:\n",
    "                recruitment_status['errors']['invalid_profile_ids'] = []\n",
    "            recruitment_status['errors']['invalid_profile_ids'].append(email)\n",
    "        elif no_profile_found:\n",
    "            if 'profile_not_found' not in recruitment_status['errors']:\n",
    "                recruitment_status['errors']['profile_not_found'] = []\n",
    "            recruitment_status['errors']['profile_not_found'].append(email)\n",
    "        elif invited_group_ids:\n",
    "            invited_group_id=invited_group_ids[0]\n",
    "            if invited_group_id not in recruitment_status['already_invited']:\n",
    "                recruitment_status['already_invited'][invited_group_id] = [] \n",
    "            recruitment_status['already_invited'][invited_group_id].append(email)\n",
    "        elif member_group_ids:\n",
    "            member_group_id = member_group_ids[0]\n",
    "            if member_group_id not in recruitment_status['already_member']:\n",
    "                recruitment_status['already_member'][member_group_id] = []\n",
    "            recruitment_status['already_member'][member_group_id].append(email)\n",
    "        else:\n",
    "            name = invitee_names[index] if (invitee_names and index < len(invitee_names)) else None\n",
    "            if not name and not is_profile_id:\n",
    "                name = 'invitee'\n",
    "            valid_invitees.append((email, name))\n",
    "\n",
    "    print('Valid invitees:', valid_invitees)\n",
    "    \n",
    "    reviewers_invited_message_invitation = client.get_invitation(reviewers_invited_message_id)\n",
    "    recruitment_message_subject = reviewers_invited_message_invitation.content['invite_message_subject_template']['value']\n",
    "    recruitment_message_content = reviewers_invited_message_invitation.content['invite_message_content_template']['value']\n",
    "\n",
    "    client.post_group_edit(\n",
    "        invitation=meta_invitation_id,\n",
    "        signatures=[venue_id],\n",
    "        group=openreview.api.Group(\n",
    "            id=invited_group.id,\n",
    "            members={\n",
    "                'append': list(set([i[0] for i in valid_invitees]))\n",
    "            }\n",
    "        )\n",
    "    )\n",
    "\n",
    "    try:\n",
    "        def recruit_user(invitee):\n",
    "            email, name = invitee\n",
    "\n",
    "            hash_key = '1234'\n",
    "            user_parse = 'user'\n",
    "\n",
    "            url = f'https://openreview.net/invitation?id={reviewers_invited_response_id}&user={user_parse}&key={hash_key}'\n",
    "\n",
    "            personalized_message = recruitment_message_content.replace(\"{{fullname}}\", name) if name else recruitment_message_content\n",
    "            personalized_message = personalized_message.replace(\"{{invitation_url}}\", url)\n",
    "\n",
    "            client.post_message(recruitment_message_subject, [email], personalized_message, invitation=reviewers_invited_message_id)\n",
    "\n",
    "            return email\n",
    "            \n",
    "        invited_emails = openreview.tools.concurrent_requests(recruit_user, valid_invitees, desc='send_recruitment_invitations')\n",
    "        recruitment_status['invited'] = invited_emails\n",
    "\n",
    "        print(\"Recruitment status:\", recruitment_status)\n",
    "    except Exception as e:\n",
    "        print(\"Error recruiting reviewers\", e)\n",
    "        raise openreview.OpenReviewException(\"Error recruiting reviewers\")\n",
    "\n",
    "      "
   ]
  },
  {
   "cell_type": "code",
   "execution_count": 5,
   "id": "49f50373",
   "metadata": {},
   "outputs": [],
   "source": [
    "edit = client.get_group_edit('7NliA8cwxM')"
   ]
  },
  {
   "cell_type": "code",
   "execution_count": 11,
   "id": "cce58fca",
   "metadata": {},
   "outputs": [
    {
     "name": "stdout",
     "output_type": "stream",
     "text": [
      "Valid invitees: [('reviewer_one@abcd.cc', 'Reviewer ABCDOne')]\n"
     ]
    },
    {
     "name": "stderr",
     "output_type": "stream",
     "text": [
      "send_recruitment_invitations:   0%|          | 0/1 [00:00<?, ?it/s]"
     ]
    },
    {
     "name": "stdout",
     "output_type": "stream",
     "text": [
      "Error recruiting reviewers {'name': 'InvalidPathError', 'message': 'The path 1/content/venue_short_name/value defined in invitation/content/invite_message_subject_template/value is invalid: The path 1/content/venue_short_name/value does not resolve to any value.', 'status': 400, 'details': {'reqId': '2025-02-21-718'}}\n"
     ]
    },
    {
     "ename": "OpenReviewException",
     "evalue": "Error recruiting reviewers",
     "output_type": "error",
     "traceback": [
      "\u001b[0;31m---------------------------------------------------------------------------\u001b[0m",
      "\u001b[0;31mHTTPError\u001b[0m                                 Traceback (most recent call last)",
      "File \u001b[0;32m~/openreview/py-3.13/lib/python3.13/site-packages/openreview/api/client.py:143\u001b[0m, in \u001b[0;36mOpenReviewClient.__handle_response\u001b[0;34m(self, response)\u001b[0m\n\u001b[1;32m    142\u001b[0m \u001b[38;5;28;01mtry\u001b[39;00m:\n\u001b[0;32m--> 143\u001b[0m     \u001b[43mresponse\u001b[49m\u001b[38;5;241;43m.\u001b[39;49m\u001b[43mraise_for_status\u001b[49m\u001b[43m(\u001b[49m\u001b[43m)\u001b[49m\n\u001b[1;32m    144\u001b[0m     \u001b[38;5;28;01mreturn\u001b[39;00m response\n",
      "File \u001b[0;32m~/openreview/py-3.13/lib/python3.13/site-packages/requests/models.py:1024\u001b[0m, in \u001b[0;36mResponse.raise_for_status\u001b[0;34m(self)\u001b[0m\n\u001b[1;32m   1023\u001b[0m \u001b[38;5;28;01mif\u001b[39;00m http_error_msg:\n\u001b[0;32m-> 1024\u001b[0m     \u001b[38;5;28;01mraise\u001b[39;00m HTTPError(http_error_msg, response\u001b[38;5;241m=\u001b[39m\u001b[38;5;28mself\u001b[39m)\n",
      "\u001b[0;31mHTTPError\u001b[0m: 400 Client Error: Bad Request for url: http://localhost:3001/messages/requests",
      "\nDuring handling of the above exception, another exception occurred:\n",
      "\u001b[0;31mOpenReviewException\u001b[0m                       Traceback (most recent call last)",
      "Cell \u001b[0;32mIn[9], line 131\u001b[0m, in \u001b[0;36mprocess\u001b[0;34m(client, edit, invitation)\u001b[0m\n\u001b[1;32m    129\u001b[0m     \u001b[38;5;28;01mreturn\u001b[39;00m email\n\u001b[0;32m--> 131\u001b[0m invited_emails \u001b[38;5;241m=\u001b[39m \u001b[43mopenreview\u001b[49m\u001b[38;5;241;43m.\u001b[39;49m\u001b[43mtools\u001b[49m\u001b[38;5;241;43m.\u001b[39;49m\u001b[43mconcurrent_requests\u001b[49m\u001b[43m(\u001b[49m\u001b[43mrecruit_user\u001b[49m\u001b[43m,\u001b[49m\u001b[43m \u001b[49m\u001b[43mvalid_invitees\u001b[49m\u001b[43m,\u001b[49m\u001b[43m \u001b[49m\u001b[43mdesc\u001b[49m\u001b[38;5;241;43m=\u001b[39;49m\u001b[38;5;124;43m'\u001b[39;49m\u001b[38;5;124;43msend_recruitment_invitations\u001b[39;49m\u001b[38;5;124;43m'\u001b[39;49m\u001b[43m)\u001b[49m\n\u001b[1;32m    132\u001b[0m recruitment_status[\u001b[38;5;124m'\u001b[39m\u001b[38;5;124minvited\u001b[39m\u001b[38;5;124m'\u001b[39m] \u001b[38;5;241m=\u001b[39m invited_emails\n",
      "File \u001b[0;32m~/openreview/py-3.13/lib/python3.13/site-packages/openreview/tools.py:113\u001b[0m, in \u001b[0;36mconcurrent_requests\u001b[0;34m(request_func, params, desc)\u001b[0m\n\u001b[1;32m    112\u001b[0m     gathering_responses\u001b[38;5;241m.\u001b[39mupdate(\u001b[38;5;241m1\u001b[39m)\n\u001b[0;32m--> 113\u001b[0m     results\u001b[38;5;241m.\u001b[39mappend(\u001b[43mfuture\u001b[49m\u001b[38;5;241;43m.\u001b[39;49m\u001b[43mresult\u001b[49m\u001b[43m(\u001b[49m\u001b[43m)\u001b[49m)\n\u001b[1;32m    115\u001b[0m gathering_responses\u001b[38;5;241m.\u001b[39mclose()\n",
      "File \u001b[0;32m/Library/Frameworks/Python.framework/Versions/3.13/lib/python3.13/concurrent/futures/_base.py:456\u001b[0m, in \u001b[0;36mFuture.result\u001b[0;34m(self, timeout)\u001b[0m\n\u001b[1;32m    455\u001b[0m \u001b[38;5;28;01melif\u001b[39;00m \u001b[38;5;28mself\u001b[39m\u001b[38;5;241m.\u001b[39m_state \u001b[38;5;241m==\u001b[39m FINISHED:\n\u001b[0;32m--> 456\u001b[0m     \u001b[38;5;28;01mreturn\u001b[39;00m \u001b[38;5;28;43mself\u001b[39;49m\u001b[38;5;241;43m.\u001b[39;49m\u001b[43m__get_result\u001b[49m\u001b[43m(\u001b[49m\u001b[43m)\u001b[49m\n\u001b[1;32m    457\u001b[0m \u001b[38;5;28;01melse\u001b[39;00m:\n",
      "File \u001b[0;32m/Library/Frameworks/Python.framework/Versions/3.13/lib/python3.13/concurrent/futures/_base.py:401\u001b[0m, in \u001b[0;36mFuture.__get_result\u001b[0;34m(self)\u001b[0m\n\u001b[1;32m    400\u001b[0m \u001b[38;5;28;01mtry\u001b[39;00m:\n\u001b[0;32m--> 401\u001b[0m     \u001b[38;5;28;01mraise\u001b[39;00m \u001b[38;5;28mself\u001b[39m\u001b[38;5;241m.\u001b[39m_exception\n\u001b[1;32m    402\u001b[0m \u001b[38;5;28;01mfinally\u001b[39;00m:\n\u001b[1;32m    403\u001b[0m     \u001b[38;5;66;03m# Break a reference cycle with the exception in self._exception\u001b[39;00m\n",
      "File \u001b[0;32m/Library/Frameworks/Python.framework/Versions/3.13/lib/python3.13/concurrent/futures/thread.py:58\u001b[0m, in \u001b[0;36m_WorkItem.run\u001b[0;34m(self)\u001b[0m\n\u001b[1;32m     57\u001b[0m \u001b[38;5;28;01mtry\u001b[39;00m:\n\u001b[0;32m---> 58\u001b[0m     result \u001b[38;5;241m=\u001b[39m \u001b[38;5;28;43mself\u001b[39;49m\u001b[38;5;241;43m.\u001b[39;49m\u001b[43mfn\u001b[49m\u001b[43m(\u001b[49m\u001b[38;5;241;43m*\u001b[39;49m\u001b[38;5;28;43mself\u001b[39;49m\u001b[38;5;241;43m.\u001b[39;49m\u001b[43margs\u001b[49m\u001b[43m,\u001b[49m\u001b[43m \u001b[49m\u001b[38;5;241;43m*\u001b[39;49m\u001b[38;5;241;43m*\u001b[39;49m\u001b[38;5;28;43mself\u001b[39;49m\u001b[38;5;241;43m.\u001b[39;49m\u001b[43mkwargs\u001b[49m\u001b[43m)\u001b[49m\n\u001b[1;32m     59\u001b[0m \u001b[38;5;28;01mexcept\u001b[39;00m \u001b[38;5;167;01mBaseException\u001b[39;00m \u001b[38;5;28;01mas\u001b[39;00m exc:\n",
      "Cell \u001b[0;32mIn[9], line 127\u001b[0m, in \u001b[0;36mprocess.<locals>.recruit_user\u001b[0;34m(invitee)\u001b[0m\n\u001b[1;32m    125\u001b[0m personalized_message \u001b[38;5;241m=\u001b[39m personalized_message\u001b[38;5;241m.\u001b[39mreplace(\u001b[38;5;124m\"\u001b[39m\u001b[38;5;124m{{\u001b[39m\u001b[38;5;124minvitation_url}}\u001b[39m\u001b[38;5;124m\"\u001b[39m, url)\n\u001b[0;32m--> 127\u001b[0m \u001b[43mclient\u001b[49m\u001b[38;5;241;43m.\u001b[39;49m\u001b[43mpost_message\u001b[49m\u001b[43m(\u001b[49m\u001b[43mrecruitment_message_subject\u001b[49m\u001b[43m,\u001b[49m\u001b[43m \u001b[49m\u001b[43m[\u001b[49m\u001b[43memail\u001b[49m\u001b[43m]\u001b[49m\u001b[43m,\u001b[49m\u001b[43m \u001b[49m\u001b[43mpersonalized_message\u001b[49m\u001b[43m,\u001b[49m\u001b[43m \u001b[49m\u001b[43minvitation\u001b[49m\u001b[38;5;241;43m=\u001b[39;49m\u001b[43mreviewers_invited_message_id\u001b[49m\u001b[43m)\u001b[49m\n\u001b[1;32m    129\u001b[0m \u001b[38;5;28;01mreturn\u001b[39;00m email\n",
      "File \u001b[0;32m~/openreview/py-3.13/lib/python3.13/site-packages/openreview/api/client.py:1854\u001b[0m, in \u001b[0;36mOpenReviewClient.post_message\u001b[0;34m(self, subject, recipients, message, invitation, signature, ignoreRecipients, sender, replyTo, parentGroup, use_job)\u001b[0m\n\u001b[1;32m   1826\u001b[0m \u001b[38;5;250m\u001b[39m\u001b[38;5;124;03m\"\"\"\u001b[39;00m\n\u001b[1;32m   1827\u001b[0m \u001b[38;5;124;03mPosts a message to the recipients and consequently sends them emails\u001b[39;00m\n\u001b[1;32m   1828\u001b[0m \n\u001b[0;32m   (...)\u001b[0m\n\u001b[1;32m   1851\u001b[0m \u001b[38;5;124;03m:rtype: dict\u001b[39;00m\n\u001b[1;32m   1852\u001b[0m \u001b[38;5;124;03m\"\"\"\u001b[39;00m\n\u001b[0;32m-> 1854\u001b[0m \u001b[38;5;28;01mreturn\u001b[39;00m \u001b[38;5;28;43mself\u001b[39;49m\u001b[38;5;241;43m.\u001b[39;49m\u001b[43mpost_message_request\u001b[49m\u001b[43m(\u001b[49m\u001b[43msubject\u001b[49m\u001b[43m,\u001b[49m\u001b[43m \u001b[49m\u001b[43mrecipients\u001b[49m\u001b[43m,\u001b[49m\u001b[43m \u001b[49m\u001b[43mmessage\u001b[49m\u001b[43m,\u001b[49m\u001b[43m \u001b[49m\u001b[43minvitation\u001b[49m\u001b[38;5;241;43m=\u001b[39;49m\u001b[43minvitation\u001b[49m\u001b[43m,\u001b[49m\u001b[43m \u001b[49m\u001b[43msignature\u001b[49m\u001b[38;5;241;43m=\u001b[39;49m\u001b[43msignature\u001b[49m\u001b[43m,\u001b[49m\u001b[43m \u001b[49m\u001b[43mignoreRecipients\u001b[49m\u001b[38;5;241;43m=\u001b[39;49m\u001b[43mignoreRecipients\u001b[49m\u001b[43m,\u001b[49m\u001b[43m \u001b[49m\u001b[43msender\u001b[49m\u001b[38;5;241;43m=\u001b[39;49m\u001b[43msender\u001b[49m\u001b[43m,\u001b[49m\u001b[43m \u001b[49m\u001b[43mreplyTo\u001b[49m\u001b[38;5;241;43m=\u001b[39;49m\u001b[43mreplyTo\u001b[49m\u001b[43m,\u001b[49m\u001b[43m \u001b[49m\u001b[43mparentGroup\u001b[49m\u001b[38;5;241;43m=\u001b[39;49m\u001b[43mparentGroup\u001b[49m\u001b[43m,\u001b[49m\u001b[43m \u001b[49m\u001b[43muse_job\u001b[49m\u001b[38;5;241;43m=\u001b[39;49m\u001b[43muse_job\u001b[49m\u001b[43m)\u001b[49m\n",
      "File \u001b[0;32m~/openreview/py-3.13/lib/python3.13/site-packages/openreview/api/client.py:1916\u001b[0m, in \u001b[0;36mOpenReviewClient.post_message_request\u001b[0;34m(self, subject, recipients, message, invitation, signature, ignoreRecipients, sender, replyTo, parentGroup, use_job)\u001b[0m\n\u001b[1;32m   1915\u001b[0m response \u001b[38;5;241m=\u001b[39m \u001b[38;5;28mself\u001b[39m\u001b[38;5;241m.\u001b[39msession\u001b[38;5;241m.\u001b[39mpost(\u001b[38;5;28mself\u001b[39m\u001b[38;5;241m.\u001b[39mmessages_requests_url, json \u001b[38;5;241m=\u001b[39m json, headers \u001b[38;5;241m=\u001b[39m \u001b[38;5;28mself\u001b[39m\u001b[38;5;241m.\u001b[39mheaders)\n\u001b[0;32m-> 1916\u001b[0m response \u001b[38;5;241m=\u001b[39m \u001b[38;5;28;43mself\u001b[39;49m\u001b[38;5;241;43m.\u001b[39;49m\u001b[43m__handle_response\u001b[49m\u001b[43m(\u001b[49m\u001b[43mresponse\u001b[49m\u001b[43m)\u001b[49m\n\u001b[1;32m   1918\u001b[0m \u001b[38;5;28;01mreturn\u001b[39;00m response\u001b[38;5;241m.\u001b[39mjson()\n",
      "File \u001b[0;32m~/openreview/py-3.13/lib/python3.13/site-packages/openreview/api/client.py:158\u001b[0m, in \u001b[0;36mOpenReviewClient.__handle_response\u001b[0;34m(self, response)\u001b[0m\n\u001b[1;32m    154\u001b[0m     error \u001b[38;5;241m=\u001b[39m {\n\u001b[1;32m    155\u001b[0m         \u001b[38;5;124m'\u001b[39m\u001b[38;5;124mname\u001b[39m\u001b[38;5;124m'\u001b[39m: \u001b[38;5;124m'\u001b[39m\u001b[38;5;124mError\u001b[39m\u001b[38;5;124m'\u001b[39m,\n\u001b[1;32m    156\u001b[0m         \u001b[38;5;124m'\u001b[39m\u001b[38;5;124mmessage\u001b[39m\u001b[38;5;124m'\u001b[39m: response\u001b[38;5;241m.\u001b[39mreason\n\u001b[1;32m    157\u001b[0m     }\n\u001b[0;32m--> 158\u001b[0m \u001b[38;5;28;01mraise\u001b[39;00m OpenReviewException(error)\n",
      "\u001b[0;31mOpenReviewException\u001b[0m: {'name': 'InvalidPathError', 'message': 'The path 1/content/venue_short_name/value defined in invitation/content/invite_message_subject_template/value is invalid: The path 1/content/venue_short_name/value does not resolve to any value.', 'status': 400, 'details': {'reqId': '2025-02-21-718'}}",
      "\nDuring handling of the above exception, another exception occurred:\n",
      "\u001b[0;31mOpenReviewException\u001b[0m                       Traceback (most recent call last)",
      "Cell \u001b[0;32mIn[11], line 1\u001b[0m\n\u001b[0;32m----> 1\u001b[0m \u001b[43mprocess\u001b[49m\u001b[43m(\u001b[49m\u001b[43mclient\u001b[49m\u001b[43m,\u001b[49m\u001b[43m \u001b[49m\u001b[43medit\u001b[49m\u001b[43m,\u001b[49m\u001b[43m \u001b[49m\u001b[43mclient\u001b[49m\u001b[38;5;241;43m.\u001b[39;49m\u001b[43mget_invitation\u001b[49m\u001b[43m(\u001b[49m\u001b[38;5;124;43m'\u001b[39;49m\u001b[38;5;124;43mABCD.cc/2025/Conference/Reviewers_Invited/-/Members\u001b[39;49m\u001b[38;5;124;43m'\u001b[39;49m\u001b[43m)\u001b[49m\u001b[43m)\u001b[49m\n",
      "Cell \u001b[0;32mIn[9], line 137\u001b[0m, in \u001b[0;36mprocess\u001b[0;34m(client, edit, invitation)\u001b[0m\n\u001b[1;32m    135\u001b[0m \u001b[38;5;28;01mexcept\u001b[39;00m \u001b[38;5;167;01mException\u001b[39;00m \u001b[38;5;28;01mas\u001b[39;00m e:\n\u001b[1;32m    136\u001b[0m     \u001b[38;5;28mprint\u001b[39m(\u001b[38;5;124m\"\u001b[39m\u001b[38;5;124mError recruiting reviewers\u001b[39m\u001b[38;5;124m\"\u001b[39m, e)\n\u001b[0;32m--> 137\u001b[0m     \u001b[38;5;28;01mraise\u001b[39;00m openreview\u001b[38;5;241m.\u001b[39mOpenReviewException(\u001b[38;5;124m\"\u001b[39m\u001b[38;5;124mError recruiting reviewers\u001b[39m\u001b[38;5;124m\"\u001b[39m)\n",
      "\u001b[0;31mOpenReviewException\u001b[0m: Error recruiting reviewers"
     ]
    }
   ],
   "source": [
    "process(client, edit, client.get_invitation('ABCD.cc/2025/Conference/Reviewers_Invited/-/Members'))"
   ]
  },
  {
   "cell_type": "code",
   "execution_count": 41,
   "id": "f0205ecd",
   "metadata": {},
   "outputs": [
    {
     "ename": "TypeError",
     "evalue": "OpenReviewClient.post_group_edit() got an unexpected keyword argument 'await_process'",
     "output_type": "error",
     "traceback": [
      "\u001b[0;31m---------------------------------------------------------------------------\u001b[0m",
      "\u001b[0;31mTypeError\u001b[0m                                 Traceback (most recent call last)",
      "Cell \u001b[0;32mIn[41], line 3\u001b[0m\n\u001b[1;32m      1\u001b[0m support_user \u001b[38;5;241m=\u001b[39m \u001b[38;5;124m'\u001b[39m\u001b[38;5;124mopenreview.net/Support\u001b[39m\u001b[38;5;124m'\u001b[39m\n\u001b[1;32m      2\u001b[0m venue_id\u001b[38;5;241m=\u001b[39m\u001b[38;5;124m'\u001b[39m\u001b[38;5;124mTest.cc\u001b[39m\u001b[38;5;124m'\u001b[39m\n\u001b[0;32m----> 3\u001b[0m \u001b[43mclient\u001b[49m\u001b[38;5;241;43m.\u001b[39;49m\u001b[43mpost_group_edit\u001b[49m\u001b[43m(\u001b[49m\n\u001b[1;32m      4\u001b[0m \u001b[43m    \u001b[49m\u001b[43minvitation\u001b[49m\u001b[38;5;241;43m=\u001b[39;49m\u001b[38;5;124;43mf\u001b[39;49m\u001b[38;5;124;43m'\u001b[39;49m\u001b[38;5;132;43;01m{\u001b[39;49;00m\u001b[43msupport_user\u001b[49m\u001b[38;5;132;43;01m}\u001b[39;49;00m\u001b[38;5;124;43m/Simple_Dual_Anonymous/Venue_Configuration_Request/-/Program_Chairs_Group_Template\u001b[39;49m\u001b[38;5;124;43m'\u001b[39;49m\u001b[43m,\u001b[49m\n\u001b[1;32m      5\u001b[0m \u001b[43m    \u001b[49m\u001b[43msignatures\u001b[49m\u001b[38;5;241;43m=\u001b[39;49m\u001b[43m[\u001b[49m\u001b[38;5;124;43m'\u001b[39;49m\u001b[38;5;124;43m~Super_User1\u001b[39;49m\u001b[38;5;124;43m'\u001b[39;49m\u001b[43m]\u001b[49m\u001b[43m,\u001b[49m\n\u001b[1;32m      6\u001b[0m \u001b[43m    \u001b[49m\u001b[43mcontent\u001b[49m\u001b[38;5;241;43m=\u001b[39;49m\u001b[43m{\u001b[49m\n\u001b[1;32m      7\u001b[0m \u001b[43m        \u001b[49m\u001b[38;5;124;43m'\u001b[39;49m\u001b[38;5;124;43mvenue_id\u001b[39;49m\u001b[38;5;124;43m'\u001b[39;49m\u001b[43m:\u001b[49m\u001b[43m \u001b[49m\u001b[43m{\u001b[49m\u001b[43m \u001b[49m\u001b[38;5;124;43m'\u001b[39;49m\u001b[38;5;124;43mvalue\u001b[39;49m\u001b[38;5;124;43m'\u001b[39;49m\u001b[43m:\u001b[49m\u001b[43m \u001b[49m\u001b[43mvenue_id\u001b[49m\u001b[43m}\u001b[49m\u001b[43m,\u001b[49m\n\u001b[1;32m      8\u001b[0m \u001b[43m        \u001b[49m\u001b[38;5;124;43m'\u001b[39;49m\u001b[38;5;124;43mprogram_chairs_name\u001b[39;49m\u001b[38;5;124;43m'\u001b[39;49m\u001b[43m:\u001b[49m\u001b[43m \u001b[49m\u001b[43m{\u001b[49m\u001b[43m \u001b[49m\u001b[38;5;124;43m'\u001b[39;49m\u001b[38;5;124;43mvalue\u001b[39;49m\u001b[38;5;124;43m'\u001b[39;49m\u001b[43m:\u001b[49m\u001b[43m \u001b[49m\u001b[38;5;124;43m'\u001b[39;49m\u001b[38;5;124;43mProgram_Chairs\u001b[39;49m\u001b[38;5;124;43m'\u001b[39;49m\u001b[43m \u001b[49m\u001b[43m}\u001b[49m\u001b[43m,\u001b[49m\n\u001b[1;32m      9\u001b[0m \u001b[43m        \u001b[49m\u001b[38;5;124;43m'\u001b[39;49m\u001b[38;5;124;43mprogram_chairs_emails\u001b[39;49m\u001b[38;5;124;43m'\u001b[39;49m\u001b[43m:\u001b[49m\u001b[43m \u001b[49m\u001b[43m{\u001b[49m\u001b[43m \u001b[49m\u001b[38;5;124;43m'\u001b[39;49m\u001b[38;5;124;43mvalue\u001b[39;49m\u001b[38;5;124;43m'\u001b[39;49m\u001b[43m:\u001b[49m\u001b[43m \u001b[49m\u001b[38;5;124;43m'\u001b[39;49m\u001b[38;5;124;43mmelisa@mail.com\u001b[39;49m\u001b[38;5;124;43m'\u001b[39;49m\u001b[43m \u001b[49m\u001b[43m}\u001b[49m\n\u001b[1;32m     10\u001b[0m \u001b[43m    \u001b[49m\u001b[43m}\u001b[49m\u001b[43m,\u001b[49m\n\u001b[1;32m     11\u001b[0m \u001b[43m    \u001b[49m\u001b[43mawait_process\u001b[49m\u001b[38;5;241;43m=\u001b[39;49m\u001b[38;5;28;43;01mTrue\u001b[39;49;00m\n\u001b[1;32m     12\u001b[0m \u001b[43m)\u001b[49m\n",
      "\u001b[0;31mTypeError\u001b[0m: OpenReviewClient.post_group_edit() got an unexpected keyword argument 'await_process'"
     ]
    }
   ],
   "source": [
    "support_user = 'openreview.net/Support'\n",
    "venue_id='Test.cc'\n",
    "client.post_group_edit(\n",
    "    invitation=f'{support_user}/Simple_Dual_Anonymous/Venue_Configuration_Request/-/Program_Chairs_Group_Template',\n",
    "    signatures=['~Super_User1'],\n",
    "    content={\n",
    "        'venue_id': { 'value': venue_id},\n",
    "        'program_chairs_name': { 'value': 'Program_Chairs' },\n",
    "        'program_chairs_emails': { 'value': ['melisa@mail.com'] }\n",
    "    },\n",
    "    await_process=True\n",
    ")"
   ]
  },
  {
   "cell_type": "code",
   "execution_count": 37,
   "id": "c3e31dd8",
   "metadata": {},
   "outputs": [
    {
     "data": {
      "text/plain": [
       "{'id': 'gJMHTMiFxs',\n",
       " 'domain': 'ABCD.cc/2025/Conference',\n",
       " 'invitations': 'openreview.net/Support/Simple_Dual_Anonymous/Venue_Configuration_Request/-/Reviewers_Invited_Members_Template',\n",
       " 'cdate': 1738957781023,\n",
       " 'tcdate': 1738957781023,\n",
       " 'mdate': 1738957781023,\n",
       " 'tmdate': 1738957781023,\n",
       " 'tauthor': 'openreview.net',\n",
       " 'signatures': ['openreview.net/Support'],\n",
       " 'readers': ['openreview.net/Support'],\n",
       " 'writers': ['openreview.net/Support'],\n",
       " 'content': {'venue_id': {'value': 'ABCD.cc/2025/Conference'},\n",
       "  'reviewers_name': {'value': 'Reviewers'}},\n",
       " 'invitation': {'id': 'ABCD.cc/2025/Conference/Reviewers/Invited/-/Members',\n",
       "  'description': 'Invite users to join the reviewers group',\n",
       "  'signatures': ['ABCD.cc/2025/Conference'],\n",
       "  'readers': ['ABCD.cc/2025/Conference'],\n",
       "  'writers': ['ABCD.cc/2025/Conference'],\n",
       "  'invitees': ['ABCD.cc/2025/Conference'],\n",
       "  'process': \"def process(client, edit, invitation):\\n\\n    print('recruit users')\\n      \",\n",
       "  'edit': {'signatures': ['ABCD.cc/2025/Conference'],\n",
       "   'readers': ['ABCD.cc/2025/Conference'],\n",
       "   'writers': ['ABCD.cc/2025/Conference'],\n",
       "   'content': {'inviteeDetails': {'value': {'param': {'type': 'string',\n",
       "       'maxLength': 200000,\n",
       "       'input': 'textarea',\n",
       "       'optional': True,\n",
       "       'markdown': True}}}},\n",
       "   'group': {'id': '${2/content/venue_id/value}/${2/content/reviewers_name/value}/Invited',\n",
       "    'content': {'last_recruitment': {'value': '${4/tmdate}'}}}}}}"
      ]
     },
     "execution_count": 37,
     "metadata": {},
     "output_type": "execute_result"
    }
   ],
   "source": [
    "support_user = 'openreview.net/Support'\n",
    "client.post_invitation_edit(\n",
    "    invitations=f'{support_user}/Simple_Dual_Anonymous/Venue_Configuration_Request/-/Reviewers_Invited_Members_Template',\n",
    "    signatures=[support_user],\n",
    "    content={\n",
    "        'venue_id': { 'value': 'ABCD.cc/2025/Conference' },\n",
    "        'reviewers_name': { 'value': 'Reviewers'}\n",
    "    },\n",
    "    invitation=openreview.api.Invitation()\n",
    ") "
   ]
  },
  {
   "cell_type": "code",
   "execution_count": 31,
   "id": "3514a6f9",
   "metadata": {},
   "outputs": [
    {
     "data": {
      "text/plain": [
       "'ABCD.cc/2025/Conference/Reviewers/Invited'"
      ]
     },
     "execution_count": 31,
     "metadata": {},
     "output_type": "execute_result"
    }
   ],
   "source": [
    "client.get_group('ABCD.cc/2025/Conference').content['reviewers_invited_id']['value']"
   ]
  },
  {
   "cell_type": "code",
   "execution_count": 5,
   "id": "bcd6d3b9",
   "metadata": {},
   "outputs": [],
   "source": [
    "process_logs = client.get_process_logs(id=None, invitation='openreview.net/Support/-/Request1/Deploy')"
   ]
  },
  {
   "cell_type": "code",
   "execution_count": 9,
   "id": "db8aa6ef",
   "metadata": {},
   "outputs": [
    {
     "name": "stdout",
     "output_type": "stream",
     "text": [
      "[\"Can not retrieve invitation {'name': 'NotFoundError', 'message': 'The Invitation aclweb.org/ACL/ARR/2023/August/-/Edit was not found', 'status': 404, 'details': {'value': 'aclweb.org/ACL/ARR/2023/August/-/Edit', 'reqId': '2025-01-17-176'}}\", \"Can not retrieve invitation {'name': 'NotFoundError', 'message': 'The Invitation aclweb.org/ACL/ARR/2023/August/-/Submission was not found', 'status': 404, 'details': {'value': 'aclweb.org/ACL/ARR/2023/August/-/Submission', 'reqId': '2025-01-17-240'}}\", \"Can not retrieve invitation {'name': 'NotFoundError', 'message': 'The Invitation aclweb.org/ACL/ARR/2023/August/-/Post_Submission was not found', 'status': 404, 'details': {'value': 'aclweb.org/ACL/ARR/2023/August/-/Post_Submission', 'reqId': '2025-01-17-281'}}\", 'Error parsing venue date Aug 01 2023', 'Error parsing venue date Aug 01 2023', 'Error parsing venue date Aug 01 2023', 'posting paper matching setup invitation!!']\n"
     ]
    }
   ],
   "source": [
    "count = 1\n",
    "expected_status = 'ok'\n",
    "if len(process_logs) >= count:\n",
    "    #assert all(process_log['status'] == expected_status for process_log in process_logs)\n",
    "    print(process_log['log'])\n",
    "    for process_log in process_logs:\n",
    "        assert process_log['status'] == (expected_status), process_log['log']"
   ]
  },
  {
   "cell_type": "code",
   "execution_count": 3,
   "id": "70fc14fe",
   "metadata": {},
   "outputs": [
    {
     "name": "stderr",
     "output_type": "stream",
     "text": [
      "Getting V2 Profiles: 100%|█████████▉| 2878/2881 [00:02<00:00, 991.02it/s]\n"
     ]
    }
   ],
   "source": [
    "profiles = client.get_all_profiles(current_institution_domain='google.com')"
   ]
  },
  {
   "cell_type": "code",
   "execution_count": 5,
   "id": "526c4668",
   "metadata": {},
   "outputs": [
    {
     "name": "stderr",
     "output_type": "stream",
     "text": [
      "Getting V2 Profiles: 100%|█████████▉| 2878/2881 [00:00<00:00, 18264.99it/s]\n",
      "\n",
      "\u001b[A\n",
      "Getting V1 Notes: 100%|█████████▉| 1577/1579 [00:00<00:00, 1587.35it/s]\n",
      "Loading API v1 publications: 100%|██████████| 2881/2881 [00:23<00:00, 122.51it/s]\n",
      "Loading API v2 publications: 100%|██████████| 2881/2881 [00:17<00:00, 162.16it/s]\n"
     ]
    }
   ],
   "source": [
    "profiles_with_publications = openreview.tools.get_profiles(client, ids_or_emails=[], current_institution_domain='google.com', with_publications=True)"
   ]
  },
  {
   "cell_type": "code",
   "execution_count": 6,
   "id": "46b27324",
   "metadata": {},
   "outputs": [
    {
     "data": {
      "text/plain": [
       "2881"
      ]
     },
     "execution_count": 6,
     "metadata": {},
     "output_type": "execute_result"
    }
   ],
   "source": [
    "len(profiles_with_publications)"
   ]
  },
  {
   "cell_type": "code",
   "execution_count": 19,
   "id": "1f6e7018",
   "metadata": {},
   "outputs": [],
   "source": [
    "domain_publications = {}\n",
    "for profile in profiles_with_publications:\n",
    "    #print(profile.id)\n",
    "    for publication in profile.content['publications']:\n",
    "        invitation = publication.invitation if hasattr(publication, 'invitation') else publication.invitations[0]\n",
    "        if not (invitation.startswith('OpenReview.net') or invitation.lower().startswith('dblp.org') or invitation.endswith('Blind_Submission')):\n",
    "            domain_publications[publication.id] = publication"
   ]
  },
  {
   "cell_type": "code",
   "execution_count": 20,
   "id": "4b405e5d",
   "metadata": {},
   "outputs": [
    {
     "data": {
      "text/plain": [
       "17149"
      ]
     },
     "execution_count": 20,
     "metadata": {},
     "output_type": "execute_result"
    }
   ],
   "source": [
    "len(domain_publications)"
   ]
  },
  {
   "cell_type": "code",
   "execution_count": null,
   "id": "d70dd3a7",
   "metadata": {},
   "outputs": [],
   "source": [
    "domain_publications_per_year = {}\n",
    "for publication in domain_publications.values():\n",
    "    year = publication.tcdate\n",
    "    if year not in domain_publications_per_year:\n",
    "        domain_publications_per_year[year] = []\n",
    "    domain_publications_per_year[year].append(publication)"
   ]
  },
  {
   "cell_type": "code",
   "execution_count": 5,
   "id": "f3ae863c",
   "metadata": {},
   "outputs": [],
   "source": [
    "profiles_1 = client.get_profiles(current_institution_domain='google.com', offset=0, limit=1000)\n",
    "profiles_2 = client.get_profiles(current_institution_domain='google.com', offset=1000, limit=1000)\n",
    "profiles_3 = client.get_profiles(current_institution_domain='google.com', offset=2000, limit=1000)"
   ]
  },
  {
   "cell_type": "code",
   "execution_count": 8,
   "id": "05417aa7",
   "metadata": {},
   "outputs": [
    {
     "data": {
      "text/plain": [
       "881"
      ]
     },
     "execution_count": 8,
     "metadata": {},
     "output_type": "execute_result"
    }
   ],
   "source": [
    "len(profiles_3)"
   ]
  },
  {
   "cell_type": "code",
   "execution_count": 3,
   "id": "ef9a54f6",
   "metadata": {},
   "outputs": [
    {
     "ename": "OpenReviewException",
     "evalue": "{'name': 'NotFoundError', 'message': 'The Note oc3vnjI04z was not found', 'status': 404, 'details': {'path': 'id', 'value': 'oc3vnjI04z', 'reqId': '2024-07-01-1894'}}",
     "output_type": "error",
     "traceback": [
      "\u001b[0;31m---------------------------------------------------------------------------\u001b[0m",
      "\u001b[0;31mHTTPError\u001b[0m                                 Traceback (most recent call last)",
      "File \u001b[0;32m~/openreview/openreview-py/openreview/openreview.py:128\u001b[0m, in \u001b[0;36mClient.__handle_response\u001b[0;34m(self, response)\u001b[0m\n\u001b[1;32m    127\u001b[0m \u001b[38;5;28;01mtry\u001b[39;00m:\n\u001b[0;32m--> 128\u001b[0m     \u001b[43mresponse\u001b[49m\u001b[38;5;241;43m.\u001b[39;49m\u001b[43mraise_for_status\u001b[49m\u001b[43m(\u001b[49m\u001b[43m)\u001b[49m\n\u001b[1;32m    129\u001b[0m     \u001b[38;5;28;01mreturn\u001b[39;00m response\n",
      "File \u001b[0;32m~/openreview/py-3.8/lib/python3.8/site-packages/requests/models.py:960\u001b[0m, in \u001b[0;36mResponse.raise_for_status\u001b[0;34m(self)\u001b[0m\n\u001b[1;32m    959\u001b[0m \u001b[38;5;28;01mif\u001b[39;00m http_error_msg:\n\u001b[0;32m--> 960\u001b[0m     \u001b[38;5;28;01mraise\u001b[39;00m HTTPError(http_error_msg, response\u001b[38;5;241m=\u001b[39m\u001b[38;5;28mself\u001b[39m)\n",
      "\u001b[0;31mHTTPError\u001b[0m: 404 Client Error: Not Found for url: http://localhost:3000/notes?id=oc3vnjI04z",
      "\nDuring handling of the above exception, another exception occurred:\n",
      "\u001b[0;31mOpenReviewException\u001b[0m                       Traceback (most recent call last)",
      "Input \u001b[0;32mIn [3]\u001b[0m, in \u001b[0;36m<cell line: 1>\u001b[0;34m()\u001b[0m\n\u001b[0;32m----> 1\u001b[0m venue \u001b[38;5;241m=\u001b[39m \u001b[43mopenreview\u001b[49m\u001b[38;5;241;43m.\u001b[39;49m\u001b[43mhelpers\u001b[49m\u001b[38;5;241;43m.\u001b[39;49m\u001b[43mget_conference\u001b[49m\u001b[43m(\u001b[49m\u001b[43mclient_v1\u001b[49m\u001b[43m,\u001b[49m\u001b[43m \u001b[49m\u001b[38;5;124;43m'\u001b[39;49m\u001b[38;5;124;43moc3vnjI04z\u001b[39;49m\u001b[38;5;124;43m'\u001b[39;49m\u001b[43m)\u001b[49m\n",
      "File \u001b[0;32m~/openreview/openreview-py/openreview/conference/helpers.py:8\u001b[0m, in \u001b[0;36mget_conference\u001b[0;34m(client, request_form_id, support_user, setup)\u001b[0m\n\u001b[1;32m      6\u001b[0m \u001b[38;5;28;01mdef\u001b[39;00m \u001b[38;5;21mget_conference\u001b[39m(client, request_form_id, support_user\u001b[38;5;241m=\u001b[39m\u001b[38;5;124m'\u001b[39m\u001b[38;5;124mOpenReview.net/Support\u001b[39m\u001b[38;5;124m'\u001b[39m, setup\u001b[38;5;241m=\u001b[39m\u001b[38;5;28;01mFalse\u001b[39;00m):\n\u001b[0;32m----> 8\u001b[0m     note \u001b[38;5;241m=\u001b[39m \u001b[43mclient\u001b[49m\u001b[38;5;241;43m.\u001b[39;49m\u001b[43mget_note\u001b[49m\u001b[43m(\u001b[49m\u001b[43mrequest_form_id\u001b[49m\u001b[43m)\u001b[49m\n\u001b[1;32m      9\u001b[0m     \u001b[38;5;28;01mif\u001b[39;00m note\u001b[38;5;241m.\u001b[39mcontent\u001b[38;5;241m.\u001b[39mget(\u001b[38;5;124m'\u001b[39m\u001b[38;5;124mapi_version\u001b[39m\u001b[38;5;124m'\u001b[39m) \u001b[38;5;241m==\u001b[39m \u001b[38;5;124m'\u001b[39m\u001b[38;5;124m2\u001b[39m\u001b[38;5;124m'\u001b[39m:\n\u001b[1;32m     10\u001b[0m         urls \u001b[38;5;241m=\u001b[39m openreview\u001b[38;5;241m.\u001b[39mtools\u001b[38;5;241m.\u001b[39mget_base_urls(client)\n",
      "File \u001b[0;32m~/openreview/openreview-py/openreview/openreview.py:307\u001b[0m, in \u001b[0;36mClient.get_note\u001b[0;34m(self, id)\u001b[0m\n\u001b[1;32m    297\u001b[0m \u001b[38;5;124;03m\"\"\"\u001b[39;00m\n\u001b[1;32m    298\u001b[0m \u001b[38;5;124;03mGet a single Note by id if available\u001b[39;00m\n\u001b[1;32m    299\u001b[0m \n\u001b[0;32m   (...)\u001b[0m\n\u001b[1;32m    304\u001b[0m \u001b[38;5;124;03m:rtype: Note\u001b[39;00m\n\u001b[1;32m    305\u001b[0m \u001b[38;5;124;03m\"\"\"\u001b[39;00m\n\u001b[1;32m    306\u001b[0m response \u001b[38;5;241m=\u001b[39m \u001b[38;5;28mself\u001b[39m\u001b[38;5;241m.\u001b[39msession\u001b[38;5;241m.\u001b[39mget(\u001b[38;5;28mself\u001b[39m\u001b[38;5;241m.\u001b[39mnotes_url, params \u001b[38;5;241m=\u001b[39m {\u001b[38;5;124m'\u001b[39m\u001b[38;5;124mid\u001b[39m\u001b[38;5;124m'\u001b[39m:\u001b[38;5;28mid\u001b[39m}, headers \u001b[38;5;241m=\u001b[39m \u001b[38;5;28mself\u001b[39m\u001b[38;5;241m.\u001b[39mheaders)\n\u001b[0;32m--> 307\u001b[0m response \u001b[38;5;241m=\u001b[39m \u001b[38;5;28;43mself\u001b[39;49m\u001b[38;5;241;43m.\u001b[39;49m\u001b[43m__handle_response\u001b[49m\u001b[43m(\u001b[49m\u001b[43mresponse\u001b[49m\u001b[43m)\u001b[49m\n\u001b[1;32m    308\u001b[0m n \u001b[38;5;241m=\u001b[39m response\u001b[38;5;241m.\u001b[39mjson()[\u001b[38;5;124m'\u001b[39m\u001b[38;5;124mnotes\u001b[39m\u001b[38;5;124m'\u001b[39m][\u001b[38;5;241m0\u001b[39m]\n\u001b[1;32m    309\u001b[0m \u001b[38;5;28;01mreturn\u001b[39;00m Note\u001b[38;5;241m.\u001b[39mfrom_json(n)\n",
      "File \u001b[0;32m~/openreview/openreview-py/openreview/openreview.py:143\u001b[0m, in \u001b[0;36mClient.__handle_response\u001b[0;34m(self, response)\u001b[0m\n\u001b[1;32m    138\u001b[0m \u001b[38;5;28;01melse\u001b[39;00m:\n\u001b[1;32m    139\u001b[0m     error \u001b[38;5;241m=\u001b[39m {\n\u001b[1;32m    140\u001b[0m         \u001b[38;5;124m'\u001b[39m\u001b[38;5;124mname\u001b[39m\u001b[38;5;124m'\u001b[39m: \u001b[38;5;124m'\u001b[39m\u001b[38;5;124mError\u001b[39m\u001b[38;5;124m'\u001b[39m,\n\u001b[1;32m    141\u001b[0m         \u001b[38;5;124m'\u001b[39m\u001b[38;5;124mmessage\u001b[39m\u001b[38;5;124m'\u001b[39m: response\u001b[38;5;241m.\u001b[39mreason\n\u001b[1;32m    142\u001b[0m     }\n\u001b[0;32m--> 143\u001b[0m \u001b[38;5;28;01mraise\u001b[39;00m OpenReviewException(error)\n",
      "\u001b[0;31mOpenReviewException\u001b[0m: {'name': 'NotFoundError', 'message': 'The Note oc3vnjI04z was not found', 'status': 404, 'details': {'path': 'id', 'value': 'oc3vnjI04z', 'reqId': '2024-07-01-1894'}}"
     ]
    }
   ],
   "source": [
    "venue = openreview.helpers.get_conference(client_v1, 'oc3vnjI04z')"
   ]
  },
  {
   "cell_type": "code",
   "execution_count": 4,
   "id": "1de902e1",
   "metadata": {},
   "outputs": [
    {
     "data": {
      "text/plain": [
       "'aclweb.org/ACL/ARR/2023/August'"
      ]
     },
     "execution_count": 4,
     "metadata": {},
     "output_type": "execute_result"
    }
   ],
   "source": [
    "venue.id"
   ]
  },
  {
   "cell_type": "code",
   "execution_count": 5,
   "id": "68cb3c90",
   "metadata": {},
   "outputs": [
    {
     "data": {
      "text/plain": [
       "Invitation(id = 'aclweb.org/ACL/ARR/2023/August/Area_Chairs/-/Message',invitations = None,domain = None,cdate = None,ddate = None,duedate = None,expdate = None,readers = ['aclweb.org/ACL/ARR/2023/August', 'aclweb.org/ACL/ARR/2023/August/Senior_Area_Chairs'],nonreaders = None,writers = ['aclweb.org/ACL/ARR/2023/August'],invitees = ['aclweb.org/ACL/ARR/2023/August', 'aclweb.org/ACL/ARR/2023/August/Senior_Area_Chairs'],noninvitees = None,signatures = ['aclweb.org/ACL/ARR/2023/August'],minReplies = None,maxReplies = None,edit = None,edge = None,message = {'replyTo': {'param': {'regex': '~.*|([a-z0-9_\\\\-\\\\.]{2,}@[a-z0-9_\\\\-\\\\.]{2,}\\\\.[a-z]{2,},){0,}([a-z0-9_\\\\-\\\\.]{2,}@[a-z0-9_\\\\-\\\\.]{2,}\\\\.[a-z]{2,})', 'optional': True}}, 'subject': {'param': {'minLength': 1}}, 'message': {'param': {'minLength': 1}}, 'groups': {'param': {'inGroup': 'aclweb.org/ACL/ARR/2023/August/Area_Chairs'}}, 'parentGroup': {'param': {'const': 'aclweb.org/ACL/ARR/2023/August/Area_Chairs'}}, 'ignoreGroups': {'param': {'regex': '~.*|([a-z0-9_\\\\-\\\\.]{2,}@[a-z0-9_\\\\-\\\\.]{2,}\\\\.[a-z]{2,},){0,}([a-z0-9_\\\\-\\\\.]{2,}@[a-z0-9_\\\\-\\\\.]{2,}\\\\.[a-z]{2,})', 'optional': True}}, 'signature': {'param': {'enum': ['aclweb.org/ACL/ARR/2023/August', 'aclweb.org/ACL/ARR/2023/August/Program_Chairs', '~.*']}}, 'fromName': 'ARR - August 2023', 'fromEmail': 'arr-august2023-notifications@openreview.net'},type = 'Note',tcdate = None,tmdate = None,bulk = None,details = None,reply_forum_views = [],responseArchiveDate = None,web = None,process = None,preprocess = None,date_processes = None,content = None)"
      ]
     },
     "execution_count": 5,
     "metadata": {},
     "output_type": "execute_result"
    }
   ],
   "source": [
    "venue.venue.invitation_builder.set_submission_message_invitation()"
   ]
  },
  {
   "cell_type": "code",
   "execution_count": 7,
   "id": "ad18de8a",
   "metadata": {},
   "outputs": [
    {
     "data": {
      "text/plain": [
       "'aclweb.org/ACL/ARR/2023/August/Submission${2/content/noteNumber/value}/-/Message'"
      ]
     },
     "execution_count": 7,
     "metadata": {},
     "output_type": "execute_result"
    }
   ],
   "source": [
    "venue.venue.get_message_id(committee_id=venue.get_area_chairs_id(), number='${2/content/noteNumber/value}')"
   ]
  },
  {
   "cell_type": "code",
   "execution_count": 8,
   "id": "a7f46bd4",
   "metadata": {},
   "outputs": [
    {
     "data": {
      "text/plain": [
       "'aclweb.org/ACL/ARR/2023/August/Area_Chairs'"
      ]
     },
     "execution_count": 8,
     "metadata": {},
     "output_type": "execute_result"
    }
   ],
   "source": [
    "venue.get_area_chairs_id()"
   ]
  },
  {
   "cell_type": "code",
   "execution_count": 5,
   "id": "e7e33dd1",
   "metadata": {},
   "outputs": [],
   "source": [
    "def process(client, invitation):\n",
    "\n",
    "    domain = client.get_group(invitation.domain)\n",
    "    venue_id = domain.id\n",
    "    submission_name = domain.get_content_value('submission_name', 'Submission')\n",
    "    preferred_emails_groups = domain.get_content_value('preferred_emails_groups', [])\n",
    "    senior_area_chairs_id = domain.get_content_value('senior_area_chairs_id')\n",
    "    area_chairs_id = domain.get_content_value('area_chairs_id')\n",
    "    area_chairs_anon_name = domain.get_content_value('area_chairs_anon_name')\n",
    "    reviewers_id = domain.get_content_value('reviewers_id')\n",
    "    reviewers_anon_name = domain.get_content_value('reviewers_anon_name')\n",
    "    authors_id = domain.get_content_value('authors_id')\n",
    "\n",
    "\n",
    "    users = []\n",
    "    store_ac_emails = area_chairs_id in preferred_emails_groups\n",
    "    store_reviewer_emails = reviewers_id in preferred_emails_groups\n",
    "\n",
    "    if senior_area_chairs_id in preferred_emails_groups:\n",
    "        print('Get profiles for all the senior area chairs')\n",
    "        users += client.get_group(senior_area_chairs_id).members\n",
    "\n",
    "    if store_ac_emails:\n",
    "        print('Get profiles for all the area chairs')\n",
    "        users += client.get_group(area_chairs_id).members\n",
    "\n",
    "    if store_reviewer_emails:\n",
    "        print('Get profiles for all the reviewers')\n",
    "        users += client.get_group(reviewers_id).members\n",
    "\n",
    "    print('Get profiles for all the assigned reviewers and area chairs')\n",
    "    groups = client.get_all_groups(prefix=venue_id + '/' + submission_name)\n",
    "\n",
    "    for group in groups:\n",
    "        if store_ac_emails and f'/{area_chairs_anon_name}' in group.id:\n",
    "            users += group.members\n",
    "        elif store_reviewer_emails and f'/{reviewers_anon_name}' in group.id:\n",
    "            users += group.members\n",
    "\n",
    "    if authors_id in preferred_emails_groups:\n",
    "        print('Get profiles for all the authors')\n",
    "        group_by_id = {g.id: g for g in groups}\n",
    "        author_submission_groups += client.get_group(authors_id).members\n",
    "        for author_submission_group in author_submission_groups:\n",
    "            author_group = group_by_id.get(author_submission_group)\n",
    "            if author_group:\n",
    "                users += author_group.members\n",
    "\n",
    "    print(users)\n",
    "    all_profiles = openreview.tools.get_profiles(client, ids_or_emails=list(set(users)))\n",
    "    print('Found profiles: ', len(all_profiles))\n",
    "\n",
    "    print('Create preferred email edges for all the profiles')\n",
    "\n",
    "    existing_edges = { g['id']['head']: openreview.api.Edge.from_json(g['values'][0]) for g in client.get_grouped_edges(invitation=invitation.id, groupby='head') }\n",
    "    \n",
    "    new_edges = []\n",
    "    for profile in all_profiles:\n",
    "        if '~' in profile.id:\n",
    "            existing_edge = existing_edges.get(profile.id)\n",
    "            if existing_edge:\n",
    "                if existing_edge.tail != profile.get_preferred_email():\n",
    "                    print('Updating preferred email for: ', profile.id, ' from: ', existing_edge.tail, ' to: ', profile.get_preferred_email())\n",
    "                    existing_edge.tail = profile.get_preferred_email()\n",
    "                    client.post_edge(existing_edge)\n",
    "            else:\n",
    "                new_edges.append(openreview.api.Edge(\n",
    "                    invitation=invitation.id,\n",
    "                    head=profile.id,\n",
    "                    tail=profile.get_preferred_email(),\n",
    "                    signatures=[venue_id],\n",
    "                    readers=[f'{venue_id}/Preferred_Emails_Readers', profile.id],\n",
    "                    writers=[venue_id, profile.id]\n",
    "                ))\n",
    "\n",
    "    print('Posting all new edges: ', len(new_edges))\n",
    "    openreview.tools.post_bulk_edges(client, new_edges)\n",
    "\n",
    "\n",
    "\n",
    "\n"
   ]
  },
  {
   "cell_type": "code",
   "execution_count": 6,
   "id": "0af2de33",
   "metadata": {},
   "outputs": [
    {
     "name": "stdout",
     "output_type": "stream",
     "text": [
      "Get profiles for all the senior area chairs\n",
      "Get profiles for all the area chairs\n",
      "Get profiles for all the reviewers\n",
      "Get profiles for all the assigned reviewers and area chairs\n",
      "['sac1@gmail.com', 'sac2@icml.cc', 'ac1@icml.cc', 'ac2@icml.cc', 'reviewer1@icml.cc', 'reviewer2@icml.cc', 'reviewer3@icml.cc', 'reviewer4@yahoo.com', 'reviewer5@yahoo.com']\n",
      "Found profiles:  9\n",
      "Create preferred email edges for all the profiles\n",
      "Posting all new edges:  9\n"
     ]
    },
    {
     "name": "stderr",
     "output_type": "stream",
     "text": [
      "100%|██████████| 1/1 [00:00<00:00, 33.31it/s]\n"
     ]
    }
   ],
   "source": [
    "process(client, client.get_invitation('ICML.cc/2023/Conference/-/Preferred_Emails'))"
   ]
  },
  {
   "cell_type": "code",
   "execution_count": 3,
   "id": "aadadc16",
   "metadata": {},
   "outputs": [
    {
     "data": {
      "text/plain": [
       "[Profile(id = '~SAC_ICMLOne1',number = None,tcdate = 1719592009786,tmdate = 1719592010401,referent = None,packaging = None,invitation = '~/-/profiles',readers = ['everyone'],nonreaders = None,signatures = ['~SAC_ICMLOne1'],writers = ['openreview.net'],content = {'preferredEmail': 'sac1@gmail.com', 'emails': ['sac1@gmail.com'], 'names': [{'preferred': True, 'fullname': 'SAC ICMLOne', 'username': '~SAC_ICMLOne1'}], 'history': [{'position': 'PhD Student', 'start': 2017, 'end': None, 'institution': {'domain': 'gmail.com'}}], 'relations': [], 'emailsConfirmed': ['sac1@gmail.com']},metaContent = {'preferredEmail': {'signatures': ['~SAC_ICMLOne1']}, 'emails': [{'signatures': ['~SAC_ICMLOne1']}], 'names': [{'signatures': ['~SAC_ICMLOne1']}], 'history': [{'signatures': ['~SAC_ICMLOne1']}]},active = True,password = True,tauthor = 'openreview.net',state = 'Active Automatic')]"
      ]
     },
     "execution_count": 3,
     "metadata": {},
     "output_type": "execute_result"
    }
   ],
   "source": [
    "openreview.tools.get_profiles(client, ids_or_emails=['sac1@gmail.com'])"
   ]
  },
  {
   "cell_type": "code",
   "execution_count": 3,
   "id": "4ca4c546",
   "metadata": {},
   "outputs": [],
   "source": [
    "review = client.get_note('gRzyQBewlQ')"
   ]
  },
  {
   "cell_type": "code",
   "execution_count": 6,
   "id": "7a152090",
   "metadata": {},
   "outputs": [
    {
     "data": {
      "text/plain": [
       "{'confidence': {'value': 5},\n",
       " 'paper_summary': {'value': 'some summary version 2'},\n",
       " 'summary_of_strengths': {'value': 'some strengths'},\n",
       " 'summary_of_weaknesses': {'value': 'some weaknesses'},\n",
       " 'comments_suggestions_and_typos': {'value': 'some comments'},\n",
       " 'soundness': {'value': 1},\n",
       " 'overall_assessment': {'value': 1},\n",
       " 'best_paper': {'value': 'No'},\n",
       " 'ethical_concerns': {'value': 'There are no concerns with this submission'},\n",
       " 'reproducibility': {'value': 1},\n",
       " 'datasets': {'value': 1},\n",
       " 'software': {'value': 1},\n",
       " 'needs_ethics_review': {'value': 'No'},\n",
       " 'Knowledge_of_or_educated_guess_at_author_identity': {'value': 'No'},\n",
       " 'Knowledge_of_paper': {'value': 'After the review process started'},\n",
       " 'Knowledge_of_paper_source': {'value': ['A research talk']},\n",
       " 'impact_of_knowledge_of_paper': {'value': 'A lot'},\n",
       " 'reviewer_certification': {'value': 'A Name',\n",
       "  'readers': ['aclweb.org/ACL/ARR/2023/August/Program_Chairs',\n",
       "   'aclweb.org/ACL/ARR/2023/August/Submission3/Senior_Area_Chairs',\n",
       "   'aclweb.org/ACL/ARR/2023/August/Submission3/Area_Chairs',\n",
       "   'aclweb.org/ACL/ARR/2023/August/Submission3/Reviewer_MLkf']}}"
      ]
     },
     "execution_count": 6,
     "metadata": {},
     "output_type": "execute_result"
    }
   ],
   "source": [
    "review.content"
   ]
  },
  {
   "cell_type": "code",
   "execution_count": 8,
   "id": "35bf6fe7",
   "metadata": {},
   "outputs": [
    {
     "ename": "OpenReviewException",
     "evalue": "{'name': 'ValidationError', 'message': 'readers should contain exactly [ aclweb.org/ACL/ARR/2023/August/Program_Chairs, aclweb.org/ACL/ARR/2023/August/Submission3/Senior_Area_Chairs, aclweb.org/ACL/ARR/2023/August/Submission3/Area_Chairs, ${4/signatures} ]', 'status': 400, 'details': {'path': 'note/content/reviewer_certification/readers', 'allowedValue': ['aclweb.org/ACL/ARR/2023/August/Program_Chairs', 'aclweb.org/ACL/ARR/2023/August/Submission3/Senior_Area_Chairs', 'aclweb.org/ACL/ARR/2023/August/Submission3/Area_Chairs', '${4/signatures}'], 'invalidValue': ['aclweb.org/ACL/ARR/2023/August/Program_Chairs', 'aclweb.org/ACL/ARR/2023/August/Submission3/Senior_Area_Chairs', 'aclweb.org/ACL/ARR/2023/August/Submission3/Area_Chairs', 'aclweb.org/ACL/ARR/2023/August/Submission3/Reviewer_MLkf'], 'reqId': '2024-06-18-17682'}}",
     "output_type": "error",
     "traceback": [
      "\u001b[0;31m---------------------------------------------------------------------------\u001b[0m",
      "\u001b[0;31mHTTPError\u001b[0m                                 Traceback (most recent call last)",
      "File \u001b[0;32m~/openreview/openreview-py/openreview/api/client.py:141\u001b[0m, in \u001b[0;36mOpenReviewClient.__handle_response\u001b[0;34m(self, response)\u001b[0m\n\u001b[1;32m    140\u001b[0m \u001b[38;5;28;01mtry\u001b[39;00m:\n\u001b[0;32m--> 141\u001b[0m     \u001b[43mresponse\u001b[49m\u001b[38;5;241;43m.\u001b[39;49m\u001b[43mraise_for_status\u001b[49m\u001b[43m(\u001b[49m\u001b[43m)\u001b[49m\n\u001b[1;32m    142\u001b[0m     \u001b[38;5;28;01mreturn\u001b[39;00m response\n",
      "File \u001b[0;32m~/openreview/py-3.8/lib/python3.8/site-packages/requests/models.py:960\u001b[0m, in \u001b[0;36mResponse.raise_for_status\u001b[0;34m(self)\u001b[0m\n\u001b[1;32m    959\u001b[0m \u001b[38;5;28;01mif\u001b[39;00m http_error_msg:\n\u001b[0;32m--> 960\u001b[0m     \u001b[38;5;28;01mraise\u001b[39;00m HTTPError(http_error_msg, response\u001b[38;5;241m=\u001b[39m\u001b[38;5;28mself\u001b[39m)\n",
      "\u001b[0;31mHTTPError\u001b[0m: 400 Client Error: Bad Request for url: http://localhost:3001/notes/edits",
      "\nDuring handling of the above exception, another exception occurred:\n",
      "\u001b[0;31mOpenReviewException\u001b[0m                       Traceback (most recent call last)",
      "Input \u001b[0;32mIn [8]\u001b[0m, in \u001b[0;36m<cell line: 1>\u001b[0;34m()\u001b[0m\n\u001b[0;32m----> 1\u001b[0m \u001b[43mclient\u001b[49m\u001b[38;5;241;43m.\u001b[39;49m\u001b[43mpost_note_edit\u001b[49m\u001b[43m(\u001b[49m\n\u001b[1;32m      2\u001b[0m \u001b[43m    \u001b[49m\u001b[43minvitation\u001b[49m\u001b[38;5;241;43m=\u001b[39;49m\u001b[43mreview\u001b[49m\u001b[38;5;241;43m.\u001b[39;49m\u001b[43minvitations\u001b[49m\u001b[43m[\u001b[49m\u001b[38;5;241;43m0\u001b[39;49m\u001b[43m]\u001b[49m\u001b[43m,\u001b[49m\n\u001b[1;32m      3\u001b[0m \u001b[43m    \u001b[49m\u001b[43msignatures\u001b[49m\u001b[38;5;241;43m=\u001b[39;49m\u001b[43m[\u001b[49m\u001b[38;5;124;43m'\u001b[39;49m\u001b[38;5;124;43maclweb.org/ACL/ARR/2023/August/Submission3/Reviewer_MLkf\u001b[39;49m\u001b[38;5;124;43m'\u001b[39;49m\u001b[43m]\u001b[49m\u001b[43m,\u001b[49m\n\u001b[1;32m      4\u001b[0m \u001b[43m    \u001b[49m\u001b[43mnote\u001b[49m\u001b[38;5;241;43m=\u001b[39;49m\u001b[43mopenreview\u001b[49m\u001b[38;5;241;43m.\u001b[39;49m\u001b[43mapi\u001b[49m\u001b[38;5;241;43m.\u001b[39;49m\u001b[43mNote\u001b[49m\u001b[43m(\u001b[49m\n\u001b[1;32m      5\u001b[0m \u001b[43m        \u001b[49m\u001b[38;5;28;43mid\u001b[39;49m\u001b[38;5;241;43m=\u001b[39;49m\u001b[43mreview\u001b[49m\u001b[38;5;241;43m.\u001b[39;49m\u001b[43mid\u001b[49m\u001b[43m,\u001b[49m\n\u001b[1;32m      6\u001b[0m \u001b[43m        \u001b[49m\u001b[43mcontent\u001b[49m\u001b[38;5;241;43m=\u001b[39;49m\u001b[43mreview\u001b[49m\u001b[38;5;241;43m.\u001b[39;49m\u001b[43mcontent\u001b[49m\u001b[43m,\u001b[49m\n\u001b[1;32m      7\u001b[0m \u001b[43m    \u001b[49m\u001b[43m)\u001b[49m\n\u001b[1;32m      8\u001b[0m \u001b[43m)\u001b[49m\n",
      "File \u001b[0;32m~/openreview/openreview-py/openreview/api/client.py:2075\u001b[0m, in \u001b[0;36mOpenReviewClient.post_note_edit\u001b[0;34m(self, invitation, signatures, note, readers, writers, nonreaders, content)\u001b[0m\n\u001b[1;32m   2072\u001b[0m     edit_json[\u001b[38;5;124m'\u001b[39m\u001b[38;5;124mcontent\u001b[39m\u001b[38;5;124m'\u001b[39m] \u001b[38;5;241m=\u001b[39m content\n\u001b[1;32m   2074\u001b[0m response \u001b[38;5;241m=\u001b[39m \u001b[38;5;28mself\u001b[39m\u001b[38;5;241m.\u001b[39msession\u001b[38;5;241m.\u001b[39mpost(\u001b[38;5;28mself\u001b[39m\u001b[38;5;241m.\u001b[39mnote_edits_url, json \u001b[38;5;241m=\u001b[39m edit_json, headers \u001b[38;5;241m=\u001b[39m \u001b[38;5;28mself\u001b[39m\u001b[38;5;241m.\u001b[39mheaders)\n\u001b[0;32m-> 2075\u001b[0m response \u001b[38;5;241m=\u001b[39m \u001b[38;5;28;43mself\u001b[39;49m\u001b[38;5;241;43m.\u001b[39;49m\u001b[43m__handle_response\u001b[49m\u001b[43m(\u001b[49m\u001b[43mresponse\u001b[49m\u001b[43m)\u001b[49m\n\u001b[1;32m   2077\u001b[0m \u001b[38;5;28;01mreturn\u001b[39;00m response\u001b[38;5;241m.\u001b[39mjson()\n",
      "File \u001b[0;32m~/openreview/openreview-py/openreview/api/client.py:156\u001b[0m, in \u001b[0;36mOpenReviewClient.__handle_response\u001b[0;34m(self, response)\u001b[0m\n\u001b[1;32m    151\u001b[0m \u001b[38;5;28;01melse\u001b[39;00m:\n\u001b[1;32m    152\u001b[0m     error \u001b[38;5;241m=\u001b[39m {\n\u001b[1;32m    153\u001b[0m         \u001b[38;5;124m'\u001b[39m\u001b[38;5;124mname\u001b[39m\u001b[38;5;124m'\u001b[39m: \u001b[38;5;124m'\u001b[39m\u001b[38;5;124mError\u001b[39m\u001b[38;5;124m'\u001b[39m,\n\u001b[1;32m    154\u001b[0m         \u001b[38;5;124m'\u001b[39m\u001b[38;5;124mmessage\u001b[39m\u001b[38;5;124m'\u001b[39m: response\u001b[38;5;241m.\u001b[39mreason\n\u001b[1;32m    155\u001b[0m     }\n\u001b[0;32m--> 156\u001b[0m \u001b[38;5;28;01mraise\u001b[39;00m OpenReviewException(error)\n",
      "\u001b[0;31mOpenReviewException\u001b[0m: {'name': 'ValidationError', 'message': 'readers should contain exactly [ aclweb.org/ACL/ARR/2023/August/Program_Chairs, aclweb.org/ACL/ARR/2023/August/Submission3/Senior_Area_Chairs, aclweb.org/ACL/ARR/2023/August/Submission3/Area_Chairs, ${4/signatures} ]', 'status': 400, 'details': {'path': 'note/content/reviewer_certification/readers', 'allowedValue': ['aclweb.org/ACL/ARR/2023/August/Program_Chairs', 'aclweb.org/ACL/ARR/2023/August/Submission3/Senior_Area_Chairs', 'aclweb.org/ACL/ARR/2023/August/Submission3/Area_Chairs', '${4/signatures}'], 'invalidValue': ['aclweb.org/ACL/ARR/2023/August/Program_Chairs', 'aclweb.org/ACL/ARR/2023/August/Submission3/Senior_Area_Chairs', 'aclweb.org/ACL/ARR/2023/August/Submission3/Area_Chairs', 'aclweb.org/ACL/ARR/2023/August/Submission3/Reviewer_MLkf'], 'reqId': '2024-06-18-17682'}}"
     ]
    }
   ],
   "source": [
    "client.post_note_edit(\n",
    "    invitation=review.invitations[0],\n",
    "    signatures=['aclweb.org/ACL/ARR/2023/August/Submission3/Reviewer_MLkf'],\n",
    "    note=openreview.api.Note(\n",
    "        id=review.id,\n",
    "        content=review.content,\n",
    "    )\n",
    ")"
   ]
  },
  {
   "cell_type": "code",
   "execution_count": 9,
   "id": "1fef44d2",
   "metadata": {},
   "outputs": [
    {
     "data": {
      "text/plain": [
       "{'confidence': {'value': 5},\n",
       " 'paper_summary': {'value': 'some summary version 2'},\n",
       " 'summary_of_strengths': {'value': 'some strengths'},\n",
       " 'summary_of_weaknesses': {'value': 'some weaknesses'},\n",
       " 'comments_suggestions_and_typos': {'value': 'some comments'},\n",
       " 'soundness': {'value': 1},\n",
       " 'overall_assessment': {'value': 1},\n",
       " 'best_paper': {'value': 'No'},\n",
       " 'ethical_concerns': {'value': 'There are no concerns with this submission'},\n",
       " 'reproducibility': {'value': 1},\n",
       " 'datasets': {'value': 1},\n",
       " 'software': {'value': 1},\n",
       " 'needs_ethics_review': {'value': 'No'},\n",
       " 'Knowledge_of_or_educated_guess_at_author_identity': {'value': 'No'},\n",
       " 'Knowledge_of_paper': {'value': 'After the review process started'},\n",
       " 'Knowledge_of_paper_source': {'value': ['A research talk']},\n",
       " 'impact_of_knowledge_of_paper': {'value': 'A lot'},\n",
       " 'reviewer_certification': {'value': 'A Name'}}"
      ]
     },
     "execution_count": 9,
     "metadata": {},
     "output_type": "execute_result"
    }
   ],
   "source": [
    "content = {}\n",
    "for key, value in review.content.items():\n",
    "    content[key] = { 'value': value['value'] }\n",
    "content"
   ]
  },
  {
   "cell_type": "code",
   "execution_count": 3,
   "id": "9586ae7d",
   "metadata": {},
   "outputs": [
    {
     "name": "stdout",
     "output_type": "stream",
     "text": [
      "author_ids {'~First_Last1'}\n",
      "user_info {'id': '~First_Last1', 'domains': [], 'emails': set(), 'relations': set(), 'publications': set()}\n",
      "intersecction set()\n"
     ]
    },
    {
     "data": {
      "text/plain": [
       "['~First_Last1']"
      ]
     },
     "execution_count": 3,
     "metadata": {},
     "output_type": "execute_result"
    }
   ],
   "source": [
    "user_profile = client.get_profile(email_or_id='user@gmail.com')\n",
    "\n",
    "openreview.tools.get_conflicts([user_profile], user_profile)"
   ]
  },
  {
   "cell_type": "code",
   "execution_count": 5,
   "id": "6a066c98",
   "metadata": {},
   "outputs": [
    {
     "data": {
      "text/plain": [
       "{'id': '~First_Last1',\n",
       " 'domains': {'gmail.com'},\n",
       " 'emails': set(),\n",
       " 'relations': set(),\n",
       " 'publications': set()}"
      ]
     },
     "execution_count": 5,
     "metadata": {},
     "output_type": "execute_result"
    }
   ],
   "source": [
    "openreview.tools.get_profile_info(user_profile)"
   ]
  },
  {
   "cell_type": "code",
   "execution_count": 3,
   "id": "c5772840",
   "metadata": {},
   "outputs": [
    {
     "name": "stdout",
     "output_type": "stream",
     "text": [
      "Processing profile ~SomeFirstName_User1 None\n",
      "get profiles by email ['user@gmail.com', 'test_user@mail.com', 'test@mail.com', 'alternate@mail.com']\n",
      "batch_profile_by_email {'test@mail.com': Profile(id = '~SomeFirstName_User1',number = None,tcdate = 1718638470436,tmdate = 1718638471539,referent = None,packaging = None,invitation = '~/-/profiles',readers = ['everyone'],nonreaders = None,signatures = ['~SomeFirstName_User1'],writers = ['openreview.net'],content = {'preferredEmail': 'test@mail.com', 'emails': ['test@mail.com', 'alternate@mail.com'], 'names': [{'preferred': True, 'fullname': 'SomeFirstName User', 'username': '~SomeFirstName_User1'}, {'first': 'Another', 'last': 'Name', 'fullname': 'Another Name', 'username': '~Another_Name1', 'preferred': False}], 'history': [{'position': 'PhD Student', 'start': 2017, 'end': None, 'institution': {'domain': 'mail.com'}}], 'relations': [], 'emailsConfirmed': ['test@mail.com', 'alternate@mail.com']},metaContent = {'preferredEmail': {'signatures': ['~SomeFirstName_User1']}, 'emails': [{'signatures': ['~SomeFirstName_User1']}, {'signatures': ['~SomeFirstName_User1']}], 'names': [{'signatures': ['~SomeFirstName_User1']}, {'signatures': ['~SomeFirstName_User1']}], 'history': [{'signatures': ['~SomeFirstName_User1']}]},active = True,password = True,tauthor = 'openreview.net',state = 'Active Automatic'), 'alternate@mail.com': Profile(id = '~SomeFirstName_User1',number = None,tcdate = 1718638470436,tmdate = 1718638471539,referent = None,packaging = None,invitation = '~/-/profiles',readers = ['everyone'],nonreaders = None,signatures = ['~SomeFirstName_User1'],writers = ['openreview.net'],content = {'preferredEmail': 'test@mail.com', 'emails': ['test@mail.com', 'alternate@mail.com'], 'names': [{'preferred': True, 'fullname': 'SomeFirstName User', 'username': '~SomeFirstName_User1'}, {'first': 'Another', 'last': 'Name', 'fullname': 'Another Name', 'username': '~Another_Name1', 'preferred': False}], 'history': [{'position': 'PhD Student', 'start': 2017, 'end': None, 'institution': {'domain': 'mail.com'}}], 'relations': [], 'emailsConfirmed': ['test@mail.com', 'alternate@mail.com']},metaContent = {'preferredEmail': {'signatures': ['~SomeFirstName_User1']}, 'emails': [{'signatures': ['~SomeFirstName_User1']}, {'signatures': ['~SomeFirstName_User1']}], 'names': [{'signatures': ['~SomeFirstName_User1']}, {'signatures': ['~SomeFirstName_User1']}], 'history': [{'signatures': ['~SomeFirstName_User1']}]},active = True,password = True,tauthor = 'openreview.net',state = 'Active Automatic'), 'user@gmail.com': Profile(id = '~First_Last1',number = None,tcdate = 1718638472064,tmdate = 1718638472222,referent = None,packaging = None,invitation = '~/-/profiles',readers = ['everyone'],nonreaders = None,signatures = ['~First_Last1'],writers = ['openreview.net'],content = {'preferredEmail': 'user@gmail.com', 'emails': ['user@gmail.com'], 'names': [{'preferred': True, 'fullname': 'First Last', 'username': '~First_Last1'}], 'history': [{'position': 'PhD Student', 'start': 2017, 'end': None, 'institution': {'domain': 'gmail.com'}}], 'relations': [], 'emailsConfirmed': ['user@gmail.com']},metaContent = {'preferredEmail': {'signatures': ['~First_Last1']}, 'emails': [{'signatures': ['~First_Last1']}], 'names': [{'signatures': ['~First_Last1']}], 'history': [{'signatures': ['~First_Last1']}]},active = True,password = True,tauthor = 'openreview.net',state = 'Active Automatic')}\n",
      "Processing profile ~SomeFirstName_User1 test@mail.com\n",
      "Processing profile ~SomeFirstName_User1 alternate@mail.com\n",
      "Processing profile ~First_Last1 user@gmail.com\n",
      "profile_by_id_or_email {'~SomeFirstName_User1': Profile(id = '~SomeFirstName_User1',number = None,tcdate = 1718638470436,tmdate = 1718638471539,referent = None,packaging = None,invitation = '~/-/profiles',readers = ['everyone'],nonreaders = None,signatures = ['~SomeFirstName_User1'],writers = ['openreview.net'],content = {'preferredEmail': 'test@mail.com', 'emails': ['test@mail.com', 'alternate@mail.com'], 'names': [{'preferred': True, 'fullname': 'SomeFirstName User', 'username': '~SomeFirstName_User1'}, {'first': 'Another', 'last': 'Name', 'fullname': 'Another Name', 'username': '~Another_Name1', 'preferred': False}], 'history': [{'position': 'PhD Student', 'start': 2017, 'end': None, 'institution': {'domain': 'mail.com'}}], 'relations': [], 'emailsConfirmed': ['test@mail.com', 'alternate@mail.com']},metaContent = {'preferredEmail': {'signatures': ['~SomeFirstName_User1']}, 'emails': [{'signatures': ['~SomeFirstName_User1']}, {'signatures': ['~SomeFirstName_User1']}], 'names': [{'signatures': ['~SomeFirstName_User1']}, {'signatures': ['~SomeFirstName_User1']}], 'history': [{'signatures': ['~SomeFirstName_User1']}]},active = True,password = True,tauthor = 'openreview.net',state = 'Active Automatic'), '~Another_Name1': Profile(id = '~SomeFirstName_User1',number = None,tcdate = 1718638470436,tmdate = 1718638471539,referent = None,packaging = None,invitation = '~/-/profiles',readers = ['everyone'],nonreaders = None,signatures = ['~SomeFirstName_User1'],writers = ['openreview.net'],content = {'preferredEmail': 'test@mail.com', 'emails': ['test@mail.com', 'alternate@mail.com'], 'names': [{'preferred': True, 'fullname': 'SomeFirstName User', 'username': '~SomeFirstName_User1'}, {'first': 'Another', 'last': 'Name', 'fullname': 'Another Name', 'username': '~Another_Name1', 'preferred': False}], 'history': [{'position': 'PhD Student', 'start': 2017, 'end': None, 'institution': {'domain': 'mail.com'}}], 'relations': [], 'emailsConfirmed': ['test@mail.com', 'alternate@mail.com']},metaContent = {'preferredEmail': {'signatures': ['~SomeFirstName_User1']}, 'emails': [{'signatures': ['~SomeFirstName_User1']}, {'signatures': ['~SomeFirstName_User1']}], 'names': [{'signatures': ['~SomeFirstName_User1']}, {'signatures': ['~SomeFirstName_User1']}], 'history': [{'signatures': ['~SomeFirstName_User1']}]},active = True,password = True,tauthor = 'openreview.net',state = 'Active Automatic'), 'test@mail.com': Profile(id = '~SomeFirstName_User1',number = None,tcdate = 1718638470436,tmdate = 1718638471539,referent = None,packaging = None,invitation = '~/-/profiles',readers = ['everyone'],nonreaders = None,signatures = ['~SomeFirstName_User1'],writers = ['openreview.net'],content = {'preferredEmail': 'test@mail.com', 'emails': ['test@mail.com', 'alternate@mail.com'], 'names': [{'preferred': True, 'fullname': 'SomeFirstName User', 'username': '~SomeFirstName_User1'}, {'first': 'Another', 'last': 'Name', 'fullname': 'Another Name', 'username': '~Another_Name1', 'preferred': False}], 'history': [{'position': 'PhD Student', 'start': 2017, 'end': None, 'institution': {'domain': 'mail.com'}}], 'relations': [], 'emailsConfirmed': ['test@mail.com', 'alternate@mail.com']},metaContent = {'preferredEmail': {'signatures': ['~SomeFirstName_User1']}, 'emails': [{'signatures': ['~SomeFirstName_User1']}, {'signatures': ['~SomeFirstName_User1']}], 'names': [{'signatures': ['~SomeFirstName_User1']}, {'signatures': ['~SomeFirstName_User1']}], 'history': [{'signatures': ['~SomeFirstName_User1']}]},active = True,password = True,tauthor = 'openreview.net',state = 'Active Automatic'), 'alternate@mail.com': Profile(id = '~SomeFirstName_User1',number = None,tcdate = 1718638470436,tmdate = 1718638471539,referent = None,packaging = None,invitation = '~/-/profiles',readers = ['everyone'],nonreaders = None,signatures = ['~SomeFirstName_User1'],writers = ['openreview.net'],content = {'preferredEmail': 'test@mail.com', 'emails': ['test@mail.com', 'alternate@mail.com'], 'names': [{'preferred': True, 'fullname': 'SomeFirstName User', 'username': '~SomeFirstName_User1'}, {'first': 'Another', 'last': 'Name', 'fullname': 'Another Name', 'username': '~Another_Name1', 'preferred': False}], 'history': [{'position': 'PhD Student', 'start': 2017, 'end': None, 'institution': {'domain': 'mail.com'}}], 'relations': [], 'emailsConfirmed': ['test@mail.com', 'alternate@mail.com']},metaContent = {'preferredEmail': {'signatures': ['~SomeFirstName_User1']}, 'emails': [{'signatures': ['~SomeFirstName_User1']}, {'signatures': ['~SomeFirstName_User1']}], 'names': [{'signatures': ['~SomeFirstName_User1']}, {'signatures': ['~SomeFirstName_User1']}], 'history': [{'signatures': ['~SomeFirstName_User1']}]},active = True,password = True,tauthor = 'openreview.net',state = 'Active Automatic'), '~First_Last1': Profile(id = '~First_Last1',number = None,tcdate = 1718638472064,tmdate = 1718638472222,referent = None,packaging = None,invitation = '~/-/profiles',readers = ['everyone'],nonreaders = None,signatures = ['~First_Last1'],writers = ['openreview.net'],content = {'preferredEmail': 'user@gmail.com', 'emails': ['user@gmail.com'], 'names': [{'preferred': True, 'fullname': 'First Last', 'username': '~First_Last1'}], 'history': [{'position': 'PhD Student', 'start': 2017, 'end': None, 'institution': {'domain': 'gmail.com'}}], 'relations': [], 'emailsConfirmed': ['user@gmail.com']},metaContent = {'preferredEmail': {'signatures': ['~First_Last1']}, 'emails': [{'signatures': ['~First_Last1']}], 'names': [{'signatures': ['~First_Last1']}], 'history': [{'signatures': ['~First_Last1']}]},active = True,password = True,tauthor = 'openreview.net',state = 'Active Automatic'), 'user@gmail.com': Profile(id = '~First_Last1',number = None,tcdate = 1718638472064,tmdate = 1718638472222,referent = None,packaging = None,invitation = '~/-/profiles',readers = ['everyone'],nonreaders = None,signatures = ['~First_Last1'],writers = ['openreview.net'],content = {'preferredEmail': 'user@gmail.com', 'emails': ['user@gmail.com'], 'names': [{'preferred': True, 'fullname': 'First Last', 'username': '~First_Last1'}], 'history': [{'position': 'PhD Student', 'start': 2017, 'end': None, 'institution': {'domain': 'gmail.com'}}], 'relations': [], 'emailsConfirmed': ['user@gmail.com']},metaContent = {'preferredEmail': {'signatures': ['~First_Last1']}, 'emails': [{'signatures': ['~First_Last1']}], 'names': [{'signatures': ['~First_Last1']}], 'history': [{'signatures': ['~First_Last1']}]},active = True,password = True,tauthor = 'openreview.net',state = 'Active Automatic'), 'test_user@mail.com': Profile(id = 'test_user@mail.com',number = None,tcdate = None,tmdate = None,referent = None,packaging = None,invitation = None,readers = None,nonreaders = None,signatures = None,writers = None,content = {'emails': ['test_user@mail.com'], 'preferredEmail': 'test_user@mail.com', 'emailsConfirmed': ['test_user@mail.com'], 'names': []},metaContent = None,active = None,password = None)}\n"
     ]
    }
   ],
   "source": [
    "profiles = openreview.tools.get_profiles(\n",
    "    client, ids_or_emails=['~SomeFirstName_User1', '~Another_Name1', 'user@gmail.com', 'test_user@mail.com', 'test@mail.com', 'alternate@mail.com', '~Test_Name1'], as_dict=True\n",
    ")"
   ]
  },
  {
   "cell_type": "code",
   "execution_count": 4,
   "id": "151458f9",
   "metadata": {},
   "outputs": [
    {
     "data": {
      "text/plain": [
       "'~SomeFirstName_User1'"
      ]
     },
     "execution_count": 4,
     "metadata": {},
     "output_type": "execute_result"
    }
   ],
   "source": [
    "profiles['test@mail.com'].id"
   ]
  },
  {
   "cell_type": "code",
   "execution_count": 5,
   "id": "8a0f0dcb",
   "metadata": {},
   "outputs": [
    {
     "data": {
      "text/plain": [
       "'~SomeFirstName_User1'"
      ]
     },
     "execution_count": 5,
     "metadata": {},
     "output_type": "execute_result"
    }
   ],
   "source": [
    "profiles['alternate@mail.com'].id"
   ]
  },
  {
   "cell_type": "code",
   "execution_count": 3,
   "id": "14cec3b1",
   "metadata": {},
   "outputs": [
    {
     "data": {
      "text/plain": [
       "[Profile(id = '~Carlos_Mondragon1',number = None,tcdate = 1718215673624,tmdate = 1718215673779,referent = None,packaging = None,invitation = '~/-/profiles',readers = ['everyone'],nonreaders = None,signatures = ['~Carlos_Mondragon1'],writers = ['openreview.net'],content = {'preferredEmail': '****@mailthree.com', 'emails': ['****@mailthree.com'], 'names': [{'preferred': True, 'fullname': 'Carlos Mondragon', 'username': '~Carlos_Mondragon1'}], 'history': [{'position': 'PhD Student', 'start': 2017, 'end': None, 'institution': {'domain': 'mailthree.com'}}], 'relations': [], 'emailsConfirmed': ['****@mailthree.com']},metaContent = {'preferredEmail': {'signatures': ['~Carlos_Mondragon1']}, 'emails': [{'signatures': ['~Carlos_Mondragon1']}], 'names': [{'signatures': ['~Carlos_Mondragon1']}], 'history': [{'signatures': ['~Carlos_Mondragon1']}]},active = True,password = True,tauthor = 'openreview.net',state = 'Active Automatic'),\n",
       " Profile(id = '~Antony_Bal1',number = None,tcdate = 1718215864861,tmdate = 1718215865001,referent = None,packaging = None,invitation = '~/-/profiles',readers = ['everyone'],nonreaders = None,signatures = ['~Antony_Bal1'],writers = ['openreview.net'],content = {'preferredEmail': '****@irobot.com', 'emails': ['****@irobot.com'], 'names': [{'preferred': True, 'fullname': 'Antony Bal', 'username': '~Antony_Bal1'}], 'history': [{'position': 'PhD Student', 'start': 2017, 'end': None, 'institution': {'domain': 'irobot.com'}}], 'relations': [], 'emailsConfirmed': ['****@irobot.com']},metaContent = {'preferredEmail': {'signatures': ['~Antony_Bal1']}, 'emails': [{'signatures': ['~Antony_Bal1']}], 'names': [{'signatures': ['~Antony_Bal1']}], 'history': [{'signatures': ['~Antony_Bal1']}]},active = True,password = True,tauthor = 'openreview.net',state = 'Active Institutional')]"
      ]
     },
     "execution_count": 3,
     "metadata": {},
     "output_type": "execute_result"
    }
   ],
   "source": [
    "client.impersonate('TMLR')\n",
    "openreview.tools.get_profiles(client, ['antony@irobot.com', '~Carlos_Mondragon1'])"
   ]
  },
  {
   "cell_type": "code",
   "execution_count": 4,
   "id": "6d50221e",
   "metadata": {},
   "outputs": [
    {
     "data": {
      "text/plain": [
       "{'antony@irobot.com': Profile(id = '~Antony_Bal1',number = None,tcdate = 1718215864861,tmdate = 1718215865001,referent = None,packaging = None,invitation = '~/-/profiles',readers = ['everyone'],nonreaders = None,signatures = ['~Antony_Bal1'],writers = ['openreview.net'],content = {'preferredEmail': '****@irobot.com', 'emails': ['****@irobot.com'], 'names': [{'preferred': True, 'fullname': 'Antony Bal', 'username': '~Antony_Bal1'}], 'history': [{'position': 'PhD Student', 'start': 2017, 'end': None, 'institution': {'domain': 'irobot.com'}}], 'relations': [], 'emailsConfirmed': ['****@irobot.com']},metaContent = {'preferredEmail': {'signatures': ['~Antony_Bal1']}, 'emails': [{'signatures': ['~Antony_Bal1']}], 'names': [{'signatures': ['~Antony_Bal1']}], 'history': [{'signatures': ['~Antony_Bal1']}]},active = True,password = True,tauthor = 'openreview.net',state = 'Active Institutional')}"
      ]
     },
     "execution_count": 4,
     "metadata": {},
     "output_type": "execute_result"
    }
   ],
   "source": [
    "client.search_profiles(confirmedEmails=['antony@irobot.com', '~Carlos_Mondragon1'])"
   ]
  },
  {
   "cell_type": "code",
   "execution_count": 4,
   "id": "282e9c9a",
   "metadata": {},
   "outputs": [
    {
     "data": {
      "text/plain": [
       "13"
      ]
     },
     "execution_count": 4,
     "metadata": {},
     "output_type": "execute_result"
    }
   ],
   "source": [
    "client.get_edges_count(invitation='TMLR/-/Preferred_Emails')"
   ]
  },
  {
   "cell_type": "code",
   "execution_count": 8,
   "id": "774a32f1",
   "metadata": {},
   "outputs": [
    {
     "data": {
      "text/plain": [
       "{'groups': [{'id': 'TMLR/Editors_In_Chief',\n",
       "   'messages': [{'id': '5ZATMeeplfN3',\n",
       "     'delivered': False,\n",
       "     'cdate': 1718210295367,\n",
       "     'signature': 'TMLR',\n",
       "     'invitation': 'TMLR/-/Edit',\n",
       "     'domain': 'TMLR',\n",
       "     'requestId': 'QpLhi2OYuO',\n",
       "     'content': {'fromEmail': 'openreview@local.openreview.net',\n",
       "      'fromName': 'OpenReview',\n",
       "      'to': 'kyunghyun@mail.com',\n",
       "      'subject': 'TMLR test',\n",
       "      'text': 'TMLR test',\n",
       "      'sendAt': 1718210295},\n",
       "     'tauthor': 'openreview.net'},\n",
       "    {'id': 'qDLBxBbctPLX',\n",
       "     'delivered': False,\n",
       "     'cdate': 1718210295367,\n",
       "     'signature': 'TMLR',\n",
       "     'invitation': 'TMLR/-/Edit',\n",
       "     'domain': 'TMLR',\n",
       "     'requestId': 'QpLhi2OYuO',\n",
       "     'content': {'fromEmail': 'openreview@local.openreview.net',\n",
       "      'fromName': 'OpenReview',\n",
       "      'to': 'raia@mail.com',\n",
       "      'subject': 'TMLR test',\n",
       "      'text': 'TMLR test',\n",
       "      'sendAt': 1718210300},\n",
       "     'tauthor': 'openreview.net'}]}]}"
      ]
     },
     "execution_count": 8,
     "metadata": {},
     "output_type": "execute_result"
    }
   ],
   "source": [
    "client.post_message(\n",
    "    invitation='TMLR/-/Edit',\n",
    "    signature='TMLR',\n",
    "    subject='TMLR test',\n",
    "    message='TMLR test',\n",
    "    recipients=['TMLR/Editors_In_Chief'],\n",
    "    replyTo='~Joenelle_Pineau1'\n",
    ")"
   ]
  },
  {
   "cell_type": "code",
   "execution_count": 15,
   "id": "be079c4c",
   "metadata": {},
   "outputs": [
    {
     "data": {
      "text/plain": [
       "{'id': 'ktdfBfwLoc',\n",
       " 'domain': 'ICML.cc/2023/Conference',\n",
       " 'cdate': 1715113893143,\n",
       " 'tcdate': 1715113893143,\n",
       " 'mdate': 1715113893143,\n",
       " 'tmdate': 1715113893143,\n",
       " 'tauthor': 'openreview.net',\n",
       " 'signatures': ['ICML.cc/2023/Conference'],\n",
       " 'invitation': 'ICML.cc/2023/Conference/-/Edit',\n",
       " 'note': {'id': 'Q3Jfjj5SEn',\n",
       "  'content': {'status': {'value': 'Undeployment Error'},\n",
       "   'error_message': {'value': 'this is an error'}},\n",
       "  'number': 1}}"
      ]
     },
     "execution_count": 15,
     "metadata": {},
     "output_type": "execute_result"
    }
   ],
   "source": [
    "client.post_note_edit(\n",
    "    invitation='ICML.cc/2023/Conference/-/Edit',\n",
    "    signatures=['ICML.cc/2023/Conference'],\n",
    "    note=openreview.api.Note(\n",
    "        id='Q3Jfjj5SEn',\n",
    "        content={\n",
    "            'status': { 'value': 'Undeployment Error'},\n",
    "            'error_message': { 'value': 'this is an error'}\n",
    "        }\n",
    "    )\n",
    ")"
   ]
  },
  {
   "cell_type": "code",
   "execution_count": 10,
   "id": "a5930245",
   "metadata": {},
   "outputs": [
    {
     "ename": "OpenReviewException",
     "evalue": "{'name': 'NotFoundError', 'message': 'The Edit P1IbpbZ8i1 was not found', 'status': 404, 'details': {'path': 'id', 'value': 'P1IbpbZ8i1', 'reqId': '2024-05-06-21865'}}",
     "output_type": "error",
     "traceback": [
      "\u001b[0;31m---------------------------------------------------------------------------\u001b[0m",
      "\u001b[0;31mHTTPError\u001b[0m                                 Traceback (most recent call last)",
      "File \u001b[0;32m~/openreview/openreview-py/openreview/api/client.py:140\u001b[0m, in \u001b[0;36mOpenReviewClient.__handle_response\u001b[0;34m(self, response)\u001b[0m\n\u001b[1;32m    139\u001b[0m \u001b[39mtry\u001b[39;00m:\n\u001b[0;32m--> 140\u001b[0m     response\u001b[39m.\u001b[39;49mraise_for_status()\n\u001b[1;32m    141\u001b[0m     \u001b[39mreturn\u001b[39;00m response\n",
      "File \u001b[0;32m~/openreview/py-3.8/lib/python3.8/site-packages/requests/models.py:960\u001b[0m, in \u001b[0;36mResponse.raise_for_status\u001b[0;34m(self)\u001b[0m\n\u001b[1;32m    959\u001b[0m \u001b[39mif\u001b[39;00m http_error_msg:\n\u001b[0;32m--> 960\u001b[0m     \u001b[39mraise\u001b[39;00m HTTPError(http_error_msg, response\u001b[39m=\u001b[39m\u001b[39mself\u001b[39m)\n",
      "\u001b[0;31mHTTPError\u001b[0m: 404 Client Error: Not Found for url: http://localhost:3001/notes/edits?id=P1IbpbZ8i1&trash=false",
      "\nDuring handling of the above exception, another exception occurred:\n",
      "\u001b[0;31mOpenReviewException\u001b[0m                       Traceback (most recent call last)",
      "\u001b[1;32m/Users/melisabok/Venue Local.ipynb Cell 3\u001b[0m line \u001b[0;36m<cell line: 1>\u001b[0;34m()\u001b[0m\n\u001b[0;32m----> <a href='vscode-notebook-cell:/Users/melisabok/Venue%20Local.ipynb#Y215sZmlsZQ%3D%3D?line=0'>1</a>\u001b[0m edit \u001b[39m=\u001b[39m client\u001b[39m.\u001b[39;49mget_note_edit(\u001b[39m'\u001b[39;49m\u001b[39mP1IbpbZ8i1\u001b[39;49m\u001b[39m'\u001b[39;49m)\n",
      "File \u001b[0;32m~/openreview/openreview-py/openreview/api/client.py:1332\u001b[0m, in \u001b[0;36mOpenReviewClient.get_note_edit\u001b[0;34m(self, id, trash)\u001b[0m\n\u001b[1;32m   1322\u001b[0m \u001b[39m\"\"\"\u001b[39;00m\n\u001b[1;32m   1323\u001b[0m \u001b[39mGet a single edit by id if available\u001b[39;00m\n\u001b[1;32m   1324\u001b[0m \n\u001b[0;32m   (...)\u001b[0m\n\u001b[1;32m   1329\u001b[0m \u001b[39m:rtype: Note\u001b[39;00m\n\u001b[1;32m   1330\u001b[0m \u001b[39m\"\"\"\u001b[39;00m\n\u001b[1;32m   1331\u001b[0m response \u001b[39m=\u001b[39m \u001b[39mself\u001b[39m\u001b[39m.\u001b[39msession\u001b[39m.\u001b[39mget(\u001b[39mself\u001b[39m\u001b[39m.\u001b[39mnote_edits_url, params \u001b[39m=\u001b[39m {\u001b[39m'\u001b[39m\u001b[39mid\u001b[39m\u001b[39m'\u001b[39m:\u001b[39mid\u001b[39m, \u001b[39m'\u001b[39m\u001b[39mtrash\u001b[39m\u001b[39m'\u001b[39m: \u001b[39m'\u001b[39m\u001b[39mtrue\u001b[39m\u001b[39m'\u001b[39m \u001b[39mif\u001b[39;00m trash \u001b[39m==\u001b[39m \u001b[39mTrue\u001b[39;00m \u001b[39melse\u001b[39;00m \u001b[39m'\u001b[39m\u001b[39mfalse\u001b[39m\u001b[39m'\u001b[39m}, headers \u001b[39m=\u001b[39m \u001b[39mself\u001b[39m\u001b[39m.\u001b[39mheaders)\n\u001b[0;32m-> 1332\u001b[0m response \u001b[39m=\u001b[39m \u001b[39mself\u001b[39;49m\u001b[39m.\u001b[39;49m__handle_response(response)\n\u001b[1;32m   1333\u001b[0m n \u001b[39m=\u001b[39m response\u001b[39m.\u001b[39mjson()[\u001b[39m'\u001b[39m\u001b[39medits\u001b[39m\u001b[39m'\u001b[39m][\u001b[39m0\u001b[39m]\n\u001b[1;32m   1334\u001b[0m \u001b[39mreturn\u001b[39;00m Edit\u001b[39m.\u001b[39mfrom_json(n)\n",
      "File \u001b[0;32m~/openreview/openreview-py/openreview/api/client.py:155\u001b[0m, in \u001b[0;36mOpenReviewClient.__handle_response\u001b[0;34m(self, response)\u001b[0m\n\u001b[1;32m    150\u001b[0m \u001b[39melse\u001b[39;00m:\n\u001b[1;32m    151\u001b[0m     error \u001b[39m=\u001b[39m {\n\u001b[1;32m    152\u001b[0m         \u001b[39m'\u001b[39m\u001b[39mname\u001b[39m\u001b[39m'\u001b[39m: \u001b[39m'\u001b[39m\u001b[39mError\u001b[39m\u001b[39m'\u001b[39m,\n\u001b[1;32m    153\u001b[0m         \u001b[39m'\u001b[39m\u001b[39mmessage\u001b[39m\u001b[39m'\u001b[39m: response\u001b[39m.\u001b[39mreason\n\u001b[1;32m    154\u001b[0m     }\n\u001b[0;32m--> 155\u001b[0m \u001b[39mraise\u001b[39;00m OpenReviewException(error)\n",
      "\u001b[0;31mOpenReviewException\u001b[0m: {'name': 'NotFoundError', 'message': 'The Edit P1IbpbZ8i1 was not found', 'status': 404, 'details': {'path': 'id', 'value': 'P1IbpbZ8i1', 'reqId': '2024-05-06-21865'}}"
     ]
    }
   ],
   "source": [
    "edit = client.get_note_edit('P1IbpbZ8i1')"
   ]
  },
  {
   "cell_type": "code",
   "execution_count": 5,
   "id": "bf2ef931",
   "metadata": {},
   "outputs": [],
   "source": [
    "i = client.get_invitation('ICML.cc/2023/Conference/Submission1/-/Chat')"
   ]
  },
  {
   "cell_type": "code",
   "execution_count": 6,
   "id": "45d37c70",
   "metadata": {},
   "outputs": [
    {
     "data": {
      "text/plain": [
       "[{'dates': [],\n",
       "  'script': 'def process(client, invitation):\\n\\n    domain = client.get_group(invitation.domain)\\n    venue_id = domain.id\\n    short_name = domain.get_content_value(\\'subtitle\\')\\n    contact = domain.get_content_value(\\'contact\\')\\n    meta_invitation_id = domain.get_content_value(\\'meta_invitation_id\\')\\n    sender = domain.get_content_value(\\'message_sender\\')\\n\\n\\n    last_notified_id = invitation.content.get(\\'last_notified_id\\', {}).get(\\'value\\') if invitation.content else None\\n\\n    last_notified_comment = client.get_note(last_notified_id) if last_notified_id else None\\n\\n    if not last_notified_comment:\\n        print(\\'No last notified comment found\\')\\n        return\\n\\n    submission = client.get_note(last_notified_comment.forum)\\n    new_comments = client.get_notes(invitation=invitation.id, forum=submission.id, mintcdate=last_notified_comment.tcdate, sort=\\'tcdate:asc\\')\\n\\n    print(f\\'New comments: {len(new_comments)}\\')\\n    if len(new_comments) == 0:\\n        return\\n    \\n    client.post_message(\\n        invitation = meta_invitation_id,\\n        subject = f\\'[{short_name}] New message{\"s\" if len(new_comments) > 1 else \"\"} in comittee members chat for submission {submission.number}: {submission.content[\"title\"][\"value\"]}\\',\\n        recipients = new_comments[-1].readers,\\n        message = f\\'\\'\\'Hi {{{{fullname}}}},\\n        \\nNew comment{\"s have\" if len(new_comments) > 1 else \" has\"} been posted for the conversation in the {short_name} forum for submission {submission.number}: {submission.content[\\'title\\'][\\'value\\']}\\n\\nYou can view the conversation here: https://openreview.net/forum?id={submission.id}&noteId={new_comments[0].id}#committee-chat\\n\\'\\'\\',\\n        replyTo = contact,\\n        ignoreRecipients = new_comments[-1].signatures,\\n        sender = sender\\n    )\\n\\n    ## Update the last notified id\\n    client.post_invitation_edit (\\n        invitations=meta_invitation_id,\\n        signatures=[venue_id],\\n        invitation=openreview.api.Invitation(\\n            id=invitation.id,\\n            content={\\n                \\'last_notified_id\\': { \\'value\\': new_comments[-1].id }\\n            }\\n        )\\n    )    \\n\\n\\n'}]"
      ]
     },
     "execution_count": 6,
     "metadata": {},
     "output_type": "execute_result"
    }
   ],
   "source": [
    "i.date_processes"
   ]
  },
  {
   "cell_type": "code",
   "execution_count": 8,
   "id": "5d97b833",
   "metadata": {},
   "outputs": [
    {
     "ename": "AttributeError",
     "evalue": "type object 'datetime.datetime' has no attribute 'UTC'",
     "output_type": "error",
     "traceback": [
      "\u001b[0;31m---------------------------------------------------------------------------\u001b[0m",
      "\u001b[0;31mAttributeError\u001b[0m                            Traceback (most recent call last)",
      "\u001b[1;32m/Users/melisabok/Venue Local.ipynb Cell 5\u001b[0m line \u001b[0;36m<cell line: 1>\u001b[0;34m()\u001b[0m\n\u001b[0;32m----> <a href='vscode-notebook-cell:/Users/melisabok/Venue%20Local.ipynb#Y214sZmlsZQ%3D%3D?line=0'>1</a>\u001b[0m datetime\u001b[39m.\u001b[39mdatetime\u001b[39m.\u001b[39mnow(datetime\u001b[39m.\u001b[39;49mdatetime\u001b[39m.\u001b[39;49mUTC)\n",
      "\u001b[0;31mAttributeError\u001b[0m: type object 'datetime.datetime' has no attribute 'UTC'"
     ]
    }
   ],
   "source": [
    "datetime.datetime.now(datetime.datetime.UTC)"
   ]
  },
  {
   "cell_type": "code",
   "execution_count": 3,
   "id": "5257eb60",
   "metadata": {},
   "outputs": [],
   "source": [
    "venue = openreview.helpers.get_conference(client_v1, 'KLCTELObk2')"
   ]
  },
  {
   "cell_type": "code",
   "execution_count": 4,
   "id": "1ededb95",
   "metadata": {},
   "outputs": [
    {
     "data": {
      "text/plain": [
       "'ICML.cc/2023/Conference'"
      ]
     },
     "execution_count": 4,
     "metadata": {},
     "output_type": "execute_result"
    }
   ],
   "source": [
    "venue.id"
   ]
  },
  {
   "cell_type": "code",
   "execution_count": 9,
   "id": "b09638ba",
   "metadata": {},
   "outputs": [
    {
     "ename": "OpenReviewException",
     "evalue": "{'name': 'InvalidPathError', 'message': 'The path 2/signatures defined in invitation/edit/invitation/tag/writers/1 is invalid: The path 2/signatures does not resolve to any value.', 'status': 400, 'details': {'reqId': '2024-05-02-199'}}",
     "output_type": "error",
     "traceback": [
      "\u001b[0;31m---------------------------------------------------------------------------\u001b[0m",
      "\u001b[0;31mHTTPError\u001b[0m                                 Traceback (most recent call last)",
      "File \u001b[0;32m~/openreview/openreview-py/openreview/api/client.py:140\u001b[0m, in \u001b[0;36mOpenReviewClient.__handle_response\u001b[0;34m(self, response)\u001b[0m\n\u001b[1;32m    139\u001b[0m \u001b[39mtry\u001b[39;00m:\n\u001b[0;32m--> 140\u001b[0m     response\u001b[39m.\u001b[39;49mraise_for_status()\n\u001b[1;32m    141\u001b[0m     \u001b[39mreturn\u001b[39;00m response\n",
      "File \u001b[0;32m~/openreview/py-3.8/lib/python3.8/site-packages/requests/models.py:960\u001b[0m, in \u001b[0;36mResponse.raise_for_status\u001b[0;34m(self)\u001b[0m\n\u001b[1;32m    959\u001b[0m \u001b[39mif\u001b[39;00m http_error_msg:\n\u001b[0;32m--> 960\u001b[0m     \u001b[39mraise\u001b[39;00m HTTPError(http_error_msg, response\u001b[39m=\u001b[39m\u001b[39mself\u001b[39m)\n",
      "\u001b[0;31mHTTPError\u001b[0m: 400 Client Error: Bad Request for url: http://localhost:3001/invitations/edits",
      "\nDuring handling of the above exception, another exception occurred:\n",
      "\u001b[0;31mOpenReviewException\u001b[0m                       Traceback (most recent call last)",
      "\u001b[1;32m/Users/melisabok/Venue Local.ipynb Cell 5\u001b[0m in \u001b[0;36m<cell line: 1>\u001b[0;34m()\u001b[0m\n\u001b[0;32m----> <a href='vscode-notebook-cell:/Users/melisabok/Venue%20Local.ipynb#Y211sZmlsZQ%3D%3D?line=0'>1</a>\u001b[0m client\u001b[39m.\u001b[39;49mpost_invitation_edit(invitations\u001b[39m=\u001b[39;49m\u001b[39m'\u001b[39;49m\u001b[39mICML.cc/2023/Conference/-/Chat_Reaction\u001b[39;49m\u001b[39m'\u001b[39;49m,\n\u001b[1;32m      <a href='vscode-notebook-cell:/Users/melisabok/Venue%20Local.ipynb#Y211sZmlsZQ%3D%3D?line=1'>2</a>\u001b[0m             readers\u001b[39m=\u001b[39;49m[\u001b[39m'\u001b[39;49m\u001b[39mICML.cc/2023/Conference\u001b[39;49m\u001b[39m'\u001b[39;49m],\n\u001b[1;32m      <a href='vscode-notebook-cell:/Users/melisabok/Venue%20Local.ipynb#Y211sZmlsZQ%3D%3D?line=2'>3</a>\u001b[0m             writers\u001b[39m=\u001b[39;49m[\u001b[39m'\u001b[39;49m\u001b[39mICML.cc/2023/Conference\u001b[39;49m\u001b[39m'\u001b[39;49m],\n\u001b[1;32m      <a href='vscode-notebook-cell:/Users/melisabok/Venue%20Local.ipynb#Y211sZmlsZQ%3D%3D?line=3'>4</a>\u001b[0m             signatures\u001b[39m=\u001b[39;49m[\u001b[39m'\u001b[39;49m\u001b[39mICML.cc/2023/Conference\u001b[39;49m\u001b[39m'\u001b[39;49m],\n\u001b[1;32m      <a href='vscode-notebook-cell:/Users/melisabok/Venue%20Local.ipynb#Y211sZmlsZQ%3D%3D?line=4'>5</a>\u001b[0m             content\u001b[39m=\u001b[39;49m{\n\u001b[1;32m      <a href='vscode-notebook-cell:/Users/melisabok/Venue%20Local.ipynb#Y211sZmlsZQ%3D%3D?line=5'>6</a>\u001b[0m       \u001b[39m'\u001b[39;49m\u001b[39mnoteId\u001b[39;49m\u001b[39m'\u001b[39;49m: {\n\u001b[1;32m      <a href='vscode-notebook-cell:/Users/melisabok/Venue%20Local.ipynb#Y211sZmlsZQ%3D%3D?line=6'>7</a>\u001b[0m         \u001b[39m'\u001b[39;49m\u001b[39mvalue\u001b[39;49m\u001b[39m'\u001b[39;49m: \u001b[39m'\u001b[39;49m\u001b[39mvi3LftSJoG\u001b[39;49m\u001b[39m'\u001b[39;49m\n\u001b[1;32m      <a href='vscode-notebook-cell:/Users/melisabok/Venue%20Local.ipynb#Y211sZmlsZQ%3D%3D?line=7'>8</a>\u001b[0m       },\n\u001b[1;32m      <a href='vscode-notebook-cell:/Users/melisabok/Venue%20Local.ipynb#Y211sZmlsZQ%3D%3D?line=8'>9</a>\u001b[0m       \u001b[39m'\u001b[39;49m\u001b[39mnoteNumber\u001b[39;49m\u001b[39m'\u001b[39;49m: {\n\u001b[1;32m     <a href='vscode-notebook-cell:/Users/melisabok/Venue%20Local.ipynb#Y211sZmlsZQ%3D%3D?line=9'>10</a>\u001b[0m        \u001b[39m'\u001b[39;49m\u001b[39mvalue\u001b[39;49m\u001b[39m'\u001b[39;49m: \u001b[39m1\u001b[39;49m\n\u001b[1;32m     <a href='vscode-notebook-cell:/Users/melisabok/Venue%20Local.ipynb#Y211sZmlsZQ%3D%3D?line=10'>11</a>\u001b[0m       }\n\u001b[1;32m     <a href='vscode-notebook-cell:/Users/melisabok/Venue%20Local.ipynb#Y211sZmlsZQ%3D%3D?line=11'>12</a>\u001b[0m             },\n\u001b[1;32m     <a href='vscode-notebook-cell:/Users/melisabok/Venue%20Local.ipynb#Y211sZmlsZQ%3D%3D?line=12'>13</a>\u001b[0m             \u001b[39m#invitation=openreview.api.Invitation()\u001b[39;49;00m\n\u001b[1;32m     <a href='vscode-notebook-cell:/Users/melisabok/Venue%20Local.ipynb#Y211sZmlsZQ%3D%3D?line=13'>14</a>\u001b[0m         )\n",
      "File \u001b[0;32m~/openreview/openreview-py/openreview/api/client.py:2030\u001b[0m, in \u001b[0;36mOpenReviewClient.post_invitation_edit\u001b[0;34m(self, invitations, readers, writers, signatures, invitation, content, replacement)\u001b[0m\n\u001b[1;32m   2027\u001b[0m     edit_json[\u001b[39m'\u001b[39m\u001b[39minvitation\u001b[39m\u001b[39m'\u001b[39m] \u001b[39m=\u001b[39m invitation\u001b[39m.\u001b[39mto_json()\n\u001b[1;32m   2029\u001b[0m response \u001b[39m=\u001b[39m \u001b[39mself\u001b[39m\u001b[39m.\u001b[39msession\u001b[39m.\u001b[39mpost(\u001b[39mself\u001b[39m\u001b[39m.\u001b[39minvitation_edits_url, json \u001b[39m=\u001b[39m edit_json, headers \u001b[39m=\u001b[39m \u001b[39mself\u001b[39m\u001b[39m.\u001b[39mheaders)\n\u001b[0;32m-> 2030\u001b[0m response \u001b[39m=\u001b[39m \u001b[39mself\u001b[39;49m\u001b[39m.\u001b[39;49m__handle_response(response)\n\u001b[1;32m   2032\u001b[0m \u001b[39mreturn\u001b[39;00m response\u001b[39m.\u001b[39mjson()\n",
      "File \u001b[0;32m~/openreview/openreview-py/openreview/api/client.py:155\u001b[0m, in \u001b[0;36mOpenReviewClient.__handle_response\u001b[0;34m(self, response)\u001b[0m\n\u001b[1;32m    150\u001b[0m \u001b[39melse\u001b[39;00m:\n\u001b[1;32m    151\u001b[0m     error \u001b[39m=\u001b[39m {\n\u001b[1;32m    152\u001b[0m         \u001b[39m'\u001b[39m\u001b[39mname\u001b[39m\u001b[39m'\u001b[39m: \u001b[39m'\u001b[39m\u001b[39mError\u001b[39m\u001b[39m'\u001b[39m,\n\u001b[1;32m    153\u001b[0m         \u001b[39m'\u001b[39m\u001b[39mmessage\u001b[39m\u001b[39m'\u001b[39m: response\u001b[39m.\u001b[39mreason\n\u001b[1;32m    154\u001b[0m     }\n\u001b[0;32m--> 155\u001b[0m \u001b[39mraise\u001b[39;00m OpenReviewException(error)\n",
      "\u001b[0;31mOpenReviewException\u001b[0m: {'name': 'InvalidPathError', 'message': 'The path 2/signatures defined in invitation/edit/invitation/tag/writers/1 is invalid: The path 2/signatures does not resolve to any value.', 'status': 400, 'details': {'reqId': '2024-05-02-199'}}"
     ]
    }
   ],
   "source": [
    "client.post_invitation_edit(invitations='ICML.cc/2023/Conference/-/Chat_Reaction',\n",
    "            readers=['ICML.cc/2023/Conference'],\n",
    "            writers=['ICML.cc/2023/Conference'],\n",
    "            signatures=['ICML.cc/2023/Conference'],\n",
    "            content={\n",
    "      'noteId': {\n",
    "        'value': 'vi3LftSJoG'\n",
    "      },\n",
    "      'noteNumber': {\n",
    "       'value': 1\n",
    "      }\n",
    "            },\n",
    "            #invitation=openreview.api.Invitation()\n",
    "        )"
   ]
  },
  {
   "cell_type": "code",
   "execution_count": 5,
   "id": "2dc68829",
   "metadata": {},
   "outputs": [
    {
     "data": {
      "text/plain": [
       "Invitation(id = 'ICML.cc/2023/Conference/-/Chat_Reaction',invitations = None,domain = None,cdate = 1714521600000,ddate = None,duedate = None,expdate = None,readers = ['ICML.cc/2023/Conference'],nonreaders = None,writers = ['ICML.cc/2023/Conference'],invitees = ['ICML.cc/2023/Conference'],noninvitees = None,signatures = ['ICML.cc/2023/Conference'],minReplies = None,maxReplies = None,edit = {'signatures': ['ICML.cc/2023/Conference'], 'readers': ['ICML.cc/2023/Conference'], 'writers': ['ICML.cc/2023/Conference'], 'content': {'noteNumber': {'value': {'param': {'regex': '.*', 'type': 'integer'}}}, 'noteId': {'value': {'param': {'regex': '.*', 'type': 'string'}}}}, 'replacement': True, 'invitation': {'id': 'ICML.cc/2023/Conference/Submission${2/content/noteNumber/value}/-/Chat_Reaction', 'signatures': ['ICML.cc/2023/Conference'], 'readers': ['everyone'], 'writers': ['ICML.cc/2023/Conference'], 'invitees': ['ICML.cc/2023/Conference', 'OpenReview.net/Support', 'ICML.cc/2023/Conference/Submission${3/content/noteNumber/value}/Senior_Area_Chairs', 'ICML.cc/2023/Conference/Submission${3/content/noteNumber/value}/Area_Chairs', 'ICML.cc/2023/Conference/Submission${3/content/noteNumber/value}/Reviewers'], 'cdate': 1714521600000, 'tag': {'id': {'param': {'withInvitation': 'ICML.cc/2023/Conference/Submission${5/content/noteNumber/value}/-/Chat_Reaction', 'optional': True}}, 'forum': '${3/content/noteId/value}', 'replyto': {'param': {'withForum': '${5/content/noteId/value}'}}, 'ddate': {'param': {'range': [0, 999999999999], 'optional': True, 'deletable': True}}, 'signatures': {'param': {'items': [{'value': 'ICML.cc/2023/Conference/Program_Chairs', 'optional': True}, {'value': 'ICML.cc/2023/Conference/Submission${7/content/noteNumber/value}/Senior_Area_Chairs', 'optional': True}, {'prefix': 'ICML.cc/2023/Conference/Submission${7/content/noteNumber/value}/Area_Chair_.*', 'optional': True}, {'prefix': 'ICML.cc/2023/Conference/Submission${7/content/noteNumber/value}/Reviewer_.*', 'optional': True}]}}, 'readers': ['ICML.cc/2023/Conference/Program_Chairs', 'ICML.cc/2023/Conference/Submission${4/content/noteNumber/value}/Senior_Area_Chairs', 'ICML.cc/2023/Conference/Submission${4/content/noteNumber/value}/Area_Chairs', 'ICML.cc/2023/Conference/Submission${4/content/noteNumber/value}/Reviewers', 'ICML.cc/2023/Conference/Submission${4/content/noteNumber/value}/Reviewers/Submitted'], 'writers': ['ICML.cc/2023/Conference', '${2/signatures}'], 'tag': {'param': {'enum': ['👍', '👎', '😄', '😂', '🔥']}}}, 'expdate': 1714953600000}},edge = None,message = None,type = 'Note',tcdate = None,tmdate = None,bulk = None,details = None,reply_forum_views = [],responseArchiveDate = None,web = None,process = None,preprocess = None,date_processes = [{'dates': ['#{4/edit/invitation/cdate}', '#{4/mdate} + 5000'], 'script': 'def process(client, invitation):\\n    meta_invitation = client.get_invitation(\"ICML.cc/2023/Conference/-/Edit\")\\n    script = meta_invitation.content[\"invitation_edit_script\"][\\'value\\']\\n    funcs = {\\n        \\'openreview\\': openreview,\\n        \\'datetime\\': datetime,\\n        \\'date_index\\': date_index\\n    }\\n    exec(script, funcs)\\n    funcs[\\'process\\'](client, invitation)\\n'}],content = None)"
      ]
     },
     "execution_count": 5,
     "metadata": {},
     "output_type": "execute_result"
    }
   ],
   "source": [
    "venue.invitation_builder.set_chat_invitation()"
   ]
  },
  {
   "cell_type": "code",
   "execution_count": 16,
   "id": "ba6ac481",
   "metadata": {},
   "outputs": [],
   "source": [
    "sac_client=openreview.api.OpenReviewClient(username='sac2@icml.cc', password='Or$3cur3P@ssw0rd')\n",
    "sac_client.post_tag(openreview.api.Tag(\n",
    "    invitation='ICML.cc/2023/Conference/Submission1/-/Chat_Reaction',\n",
    "    signatures=['ICML.cc/2023/Conference/Submission1/Senior_Area_Chairs'],\n",
    "    tag='thumbs-up',\n",
    "    replyto='PAwcx0ZmZ4',\n",
    "    #forum='s0Zj9HebuJ'\n",
    "))\n",
    "\n",
    "tags = client.get_tags(invitation='ICML.cc/2023/Conference/Submission1/-/Chat_Reaction')"
   ]
  },
  {
   "cell_type": "code",
   "execution_count": 17,
   "id": "4605edf1",
   "metadata": {},
   "outputs": [
    {
     "data": {
      "text/plain": [
       "[Tag(id = 'A9p6cY2AQQ',cdate = 1714595706042,tcdate = 1714595706042,ddate = None,tag = 'thumbs-up',forum = 'XXcF67idEg',invitation = 'ICML.cc/2023/Conference/Submission1/-/Chat_Reaction',replyto = 'PAwcx0ZmZ4',readers = ['ICML.cc/2023/Conference/Program_Chairs', 'ICML.cc/2023/Conference/Submission1/Senior_Area_Chairs', 'ICML.cc/2023/Conference/Submission1/Area_Chairs', 'ICML.cc/2023/Conference/Submission1/Reviewers', 'ICML.cc/2023/Conference/Submission1/Reviewers/Submitted'],nonreaders = [],signatures = ['ICML.cc/2023/Conference/Submission1/Senior_Area_Chairs']),\n",
       " Tag(id = 'wER8B10IyS',cdate = 1714595686593,tcdate = 1714595686593,ddate = None,tag = 'thumbs-up',forum = 'XXcF67idEg',invitation = 'ICML.cc/2023/Conference/Submission1/-/Chat_Reaction',replyto = 'PAwcx0ZmZ4',readers = ['ICML.cc/2023/Conference/Program_Chairs', 'ICML.cc/2023/Conference/Submission1/Senior_Area_Chairs', 'ICML.cc/2023/Conference/Submission1/Area_Chairs', 'ICML.cc/2023/Conference/Submission1/Reviewers', 'ICML.cc/2023/Conference/Submission1/Reviewers/Submitted'],nonreaders = [],signatures = ['ICML.cc/2023/Conference/Submission1/Senior_Area_Chairs'])]"
      ]
     },
     "execution_count": 17,
     "metadata": {},
     "output_type": "execute_result"
    }
   ],
   "source": [
    "tags"
   ]
  },
  {
   "cell_type": "code",
   "execution_count": 4,
   "id": "fa7fa851",
   "metadata": {},
   "outputs": [],
   "source": [
    "messages = client.get_messages(subject='OpenReview Account Merge', to='akshat_2@profile.org')"
   ]
  },
  {
   "cell_type": "code",
   "execution_count": null,
   "id": "8231e101",
   "metadata": {},
   "outputs": [],
   "source": []
  },
  {
   "cell_type": "code",
   "execution_count": 8,
   "id": "c809221e",
   "metadata": {},
   "outputs": [
    {
     "data": {
      "text/plain": [
       "\"We have detected that the email address akshat_2@profile.org is already associated with the profile ~Akshat_Last1.\\nIf you don't recognize this profile, please contact us immediately at info@openreview.net so that we can investigate.\\n\\nClick on the link below to confirm that ~Akshat_First1 and ~Akshat_Last1 both belong to the same person and to merge these two accounts in OpenReview.\\n\\nhttp://localhost:3030/merge?token=214aa74c8b7b506fd1173ad12e07b1a97d6d4e55cd0023ff85158230f11d3d2d\""
      ]
     },
     "execution_count": 8,
     "metadata": {},
     "output_type": "execute_result"
    }
   ],
   "source": [
    "messages[0]['content']['text']"
   ]
  },
  {
   "cell_type": "code",
   "execution_count": 10,
   "id": "cd2d3715",
   "metadata": {},
   "outputs": [
    {
     "data": {
      "text/plain": [
       "<re.Match object; span=(386, 484), match='http://localhost:3030/merge?token=214aa74c8b7b506>"
      ]
     },
     "execution_count": 10,
     "metadata": {},
     "output_type": "execute_result"
    }
   ],
   "source": [
    "re.search('http://.*', messages[0]['content']['text'])#.group(0).replace('https://openreview.net', 'http://localhost:3030').replace('&amp;', '&')[:-1]\n"
   ]
  },
  {
   "cell_type": "code",
   "execution_count": 5,
   "id": "88174825",
   "metadata": {},
   "outputs": [],
   "source": [
    "eic_client=openreview.api.OpenReviewClient(username='rajarshi@mail.com', password='Or$3cur3P@ssw0rd')\n",
    "journal = openreview.journal.JournalRequest.get_journal(eic_client, 'kabZXzybI8')"
   ]
  },
  {
   "cell_type": "code",
   "execution_count": 7,
   "id": "d5e34af8",
   "metadata": {},
   "outputs": [
    {
     "name": "stdout",
     "output_type": "stream",
     "text": [
      "expire invitation JMLR/Paper1/Action_Editors/-/Recommendation\n",
      "expire invitation JMLR/Action_Editors/-/Assignment_Availability\n",
      "expire invitation JMLR/Reviewers/-/Assignment_Availability\n"
     ]
    }
   ],
   "source": [
    "note = client.get_note('MJ2ZigqOlN')\n",
    "journal.invitation_builder.expire_paper_invitations(note)\n",
    "journal.invitation_builder.expire_reviewer_responsibility_invitations()\n",
    "journal.invitation_builder.expire_assignment_availability_invitations()"
   ]
  },
  {
   "cell_type": "code",
   "execution_count": 2,
   "id": "acf9a1df",
   "metadata": {},
   "outputs": [],
   "source": [
    "pc_client_v2=openreview.api.OpenReviewClient(username='pc@icml.cc', password='Or$3cur3P@ssw0rd')"
   ]
  },
  {
   "cell_type": "code",
   "execution_count": null,
   "id": "1bf6c112",
   "metadata": {},
   "outputs": [],
   "source": []
  },
  {
   "cell_type": "code",
   "execution_count": 7,
   "id": "e9b8d912",
   "metadata": {},
   "outputs": [
    {
     "data": {
      "text/plain": [
       "[Edge(id = '6GAlCE5muY4sWW',invitation = 'ICML.cc/2023/Conference/Reviewers/-/Custom_Max_Papers',domain = 'ICML.cc/2023/Conference',head = 'ICML.cc/2023/Conference/Reviewers',tail = '~Reviewer_ICLRFour1',weight = 1,label = None,cdate = 1710780272974,ddate = None,readers = ['ICML.cc/2023/Conference', 'ICML.cc/2023/Conference/Senior_Area_Chairs', 'ICML.cc/2023/Conference/Area_Chairs', '~Reviewer_ICLRFour1'],nonreaders = [],writers = ['ICML.cc/2023/Conference'],signatures = ['ICML.cc/2023/Conference'],tcdate = 1710780272974,tmdate = 1710780272974,tddate = None,tauthor = None)]"
      ]
     },
     "execution_count": 7,
     "metadata": {},
     "output_type": "execute_result"
    }
   ],
   "source": [
    "pc_client_v2.get_edges(invitation='ICML.cc/2023/Conference/Reviewers/-/Custom_Max_Papers', tail='~Reviewer_ICLRFour1')"
   ]
  },
  {
   "cell_type": "code",
   "execution_count": 5,
   "id": "00897eda",
   "metadata": {},
   "outputs": [
    {
     "data": {
      "text/plain": [
       "[Group(id = 'ICML.cc/2023/Conference',invitation = None,invitations = ['openreview.net/-/Edit', 'ICML.cc/2023/Conference/-/Edit'],content = {'submission_id': {'value': 'ICML.cc/2023/Conference/-/Submission'}, 'pc_submission_revision_id': {'value': 'ICML.cc/2023/Conference/-/PC_Revision'}, 'meta_invitation_id': {'value': 'ICML.cc/2023/Conference/-/Edit'}, 'submission_name': {'value': 'Submission'}, 'submission_venue_id': {'value': 'ICML.cc/2023/Conference/Submission'}, 'withdrawn_venue_id': {'value': 'ICML.cc/2023/Conference/Withdrawn_Submission'}, 'desk_rejected_venue_id': {'value': 'ICML.cc/2023/Conference/Desk_Rejected_Submission'}, 'rejected_venue_id': {'value': 'ICML.cc/2023/Conference/Rejected_Submission'}, 'public_submissions': {'value': False}, 'public_withdrawn_submissions': {'value': False}, 'public_desk_rejected_submissions': {'value': False}, 'submission_email_template': {'value': ''}, 'submission_email_pcs': {'value': False}, 'title': {'value': 'Thirty-ninth International Conference on Machine Learning'}, 'subtitle': {'value': 'ICML 2023'}, 'website': {'value': 'https://icml.cc'}, 'contact': {'value': 'pc@icml.cc'}, 'location': {'value': 'Hawaii, USA'}, 'instructions': {'value': 'For author guidelines, please click [here](https://icml.cc/Conferences/2023/StyleAuthorInstructions)'}, 'start_date': {'value': 'Jul 01 2023'}, 'date': {'value': 'Submission Start: Mar 18 2024 04:37PM UTC-0, Submission Deadline: Mar 17 2024 12:00AM UTC-0'}, 'program_chairs_id': {'value': 'ICML.cc/2023/Conference/Program_Chairs'}, 'reviewers_id': {'value': 'ICML.cc/2023/Conference/Reviewers'}, 'reviewers_name': {'value': 'Reviewers'}, 'reviewers_anon_name': {'value': 'Reviewer_'}, 'reviewers_submitted_name': {'value': 'Submitted'}, 'reviewers_custom_max_papers_id': {'value': 'ICML.cc/2023/Conference/Reviewers/-/Custom_Max_Papers'}, 'reviewers_affinity_score_id': {'value': 'ICML.cc/2023/Conference/Reviewers/-/Affinity_Score'}, 'reviewers_conflict_id': {'value': 'ICML.cc/2023/Conference/Reviewers/-/Conflict'}, 'reviewers_assignment_id': {'value': 'ICML.cc/2023/Conference/Reviewers/-/Assignment'}, 'reviewers_invite_assignment_id': {'value': 'ICML.cc/2023/Conference/Reviewers/-/Invite_Assignment'}, 'reviewers_proposed_assignment_id': {'value': 'ICML.cc/2023/Conference/Reviewers/-/Proposed_Assignment'}, 'reviewers_recruitment_id': {'value': 'ICML.cc/2023/Conference/Reviewers/-/Recruitment'}, 'authors_id': {'value': 'ICML.cc/2023/Conference/Authors'}, 'authors_accepted_id': {'value': 'ICML.cc/2023/Conference/Authors/Accepted'}, 'authors_name': {'value': 'Authors'}, 'withdrawn_submission_id': {'value': 'ICML.cc/2023/Conference/-/Withdrawn_Submission'}, 'withdraw_expiration_id': {'value': 'ICML.cc/2023/Conference/-/Withdraw_Expiration'}, 'withdraw_reversion_id': {'value': 'ICML.cc/2023/Conference/-/Withdrawal_Reversion'}, 'withdraw_committee': {'value': ['ICML.cc/2023/Conference/Program_Chairs', 'ICML.cc/2023/Conference/Submission{number}/Senior_Area_Chairs', 'ICML.cc/2023/Conference/Submission{number}/Area_Chairs', 'ICML.cc/2023/Conference/Submission{number}/Reviewers', 'ICML.cc/2023/Conference/Submission{number}/Authors']}, 'withdrawal_name': {'value': 'Withdrawal'}, 'withdrawal_email_pcs': {'value': False}, 'withdrawn_submission_reveal_authors': {'value': False}, 'desk_rejected_submission_id': {'value': 'ICML.cc/2023/Conference/-/Desk_Rejected_Submission'}, 'desk_reject_expiration_id': {'value': 'ICML.cc/2023/Conference/-/Desk_Reject_Expiration'}, 'desk_rejection_reversion_id': {'value': 'ICML.cc/2023/Conference/-/Desk_Rejection_Reversion'}, 'desk_reject_committee': {'value': ['ICML.cc/2023/Conference/Program_Chairs', 'ICML.cc/2023/Conference/Submission{number}/Senior_Area_Chairs', 'ICML.cc/2023/Conference/Submission{number}/Area_Chairs', 'ICML.cc/2023/Conference/Submission{number}/Reviewers', 'ICML.cc/2023/Conference/Submission{number}/Authors']}, 'desk_rejection_name': {'value': 'Desk_Rejection'}, 'desk_rejection_email_pcs': {'value': False}, 'desk_rejected_submission_reveal_authors': {'value': False}, 'automatic_reviewer_assignment': {'value': True}, 'area_chairs_id': {'value': 'ICML.cc/2023/Conference/Area_Chairs'}, 'area_chairs_name': {'value': 'Area_Chairs'}, 'area_chairs_anon_name': {'value': 'Area_Chair_'}, 'area_chairs_custom_max_papers_id': {'value': 'ICML.cc/2023/Conference/Area_Chairs/-/Custom_Max_Papers'}, 'area_chairs_affinity_score_id': {'value': 'ICML.cc/2023/Conference/Area_Chairs/-/Affinity_Score'}, 'area_chairs_conflict_id': {'value': 'ICML.cc/2023/Conference/Area_Chairs/-/Conflict'}, 'area_chairs_recruitment_id': {'value': 'ICML.cc/2023/Conference/Area_Chairs/-/Recruitment'}, 'area_chairs_assignment_id': {'value': 'ICML.cc/2023/Conference/Area_Chairs/-/Assignment'}, 'senior_area_chairs_id': {'value': 'ICML.cc/2023/Conference/Senior_Area_Chairs'}, 'senior_area_chairs_assignment_id': {'value': 'ICML.cc/2023/Conference/Senior_Area_Chairs/-/Assignment'}, 'senior_area_chairs_affinity_score_id': {'value': 'ICML.cc/2023/Conference/Senior_Area_Chairs/-/Affinity_Score'}, 'senior_area_chairs_name': {'value': 'Senior_Area_Chairs'}, 'review_name': {'value': 'Official_Review'}, 'review_rating': {'value': 'rating'}, 'review_confidence': {'value': 'confidence'}, 'review_email_pcs': {'value': False}, 'meta_review_recommendation': {'value': 'recommendation'}, 'meta_review_name': {'value': 'Meta_Review'}, 'decision_name': {'value': 'Decision'}, 'decision_email_authors': {'value': False}, 'decision_field_name': {'value': 'decision'}, 'submission_revision_accepted': {'value': False}, 'request_form_id': {'value': 'E2yEWZ1MYb'}, 'comment_mandatory_readers': {'value': ['ICML.cc/2023/Conference/Program_Chairs', 'ICML.cc/2023/Conference/Submission{number}/Senior_Area_Chairs']}, 'comment_email_pcs': {'value': False}, 'rebuttal_email_pcs': {'value': False}, 'source_submissions_query_mapping': {'value': {'Official_Review': {'position_paper_track': 'No'}, 'Position_Paper_Review': {'position_paper_track': 'Yes'}}}, 'subject_areas': {'value': ['Algorithms: Approximate Inference', 'Algorithms: Belief Propagation', 'Learning: Deep Learning', 'Learning: General', 'Learning: Nonparametric Bayes', 'Methodology: Bayesian Methods', 'Methodology: Calibration', 'Principles: Causality', 'Principles: Cognitive Models', 'Representation: Constraints', 'Representation: Dempster-Shafer', 'Representation: Other']}, 'area_chairs_conflict_policy': {'value': 'NeurIPS'}, 'area_chairs_conflict_n_years': {'value': 3}, 'reviewers_conflict_policy': {'value': 'NeurIPS'}, 'reviewers_conflict_n_years': {'value': 3}, 'bid_name': {'value': 'Bid'}, 'enable_reviewers_reassignment': {'value': True}, 'reviewers_proposed_assignment_title': {'value': 'reviewer-matching'}},cdate = 1710779754913,ddate = None,tcdate = 1710779754913,tmdate = 1710780305999,writers = ['ICML.cc/2023/Conference'],members = ['ICML.cc/2023/Conference/Program_Chairs'],readers = ['everyone'],nonreaders = [],signatures = ['~Super_User1'],signatories = ['ICML.cc/2023/Conference'],anonids = None,web = \"// Webfield component\\nconst tabs = [{\\n  name: 'Your Consoles',\\n  type: 'consoles'\\n}]\\n\\nconst decisionHeadingMap = domain.content.decision_heading_map?.value\\n\\nif (decisionHeadingMap) {\\n  for (const [venue, tabName] of Object.entries(decisionHeadingMap)) {\\n    tabs.push({\\n      name:tabName,\\n      query: {\\n        'content.venue': venue\\n      },\\n      options: {\\n        hideWhenEmpty: true\\n      }\\n    })\\n  }\\n}\\n\\nif (domain.content.public_submissions.value && !decisionHeadingMap) {\\n  tabs.push({\\n    name: 'Active Submissions',\\n    query: {\\n      'content.venueid': domain.content.submission_venue_id?.value\\n    },\\n    options: {\\n      enableSearch: true\\n    }\\n  })\\n}\\n\\nif (domain.content.public_withdrawn_submissions?.value) {\\n  tabs.push({\\n    name: 'Withdrawn Submissions',\\n    query: {\\n      'content.venueid': domain.content.withdrawn_venue_id?.value\\n    },\\n    options: {\\n      hideWhenEmpty: true\\n    }\\n  })\\n}\\n\\nif (domain.content.public_desk_rejected_submissions?.value) {\\n  tabs.push({\\n    name: 'Desk Rejected Submissions',\\n    query: {\\n      'content.venueid': domain.content.desk_rejected_venue_id?.value\\n    },\\n    options: {\\n      hideWhenEmpty: true\\n    }\\n  })\\n}\\n\\ntabs.push({\\n  name: 'Recent Activity',\\n  type: 'activity'\\n})\\n\\nreturn {\\n  component: 'VenueHomepage',\\n  version: 1,\\n  properties: {\\n    header: {\\n      title: domain.content.title?.value,\\n      subtitle: domain.content.subtitle?.value,\\n      website: domain.content.website?.value,\\n      contact: domain.content.contact?.value,\\n      location: domain.content.location.value,\\n      instructions: domain.content.instructions.value,\\n      date: domain.content.start_date.value,\\n      deadline: domain.content.date.value\\n    },\\n    submissionId: domain.content.submission_id?.value,\\n    parentGroupId: domain.parent,\\n    tabs: tabs\\n  }\\n}\\n\",impersonators = None,host = 'ICML.cc',domain = 'ICML.cc/2023/Conference',parent = 'ICML.cc/2023',deanonymizers = None,details = None,anon_members = []),\n",
       " Group(id = 'ICML.cc/2023/Conference/Program_Chairs',invitation = None,invitations = ['ICML.cc/2023/Conference/-/Edit'],content = None,cdate = 1710779755159,ddate = None,tcdate = 1710779755159,tmdate = 1710779884701,writers = ['ICML.cc/2023/Conference', 'ICML.cc/2023/Conference/Program_Chairs'],members = ['pc@icml.cc', 'pc3@icml.cc'],readers = ['ICML.cc/2023/Conference'],nonreaders = None,signatures = ['ICML.cc/2023/Conference'],signatories = ['ICML.cc/2023/Conference/Program_Chairs', 'ICML.cc/2023/Conference'],anonids = None,web = \"// Webfield component\\nconst automaticAssignment = domain.content.automatic_reviewer_assignment?.value\\nconst assignmentUrls = {}\\n\\nconst manualReviewerAssignmentUrl = `/edges/browse?traverse=${domain.content.reviewers_assignment_id?.value}&edit=${domain.content.reviewers_assignment_id?.value};${domain.content.reviewers_custom_max_papers_id?.value},tail:ignore&browse=${domain.content.reviewers_affinity_score_id?.value};${domain.content.reviewers_conflict_id?.value}&version=2`\\nassignmentUrls[domain.content.reviewers_name?.value] = {\\n  manualAssignmentUrl: manualReviewerAssignmentUrl,\\n  automaticAssignment: automaticAssignment\\n}\\n\\nconst areaChairName = domain.content.area_chairs_name?.value\\nif (areaChairName) {\\n  const manualAreaChairAssignmentUrl = `/edges/browse?traverse=${domain.content.area_chairs_assignment_id?.value}&edit=${domain.content.area_chairs_assignment_id?.value};${domain.content.area_chairs_custom_max_papers_id?.value},tail:ignore&browse=${domain.content.area_chairs_affinity_score_id?.value};${domain.content.area_chairs_conflict_id?.value}&version=2`\\n  assignmentUrls[areaChairName] = {\\n    manualAssignmentUrl: manualAreaChairAssignmentUrl,\\n    automaticAssignment: automaticAssignment\\n  }\\n}\\n\\nreturn {\\n  component: 'ProgramChairConsole',\\n  version: 1,\\n  properties: {\\n    header: {\\n      title: 'Program Chairs Console',\\n      instructions: `This page provides information and status updates for the ${domain.content.subtitle?.value}. It will be regularly updated as the conference progresses, so please check back frequently.`\\n    },\\n    venueId: domain.id,\\n    areaChairsId: domain.content.area_chairs_id?.value,\\n    seniorAreaChairsId: domain.content.senior_area_chairs_id?.value,\\n    reviewersId: domain.content.reviewers_id?.value,\\n    programChairsId: domain.content.program_chairs_id?.value,\\n    authorsId: domain.content.authors_id?.value,\\n    paperReviewsCompleteThreshold: 3,\\n    bidName: domain.content.bid_name?.value,\\n    recommendationName: domain.content.recommendation_id?.value || 'Recommendation',\\n    metaReviewRecommendationName: domain.content.meta_review_recommendation?.value || 'recommendation',\\n    submissionId: domain.content.submission_id?.value,\\n    submissionVenueId: domain.content.submission_venue_id?.value,\\n    withdrawnVenueId: domain.content.withdrawn_venue_id?.value,\\n    deskRejectedVenueId: domain.content.desk_rejected_venue_id?.value,\\n    officialReviewName: domain.content.review_name?.value,\\n    commentName: domain.content.comment_name?.value || 'Official_Comment',\\n    officialMetaReviewName: domain.content.meta_review_name?.value,\\n    decisionName: domain.content.decision_name?.value,\\n    areaChairName: areaChairName,\\n    reviewerName: domain.content.reviewers_name?.value,\\n    anonReviewerName: domain.content.reviewers_anon_name?.value,\\n    anonAreaChairName: domain.content.area_chairs_anon_name?.value,\\n    secondaryAreaChairName: domain.content.secondary_area_chairs_name?.value,\\n    secondaryAnonAreaChairName: domain.content.secondary_area_chairs_anon_name?.value,     \\n    scoresName: 'Affinity_Score',\\n    shortPhrase: domain.content.subtitle?.value,\\n    enableQuerySearch: true,\\n    reviewRatingName: domain.content.review_rating?.value,\\n    reviewConfidenceName: domain.content.review_confidence?.value,\\n    submissionName: domain.content.submission_name?.value,\\n    paperStatusExportColumns: null,\\n    areaChairStatusExportColumns: null,\\n    requestFormId: domain.content.request_form_id?.value,\\n    assignmentUrls: assignmentUrls,\\n    emailReplyTo: domain.content.contact?.value\\n  }\\n}\\n\",impersonators = None,host = None,domain = 'ICML.cc/2023/Conference',parent = 'ICML.cc/2023/Conference',deanonymizers = None,details = None,anon_members = [])]"
      ]
     },
     "execution_count": 5,
     "metadata": {},
     "output_type": "execute_result"
    }
   ],
   "source": [
    "pc_client_v2.get_groups(prefix='ICML.cc/2023/Conference', member='pc@icml.cc')"
   ]
  },
  {
   "cell_type": "code",
   "execution_count": 9,
   "id": "f8c8b214",
   "metadata": {},
   "outputs": [
    {
     "data": {
      "text/plain": [
       "{'id': 'CLFNPeESuA',\n",
       " 'domain': 'TestVenue.cc',\n",
       " 'invitations': 'TestVenue.cc/Reviewers/-/Submission_Message',\n",
       " 'cdate': 1709749469900,\n",
       " 'tcdate': 1709749469900,\n",
       " 'mdate': 1709749469900,\n",
       " 'tmdate': 1709749469900,\n",
       " 'tauthor': 'openreview.net',\n",
       " 'signatures': ['TestVenue.cc'],\n",
       " 'readers': ['TestVenue.cc'],\n",
       " 'writers': ['TestVenue.cc'],\n",
       " 'replacement': True,\n",
       " 'content': {'noteNumber': {'value': 1}, 'noteId': {'value': 't1EJbmhFrs'}},\n",
       " 'invitation': {'id': 'TestVenue.cc/Submission1/-/Message',\n",
       "  'cdate': 1709748795012,\n",
       "  'signatures': ['TestVenue.cc'],\n",
       "  'readers': ['TestVenue.cc', 'TestVenue.cc/Submission1/Area_Chairs'],\n",
       "  'writers': ['TestVenue.cc'],\n",
       "  'invitees': ['TestVenue.cc', 'TestVenue.cc/Submission1/Area_Chairs'],\n",
       "  'message': {'replyTo': {'param': {'regex': '~.*|([a-z0-9_\\\\-\\\\.]{2,}@[a-z0-9_\\\\-\\\\.]{2,}\\\\.[a-z]{2,},){0,}([a-z0-9_\\\\-\\\\.]{2,}@[a-z0-9_\\\\-\\\\.]{2,}\\\\.[a-z]{2,})',\n",
       "     'optional': True}},\n",
       "   'sendAt': {'param': {'minimum': 0, 'optional': True}},\n",
       "   'subject': {'param': {'minLength': 1}},\n",
       "   'message': {'param': {'minLength': 1}},\n",
       "   'groups': {'param': {'inGroup': 'TestVenue.cc/Submission1/Reviewers'}},\n",
       "   'parentGroup': {'param': {'const': 'TestVenue.cc/Submission1/Reviewers'}},\n",
       "   'ignoreGroups': {'param': {'regex': '~.*|([a-z0-9_\\\\-\\\\.]{2,}@[a-z0-9_\\\\-\\\\.]{2,}\\\\.[a-z]{2,},){0,}([a-z0-9_\\\\-\\\\.]{2,}@[a-z0-9_\\\\-\\\\.]{2,}\\\\.[a-z]{2,})',\n",
       "     'optional': True}}}}}"
      ]
     },
     "execution_count": 9,
     "metadata": {},
     "output_type": "execute_result"
    }
   ],
   "source": [
    "client.post_invitation_edit(\n",
    "    invitations='TestVenue.cc/Reviewers/-/Submission_Message',\n",
    "    signatures=['TestVenue.cc'],\n",
    "    content={\n",
    "        'noteNumber': { 'value': 1},\n",
    "        'noteId': { 'value': 't1EJbmhFrs'}\n",
    "    }\n",
    ")"
   ]
  },
  {
   "cell_type": "code",
   "execution_count": 3,
   "id": "bbc32900",
   "metadata": {},
   "outputs": [],
   "source": [
    "messages = client_v1.get_messages(\n",
    "    to='new_test_user@mail.com',\n",
    "    subject='Comment posted to your request for service: Test 2021 Venue')"
   ]
  },
  {
   "cell_type": "code",
   "execution_count": 4,
   "id": "ac979a0b",
   "metadata": {},
   "outputs": [
    {
     "data": {
      "text/plain": [
       "[{'id': 'umTK8Sgd62',\n",
       "  'delivered': True,\n",
       "  'cdate': 1709578167165,\n",
       "  'content': {'from': 'openreview@local.openreview.net',\n",
       "   'fromname': 'OpenReview',\n",
       "   'to': 'new_test_user@mail.com',\n",
       "   'replyTo': None,\n",
       "   'subject': 'Comment posted to your request for service: Test 2021 Venue',\n",
       "   'text': 'A comment was posted to your service request. \\n\\nComment title: Comment by Support\\n\\nComment: Your venue is deployed.\\n\\nTo view the comment, click here: http://localhost:3030/forum?id=t6NcCPXMjM&noteId=k5x9xL4TkH\\n\\nPlease note that with the exception of urgent issues, requests made on weekends or US holidays can expect to receive a response on the following business day. Thank you for your patience!',\n",
       "   'sendAt': 1709578177},\n",
       "  'tauthor': '~Super_User1',\n",
       "  'status': 'sent',\n",
       "  'logs': [],\n",
       "  'executedOn': 'openreview-api-1'},\n",
       " {'id': 'Bb8EQPuIDl',\n",
       "  'delivered': True,\n",
       "  'cdate': 1709578165006,\n",
       "  'content': {'from': 'openreview@local.openreview.net',\n",
       "   'fromname': 'OpenReview',\n",
       "   'to': 'new_test_user@mail.com',\n",
       "   'replyTo': None,\n",
       "   'subject': 'Comment posted to your request for service: Test 2021 Venue',\n",
       "   'text': 'A comment was posted to your service request. \\n\\nComment title: Comment by NewFirstName User\\n\\nComment: Please deploy ASAP.\\n\\nTo view the comment, click here: http://localhost:3030/forum?id=t6NcCPXMjM&noteId=Af9xfobxjW\\n\\nPlease note that with the exception of urgent issues, requests made on weekends or US holidays can expect to receive a response on the following business day. Thank you for your patience!',\n",
       "   'sendAt': 1709578170},\n",
       "  'tauthor': '~Super_User1',\n",
       "  'status': 'sent',\n",
       "  'logs': [],\n",
       "  'executedOn': 'openreview-api-1'}]"
      ]
     },
     "execution_count": 4,
     "metadata": {},
     "output_type": "execute_result"
    }
   ],
   "source": [
    "messages"
   ]
  },
  {
   "cell_type": "code",
   "execution_count": 13,
   "id": "07f1bad1",
   "metadata": {},
   "outputs": [],
   "source": [
    "def process(client, edge, invitation):\n",
    "\n",
    "    journal = openreview.journal.JournalRequest.get_journal(client, \"Y0bXtWPyU8\")\n",
    "    \n",
    "    reviewers_id = journal.get_reviewers_id()\n",
    "    assignment_invitation_id = journal.get_reviewer_assignment_id()\n",
    "    invite_label = 'Invitation Sent'\n",
    "    conflict_policy = 'NeurIPS'\n",
    "    conflict_n_years = 3\n",
    "    print(edge.id)\n",
    "\n",
    "    if edge.ddate is None and edge.label == invite_label:\n",
    "\n",
    "        ## Get the submission\n",
    "        notes=client.get_notes(id=edge.head)\n",
    "        if not notes:\n",
    "            raise openreview.OpenReviewException(f'Note not found: {edge.head}')\n",
    "        submission=notes[0]\n",
    "\n",
    "        ## - Get profile\n",
    "        user = edge.tail\n",
    "        print(f'Get profile for {user}')\n",
    "        user_profile=openreview.tools.get_profiles(client, [user], with_publications=True, with_relations=True)[0]\n",
    "\n",
    "        if user_profile:\n",
    "            if user_profile.id != user:\n",
    "                ## - Check if the user is already invited\n",
    "                edges=client.get_edges(invitation=edge.invitation, head=edge.head, tail=user_profile.id)\n",
    "                if edges:\n",
    "                    raise openreview.OpenReviewException(f'Already invited as {edges[0].tail}')\n",
    "\n",
    "            ## - Check if the user is already assigned\n",
    "            edges=client.get_edges(invitation=assignment_invitation_id, head=edge.head, tail=user_profile.id)\n",
    "            if edges:\n",
    "                raise openreview.OpenReviewException(f'Already assigned as {edges[0].tail}')\n",
    "\n",
    "            ## - Check if the user is an official reviewer\n",
    "            if user_profile.id.startswith('~') and client.get_groups(id=reviewers_id, member=user_profile.id):\n",
    "                raise openreview.OpenReviewException(f'Reviewer {user_profile.get_preferred_name(pretty=True)} is an official reviewer, please use the \"Assign\" button to make the assignment.')\n",
    "\n",
    "        else:\n",
    "            if user.startswith('~'):\n",
    "                raise openreview.OpenReviewException(f'Profile not found {user}')\n",
    "            user_profile=openreview.Profile(id=user,\n",
    "                content={\n",
    "                    'names': [],\n",
    "                    'emails': [user],\n",
    "                    'preferredEmail': user\n",
    "                })\n",
    "\n",
    "\n",
    "        print(f'Check conflicts for {user_profile.id}')\n",
    "        ## - Check conflicts\n",
    "        authorids = submission.content['authorids']['value']\n",
    "        author_profiles = openreview.tools.get_profiles(client, authorids, with_publications=True, with_relations=True)\n",
    "        conflicts=openreview.tools.get_conflicts(author_profiles, user_profile, policy=conflict_policy, n_years=conflict_n_years)\n",
    "        if conflicts:\n",
    "            print('Conflicts detected', conflicts)\n",
    "            raise openreview.OpenReviewException(f'Conflict detected for {user_profile.get_preferred_name(pretty=True)}')\n",
    "\n",
    "    return edge"
   ]
  },
  {
   "cell_type": "code",
   "execution_count": 16,
   "id": "2bfd225d",
   "metadata": {},
   "outputs": [
    {
     "ename": "OpenReviewException",
     "evalue": "{'name': 'ValidationError', 'message': 'tail \"javier@mailtwo.com\" is member of TMLR/Reviewers', 'status': 400, 'details': {'path': 'tail', 'member': 'javier@mailtwo.com', 'groupId': 'TMLR/Reviewers', 'invalidValue': 'javier@mailtwo.com', 'reqId': '2024-03-01-10179'}}",
     "output_type": "error",
     "traceback": [
      "\u001b[0;31m---------------------------------------------------------------------------\u001b[0m",
      "\u001b[0;31mHTTPError\u001b[0m                                 Traceback (most recent call last)",
      "File \u001b[0;32m~/openreview/openreview-py/openreview/api/client.py:137\u001b[0m, in \u001b[0;36mOpenReviewClient.__handle_response\u001b[0;34m(self, response)\u001b[0m\n\u001b[1;32m    136\u001b[0m \u001b[39mtry\u001b[39;00m:\n\u001b[0;32m--> 137\u001b[0m     response\u001b[39m.\u001b[39;49mraise_for_status()\n\u001b[1;32m    138\u001b[0m     \u001b[39mreturn\u001b[39;00m response\n",
      "File \u001b[0;32m~/openreview/py-3.8/lib/python3.8/site-packages/requests/models.py:960\u001b[0m, in \u001b[0;36mResponse.raise_for_status\u001b[0;34m(self)\u001b[0m\n\u001b[1;32m    959\u001b[0m \u001b[39mif\u001b[39;00m http_error_msg:\n\u001b[0;32m--> 960\u001b[0m     \u001b[39mraise\u001b[39;00m HTTPError(http_error_msg, response\u001b[39m=\u001b[39m\u001b[39mself\u001b[39m)\n",
      "\u001b[0;31mHTTPError\u001b[0m: 400 Client Error: Bad Request for url: http://localhost:3001/edges",
      "\nDuring handling of the above exception, another exception occurred:\n",
      "\u001b[0;31mOpenReviewException\u001b[0m                       Traceback (most recent call last)",
      "\u001b[1;32m/Users/melisabok/Venue Local.ipynb Cell 4\u001b[0m in \u001b[0;36m<cell line: 1>\u001b[0;34m()\u001b[0m\n\u001b[0;32m----> <a href='vscode-notebook-cell:/Users/melisabok/Venue%20Local.ipynb#Y153sZmlsZQ%3D%3D?line=0'>1</a>\u001b[0m paper_assignment_edge \u001b[39m=\u001b[39m client\u001b[39m.\u001b[39;49mpost_edge(openreview\u001b[39m.\u001b[39;49mapi\u001b[39m.\u001b[39;49mEdge(invitation\u001b[39m=\u001b[39;49m\u001b[39m'\u001b[39;49m\u001b[39mTMLR/Reviewers/-/Invite_Assignment\u001b[39;49m\u001b[39m'\u001b[39;49m,\n\u001b[1;32m      <a href='vscode-notebook-cell:/Users/melisabok/Venue%20Local.ipynb#Y153sZmlsZQ%3D%3D?line=1'>2</a>\u001b[0m     signatures\u001b[39m=\u001b[39;49m[\u001b[39m'\u001b[39;49m\u001b[39mTMLR/Paper14/Action_Editor_T1GQ\u001b[39;49m\u001b[39m'\u001b[39;49m],\n\u001b[1;32m      <a href='vscode-notebook-cell:/Users/melisabok/Venue%20Local.ipynb#Y153sZmlsZQ%3D%3D?line=2'>3</a>\u001b[0m     head\u001b[39m=\u001b[39;49m\u001b[39m'\u001b[39;49m\u001b[39mrbRQPdqBRt\u001b[39;49m\u001b[39m'\u001b[39;49m,\n\u001b[1;32m      <a href='vscode-notebook-cell:/Users/melisabok/Venue%20Local.ipynb#Y153sZmlsZQ%3D%3D?line=3'>4</a>\u001b[0m     tail\u001b[39m=\u001b[39;49m\u001b[39m'\u001b[39;49m\u001b[39mjavier@mailtwo.com\u001b[39;49m\u001b[39m'\u001b[39;49m,\n\u001b[1;32m      <a href='vscode-notebook-cell:/Users/melisabok/Venue%20Local.ipynb#Y153sZmlsZQ%3D%3D?line=4'>5</a>\u001b[0m     weight\u001b[39m=\u001b[39;49m\u001b[39m1\u001b[39;49m,\n\u001b[1;32m      <a href='vscode-notebook-cell:/Users/melisabok/Venue%20Local.ipynb#Y153sZmlsZQ%3D%3D?line=5'>6</a>\u001b[0m     label\u001b[39m=\u001b[39;49m\u001b[39m'\u001b[39;49m\u001b[39mInvitation Sent\u001b[39;49m\u001b[39m'\u001b[39;49m\n\u001b[1;32m      <a href='vscode-notebook-cell:/Users/melisabok/Venue%20Local.ipynb#Y153sZmlsZQ%3D%3D?line=6'>7</a>\u001b[0m ))\n",
      "File \u001b[0;32m~/openreview/openreview-py/openreview/api/client.py:1485\u001b[0m, in \u001b[0;36mOpenReviewClient.post_edge\u001b[0;34m(self, edge)\u001b[0m\n\u001b[1;32m   1481\u001b[0m \u001b[39m\"\"\"\u001b[39;00m\n\u001b[1;32m   1482\u001b[0m \u001b[39mPosts the edge. Upon success, returns the posted Edge object.\u001b[39;00m\n\u001b[1;32m   1483\u001b[0m \u001b[39m\"\"\"\u001b[39;00m\n\u001b[1;32m   1484\u001b[0m response \u001b[39m=\u001b[39m \u001b[39mself\u001b[39m\u001b[39m.\u001b[39msession\u001b[39m.\u001b[39mpost(\u001b[39mself\u001b[39m\u001b[39m.\u001b[39medges_url, json \u001b[39m=\u001b[39m edge\u001b[39m.\u001b[39mto_json(), headers \u001b[39m=\u001b[39m \u001b[39mself\u001b[39m\u001b[39m.\u001b[39mheaders)\n\u001b[0;32m-> 1485\u001b[0m response \u001b[39m=\u001b[39m \u001b[39mself\u001b[39;49m\u001b[39m.\u001b[39;49m__handle_response(response)\n\u001b[1;32m   1487\u001b[0m \u001b[39mreturn\u001b[39;00m Edge\u001b[39m.\u001b[39mfrom_json(response\u001b[39m.\u001b[39mjson())\n",
      "File \u001b[0;32m~/openreview/openreview-py/openreview/api/client.py:152\u001b[0m, in \u001b[0;36mOpenReviewClient.__handle_response\u001b[0;34m(self, response)\u001b[0m\n\u001b[1;32m    147\u001b[0m \u001b[39melse\u001b[39;00m:\n\u001b[1;32m    148\u001b[0m     error \u001b[39m=\u001b[39m {\n\u001b[1;32m    149\u001b[0m         \u001b[39m'\u001b[39m\u001b[39mname\u001b[39m\u001b[39m'\u001b[39m: \u001b[39m'\u001b[39m\u001b[39mError\u001b[39m\u001b[39m'\u001b[39m,\n\u001b[1;32m    150\u001b[0m         \u001b[39m'\u001b[39m\u001b[39mmessage\u001b[39m\u001b[39m'\u001b[39m: response\u001b[39m.\u001b[39mreason\n\u001b[1;32m    151\u001b[0m     }\n\u001b[0;32m--> 152\u001b[0m \u001b[39mraise\u001b[39;00m OpenReviewException(error)\n",
      "\u001b[0;31mOpenReviewException\u001b[0m: {'name': 'ValidationError', 'message': 'tail \"javier@mailtwo.com\" is member of TMLR/Reviewers', 'status': 400, 'details': {'path': 'tail', 'member': 'javier@mailtwo.com', 'groupId': 'TMLR/Reviewers', 'invalidValue': 'javier@mailtwo.com', 'reqId': '2024-03-01-10179'}}"
     ]
    }
   ],
   "source": [
    "paper_assignment_edge = client.post_edge(openreview.api.Edge(invitation='TMLR/Reviewers/-/Invite_Assignment',\n",
    "    signatures=['TMLR/Paper14/Action_Editor_T1GQ'],\n",
    "    head='rbRQPdqBRt',\n",
    "    tail='javier@mailtwo.com',\n",
    "    weight=1,\n",
    "    label='Invitation Sent'\n",
    "))"
   ]
  },
  {
   "cell_type": "code",
   "execution_count": 10,
   "id": "1a23a61a",
   "metadata": {},
   "outputs": [],
   "source": [
    "now = datetime.datetime.now()"
   ]
  },
  {
   "cell_type": "code",
   "execution_count": null,
   "id": "7e9773f8",
   "metadata": {},
   "outputs": [],
   "source": []
  },
  {
   "cell_type": "code",
   "execution_count": 6,
   "id": "cf5bb5be",
   "metadata": {},
   "outputs": [
    {
     "data": {
      "text/plain": [
       "{'id': '3nXUIsNS8n',\n",
       " 'domain': 'ICML.cc/2023/Conference',\n",
       " 'invitations': 'ICML.cc/2023/Conference/-/Edit',\n",
       " 'cdate': 1709136317692,\n",
       " 'tcdate': 1709136317692,\n",
       " 'mdate': 1709136317692,\n",
       " 'tmdate': 1709136317692,\n",
       " 'tauthor': 'openreview.net',\n",
       " 'signatures': ['ICML.cc/2023/Conference'],\n",
       " 'invitation': {'id': 'ICML.cc/2023/Conference/Submission2/-/Message',\n",
       "  'signatures': ['ICML.cc/2023/Conference'],\n",
       "  'readers': ['ICML.cc/2023/Conference',\n",
       "   'ICML.cc/2023/Conference/Submission2/Senior_Area_Chairs',\n",
       "   'ICML.cc/2023/Conference/Submission2/Area_Chairs'],\n",
       "  'writers': ['ICML.cc/2023/Conference'],\n",
       "  'invitees': ['ICML.cc/2023/Conference',\n",
       "   'ICML.cc/2023/Conference/Submission2/Senior_Area_Chairs',\n",
       "   'ICML.cc/2023/Conference/Submission2/Area_Chairs'],\n",
       "  'message': {'replyTo': {'param': {'regex': '~.*|([a-z0-9_\\\\-\\\\.]{2,}@[a-z0-9_\\\\-\\\\.]{2,}\\\\.[a-z]{2,},){0,}([a-z0-9_\\\\-\\\\.]{2,}@[a-z0-9_\\\\-\\\\.]{2,}\\\\.[a-z]{2,})',\n",
       "     'optional': True}},\n",
       "   'sendAt': {'param': {'minimum': 0, 'optional': True}},\n",
       "   'subject': {'param': {'minLength': 1}},\n",
       "   'message': {'param': {'minLength': 1}},\n",
       "   'groups': {'param': {'inGroup': 'ICML.cc/2023/Conference/Submission2/Reviewers'}}}}}"
      ]
     },
     "execution_count": 6,
     "metadata": {},
     "output_type": "execute_result"
    }
   ],
   "source": [
    "client.post_invitation_edit(\n",
    "    invitations='ICML.cc/2023/Conference/-/Edit',\n",
    "    signatures=['ICML.cc/2023/Conference'],\n",
    "    invitation=openreview.api.Invitation(\n",
    "        id='ICML.cc/2023/Conference/Submission2/-/Message',\n",
    "        readers=['ICML.cc/2023/Conference', 'ICML.cc/2023/Conference/Submission2/Senior_Area_Chairs', 'ICML.cc/2023/Conference/Submission2/Area_Chairs'],\n",
    "        invitees=['ICML.cc/2023/Conference', 'ICML.cc/2023/Conference/Submission2/Senior_Area_Chairs', 'ICML.cc/2023/Conference/Submission2/Area_Chairs'],\n",
    "        writers=['ICML.cc/2023/Conference'],\n",
    "        signatures=['ICML.cc/2023/Conference'],\n",
    "        message = {\n",
    "            'replyTo': { 'param': { 'regex': r'~.*|([a-z0-9_\\-\\.]{2,}@[a-z0-9_\\-\\.]{2,}\\.[a-z]{2,},){0,}([a-z0-9_\\-\\.]{2,}@[a-z0-9_\\-\\.]{2,}\\.[a-z]{2,})', 'optional': True } },\n",
    "            'sendAt': { 'param': { 'minimum': 0, 'optional': True } },\n",
    "            'subject': { 'param': { 'minLength': 1 } },\n",
    "            'message': { 'param': { 'minLength': 1 } },\n",
    "            'groups': { 'param': { 'inGroup': 'ICML.cc/2023/Conference/Submission2/Reviewers' } },\n",
    "            #'parentGroup': 'ICML.cc/2023/Conference/Submission2/Reviewers',\n",
    "            #'ignoreGroups': { 'param': { 'regex': r'~.*|([a-z0-9_\\-\\.]{2,}@[a-z0-9_\\-\\.]{2,}\\.[a-z]{2,},){0,}([a-z0-9_\\-\\.]{2,}@[a-z0-9_\\-\\.]{2,}\\.[a-z]{2,})', 'optional': True } } \n",
    "        }\n",
    "    )\n",
    ")"
   ]
  },
  {
   "cell_type": "code",
   "execution_count": 7,
   "id": "6f0a0373",
   "metadata": {},
   "outputs": [
    {
     "data": {
      "text/plain": [
       "{'id': 'sJ004WsJwd',\n",
       " 'domain': 'ICML.cc/2023/Conference',\n",
       " 'invitations': 'ICML.cc/2023/Conference/-/Edit',\n",
       " 'cdate': 1709153322902,\n",
       " 'tcdate': 1709153322902,\n",
       " 'mdate': 1709153322902,\n",
       " 'tmdate': 1709153322902,\n",
       " 'tauthor': 'openreview.net',\n",
       " 'signatures': ['ICML.cc/2023/Conference'],\n",
       " 'invitation': {'id': 'ICML.cc/2023/Conference/Area_Chairs/-/Message',\n",
       "  'signatures': ['ICML.cc/2023/Conference'],\n",
       "  'readers': ['ICML.cc/2023/Conference',\n",
       "   'ICML.cc/2023/Conference/Senior_Area_Chairs'],\n",
       "  'writers': ['ICML.cc/2023/Conference'],\n",
       "  'invitees': ['ICML.cc/2023/Conference',\n",
       "   'ICML.cc/2023/Conference/Senior_Area_Chairs'],\n",
       "  'message': {'replyTo': {'param': {'regex': '~.*|([a-z0-9_\\\\-\\\\.]{2,}@[a-z0-9_\\\\-\\\\.]{2,}\\\\.[a-z]{2,},){0,}([a-z0-9_\\\\-\\\\.]{2,}@[a-z0-9_\\\\-\\\\.]{2,}\\\\.[a-z]{2,})',\n",
       "     'optional': True}},\n",
       "   'sendAt': {'param': {'minimum': 0, 'optional': True}},\n",
       "   'subject': {'param': {'minLength': 1}},\n",
       "   'message': {'param': {'minLength': 1}},\n",
       "   'groups': {'param': {'inGroup': 'ICML.cc/2023/Conference/Area_Chairs'}}}}}"
      ]
     },
     "execution_count": 7,
     "metadata": {},
     "output_type": "execute_result"
    }
   ],
   "source": [
    "client.post_invitation_edit(\n",
    "    invitations='ICML.cc/2023/Conference/-/Edit',\n",
    "    signatures=['ICML.cc/2023/Conference'],\n",
    "    invitation=openreview.api.Invitation(\n",
    "        id='ICML.cc/2023/Conference/Area_Chairs/-/Message',\n",
    "        readers=['ICML.cc/2023/Conference', 'ICML.cc/2023/Conference/Senior_Area_Chairs'],\n",
    "        invitees=['ICML.cc/2023/Conference', 'ICML.cc/2023/Conference/Senior_Area_Chairs'],\n",
    "        writers=['ICML.cc/2023/Conference'],\n",
    "        signatures=['ICML.cc/2023/Conference'],\n",
    "        message = {\n",
    "            'replyTo': { 'param': { 'regex': r'~.*|([a-z0-9_\\-\\.]{2,}@[a-z0-9_\\-\\.]{2,}\\.[a-z]{2,},){0,}([a-z0-9_\\-\\.]{2,}@[a-z0-9_\\-\\.]{2,}\\.[a-z]{2,})', 'optional': True } },\n",
    "            'sendAt': { 'param': { 'minimum': 0, 'optional': True } },\n",
    "            'subject': { 'param': { 'minLength': 1 } },\n",
    "            'message': { 'param': { 'minLength': 1 } },\n",
    "            'groups': { 'param': { 'inGroup': 'ICML.cc/2023/Conference/Area_Chairs' } },\n",
    "            #'parentGroup': 'ICML.cc/2023/Conference/Submission2/Reviewers',\n",
    "            #'ignoreGroups': { 'param': { 'regex': r'~.*|([a-z0-9_\\-\\.]{2,}@[a-z0-9_\\-\\.]{2,}\\.[a-z]{2,},){0,}([a-z0-9_\\-\\.]{2,}@[a-z0-9_\\-\\.]{2,}\\.[a-z]{2,})', 'optional': True } } \n",
    "        }\n",
    "    )\n",
    ")"
   ]
  },
  {
   "cell_type": "code",
   "execution_count": 9,
   "id": "43f4a35c",
   "metadata": {},
   "outputs": [
    {
     "data": {
      "text/plain": [
       "{'id': 'r78UEWsxj0',\n",
       " 'domain': 'ICML.cc/2023/Conference',\n",
       " 'invitations': 'ICML.cc/2023/Conference/-/Edit',\n",
       " 'cdate': 1709156018671,\n",
       " 'tcdate': 1709156018671,\n",
       " 'mdate': 1709156018671,\n",
       " 'tmdate': 1709156018671,\n",
       " 'tauthor': 'openreview.net',\n",
       " 'signatures': ['ICML.cc/2023/Conference'],\n",
       " 'invitation': {'id': 'ICML.cc/2023/Conference/Reviewers/-/Message',\n",
       "  'signatures': ['ICML.cc/2023/Conference'],\n",
       "  'readers': ['ICML.cc/2023/Conference'],\n",
       "  'writers': ['ICML.cc/2023/Conference'],\n",
       "  'invitees': ['ICML.cc/2023/Conference'],\n",
       "  'message': {'replyTo': {'param': {'regex': '~.*|([a-z0-9_\\\\-\\\\.]{2,}@[a-z0-9_\\\\-\\\\.]{2,}\\\\.[a-z]{2,},){0,}([a-z0-9_\\\\-\\\\.]{2,}@[a-z0-9_\\\\-\\\\.]{2,}\\\\.[a-z]{2,})',\n",
       "     'optional': True}},\n",
       "   'sendAt': {'param': {'minimum': 0, 'optional': True}},\n",
       "   'subject': {'param': {'minLength': 1}},\n",
       "   'message': {'param': {'minLength': 1}},\n",
       "   'groups': {'param': {'inGroup': 'ICML.cc/2023/Conference/Reviewers'}}}}}"
      ]
     },
     "execution_count": 9,
     "metadata": {},
     "output_type": "execute_result"
    }
   ],
   "source": [
    "client.post_invitation_edit(\n",
    "    invitations='ICML.cc/2023/Conference/-/Edit',\n",
    "    signatures=['ICML.cc/2023/Conference'],\n",
    "    invitation=openreview.api.Invitation(\n",
    "        id='ICML.cc/2023/Conference/Reviewers/-/Message',\n",
    "        readers=['ICML.cc/2023/Conference'],\n",
    "        invitees=['ICML.cc/2023/Conference'],\n",
    "        writers=['ICML.cc/2023/Conference'],\n",
    "        signatures=['ICML.cc/2023/Conference'],\n",
    "        message = {\n",
    "            'replyTo': { 'param': { 'regex': r'~.*|([a-z0-9_\\-\\.]{2,}@[a-z0-9_\\-\\.]{2,}\\.[a-z]{2,},){0,}([a-z0-9_\\-\\.]{2,}@[a-z0-9_\\-\\.]{2,}\\.[a-z]{2,})', 'optional': True } },\n",
    "            'sendAt': { 'param': { 'minimum': 0, 'optional': True } },\n",
    "            'subject': { 'param': { 'minLength': 1 } },\n",
    "            'message': { 'param': { 'minLength': 1 } },\n",
    "            'groups': { 'param': { 'inGroup': 'ICML.cc/2023/Conference/Reviewers' } },\n",
    "            #'parentGroup': 'ICML.cc/2023/Conference/Submission2/Reviewers',\n",
    "            #'ignoreGroups': { 'param': { 'regex': r'~.*|([a-z0-9_\\-\\.]{2,}@[a-z0-9_\\-\\.]{2,}\\.[a-z]{2,},){0,}([a-z0-9_\\-\\.]{2,}@[a-z0-9_\\-\\.]{2,}\\.[a-z]{2,})', 'optional': True } } \n",
    "        }\n",
    "    )\n",
    ")"
   ]
  },
  {
   "cell_type": "code",
   "execution_count": 4,
   "id": "4a79391c",
   "metadata": {},
   "outputs": [
    {
     "name": "stdout",
     "output_type": "stream",
     "text": [
      "Retrying request: GET /notes?id=fffff, response: no response, error: <urllib3.connection.HTTPConnection object at 0x106279fd0>: Failed to establish a new connection: [Errno 61] Connection refused\n",
      "Retrying request: GET /notes?id=fffff, response: no response, error: <urllib3.connection.HTTPConnection object at 0x11526f280>: Failed to establish a new connection: [Errno 61] Connection refused\n",
      "Retrying request: GET /notes?id=fffff, response: no response, error: <urllib3.connection.HTTPConnection object at 0x11526f5e0>: Failed to establish a new connection: [Errno 61] Connection refused\n",
      "Retrying request: GET /notes?id=fffff, response: no response, error: <urllib3.connection.HTTPConnection object at 0x11526f820>: Failed to establish a new connection: [Errno 61] Connection refused\n"
     ]
    },
    {
     "ename": "ConnectionError",
     "evalue": "HTTPConnectionPool(host='localhost', port=3001): Max retries exceeded with url: /notes?id=fffff (Caused by NewConnectionError('<urllib3.connection.HTTPConnection object at 0x11526f820>: Failed to establish a new connection: [Errno 61] Connection refused'))",
     "output_type": "error",
     "traceback": [
      "\u001b[0;31m---------------------------------------------------------------------------\u001b[0m",
      "\u001b[0;31mConnectionRefusedError\u001b[0m                    Traceback (most recent call last)",
      "File \u001b[0;32m~/openreview/py-3.8/lib/python3.8/site-packages/urllib3/connection.py:174\u001b[0m, in \u001b[0;36mHTTPConnection._new_conn\u001b[0;34m(self)\u001b[0m\n\u001b[1;32m    173\u001b[0m \u001b[39mtry\u001b[39;00m:\n\u001b[0;32m--> 174\u001b[0m     conn \u001b[39m=\u001b[39m connection\u001b[39m.\u001b[39;49mcreate_connection(\n\u001b[1;32m    175\u001b[0m         (\u001b[39mself\u001b[39;49m\u001b[39m.\u001b[39;49m_dns_host, \u001b[39mself\u001b[39;49m\u001b[39m.\u001b[39;49mport), \u001b[39mself\u001b[39;49m\u001b[39m.\u001b[39;49mtimeout, \u001b[39m*\u001b[39;49m\u001b[39m*\u001b[39;49mextra_kw\n\u001b[1;32m    176\u001b[0m     )\n\u001b[1;32m    178\u001b[0m \u001b[39mexcept\u001b[39;00m SocketTimeout:\n",
      "File \u001b[0;32m~/openreview/py-3.8/lib/python3.8/site-packages/urllib3/util/connection.py:95\u001b[0m, in \u001b[0;36mcreate_connection\u001b[0;34m(address, timeout, source_address, socket_options)\u001b[0m\n\u001b[1;32m     94\u001b[0m \u001b[39mif\u001b[39;00m err \u001b[39mis\u001b[39;00m \u001b[39mnot\u001b[39;00m \u001b[39mNone\u001b[39;00m:\n\u001b[0;32m---> 95\u001b[0m     \u001b[39mraise\u001b[39;00m err\n\u001b[1;32m     97\u001b[0m \u001b[39mraise\u001b[39;00m socket\u001b[39m.\u001b[39merror(\u001b[39m\"\u001b[39m\u001b[39mgetaddrinfo returns an empty list\u001b[39m\u001b[39m\"\u001b[39m)\n",
      "File \u001b[0;32m~/openreview/py-3.8/lib/python3.8/site-packages/urllib3/util/connection.py:85\u001b[0m, in \u001b[0;36mcreate_connection\u001b[0;34m(address, timeout, source_address, socket_options)\u001b[0m\n\u001b[1;32m     84\u001b[0m     sock\u001b[39m.\u001b[39mbind(source_address)\n\u001b[0;32m---> 85\u001b[0m sock\u001b[39m.\u001b[39;49mconnect(sa)\n\u001b[1;32m     86\u001b[0m \u001b[39mreturn\u001b[39;00m sock\n",
      "\u001b[0;31mConnectionRefusedError\u001b[0m: [Errno 61] Connection refused",
      "\nDuring handling of the above exception, another exception occurred:\n",
      "\u001b[0;31mNewConnectionError\u001b[0m                        Traceback (most recent call last)",
      "File \u001b[0;32m~/openreview/py-3.8/lib/python3.8/site-packages/urllib3/connectionpool.py:703\u001b[0m, in \u001b[0;36mHTTPConnectionPool.urlopen\u001b[0;34m(self, method, url, body, headers, retries, redirect, assert_same_host, timeout, pool_timeout, release_conn, chunked, body_pos, **response_kw)\u001b[0m\n\u001b[1;32m    702\u001b[0m \u001b[39m# Make the request on the httplib connection object.\u001b[39;00m\n\u001b[0;32m--> 703\u001b[0m httplib_response \u001b[39m=\u001b[39m \u001b[39mself\u001b[39;49m\u001b[39m.\u001b[39;49m_make_request(\n\u001b[1;32m    704\u001b[0m     conn,\n\u001b[1;32m    705\u001b[0m     method,\n\u001b[1;32m    706\u001b[0m     url,\n\u001b[1;32m    707\u001b[0m     timeout\u001b[39m=\u001b[39;49mtimeout_obj,\n\u001b[1;32m    708\u001b[0m     body\u001b[39m=\u001b[39;49mbody,\n\u001b[1;32m    709\u001b[0m     headers\u001b[39m=\u001b[39;49mheaders,\n\u001b[1;32m    710\u001b[0m     chunked\u001b[39m=\u001b[39;49mchunked,\n\u001b[1;32m    711\u001b[0m )\n\u001b[1;32m    713\u001b[0m \u001b[39m# If we're going to release the connection in ``finally:``, then\u001b[39;00m\n\u001b[1;32m    714\u001b[0m \u001b[39m# the response doesn't need to know about the connection. Otherwise\u001b[39;00m\n\u001b[1;32m    715\u001b[0m \u001b[39m# it will also try to release it and we'll have a double-release\u001b[39;00m\n\u001b[1;32m    716\u001b[0m \u001b[39m# mess.\u001b[39;00m\n",
      "File \u001b[0;32m~/openreview/py-3.8/lib/python3.8/site-packages/urllib3/connectionpool.py:398\u001b[0m, in \u001b[0;36mHTTPConnectionPool._make_request\u001b[0;34m(self, conn, method, url, timeout, chunked, **httplib_request_kw)\u001b[0m\n\u001b[1;32m    397\u001b[0m     \u001b[39melse\u001b[39;00m:\n\u001b[0;32m--> 398\u001b[0m         conn\u001b[39m.\u001b[39;49mrequest(method, url, \u001b[39m*\u001b[39;49m\u001b[39m*\u001b[39;49mhttplib_request_kw)\n\u001b[1;32m    400\u001b[0m \u001b[39m# We are swallowing BrokenPipeError (errno.EPIPE) since the server is\u001b[39;00m\n\u001b[1;32m    401\u001b[0m \u001b[39m# legitimately able to close the connection after sending a valid response.\u001b[39;00m\n\u001b[1;32m    402\u001b[0m \u001b[39m# With this behaviour, the received response is still readable.\u001b[39;00m\n",
      "File \u001b[0;32m~/openreview/py-3.8/lib/python3.8/site-packages/urllib3/connection.py:239\u001b[0m, in \u001b[0;36mHTTPConnection.request\u001b[0;34m(self, method, url, body, headers)\u001b[0m\n\u001b[1;32m    238\u001b[0m     headers[\u001b[39m\"\u001b[39m\u001b[39mUser-Agent\u001b[39m\u001b[39m\"\u001b[39m] \u001b[39m=\u001b[39m _get_default_user_agent()\n\u001b[0;32m--> 239\u001b[0m \u001b[39msuper\u001b[39;49m(HTTPConnection, \u001b[39mself\u001b[39;49m)\u001b[39m.\u001b[39;49mrequest(method, url, body\u001b[39m=\u001b[39;49mbody, headers\u001b[39m=\u001b[39;49mheaders)\n",
      "File \u001b[0;32m/Applications/Xcode.app/Contents/Developer/Library/Frameworks/Python3.framework/Versions/3.8/lib/python3.8/http/client.py:1252\u001b[0m, in \u001b[0;36mHTTPConnection.request\u001b[0;34m(self, method, url, body, headers, encode_chunked)\u001b[0m\n\u001b[1;32m   1251\u001b[0m \u001b[39m\"\"\"Send a complete request to the server.\"\"\"\u001b[39;00m\n\u001b[0;32m-> 1252\u001b[0m \u001b[39mself\u001b[39;49m\u001b[39m.\u001b[39;49m_send_request(method, url, body, headers, encode_chunked)\n",
      "File \u001b[0;32m/Applications/Xcode.app/Contents/Developer/Library/Frameworks/Python3.framework/Versions/3.8/lib/python3.8/http/client.py:1298\u001b[0m, in \u001b[0;36mHTTPConnection._send_request\u001b[0;34m(self, method, url, body, headers, encode_chunked)\u001b[0m\n\u001b[1;32m   1297\u001b[0m     body \u001b[39m=\u001b[39m _encode(body, \u001b[39m'\u001b[39m\u001b[39mbody\u001b[39m\u001b[39m'\u001b[39m)\n\u001b[0;32m-> 1298\u001b[0m \u001b[39mself\u001b[39;49m\u001b[39m.\u001b[39;49mendheaders(body, encode_chunked\u001b[39m=\u001b[39;49mencode_chunked)\n",
      "File \u001b[0;32m/Applications/Xcode.app/Contents/Developer/Library/Frameworks/Python3.framework/Versions/3.8/lib/python3.8/http/client.py:1247\u001b[0m, in \u001b[0;36mHTTPConnection.endheaders\u001b[0;34m(self, message_body, encode_chunked)\u001b[0m\n\u001b[1;32m   1246\u001b[0m     \u001b[39mraise\u001b[39;00m CannotSendHeader()\n\u001b[0;32m-> 1247\u001b[0m \u001b[39mself\u001b[39;49m\u001b[39m.\u001b[39;49m_send_output(message_body, encode_chunked\u001b[39m=\u001b[39;49mencode_chunked)\n",
      "File \u001b[0;32m/Applications/Xcode.app/Contents/Developer/Library/Frameworks/Python3.framework/Versions/3.8/lib/python3.8/http/client.py:1007\u001b[0m, in \u001b[0;36mHTTPConnection._send_output\u001b[0;34m(self, message_body, encode_chunked)\u001b[0m\n\u001b[1;32m   1006\u001b[0m \u001b[39mdel\u001b[39;00m \u001b[39mself\u001b[39m\u001b[39m.\u001b[39m_buffer[:]\n\u001b[0;32m-> 1007\u001b[0m \u001b[39mself\u001b[39;49m\u001b[39m.\u001b[39;49msend(msg)\n\u001b[1;32m   1009\u001b[0m \u001b[39mif\u001b[39;00m message_body \u001b[39mis\u001b[39;00m \u001b[39mnot\u001b[39;00m \u001b[39mNone\u001b[39;00m:\n\u001b[1;32m   1010\u001b[0m \n\u001b[1;32m   1011\u001b[0m     \u001b[39m# create a consistent interface to message_body\u001b[39;00m\n",
      "File \u001b[0;32m/Applications/Xcode.app/Contents/Developer/Library/Frameworks/Python3.framework/Versions/3.8/lib/python3.8/http/client.py:947\u001b[0m, in \u001b[0;36mHTTPConnection.send\u001b[0;34m(self, data)\u001b[0m\n\u001b[1;32m    946\u001b[0m \u001b[39mif\u001b[39;00m \u001b[39mself\u001b[39m\u001b[39m.\u001b[39mauto_open:\n\u001b[0;32m--> 947\u001b[0m     \u001b[39mself\u001b[39;49m\u001b[39m.\u001b[39;49mconnect()\n\u001b[1;32m    948\u001b[0m \u001b[39melse\u001b[39;00m:\n",
      "File \u001b[0;32m~/openreview/py-3.8/lib/python3.8/site-packages/urllib3/connection.py:205\u001b[0m, in \u001b[0;36mHTTPConnection.connect\u001b[0;34m(self)\u001b[0m\n\u001b[1;32m    204\u001b[0m \u001b[39mdef\u001b[39;00m \u001b[39mconnect\u001b[39m(\u001b[39mself\u001b[39m):\n\u001b[0;32m--> 205\u001b[0m     conn \u001b[39m=\u001b[39m \u001b[39mself\u001b[39;49m\u001b[39m.\u001b[39;49m_new_conn()\n\u001b[1;32m    206\u001b[0m     \u001b[39mself\u001b[39m\u001b[39m.\u001b[39m_prepare_conn(conn)\n",
      "File \u001b[0;32m~/openreview/py-3.8/lib/python3.8/site-packages/urllib3/connection.py:186\u001b[0m, in \u001b[0;36mHTTPConnection._new_conn\u001b[0;34m(self)\u001b[0m\n\u001b[1;32m    185\u001b[0m \u001b[39mexcept\u001b[39;00m SocketError \u001b[39mas\u001b[39;00m e:\n\u001b[0;32m--> 186\u001b[0m     \u001b[39mraise\u001b[39;00m NewConnectionError(\n\u001b[1;32m    187\u001b[0m         \u001b[39mself\u001b[39m, \u001b[39m\"\u001b[39m\u001b[39mFailed to establish a new connection: \u001b[39m\u001b[39m%s\u001b[39;00m\u001b[39m\"\u001b[39m \u001b[39m%\u001b[39m e\n\u001b[1;32m    188\u001b[0m     )\n\u001b[1;32m    190\u001b[0m \u001b[39mreturn\u001b[39;00m conn\n",
      "\u001b[0;31mNewConnectionError\u001b[0m: <urllib3.connection.HTTPConnection object at 0x11526f820>: Failed to establish a new connection: [Errno 61] Connection refused",
      "\nDuring handling of the above exception, another exception occurred:\n",
      "\u001b[0;31mMaxRetryError\u001b[0m                             Traceback (most recent call last)",
      "File \u001b[0;32m~/openreview/py-3.8/lib/python3.8/site-packages/requests/adapters.py:440\u001b[0m, in \u001b[0;36mHTTPAdapter.send\u001b[0;34m(self, request, stream, timeout, verify, cert, proxies)\u001b[0m\n\u001b[1;32m    439\u001b[0m \u001b[39mif\u001b[39;00m \u001b[39mnot\u001b[39;00m chunked:\n\u001b[0;32m--> 440\u001b[0m     resp \u001b[39m=\u001b[39m conn\u001b[39m.\u001b[39;49murlopen(\n\u001b[1;32m    441\u001b[0m         method\u001b[39m=\u001b[39;49mrequest\u001b[39m.\u001b[39;49mmethod,\n\u001b[1;32m    442\u001b[0m         url\u001b[39m=\u001b[39;49murl,\n\u001b[1;32m    443\u001b[0m         body\u001b[39m=\u001b[39;49mrequest\u001b[39m.\u001b[39;49mbody,\n\u001b[1;32m    444\u001b[0m         headers\u001b[39m=\u001b[39;49mrequest\u001b[39m.\u001b[39;49mheaders,\n\u001b[1;32m    445\u001b[0m         redirect\u001b[39m=\u001b[39;49m\u001b[39mFalse\u001b[39;49;00m,\n\u001b[1;32m    446\u001b[0m         assert_same_host\u001b[39m=\u001b[39;49m\u001b[39mFalse\u001b[39;49;00m,\n\u001b[1;32m    447\u001b[0m         preload_content\u001b[39m=\u001b[39;49m\u001b[39mFalse\u001b[39;49;00m,\n\u001b[1;32m    448\u001b[0m         decode_content\u001b[39m=\u001b[39;49m\u001b[39mFalse\u001b[39;49;00m,\n\u001b[1;32m    449\u001b[0m         retries\u001b[39m=\u001b[39;49m\u001b[39mself\u001b[39;49m\u001b[39m.\u001b[39;49mmax_retries,\n\u001b[1;32m    450\u001b[0m         timeout\u001b[39m=\u001b[39;49mtimeout\n\u001b[1;32m    451\u001b[0m     )\n\u001b[1;32m    453\u001b[0m \u001b[39m# Send the request.\u001b[39;00m\n\u001b[1;32m    454\u001b[0m \u001b[39melse\u001b[39;00m:\n",
      "File \u001b[0;32m~/openreview/py-3.8/lib/python3.8/site-packages/urllib3/connectionpool.py:813\u001b[0m, in \u001b[0;36mHTTPConnectionPool.urlopen\u001b[0;34m(self, method, url, body, headers, retries, redirect, assert_same_host, timeout, pool_timeout, release_conn, chunked, body_pos, **response_kw)\u001b[0m\n\u001b[1;32m    810\u001b[0m     log\u001b[39m.\u001b[39mwarning(\n\u001b[1;32m    811\u001b[0m         \u001b[39m\"\u001b[39m\u001b[39mRetrying (\u001b[39m\u001b[39m%r\u001b[39;00m\u001b[39m) after connection broken by \u001b[39m\u001b[39m'\u001b[39m\u001b[39m%r\u001b[39;00m\u001b[39m'\u001b[39m\u001b[39m: \u001b[39m\u001b[39m%s\u001b[39;00m\u001b[39m\"\u001b[39m, retries, err, url\n\u001b[1;32m    812\u001b[0m     )\n\u001b[0;32m--> 813\u001b[0m     \u001b[39mreturn\u001b[39;00m \u001b[39mself\u001b[39;49m\u001b[39m.\u001b[39;49murlopen(\n\u001b[1;32m    814\u001b[0m         method,\n\u001b[1;32m    815\u001b[0m         url,\n\u001b[1;32m    816\u001b[0m         body,\n\u001b[1;32m    817\u001b[0m         headers,\n\u001b[1;32m    818\u001b[0m         retries,\n\u001b[1;32m    819\u001b[0m         redirect,\n\u001b[1;32m    820\u001b[0m         assert_same_host,\n\u001b[1;32m    821\u001b[0m         timeout\u001b[39m=\u001b[39;49mtimeout,\n\u001b[1;32m    822\u001b[0m         pool_timeout\u001b[39m=\u001b[39;49mpool_timeout,\n\u001b[1;32m    823\u001b[0m         release_conn\u001b[39m=\u001b[39;49mrelease_conn,\n\u001b[1;32m    824\u001b[0m         chunked\u001b[39m=\u001b[39;49mchunked,\n\u001b[1;32m    825\u001b[0m         body_pos\u001b[39m=\u001b[39;49mbody_pos,\n\u001b[1;32m    826\u001b[0m         \u001b[39m*\u001b[39;49m\u001b[39m*\u001b[39;49mresponse_kw\n\u001b[1;32m    827\u001b[0m     )\n\u001b[1;32m    829\u001b[0m \u001b[39m# Handle redirect?\u001b[39;00m\n",
      "File \u001b[0;32m~/openreview/py-3.8/lib/python3.8/site-packages/urllib3/connectionpool.py:813\u001b[0m, in \u001b[0;36mHTTPConnectionPool.urlopen\u001b[0;34m(self, method, url, body, headers, retries, redirect, assert_same_host, timeout, pool_timeout, release_conn, chunked, body_pos, **response_kw)\u001b[0m\n\u001b[1;32m    810\u001b[0m     log\u001b[39m.\u001b[39mwarning(\n\u001b[1;32m    811\u001b[0m         \u001b[39m\"\u001b[39m\u001b[39mRetrying (\u001b[39m\u001b[39m%r\u001b[39;00m\u001b[39m) after connection broken by \u001b[39m\u001b[39m'\u001b[39m\u001b[39m%r\u001b[39;00m\u001b[39m'\u001b[39m\u001b[39m: \u001b[39m\u001b[39m%s\u001b[39;00m\u001b[39m\"\u001b[39m, retries, err, url\n\u001b[1;32m    812\u001b[0m     )\n\u001b[0;32m--> 813\u001b[0m     \u001b[39mreturn\u001b[39;00m \u001b[39mself\u001b[39;49m\u001b[39m.\u001b[39;49murlopen(\n\u001b[1;32m    814\u001b[0m         method,\n\u001b[1;32m    815\u001b[0m         url,\n\u001b[1;32m    816\u001b[0m         body,\n\u001b[1;32m    817\u001b[0m         headers,\n\u001b[1;32m    818\u001b[0m         retries,\n\u001b[1;32m    819\u001b[0m         redirect,\n\u001b[1;32m    820\u001b[0m         assert_same_host,\n\u001b[1;32m    821\u001b[0m         timeout\u001b[39m=\u001b[39;49mtimeout,\n\u001b[1;32m    822\u001b[0m         pool_timeout\u001b[39m=\u001b[39;49mpool_timeout,\n\u001b[1;32m    823\u001b[0m         release_conn\u001b[39m=\u001b[39;49mrelease_conn,\n\u001b[1;32m    824\u001b[0m         chunked\u001b[39m=\u001b[39;49mchunked,\n\u001b[1;32m    825\u001b[0m         body_pos\u001b[39m=\u001b[39;49mbody_pos,\n\u001b[1;32m    826\u001b[0m         \u001b[39m*\u001b[39;49m\u001b[39m*\u001b[39;49mresponse_kw\n\u001b[1;32m    827\u001b[0m     )\n\u001b[1;32m    829\u001b[0m \u001b[39m# Handle redirect?\u001b[39;00m\n",
      "File \u001b[0;32m~/openreview/py-3.8/lib/python3.8/site-packages/urllib3/connectionpool.py:813\u001b[0m, in \u001b[0;36mHTTPConnectionPool.urlopen\u001b[0;34m(self, method, url, body, headers, retries, redirect, assert_same_host, timeout, pool_timeout, release_conn, chunked, body_pos, **response_kw)\u001b[0m\n\u001b[1;32m    810\u001b[0m     log\u001b[39m.\u001b[39mwarning(\n\u001b[1;32m    811\u001b[0m         \u001b[39m\"\u001b[39m\u001b[39mRetrying (\u001b[39m\u001b[39m%r\u001b[39;00m\u001b[39m) after connection broken by \u001b[39m\u001b[39m'\u001b[39m\u001b[39m%r\u001b[39;00m\u001b[39m'\u001b[39m\u001b[39m: \u001b[39m\u001b[39m%s\u001b[39;00m\u001b[39m\"\u001b[39m, retries, err, url\n\u001b[1;32m    812\u001b[0m     )\n\u001b[0;32m--> 813\u001b[0m     \u001b[39mreturn\u001b[39;00m \u001b[39mself\u001b[39;49m\u001b[39m.\u001b[39;49murlopen(\n\u001b[1;32m    814\u001b[0m         method,\n\u001b[1;32m    815\u001b[0m         url,\n\u001b[1;32m    816\u001b[0m         body,\n\u001b[1;32m    817\u001b[0m         headers,\n\u001b[1;32m    818\u001b[0m         retries,\n\u001b[1;32m    819\u001b[0m         redirect,\n\u001b[1;32m    820\u001b[0m         assert_same_host,\n\u001b[1;32m    821\u001b[0m         timeout\u001b[39m=\u001b[39;49mtimeout,\n\u001b[1;32m    822\u001b[0m         pool_timeout\u001b[39m=\u001b[39;49mpool_timeout,\n\u001b[1;32m    823\u001b[0m         release_conn\u001b[39m=\u001b[39;49mrelease_conn,\n\u001b[1;32m    824\u001b[0m         chunked\u001b[39m=\u001b[39;49mchunked,\n\u001b[1;32m    825\u001b[0m         body_pos\u001b[39m=\u001b[39;49mbody_pos,\n\u001b[1;32m    826\u001b[0m         \u001b[39m*\u001b[39;49m\u001b[39m*\u001b[39;49mresponse_kw\n\u001b[1;32m    827\u001b[0m     )\n\u001b[1;32m    829\u001b[0m \u001b[39m# Handle redirect?\u001b[39;00m\n",
      "File \u001b[0;32m~/openreview/py-3.8/lib/python3.8/site-packages/urllib3/connectionpool.py:785\u001b[0m, in \u001b[0;36mHTTPConnectionPool.urlopen\u001b[0;34m(self, method, url, body, headers, retries, redirect, assert_same_host, timeout, pool_timeout, release_conn, chunked, body_pos, **response_kw)\u001b[0m\n\u001b[1;32m    783\u001b[0m     e \u001b[39m=\u001b[39m ProtocolError(\u001b[39m\"\u001b[39m\u001b[39mConnection aborted.\u001b[39m\u001b[39m\"\u001b[39m, e)\n\u001b[0;32m--> 785\u001b[0m retries \u001b[39m=\u001b[39m retries\u001b[39m.\u001b[39;49mincrement(\n\u001b[1;32m    786\u001b[0m     method, url, error\u001b[39m=\u001b[39;49me, _pool\u001b[39m=\u001b[39;49m\u001b[39mself\u001b[39;49m, _stacktrace\u001b[39m=\u001b[39;49msys\u001b[39m.\u001b[39;49mexc_info()[\u001b[39m2\u001b[39;49m]\n\u001b[1;32m    787\u001b[0m )\n\u001b[1;32m    788\u001b[0m retries\u001b[39m.\u001b[39msleep()\n",
      "File \u001b[0;32m~/openreview/openreview-py/openreview/api/client.py:42\u001b[0m, in \u001b[0;36mLogRetry.increment\u001b[0;34m(self, method, url, response, error, _pool, _stacktrace)\u001b[0m\n\u001b[1;32m     41\u001b[0m \u001b[39m# Call the parent class method to perform the actual retry increment\u001b[39;00m\n\u001b[0;32m---> 42\u001b[0m \u001b[39mreturn\u001b[39;00m \u001b[39msuper\u001b[39;49m()\u001b[39m.\u001b[39;49mincrement(method\u001b[39m=\u001b[39;49mmethod, url\u001b[39m=\u001b[39;49murl, response\u001b[39m=\u001b[39;49mresponse, error\u001b[39m=\u001b[39;49merror, _pool\u001b[39m=\u001b[39;49m_pool, _stacktrace\u001b[39m=\u001b[39;49m_stacktrace)\n",
      "File \u001b[0;32m~/openreview/py-3.8/lib/python3.8/site-packages/urllib3/util/retry.py:592\u001b[0m, in \u001b[0;36mRetry.increment\u001b[0;34m(self, method, url, response, error, _pool, _stacktrace)\u001b[0m\n\u001b[1;32m    591\u001b[0m \u001b[39mif\u001b[39;00m new_retry\u001b[39m.\u001b[39mis_exhausted():\n\u001b[0;32m--> 592\u001b[0m     \u001b[39mraise\u001b[39;00m MaxRetryError(_pool, url, error \u001b[39mor\u001b[39;00m ResponseError(cause))\n\u001b[1;32m    594\u001b[0m log\u001b[39m.\u001b[39mdebug(\u001b[39m\"\u001b[39m\u001b[39mIncremented Retry for (url=\u001b[39m\u001b[39m'\u001b[39m\u001b[39m%s\u001b[39;00m\u001b[39m'\u001b[39m\u001b[39m): \u001b[39m\u001b[39m%r\u001b[39;00m\u001b[39m\"\u001b[39m, url, new_retry)\n",
      "\u001b[0;31mMaxRetryError\u001b[0m: HTTPConnectionPool(host='localhost', port=3001): Max retries exceeded with url: /notes?id=fffff (Caused by NewConnectionError('<urllib3.connection.HTTPConnection object at 0x11526f820>: Failed to establish a new connection: [Errno 61] Connection refused'))",
      "\nDuring handling of the above exception, another exception occurred:\n",
      "\u001b[0;31mConnectionError\u001b[0m                           Traceback (most recent call last)",
      "\u001b[1;32m/Users/melisabok/Venue Local.ipynb Cell 3\u001b[0m in \u001b[0;36m<cell line: 1>\u001b[0;34m()\u001b[0m\n\u001b[0;32m----> <a href='vscode-notebook-cell:/Users/melisabok/Venue%20Local.ipynb#Y143sZmlsZQ%3D%3D?line=0'>1</a>\u001b[0m client\u001b[39m.\u001b[39;49mget_note(\u001b[39m'\u001b[39;49m\u001b[39mfffff\u001b[39;49m\u001b[39m'\u001b[39;49m)\n",
      "File \u001b[0;32m~/openreview/openreview-py/openreview/api/client.py:329\u001b[0m, in \u001b[0;36mOpenReviewClient.get_note\u001b[0;34m(self, id, details)\u001b[0m\n\u001b[1;32m    319\u001b[0m \u001b[39mdef\u001b[39;00m \u001b[39mget_note\u001b[39m(\u001b[39mself\u001b[39m, \u001b[39mid\u001b[39m, details\u001b[39m=\u001b[39m\u001b[39mNone\u001b[39;00m):\n\u001b[1;32m    320\u001b[0m     \u001b[39m\"\"\"\u001b[39;00m\n\u001b[1;32m    321\u001b[0m \u001b[39m    Get a single Note by id if available\u001b[39;00m\n\u001b[1;32m    322\u001b[0m \n\u001b[0;32m   (...)\u001b[0m\n\u001b[1;32m    327\u001b[0m \u001b[39m    :rtype: Note\u001b[39;00m\n\u001b[1;32m    328\u001b[0m \u001b[39m    \"\"\"\u001b[39;00m\n\u001b[0;32m--> 329\u001b[0m     response \u001b[39m=\u001b[39m \u001b[39mself\u001b[39;49m\u001b[39m.\u001b[39;49msession\u001b[39m.\u001b[39;49mget(\u001b[39mself\u001b[39;49m\u001b[39m.\u001b[39;49mnotes_url, params \u001b[39m=\u001b[39;49m {\u001b[39m'\u001b[39;49m\u001b[39mid\u001b[39;49m\u001b[39m'\u001b[39;49m:\u001b[39mid\u001b[39;49m, \u001b[39m'\u001b[39;49m\u001b[39mdetails\u001b[39;49m\u001b[39m'\u001b[39;49m: details}, headers \u001b[39m=\u001b[39;49m \u001b[39mself\u001b[39;49m\u001b[39m.\u001b[39;49mheaders)\n\u001b[1;32m    330\u001b[0m     response \u001b[39m=\u001b[39m \u001b[39mself\u001b[39m\u001b[39m.\u001b[39m__handle_response(response)\n\u001b[1;32m    331\u001b[0m     n \u001b[39m=\u001b[39m response\u001b[39m.\u001b[39mjson()[\u001b[39m'\u001b[39m\u001b[39mnotes\u001b[39m\u001b[39m'\u001b[39m][\u001b[39m0\u001b[39m]\n",
      "File \u001b[0;32m~/openreview/py-3.8/lib/python3.8/site-packages/requests/sessions.py:542\u001b[0m, in \u001b[0;36mSession.get\u001b[0;34m(self, url, **kwargs)\u001b[0m\n\u001b[1;32m    534\u001b[0m \u001b[39mr\u001b[39m\u001b[39m\"\"\"Sends a GET request. Returns :class:`Response` object.\u001b[39;00m\n\u001b[1;32m    535\u001b[0m \n\u001b[1;32m    536\u001b[0m \u001b[39m:param url: URL for the new :class:`Request` object.\u001b[39;00m\n\u001b[1;32m    537\u001b[0m \u001b[39m:param \\*\\*kwargs: Optional arguments that ``request`` takes.\u001b[39;00m\n\u001b[1;32m    538\u001b[0m \u001b[39m:rtype: requests.Response\u001b[39;00m\n\u001b[1;32m    539\u001b[0m \u001b[39m\"\"\"\u001b[39;00m\n\u001b[1;32m    541\u001b[0m kwargs\u001b[39m.\u001b[39msetdefault(\u001b[39m'\u001b[39m\u001b[39mallow_redirects\u001b[39m\u001b[39m'\u001b[39m, \u001b[39mTrue\u001b[39;00m)\n\u001b[0;32m--> 542\u001b[0m \u001b[39mreturn\u001b[39;00m \u001b[39mself\u001b[39;49m\u001b[39m.\u001b[39;49mrequest(\u001b[39m'\u001b[39;49m\u001b[39mGET\u001b[39;49m\u001b[39m'\u001b[39;49m, url, \u001b[39m*\u001b[39;49m\u001b[39m*\u001b[39;49mkwargs)\n",
      "File \u001b[0;32m~/openreview/py-3.8/lib/python3.8/site-packages/requests/sessions.py:529\u001b[0m, in \u001b[0;36mSession.request\u001b[0;34m(self, method, url, params, data, headers, cookies, files, auth, timeout, allow_redirects, proxies, hooks, stream, verify, cert, json)\u001b[0m\n\u001b[1;32m    524\u001b[0m send_kwargs \u001b[39m=\u001b[39m {\n\u001b[1;32m    525\u001b[0m     \u001b[39m'\u001b[39m\u001b[39mtimeout\u001b[39m\u001b[39m'\u001b[39m: timeout,\n\u001b[1;32m    526\u001b[0m     \u001b[39m'\u001b[39m\u001b[39mallow_redirects\u001b[39m\u001b[39m'\u001b[39m: allow_redirects,\n\u001b[1;32m    527\u001b[0m }\n\u001b[1;32m    528\u001b[0m send_kwargs\u001b[39m.\u001b[39mupdate(settings)\n\u001b[0;32m--> 529\u001b[0m resp \u001b[39m=\u001b[39m \u001b[39mself\u001b[39;49m\u001b[39m.\u001b[39;49msend(prep, \u001b[39m*\u001b[39;49m\u001b[39m*\u001b[39;49msend_kwargs)\n\u001b[1;32m    531\u001b[0m \u001b[39mreturn\u001b[39;00m resp\n",
      "File \u001b[0;32m~/openreview/py-3.8/lib/python3.8/site-packages/requests/sessions.py:645\u001b[0m, in \u001b[0;36mSession.send\u001b[0;34m(self, request, **kwargs)\u001b[0m\n\u001b[1;32m    642\u001b[0m start \u001b[39m=\u001b[39m preferred_clock()\n\u001b[1;32m    644\u001b[0m \u001b[39m# Send the request\u001b[39;00m\n\u001b[0;32m--> 645\u001b[0m r \u001b[39m=\u001b[39m adapter\u001b[39m.\u001b[39;49msend(request, \u001b[39m*\u001b[39;49m\u001b[39m*\u001b[39;49mkwargs)\n\u001b[1;32m    647\u001b[0m \u001b[39m# Total elapsed time of the request (approximately)\u001b[39;00m\n\u001b[1;32m    648\u001b[0m elapsed \u001b[39m=\u001b[39m preferred_clock() \u001b[39m-\u001b[39m start\n",
      "File \u001b[0;32m~/openreview/py-3.8/lib/python3.8/site-packages/requests/adapters.py:519\u001b[0m, in \u001b[0;36mHTTPAdapter.send\u001b[0;34m(self, request, stream, timeout, verify, cert, proxies)\u001b[0m\n\u001b[1;32m    515\u001b[0m     \u001b[39mif\u001b[39;00m \u001b[39misinstance\u001b[39m(e\u001b[39m.\u001b[39mreason, _SSLError):\n\u001b[1;32m    516\u001b[0m         \u001b[39m# This branch is for urllib3 v1.22 and later.\u001b[39;00m\n\u001b[1;32m    517\u001b[0m         \u001b[39mraise\u001b[39;00m SSLError(e, request\u001b[39m=\u001b[39mrequest)\n\u001b[0;32m--> 519\u001b[0m     \u001b[39mraise\u001b[39;00m \u001b[39mConnectionError\u001b[39;00m(e, request\u001b[39m=\u001b[39mrequest)\n\u001b[1;32m    521\u001b[0m \u001b[39mexcept\u001b[39;00m ClosedPoolError \u001b[39mas\u001b[39;00m e:\n\u001b[1;32m    522\u001b[0m     \u001b[39mraise\u001b[39;00m \u001b[39mConnectionError\u001b[39;00m(e, request\u001b[39m=\u001b[39mrequest)\n",
      "\u001b[0;31mConnectionError\u001b[0m: HTTPConnectionPool(host='localhost', port=3001): Max retries exceeded with url: /notes?id=fffff (Caused by NewConnectionError('<urllib3.connection.HTTPConnection object at 0x11526f820>: Failed to establish a new connection: [Errno 61] Connection refused'))"
     ]
    }
   ],
   "source": [
    "client.get_note('fffff')"
   ]
  },
  {
   "cell_type": "code",
   "execution_count": null,
   "id": "55e80ce7",
   "metadata": {},
   "outputs": [],
   "source": [
    "venue_id = 'ICML.cc/2023/Conference'\n",
    "impersonators = []\n",
    "\n",
    "meta_invitation = f'{venue_id}/-/Edit'\n",
    "\n",
    "client_v2.post_group_edit(meta_invitation, [venue_id], readers=[venue_id], writers=[venue_id], group=openreview.api.Group(\n",
    "    id=venue_id,\n",
    "    impersonators=impersonators\n",
    "))\n"
   ]
  },
  {
   "cell_type": "code",
   "execution_count": 5,
   "id": "488c2a09",
   "metadata": {},
   "outputs": [
    {
     "name": "stdout",
     "output_type": "stream",
     "text": [
      "Retrying request: GET /notes?id=33333\n",
      "Retrying request: GET /notes?id=33333\n",
      "Retrying request: GET /notes?id=33333\n",
      "Retrying request: GET /notes?id=33333\n"
     ]
    },
    {
     "ename": "ConnectionError",
     "evalue": "HTTPConnectionPool(host='localhost', port=3001): Max retries exceeded with url: /notes?id=33333 (Caused by NewConnectionError('<urllib3.connection.HTTPConnection object at 0x104f861f0>: Failed to establish a new connection: [Errno 61] Connection refused'))",
     "output_type": "error",
     "traceback": [
      "\u001b[0;31m---------------------------------------------------------------------------\u001b[0m",
      "\u001b[0;31mConnectionRefusedError\u001b[0m                    Traceback (most recent call last)",
      "File \u001b[0;32m~/openreview/py-3.8/lib/python3.8/site-packages/urllib3/connection.py:174\u001b[0m, in \u001b[0;36mHTTPConnection._new_conn\u001b[0;34m(self)\u001b[0m\n\u001b[1;32m    173\u001b[0m \u001b[39mtry\u001b[39;00m:\n\u001b[0;32m--> 174\u001b[0m     conn \u001b[39m=\u001b[39m connection\u001b[39m.\u001b[39;49mcreate_connection(\n\u001b[1;32m    175\u001b[0m         (\u001b[39mself\u001b[39;49m\u001b[39m.\u001b[39;49m_dns_host, \u001b[39mself\u001b[39;49m\u001b[39m.\u001b[39;49mport), \u001b[39mself\u001b[39;49m\u001b[39m.\u001b[39;49mtimeout, \u001b[39m*\u001b[39;49m\u001b[39m*\u001b[39;49mextra_kw\n\u001b[1;32m    176\u001b[0m     )\n\u001b[1;32m    178\u001b[0m \u001b[39mexcept\u001b[39;00m SocketTimeout:\n",
      "File \u001b[0;32m~/openreview/py-3.8/lib/python3.8/site-packages/urllib3/util/connection.py:95\u001b[0m, in \u001b[0;36mcreate_connection\u001b[0;34m(address, timeout, source_address, socket_options)\u001b[0m\n\u001b[1;32m     94\u001b[0m \u001b[39mif\u001b[39;00m err \u001b[39mis\u001b[39;00m \u001b[39mnot\u001b[39;00m \u001b[39mNone\u001b[39;00m:\n\u001b[0;32m---> 95\u001b[0m     \u001b[39mraise\u001b[39;00m err\n\u001b[1;32m     97\u001b[0m \u001b[39mraise\u001b[39;00m socket\u001b[39m.\u001b[39merror(\u001b[39m\"\u001b[39m\u001b[39mgetaddrinfo returns an empty list\u001b[39m\u001b[39m\"\u001b[39m)\n",
      "File \u001b[0;32m~/openreview/py-3.8/lib/python3.8/site-packages/urllib3/util/connection.py:85\u001b[0m, in \u001b[0;36mcreate_connection\u001b[0;34m(address, timeout, source_address, socket_options)\u001b[0m\n\u001b[1;32m     84\u001b[0m     sock\u001b[39m.\u001b[39mbind(source_address)\n\u001b[0;32m---> 85\u001b[0m sock\u001b[39m.\u001b[39;49mconnect(sa)\n\u001b[1;32m     86\u001b[0m \u001b[39mreturn\u001b[39;00m sock\n",
      "\u001b[0;31mConnectionRefusedError\u001b[0m: [Errno 61] Connection refused",
      "\nDuring handling of the above exception, another exception occurred:\n",
      "\u001b[0;31mNewConnectionError\u001b[0m                        Traceback (most recent call last)",
      "File \u001b[0;32m~/openreview/py-3.8/lib/python3.8/site-packages/urllib3/connectionpool.py:703\u001b[0m, in \u001b[0;36mHTTPConnectionPool.urlopen\u001b[0;34m(self, method, url, body, headers, retries, redirect, assert_same_host, timeout, pool_timeout, release_conn, chunked, body_pos, **response_kw)\u001b[0m\n\u001b[1;32m    702\u001b[0m \u001b[39m# Make the request on the httplib connection object.\u001b[39;00m\n\u001b[0;32m--> 703\u001b[0m httplib_response \u001b[39m=\u001b[39m \u001b[39mself\u001b[39;49m\u001b[39m.\u001b[39;49m_make_request(\n\u001b[1;32m    704\u001b[0m     conn,\n\u001b[1;32m    705\u001b[0m     method,\n\u001b[1;32m    706\u001b[0m     url,\n\u001b[1;32m    707\u001b[0m     timeout\u001b[39m=\u001b[39;49mtimeout_obj,\n\u001b[1;32m    708\u001b[0m     body\u001b[39m=\u001b[39;49mbody,\n\u001b[1;32m    709\u001b[0m     headers\u001b[39m=\u001b[39;49mheaders,\n\u001b[1;32m    710\u001b[0m     chunked\u001b[39m=\u001b[39;49mchunked,\n\u001b[1;32m    711\u001b[0m )\n\u001b[1;32m    713\u001b[0m \u001b[39m# If we're going to release the connection in ``finally:``, then\u001b[39;00m\n\u001b[1;32m    714\u001b[0m \u001b[39m# the response doesn't need to know about the connection. Otherwise\u001b[39;00m\n\u001b[1;32m    715\u001b[0m \u001b[39m# it will also try to release it and we'll have a double-release\u001b[39;00m\n\u001b[1;32m    716\u001b[0m \u001b[39m# mess.\u001b[39;00m\n",
      "File \u001b[0;32m~/openreview/py-3.8/lib/python3.8/site-packages/urllib3/connectionpool.py:398\u001b[0m, in \u001b[0;36mHTTPConnectionPool._make_request\u001b[0;34m(self, conn, method, url, timeout, chunked, **httplib_request_kw)\u001b[0m\n\u001b[1;32m    397\u001b[0m     \u001b[39melse\u001b[39;00m:\n\u001b[0;32m--> 398\u001b[0m         conn\u001b[39m.\u001b[39;49mrequest(method, url, \u001b[39m*\u001b[39;49m\u001b[39m*\u001b[39;49mhttplib_request_kw)\n\u001b[1;32m    400\u001b[0m \u001b[39m# We are swallowing BrokenPipeError (errno.EPIPE) since the server is\u001b[39;00m\n\u001b[1;32m    401\u001b[0m \u001b[39m# legitimately able to close the connection after sending a valid response.\u001b[39;00m\n\u001b[1;32m    402\u001b[0m \u001b[39m# With this behaviour, the received response is still readable.\u001b[39;00m\n",
      "File \u001b[0;32m~/openreview/py-3.8/lib/python3.8/site-packages/urllib3/connection.py:239\u001b[0m, in \u001b[0;36mHTTPConnection.request\u001b[0;34m(self, method, url, body, headers)\u001b[0m\n\u001b[1;32m    238\u001b[0m     headers[\u001b[39m\"\u001b[39m\u001b[39mUser-Agent\u001b[39m\u001b[39m\"\u001b[39m] \u001b[39m=\u001b[39m _get_default_user_agent()\n\u001b[0;32m--> 239\u001b[0m \u001b[39msuper\u001b[39;49m(HTTPConnection, \u001b[39mself\u001b[39;49m)\u001b[39m.\u001b[39;49mrequest(method, url, body\u001b[39m=\u001b[39;49mbody, headers\u001b[39m=\u001b[39;49mheaders)\n",
      "File \u001b[0;32m/Applications/Xcode.app/Contents/Developer/Library/Frameworks/Python3.framework/Versions/3.8/lib/python3.8/http/client.py:1252\u001b[0m, in \u001b[0;36mHTTPConnection.request\u001b[0;34m(self, method, url, body, headers, encode_chunked)\u001b[0m\n\u001b[1;32m   1251\u001b[0m \u001b[39m\"\"\"Send a complete request to the server.\"\"\"\u001b[39;00m\n\u001b[0;32m-> 1252\u001b[0m \u001b[39mself\u001b[39;49m\u001b[39m.\u001b[39;49m_send_request(method, url, body, headers, encode_chunked)\n",
      "File \u001b[0;32m/Applications/Xcode.app/Contents/Developer/Library/Frameworks/Python3.framework/Versions/3.8/lib/python3.8/http/client.py:1298\u001b[0m, in \u001b[0;36mHTTPConnection._send_request\u001b[0;34m(self, method, url, body, headers, encode_chunked)\u001b[0m\n\u001b[1;32m   1297\u001b[0m     body \u001b[39m=\u001b[39m _encode(body, \u001b[39m'\u001b[39m\u001b[39mbody\u001b[39m\u001b[39m'\u001b[39m)\n\u001b[0;32m-> 1298\u001b[0m \u001b[39mself\u001b[39;49m\u001b[39m.\u001b[39;49mendheaders(body, encode_chunked\u001b[39m=\u001b[39;49mencode_chunked)\n",
      "File \u001b[0;32m/Applications/Xcode.app/Contents/Developer/Library/Frameworks/Python3.framework/Versions/3.8/lib/python3.8/http/client.py:1247\u001b[0m, in \u001b[0;36mHTTPConnection.endheaders\u001b[0;34m(self, message_body, encode_chunked)\u001b[0m\n\u001b[1;32m   1246\u001b[0m     \u001b[39mraise\u001b[39;00m CannotSendHeader()\n\u001b[0;32m-> 1247\u001b[0m \u001b[39mself\u001b[39;49m\u001b[39m.\u001b[39;49m_send_output(message_body, encode_chunked\u001b[39m=\u001b[39;49mencode_chunked)\n",
      "File \u001b[0;32m/Applications/Xcode.app/Contents/Developer/Library/Frameworks/Python3.framework/Versions/3.8/lib/python3.8/http/client.py:1007\u001b[0m, in \u001b[0;36mHTTPConnection._send_output\u001b[0;34m(self, message_body, encode_chunked)\u001b[0m\n\u001b[1;32m   1006\u001b[0m \u001b[39mdel\u001b[39;00m \u001b[39mself\u001b[39m\u001b[39m.\u001b[39m_buffer[:]\n\u001b[0;32m-> 1007\u001b[0m \u001b[39mself\u001b[39;49m\u001b[39m.\u001b[39;49msend(msg)\n\u001b[1;32m   1009\u001b[0m \u001b[39mif\u001b[39;00m message_body \u001b[39mis\u001b[39;00m \u001b[39mnot\u001b[39;00m \u001b[39mNone\u001b[39;00m:\n\u001b[1;32m   1010\u001b[0m \n\u001b[1;32m   1011\u001b[0m     \u001b[39m# create a consistent interface to message_body\u001b[39;00m\n",
      "File \u001b[0;32m/Applications/Xcode.app/Contents/Developer/Library/Frameworks/Python3.framework/Versions/3.8/lib/python3.8/http/client.py:947\u001b[0m, in \u001b[0;36mHTTPConnection.send\u001b[0;34m(self, data)\u001b[0m\n\u001b[1;32m    946\u001b[0m \u001b[39mif\u001b[39;00m \u001b[39mself\u001b[39m\u001b[39m.\u001b[39mauto_open:\n\u001b[0;32m--> 947\u001b[0m     \u001b[39mself\u001b[39;49m\u001b[39m.\u001b[39;49mconnect()\n\u001b[1;32m    948\u001b[0m \u001b[39melse\u001b[39;00m:\n",
      "File \u001b[0;32m~/openreview/py-3.8/lib/python3.8/site-packages/urllib3/connection.py:205\u001b[0m, in \u001b[0;36mHTTPConnection.connect\u001b[0;34m(self)\u001b[0m\n\u001b[1;32m    204\u001b[0m \u001b[39mdef\u001b[39;00m \u001b[39mconnect\u001b[39m(\u001b[39mself\u001b[39m):\n\u001b[0;32m--> 205\u001b[0m     conn \u001b[39m=\u001b[39m \u001b[39mself\u001b[39;49m\u001b[39m.\u001b[39;49m_new_conn()\n\u001b[1;32m    206\u001b[0m     \u001b[39mself\u001b[39m\u001b[39m.\u001b[39m_prepare_conn(conn)\n",
      "File \u001b[0;32m~/openreview/py-3.8/lib/python3.8/site-packages/urllib3/connection.py:186\u001b[0m, in \u001b[0;36mHTTPConnection._new_conn\u001b[0;34m(self)\u001b[0m\n\u001b[1;32m    185\u001b[0m \u001b[39mexcept\u001b[39;00m SocketError \u001b[39mas\u001b[39;00m e:\n\u001b[0;32m--> 186\u001b[0m     \u001b[39mraise\u001b[39;00m NewConnectionError(\n\u001b[1;32m    187\u001b[0m         \u001b[39mself\u001b[39m, \u001b[39m\"\u001b[39m\u001b[39mFailed to establish a new connection: \u001b[39m\u001b[39m%s\u001b[39;00m\u001b[39m\"\u001b[39m \u001b[39m%\u001b[39m e\n\u001b[1;32m    188\u001b[0m     )\n\u001b[1;32m    190\u001b[0m \u001b[39mreturn\u001b[39;00m conn\n",
      "\u001b[0;31mNewConnectionError\u001b[0m: <urllib3.connection.HTTPConnection object at 0x104f861f0>: Failed to establish a new connection: [Errno 61] Connection refused",
      "\nDuring handling of the above exception, another exception occurred:\n",
      "\u001b[0;31mMaxRetryError\u001b[0m                             Traceback (most recent call last)",
      "File \u001b[0;32m~/openreview/py-3.8/lib/python3.8/site-packages/requests/adapters.py:440\u001b[0m, in \u001b[0;36mHTTPAdapter.send\u001b[0;34m(self, request, stream, timeout, verify, cert, proxies)\u001b[0m\n\u001b[1;32m    439\u001b[0m \u001b[39mif\u001b[39;00m \u001b[39mnot\u001b[39;00m chunked:\n\u001b[0;32m--> 440\u001b[0m     resp \u001b[39m=\u001b[39m conn\u001b[39m.\u001b[39;49murlopen(\n\u001b[1;32m    441\u001b[0m         method\u001b[39m=\u001b[39;49mrequest\u001b[39m.\u001b[39;49mmethod,\n\u001b[1;32m    442\u001b[0m         url\u001b[39m=\u001b[39;49murl,\n\u001b[1;32m    443\u001b[0m         body\u001b[39m=\u001b[39;49mrequest\u001b[39m.\u001b[39;49mbody,\n\u001b[1;32m    444\u001b[0m         headers\u001b[39m=\u001b[39;49mrequest\u001b[39m.\u001b[39;49mheaders,\n\u001b[1;32m    445\u001b[0m         redirect\u001b[39m=\u001b[39;49m\u001b[39mFalse\u001b[39;49;00m,\n\u001b[1;32m    446\u001b[0m         assert_same_host\u001b[39m=\u001b[39;49m\u001b[39mFalse\u001b[39;49;00m,\n\u001b[1;32m    447\u001b[0m         preload_content\u001b[39m=\u001b[39;49m\u001b[39mFalse\u001b[39;49;00m,\n\u001b[1;32m    448\u001b[0m         decode_content\u001b[39m=\u001b[39;49m\u001b[39mFalse\u001b[39;49;00m,\n\u001b[1;32m    449\u001b[0m         retries\u001b[39m=\u001b[39;49m\u001b[39mself\u001b[39;49m\u001b[39m.\u001b[39;49mmax_retries,\n\u001b[1;32m    450\u001b[0m         timeout\u001b[39m=\u001b[39;49mtimeout\n\u001b[1;32m    451\u001b[0m     )\n\u001b[1;32m    453\u001b[0m \u001b[39m# Send the request.\u001b[39;00m\n\u001b[1;32m    454\u001b[0m \u001b[39melse\u001b[39;00m:\n",
      "File \u001b[0;32m~/openreview/py-3.8/lib/python3.8/site-packages/urllib3/connectionpool.py:813\u001b[0m, in \u001b[0;36mHTTPConnectionPool.urlopen\u001b[0;34m(self, method, url, body, headers, retries, redirect, assert_same_host, timeout, pool_timeout, release_conn, chunked, body_pos, **response_kw)\u001b[0m\n\u001b[1;32m    810\u001b[0m     log\u001b[39m.\u001b[39mwarning(\n\u001b[1;32m    811\u001b[0m         \u001b[39m\"\u001b[39m\u001b[39mRetrying (\u001b[39m\u001b[39m%r\u001b[39;00m\u001b[39m) after connection broken by \u001b[39m\u001b[39m'\u001b[39m\u001b[39m%r\u001b[39;00m\u001b[39m'\u001b[39m\u001b[39m: \u001b[39m\u001b[39m%s\u001b[39;00m\u001b[39m\"\u001b[39m, retries, err, url\n\u001b[1;32m    812\u001b[0m     )\n\u001b[0;32m--> 813\u001b[0m     \u001b[39mreturn\u001b[39;00m \u001b[39mself\u001b[39;49m\u001b[39m.\u001b[39;49murlopen(\n\u001b[1;32m    814\u001b[0m         method,\n\u001b[1;32m    815\u001b[0m         url,\n\u001b[1;32m    816\u001b[0m         body,\n\u001b[1;32m    817\u001b[0m         headers,\n\u001b[1;32m    818\u001b[0m         retries,\n\u001b[1;32m    819\u001b[0m         redirect,\n\u001b[1;32m    820\u001b[0m         assert_same_host,\n\u001b[1;32m    821\u001b[0m         timeout\u001b[39m=\u001b[39;49mtimeout,\n\u001b[1;32m    822\u001b[0m         pool_timeout\u001b[39m=\u001b[39;49mpool_timeout,\n\u001b[1;32m    823\u001b[0m         release_conn\u001b[39m=\u001b[39;49mrelease_conn,\n\u001b[1;32m    824\u001b[0m         chunked\u001b[39m=\u001b[39;49mchunked,\n\u001b[1;32m    825\u001b[0m         body_pos\u001b[39m=\u001b[39;49mbody_pos,\n\u001b[1;32m    826\u001b[0m         \u001b[39m*\u001b[39;49m\u001b[39m*\u001b[39;49mresponse_kw\n\u001b[1;32m    827\u001b[0m     )\n\u001b[1;32m    829\u001b[0m \u001b[39m# Handle redirect?\u001b[39;00m\n",
      "File \u001b[0;32m~/openreview/py-3.8/lib/python3.8/site-packages/urllib3/connectionpool.py:813\u001b[0m, in \u001b[0;36mHTTPConnectionPool.urlopen\u001b[0;34m(self, method, url, body, headers, retries, redirect, assert_same_host, timeout, pool_timeout, release_conn, chunked, body_pos, **response_kw)\u001b[0m\n\u001b[1;32m    810\u001b[0m     log\u001b[39m.\u001b[39mwarning(\n\u001b[1;32m    811\u001b[0m         \u001b[39m\"\u001b[39m\u001b[39mRetrying (\u001b[39m\u001b[39m%r\u001b[39;00m\u001b[39m) after connection broken by \u001b[39m\u001b[39m'\u001b[39m\u001b[39m%r\u001b[39;00m\u001b[39m'\u001b[39m\u001b[39m: \u001b[39m\u001b[39m%s\u001b[39;00m\u001b[39m\"\u001b[39m, retries, err, url\n\u001b[1;32m    812\u001b[0m     )\n\u001b[0;32m--> 813\u001b[0m     \u001b[39mreturn\u001b[39;00m \u001b[39mself\u001b[39;49m\u001b[39m.\u001b[39;49murlopen(\n\u001b[1;32m    814\u001b[0m         method,\n\u001b[1;32m    815\u001b[0m         url,\n\u001b[1;32m    816\u001b[0m         body,\n\u001b[1;32m    817\u001b[0m         headers,\n\u001b[1;32m    818\u001b[0m         retries,\n\u001b[1;32m    819\u001b[0m         redirect,\n\u001b[1;32m    820\u001b[0m         assert_same_host,\n\u001b[1;32m    821\u001b[0m         timeout\u001b[39m=\u001b[39;49mtimeout,\n\u001b[1;32m    822\u001b[0m         pool_timeout\u001b[39m=\u001b[39;49mpool_timeout,\n\u001b[1;32m    823\u001b[0m         release_conn\u001b[39m=\u001b[39;49mrelease_conn,\n\u001b[1;32m    824\u001b[0m         chunked\u001b[39m=\u001b[39;49mchunked,\n\u001b[1;32m    825\u001b[0m         body_pos\u001b[39m=\u001b[39;49mbody_pos,\n\u001b[1;32m    826\u001b[0m         \u001b[39m*\u001b[39;49m\u001b[39m*\u001b[39;49mresponse_kw\n\u001b[1;32m    827\u001b[0m     )\n\u001b[1;32m    829\u001b[0m \u001b[39m# Handle redirect?\u001b[39;00m\n",
      "File \u001b[0;32m~/openreview/py-3.8/lib/python3.8/site-packages/urllib3/connectionpool.py:813\u001b[0m, in \u001b[0;36mHTTPConnectionPool.urlopen\u001b[0;34m(self, method, url, body, headers, retries, redirect, assert_same_host, timeout, pool_timeout, release_conn, chunked, body_pos, **response_kw)\u001b[0m\n\u001b[1;32m    810\u001b[0m     log\u001b[39m.\u001b[39mwarning(\n\u001b[1;32m    811\u001b[0m         \u001b[39m\"\u001b[39m\u001b[39mRetrying (\u001b[39m\u001b[39m%r\u001b[39;00m\u001b[39m) after connection broken by \u001b[39m\u001b[39m'\u001b[39m\u001b[39m%r\u001b[39;00m\u001b[39m'\u001b[39m\u001b[39m: \u001b[39m\u001b[39m%s\u001b[39;00m\u001b[39m\"\u001b[39m, retries, err, url\n\u001b[1;32m    812\u001b[0m     )\n\u001b[0;32m--> 813\u001b[0m     \u001b[39mreturn\u001b[39;00m \u001b[39mself\u001b[39;49m\u001b[39m.\u001b[39;49murlopen(\n\u001b[1;32m    814\u001b[0m         method,\n\u001b[1;32m    815\u001b[0m         url,\n\u001b[1;32m    816\u001b[0m         body,\n\u001b[1;32m    817\u001b[0m         headers,\n\u001b[1;32m    818\u001b[0m         retries,\n\u001b[1;32m    819\u001b[0m         redirect,\n\u001b[1;32m    820\u001b[0m         assert_same_host,\n\u001b[1;32m    821\u001b[0m         timeout\u001b[39m=\u001b[39;49mtimeout,\n\u001b[1;32m    822\u001b[0m         pool_timeout\u001b[39m=\u001b[39;49mpool_timeout,\n\u001b[1;32m    823\u001b[0m         release_conn\u001b[39m=\u001b[39;49mrelease_conn,\n\u001b[1;32m    824\u001b[0m         chunked\u001b[39m=\u001b[39;49mchunked,\n\u001b[1;32m    825\u001b[0m         body_pos\u001b[39m=\u001b[39;49mbody_pos,\n\u001b[1;32m    826\u001b[0m         \u001b[39m*\u001b[39;49m\u001b[39m*\u001b[39;49mresponse_kw\n\u001b[1;32m    827\u001b[0m     )\n\u001b[1;32m    829\u001b[0m \u001b[39m# Handle redirect?\u001b[39;00m\n",
      "File \u001b[0;32m~/openreview/py-3.8/lib/python3.8/site-packages/urllib3/connectionpool.py:785\u001b[0m, in \u001b[0;36mHTTPConnectionPool.urlopen\u001b[0;34m(self, method, url, body, headers, retries, redirect, assert_same_host, timeout, pool_timeout, release_conn, chunked, body_pos, **response_kw)\u001b[0m\n\u001b[1;32m    783\u001b[0m     e \u001b[39m=\u001b[39m ProtocolError(\u001b[39m\"\u001b[39m\u001b[39mConnection aborted.\u001b[39m\u001b[39m\"\u001b[39m, e)\n\u001b[0;32m--> 785\u001b[0m retries \u001b[39m=\u001b[39m retries\u001b[39m.\u001b[39;49mincrement(\n\u001b[1;32m    786\u001b[0m     method, url, error\u001b[39m=\u001b[39;49me, _pool\u001b[39m=\u001b[39;49m\u001b[39mself\u001b[39;49m, _stacktrace\u001b[39m=\u001b[39;49msys\u001b[39m.\u001b[39;49mexc_info()[\u001b[39m2\u001b[39;49m]\n\u001b[1;32m    787\u001b[0m )\n\u001b[1;32m    788\u001b[0m retries\u001b[39m.\u001b[39msleep()\n",
      "File \u001b[0;32m~/openreview/openreview-py/openreview/api/client.py:37\u001b[0m, in \u001b[0;36mLogRetry.increment\u001b[0;34m(self, method, url, response, error, _pool, _stacktrace)\u001b[0m\n\u001b[1;32m     36\u001b[0m \u001b[39m# Call the parent class method to perform the actual retry increment\u001b[39;00m\n\u001b[0;32m---> 37\u001b[0m \u001b[39mreturn\u001b[39;00m \u001b[39msuper\u001b[39;49m()\u001b[39m.\u001b[39;49mincrement(method\u001b[39m=\u001b[39;49mmethod, url\u001b[39m=\u001b[39;49murl, response\u001b[39m=\u001b[39;49mresponse, error\u001b[39m=\u001b[39;49merror, _pool\u001b[39m=\u001b[39;49m_pool, _stacktrace\u001b[39m=\u001b[39;49m_stacktrace)\n",
      "File \u001b[0;32m~/openreview/py-3.8/lib/python3.8/site-packages/urllib3/util/retry.py:592\u001b[0m, in \u001b[0;36mRetry.increment\u001b[0;34m(self, method, url, response, error, _pool, _stacktrace)\u001b[0m\n\u001b[1;32m    591\u001b[0m \u001b[39mif\u001b[39;00m new_retry\u001b[39m.\u001b[39mis_exhausted():\n\u001b[0;32m--> 592\u001b[0m     \u001b[39mraise\u001b[39;00m MaxRetryError(_pool, url, error \u001b[39mor\u001b[39;00m ResponseError(cause))\n\u001b[1;32m    594\u001b[0m log\u001b[39m.\u001b[39mdebug(\u001b[39m\"\u001b[39m\u001b[39mIncremented Retry for (url=\u001b[39m\u001b[39m'\u001b[39m\u001b[39m%s\u001b[39;00m\u001b[39m'\u001b[39m\u001b[39m): \u001b[39m\u001b[39m%r\u001b[39;00m\u001b[39m\"\u001b[39m, url, new_retry)\n",
      "\u001b[0;31mMaxRetryError\u001b[0m: HTTPConnectionPool(host='localhost', port=3001): Max retries exceeded with url: /notes?id=33333 (Caused by NewConnectionError('<urllib3.connection.HTTPConnection object at 0x104f861f0>: Failed to establish a new connection: [Errno 61] Connection refused'))",
      "\nDuring handling of the above exception, another exception occurred:\n",
      "\u001b[0;31mConnectionError\u001b[0m                           Traceback (most recent call last)",
      "\u001b[1;32m/Users/melisabok/Venue Local.ipynb Cell 3\u001b[0m in \u001b[0;36m<cell line: 1>\u001b[0;34m()\u001b[0m\n\u001b[0;32m----> <a href='vscode-notebook-cell:/Users/melisabok/Venue%20Local.ipynb#Y136sZmlsZQ%3D%3D?line=0'>1</a>\u001b[0m client\u001b[39m.\u001b[39;49mget_note(\u001b[39m'\u001b[39;49m\u001b[39m33333\u001b[39;49m\u001b[39m'\u001b[39;49m)\n",
      "File \u001b[0;32m~/openreview/openreview-py/openreview/api/client.py:327\u001b[0m, in \u001b[0;36mOpenReviewClient.get_note\u001b[0;34m(self, id, details)\u001b[0m\n\u001b[1;32m    317\u001b[0m \u001b[39mdef\u001b[39;00m \u001b[39mget_note\u001b[39m(\u001b[39mself\u001b[39m, \u001b[39mid\u001b[39m, details\u001b[39m=\u001b[39m\u001b[39mNone\u001b[39;00m):\n\u001b[1;32m    318\u001b[0m     \u001b[39m\"\"\"\u001b[39;00m\n\u001b[1;32m    319\u001b[0m \u001b[39m    Get a single Note by id if available\u001b[39;00m\n\u001b[1;32m    320\u001b[0m \n\u001b[0;32m   (...)\u001b[0m\n\u001b[1;32m    325\u001b[0m \u001b[39m    :rtype: Note\u001b[39;00m\n\u001b[1;32m    326\u001b[0m \u001b[39m    \"\"\"\u001b[39;00m\n\u001b[0;32m--> 327\u001b[0m     response \u001b[39m=\u001b[39m \u001b[39mself\u001b[39;49m\u001b[39m.\u001b[39;49msession\u001b[39m.\u001b[39;49mget(\u001b[39mself\u001b[39;49m\u001b[39m.\u001b[39;49mnotes_url, params \u001b[39m=\u001b[39;49m {\u001b[39m'\u001b[39;49m\u001b[39mid\u001b[39;49m\u001b[39m'\u001b[39;49m:\u001b[39mid\u001b[39;49m, \u001b[39m'\u001b[39;49m\u001b[39mdetails\u001b[39;49m\u001b[39m'\u001b[39;49m: details}, headers \u001b[39m=\u001b[39;49m \u001b[39mself\u001b[39;49m\u001b[39m.\u001b[39;49mheaders)\n\u001b[1;32m    328\u001b[0m     response \u001b[39m=\u001b[39m \u001b[39mself\u001b[39m\u001b[39m.\u001b[39m__handle_response(response)\n\u001b[1;32m    329\u001b[0m     n \u001b[39m=\u001b[39m response\u001b[39m.\u001b[39mjson()[\u001b[39m'\u001b[39m\u001b[39mnotes\u001b[39m\u001b[39m'\u001b[39m][\u001b[39m0\u001b[39m]\n",
      "File \u001b[0;32m~/openreview/py-3.8/lib/python3.8/site-packages/requests/sessions.py:542\u001b[0m, in \u001b[0;36mSession.get\u001b[0;34m(self, url, **kwargs)\u001b[0m\n\u001b[1;32m    534\u001b[0m \u001b[39mr\u001b[39m\u001b[39m\"\"\"Sends a GET request. Returns :class:`Response` object.\u001b[39;00m\n\u001b[1;32m    535\u001b[0m \n\u001b[1;32m    536\u001b[0m \u001b[39m:param url: URL for the new :class:`Request` object.\u001b[39;00m\n\u001b[1;32m    537\u001b[0m \u001b[39m:param \\*\\*kwargs: Optional arguments that ``request`` takes.\u001b[39;00m\n\u001b[1;32m    538\u001b[0m \u001b[39m:rtype: requests.Response\u001b[39;00m\n\u001b[1;32m    539\u001b[0m \u001b[39m\"\"\"\u001b[39;00m\n\u001b[1;32m    541\u001b[0m kwargs\u001b[39m.\u001b[39msetdefault(\u001b[39m'\u001b[39m\u001b[39mallow_redirects\u001b[39m\u001b[39m'\u001b[39m, \u001b[39mTrue\u001b[39;00m)\n\u001b[0;32m--> 542\u001b[0m \u001b[39mreturn\u001b[39;00m \u001b[39mself\u001b[39;49m\u001b[39m.\u001b[39;49mrequest(\u001b[39m'\u001b[39;49m\u001b[39mGET\u001b[39;49m\u001b[39m'\u001b[39;49m, url, \u001b[39m*\u001b[39;49m\u001b[39m*\u001b[39;49mkwargs)\n",
      "File \u001b[0;32m~/openreview/py-3.8/lib/python3.8/site-packages/requests/sessions.py:529\u001b[0m, in \u001b[0;36mSession.request\u001b[0;34m(self, method, url, params, data, headers, cookies, files, auth, timeout, allow_redirects, proxies, hooks, stream, verify, cert, json)\u001b[0m\n\u001b[1;32m    524\u001b[0m send_kwargs \u001b[39m=\u001b[39m {\n\u001b[1;32m    525\u001b[0m     \u001b[39m'\u001b[39m\u001b[39mtimeout\u001b[39m\u001b[39m'\u001b[39m: timeout,\n\u001b[1;32m    526\u001b[0m     \u001b[39m'\u001b[39m\u001b[39mallow_redirects\u001b[39m\u001b[39m'\u001b[39m: allow_redirects,\n\u001b[1;32m    527\u001b[0m }\n\u001b[1;32m    528\u001b[0m send_kwargs\u001b[39m.\u001b[39mupdate(settings)\n\u001b[0;32m--> 529\u001b[0m resp \u001b[39m=\u001b[39m \u001b[39mself\u001b[39;49m\u001b[39m.\u001b[39;49msend(prep, \u001b[39m*\u001b[39;49m\u001b[39m*\u001b[39;49msend_kwargs)\n\u001b[1;32m    531\u001b[0m \u001b[39mreturn\u001b[39;00m resp\n",
      "File \u001b[0;32m~/openreview/py-3.8/lib/python3.8/site-packages/requests/sessions.py:645\u001b[0m, in \u001b[0;36mSession.send\u001b[0;34m(self, request, **kwargs)\u001b[0m\n\u001b[1;32m    642\u001b[0m start \u001b[39m=\u001b[39m preferred_clock()\n\u001b[1;32m    644\u001b[0m \u001b[39m# Send the request\u001b[39;00m\n\u001b[0;32m--> 645\u001b[0m r \u001b[39m=\u001b[39m adapter\u001b[39m.\u001b[39;49msend(request, \u001b[39m*\u001b[39;49m\u001b[39m*\u001b[39;49mkwargs)\n\u001b[1;32m    647\u001b[0m \u001b[39m# Total elapsed time of the request (approximately)\u001b[39;00m\n\u001b[1;32m    648\u001b[0m elapsed \u001b[39m=\u001b[39m preferred_clock() \u001b[39m-\u001b[39m start\n",
      "File \u001b[0;32m~/openreview/py-3.8/lib/python3.8/site-packages/requests/adapters.py:519\u001b[0m, in \u001b[0;36mHTTPAdapter.send\u001b[0;34m(self, request, stream, timeout, verify, cert, proxies)\u001b[0m\n\u001b[1;32m    515\u001b[0m     \u001b[39mif\u001b[39;00m \u001b[39misinstance\u001b[39m(e\u001b[39m.\u001b[39mreason, _SSLError):\n\u001b[1;32m    516\u001b[0m         \u001b[39m# This branch is for urllib3 v1.22 and later.\u001b[39;00m\n\u001b[1;32m    517\u001b[0m         \u001b[39mraise\u001b[39;00m SSLError(e, request\u001b[39m=\u001b[39mrequest)\n\u001b[0;32m--> 519\u001b[0m     \u001b[39mraise\u001b[39;00m \u001b[39mConnectionError\u001b[39;00m(e, request\u001b[39m=\u001b[39mrequest)\n\u001b[1;32m    521\u001b[0m \u001b[39mexcept\u001b[39;00m ClosedPoolError \u001b[39mas\u001b[39;00m e:\n\u001b[1;32m    522\u001b[0m     \u001b[39mraise\u001b[39;00m \u001b[39mConnectionError\u001b[39;00m(e, request\u001b[39m=\u001b[39mrequest)\n",
      "\u001b[0;31mConnectionError\u001b[0m: HTTPConnectionPool(host='localhost', port=3001): Max retries exceeded with url: /notes?id=33333 (Caused by NewConnectionError('<urllib3.connection.HTTPConnection object at 0x104f861f0>: Failed to establish a new connection: [Errno 61] Connection refused'))"
     ]
    }
   ],
   "source": [
    "client.get_note('33333')"
   ]
  },
  {
   "cell_type": "code",
   "execution_count": 3,
   "id": "c9db31d7",
   "metadata": {},
   "outputs": [],
   "source": [
    "a = (1, 2, 3)"
   ]
  },
  {
   "cell_type": "code",
   "execution_count": 5,
   "id": "e5481abe",
   "metadata": {},
   "outputs": [
    {
     "data": {
      "text/plain": [
       "3"
      ]
     },
     "execution_count": 5,
     "metadata": {},
     "output_type": "execute_result"
    }
   ],
   "source": [
    "a[-1]"
   ]
  },
  {
   "cell_type": "code",
   "execution_count": 37,
   "id": "64236616",
   "metadata": {},
   "outputs": [
    {
     "name": "stdout",
     "output_type": "stream",
     "text": [
      "RateLimit-Remaining None\n"
     ]
    },
    {
     "data": {
      "text/plain": [
       "{'id': 'lwffkt4Pug',\n",
       " 'domain': 'CARP',\n",
       " 'cdate': 1706035413907,\n",
       " 'tcdate': 1706035413907,\n",
       " 'mdate': 1706035413907,\n",
       " 'tmdate': 1706035413907,\n",
       " 'tauthor': 'openreview.net',\n",
       " 'signatures': ['CARP'],\n",
       " 'invitation': 'CARP/-/Edit',\n",
       " 'note': {'id': 'QYlXZg7JjV',\n",
       "  'content': {'status': {'value': 'Complete'}},\n",
       "  'number': 3}}"
      ]
     },
     "execution_count": 37,
     "metadata": {},
     "output_type": "execute_result"
    }
   ],
   "source": [
    "client.post_note_edit(\n",
    "    invitation='CARP/-/Edit',\n",
    "    signatures=['CARP'],\n",
    "    note= openreview.api.Note(\n",
    "        id='QYlXZg7JjV',\n",
    "        content={\n",
    "            'status': { 'value': 'Complete' }\n",
    "        }\n",
    "    )\n",
    ")"
   ]
  },
  {
   "cell_type": "code",
   "execution_count": 4,
   "id": "5d959257",
   "metadata": {},
   "outputs": [],
   "source": [
    "guest_client = openreview.Client(baseurl='http://localhost:3000')"
   ]
  },
  {
   "cell_type": "code",
   "execution_count": 28,
   "id": "e11f1d0a",
   "metadata": {},
   "outputs": [
    {
     "name": "stdout",
     "output_type": "stream",
     "text": [
      "['ecjydIFU', 'NqEILccc', 'rKQMJeiM', 'pImCMyNb', 'SfPOCHrP', 'ajoaqIps', 'oceVTAtF', 'tSuPHRVJ', 'imdfFmtI', 'kGsEpfxB', 'HKYUCWwu', 'FCrAngdt', 'TxmPizZy', 'asAXuxXj', 'ZnWWldBY', 'BLGdtyMn', 'HrmdrDjp', 'avblUvZg', 'icnYYMeK', 'iAyIFpxQ', 'vyLHqUwh', 'BnVpKrwe', 'ctCVwJgP', 'QhilvCpA', 'tSpTGCTs', 'GdfyDbDa', 'ciaqxXaq', 'KAMixZuh', 'fIiXcYdS', 'vzqEndLa', 'PAmtUZHH', 'mTknuIJr', 'NjodQTdM', 'acmSxCAU', 'GvOycPZG', 'oPhdSVSV', 'oeHfKynT', 'txiNPMRT', 'vkUNeGfV', 'ZMYofvOJ', 'gsJLwPoi', 'XHZaacUA', 'RrWJtSLK', 'ncNFNzpO', 'BARuEqhk', 'iqhPAmKR', 'ELzlNAqw', 'oquOtozk', 'vQfcCibB', 'dGgzwMgm', 'XJnwokrF', 'khaECngH', 'khvcRLOK', 'lwEgmRjY', 'rEFvdXRq', 'kMBuGqow', 'IljaRsaX', 'nbNjjHGg', 'IMhdBNqS', 'PswnNFeT', 'peDwEeGT', 'reDcrBqr', 'jIpVdGnd', 'nxKvQPtA', 'DfEIkeIY', 'CJClxlfe', 'eAFzSiKH', 'SmsoqvSy', 'FSImffKB', 'zpORBzzs', 'GEBOLZya', 'HnLiZLjz', 'tlUTTKdk', 'HKuHTkOY', 'WLnXbwAH', 'oaipUVGH', 'TteFiZmU', 'dIOMmVAf', 'oEYDhhLI', 'PFGCSSKm', 'bvzEGAUK', 'rbxUSEjn', 'OGAFyhPl', 'FxPHlBHg', 'SQgSVFtm', 'ccXOGnKd', 'qPkbiZDR', 'xdpHuazM', 'AZqsFJnD', 'LSRlhobP', 'bgJLgUKs', 'UBwzFuLX', 'cTsWNaLH', 'sqpUZxLX', 'HhYbZWFx', 'MBclYIDf', 'FKtlxaNX', 'zwbSQvIH', 'DkyXPYdv', 'XVrsMgoI']\n"
     ]
    }
   ],
   "source": [
    "import random\n",
    "import string\n",
    "\n",
    "def generate_random_string(length):\n",
    "    letters = string.ascii_letters\n",
    "    return ''.join(random.choice(letters) for _ in range(length))\n",
    "\n",
    "# Example: Create an array of 5 random strings with length 8\n",
    "array_of_strings = [generate_random_string(8) for _ in range(100)]\n",
    "print(array_of_strings)"
   ]
  },
  {
   "cell_type": "code",
   "execution_count": 29,
   "id": "72f5db29",
   "metadata": {},
   "outputs": [
    {
     "data": {
      "text/plain": [
       "100"
      ]
     },
     "execution_count": 29,
     "metadata": {},
     "output_type": "execute_result"
    }
   ],
   "source": [
    "len(array_of_strings)"
   ]
  },
  {
   "cell_type": "code",
   "execution_count": 32,
   "id": "adc6d8c6",
   "metadata": {},
   "outputs": [
    {
     "name": "stderr",
     "output_type": "stream",
     "text": [
      "Gathering Responses: 100%|██████████| 100/100 [00:00<00:00, 568.60it/s]"
     ]
    },
    {
     "name": "stdout",
     "output_type": "stream",
     "text": [
      "RateLimit-Remaining 59\n",
      "99 rKQMJeiM NotFoundError\n",
      "RateLimit-Remaining 57\n",
      "99 pImCMyNb NotFoundError\n",
      "RateLimit-Remaining 52\n",
      "99 tSuPHRVJ NotFoundError\n",
      "RateLimit-Remaining 55\n",
      "99 SfPOCHrP NotFoundError\n",
      "RateLimit-Remaining 56\n",
      "99 ecjydIFU NotFoundError\n",
      "RateLimit-Remaining 54\n",
      "99 NqEILccc NotFoundError\n",
      "RateLimit-Remaining 58\n",
      "99 ajoaqIps NotFoundError\n",
      "RateLimit-Remaining 53\n",
      "99 oceVTAtF NotFoundError\n",
      "RateLimit-Remaining 51\n",
      "99 imdfFmtI NotFoundError\n",
      "RateLimit-Remaining 47\n",
      "99 TxmPizZy NotFoundError\n",
      "RateLimit-Remaining 50\n",
      "99 kGsEpfxB NotFoundError\n",
      "RateLimit-Remaining 48\n",
      "99 FCrAngdt NotFoundError\n",
      "RateLimit-Remaining 46\n",
      "99 asAXuxXj NotFoundError\n",
      "RateLimit-Remaining 45\n",
      "99 ZnWWldBY NotFoundError\n",
      "RateLimit-Remaining 49\n",
      "99 HKYUCWwu NotFoundError\n",
      "RateLimit-Remaining 40\n",
      "99 iAyIFpxQ NotFoundError\n",
      "RateLimit-Remaining 44\n",
      "99 HrmdrDjp NotFoundError\n",
      "RateLimit-Remaining 42\n",
      "99 BLGdtyMn NotFoundError\n",
      "RateLimit-Remaining 43\n",
      "99 avblUvZg NotFoundError\n",
      "RateLimit-Remaining 39\n",
      "99 vyLHqUwh NotFoundError\n",
      "RateLimit-Remaining 41\n",
      "99 icnYYMeK NotFoundError\n",
      "RateLimit-Remaining 37\n",
      "99 BnVpKrwe NotFoundError\n",
      "RateLimit-Remaining 38\n",
      "99 ctCVwJgP NotFoundError\n",
      "RateLimit-Remaining 36\n",
      "99 QhilvCpA NotFoundError\n",
      "RateLimit-Remaining 35\n",
      "99 tSpTGCTs NotFoundError\n",
      "RateLimit-Remaining 34\n",
      "99 GdfyDbDa NotFoundError\n",
      "RateLimit-Remaining 31\n",
      "99 KAMixZuh NotFoundError\n",
      "RateLimit-Remaining 33\n",
      "99 fIiXcYdS NotFoundError\n",
      "RateLimit-Remaining 32\n",
      "99 ciaqxXaq NotFoundError\n",
      "RateLimit-Remaining 30\n",
      "99 vzqEndLa NotFoundError\n",
      "RateLimit-Remaining 29\n",
      "99 PAmtUZHH NotFoundError\n",
      "RateLimit-Remaining 28\n",
      "99 mTknuIJr NotFoundError\n",
      "RateLimit-Remaining 27\n",
      "99 NjodQTdM NotFoundError\n",
      "RateLimit-Remaining 25\n",
      "99 GvOycPZG NotFoundError\n",
      "RateLimit-Remaining 23\n",
      "99 oeHfKynT NotFoundError\n",
      "RateLimit-Remaining 24\n",
      "99 oPhdSVSV NotFoundError\n",
      "RateLimit-Remaining 26\n",
      "99 acmSxCAU NotFoundError\n",
      "RateLimit-Remaining 21\n",
      "99 ZMYofvOJ NotFoundError\n",
      "RateLimit-Remaining 22\n",
      "99 txiNPMRT NotFoundError\n",
      "RateLimit-Remaining 20\n",
      "99 vkUNeGfV NotFoundError\n",
      "RateLimit-Remaining 19\n",
      "99 gsJLwPoi NotFoundError\n",
      "RateLimit-Remaining 18\n",
      "99 XHZaacUA NotFoundError\n",
      "RateLimit-Remaining 17\n",
      "99 RrWJtSLK NotFoundError\n",
      "RateLimit-Remaining 16\n",
      "99 ncNFNzpO NotFoundError\n",
      "RateLimit-Remaining 14\n",
      "99 oquOtozk NotFoundError\n",
      "RateLimit-Remaining 15\n",
      "99 BARuEqhk NotFoundError\n",
      "RateLimit-Remaining 13\n",
      "99 vQfcCibB NotFoundError\n",
      "RateLimit-Remaining 11\n",
      "99 iqhPAmKR NotFoundError\n",
      "RateLimit-Remaining 12\n",
      "99 dGgzwMgm NotFoundError\n",
      "RateLimit-Remaining 10\n",
      "99 ELzlNAqw NotFoundError\n",
      "RateLimit-Remaining 9\n",
      "99 khaECngH NotFoundError\n",
      "RateLimit-Remaining 8\n",
      "99 XJnwokrF NotFoundError\n",
      "RateLimit-Remaining 7\n",
      "99 khvcRLOK NotFoundError\n",
      "RateLimit-Remaining 4\n",
      "99 IljaRsaX NotFoundError\n",
      "RateLimit-Remaining 2\n",
      "99 nbNjjHGg NotFoundError\n",
      "RateLimit-Remaining 5\n",
      "99 kMBuGqow NotFoundError\n",
      "RateLimit-Remaining 6\n",
      "99 lwEgmRjY NotFoundError\n",
      "RateLimit-Remaining 3\n",
      "99 rEFvdXRq NotFoundError\n",
      "RateLimit-Remaining 1\n",
      "99 IMhdBNqS NotFoundError\n",
      "RateLimit-Remaining 0\n",
      "99 reDcrBqr RateLimitError\n",
      "RateLimit-Remaining 0\n",
      "99 peDwEeGT RateLimitError\n",
      "RateLimit-Remaining 0\n",
      "99 PswnNFeT NotFoundError\n",
      "RateLimit-Remaining 0\n",
      "99 DfEIkeIY RateLimitError\n",
      "RateLimit-Remaining 0\n",
      "99 nxKvQPtA RateLimitError\n",
      "RateLimit-Remaining 0\n",
      "99 jIpVdGnd RateLimitError\n",
      "RateLimit-Remaining 0\n",
      "99 eAFzSiKH RateLimitError\n",
      "RateLimit-Remaining 0\n",
      "99 SmsoqvSy RateLimitError\n",
      "RateLimit-Remaining 0\n",
      "99 CJClxlfe RateLimitError\n",
      "RateLimit-Remaining 0\n",
      "99 FSImffKB RateLimitError\n",
      "RateLimit-Remaining 0\n",
      "99 zpORBzzs RateLimitError\n",
      "RateLimit-Remaining 0\n",
      "99 GEBOLZya RateLimitError\n",
      "RateLimit-Remaining 0\n",
      "99 HnLiZLjz RateLimitError\n",
      "RateLimit-Remaining 0\n",
      "99 tlUTTKdk RateLimitError\n",
      "RateLimit-Remaining 0\n",
      "99 HKuHTkOY RateLimitError\n",
      "RateLimit-Remaining 0\n",
      "99 WLnXbwAH RateLimitError\n",
      "RateLimit-Remaining 0\n",
      "99 TteFiZmU RateLimitError\n",
      "RateLimit-Remaining 0\n",
      "99 oaipUVGH RateLimitError\n",
      "RateLimit-Remaining 0\n",
      "99 oEYDhhLI RateLimitError\n",
      "RateLimit-Remaining 0\n",
      "99 dIOMmVAf RateLimitError\n",
      "RateLimit-Remaining 0\n",
      "99 bvzEGAUK RateLimitError\n",
      "RateLimit-Remaining 0\n",
      "99 PFGCSSKm RateLimitError\n",
      "RateLimit-Remaining 0\n",
      "99 rbxUSEjn RateLimitError\n",
      "RateLimit-Remaining 0\n",
      "99 OGAFyhPl RateLimitError\n",
      "RateLimit-Remaining 0\n",
      "99 FxPHlBHg RateLimitError\n",
      "RateLimit-Remaining 0\n",
      "99 SQgSVFtm RateLimitError\n",
      "RateLimit-Remaining 0\n",
      "99 xdpHuazM RateLimitError\n",
      "RateLimit-Remaining 0\n",
      "99 qPkbiZDR RateLimitError\n",
      "RateLimit-Remaining 0\n",
      "99 ccXOGnKd RateLimitError\n",
      "RateLimit-Remaining 0\n",
      "99 AZqsFJnD RateLimitError\n",
      "RateLimit-Remaining 0\n",
      "99 LSRlhobP RateLimitError\n",
      "RateLimit-Remaining 0\n",
      "99 bgJLgUKs RateLimitError\n",
      "RateLimit-Remaining 0\n",
      "99 sqpUZxLX RateLimitError\n",
      "RateLimit-Remaining 0\n",
      "99 HhYbZWFx RateLimitError\n",
      "RateLimit-Remaining 0\n",
      "99 cTsWNaLH RateLimitError\n",
      "RateLimit-Remaining 0\n",
      "99 UBwzFuLX RateLimitError\n",
      "RateLimit-Remaining 0\n",
      "99 MBclYIDf RateLimitError\n",
      "RateLimit-Remaining 0\n",
      "99 zwbSQvIH RateLimitError\n",
      "RateLimit-Remaining 0\n",
      "99 FKtlxaNX RateLimitError\n",
      "RateLimit-Remaining 0\n",
      "99 DkyXPYdv RateLimitError\n",
      "RateLimit-Remaining 0\n",
      "99 XVrsMgoI RateLimitError\n"
     ]
    },
    {
     "name": "stderr",
     "output_type": "stream",
     "text": [
      "\n"
     ]
    },
    {
     "data": {
      "text/plain": [
       "[0,\n",
       " 0,\n",
       " 0,\n",
       " 0,\n",
       " 0,\n",
       " 0,\n",
       " 0,\n",
       " 0,\n",
       " 0,\n",
       " 0,\n",
       " 0,\n",
       " 0,\n",
       " 0,\n",
       " 0,\n",
       " 0,\n",
       " 0,\n",
       " 0,\n",
       " 0,\n",
       " 0,\n",
       " 0,\n",
       " 0,\n",
       " 0,\n",
       " 0,\n",
       " 0,\n",
       " 0,\n",
       " 0,\n",
       " 0,\n",
       " 0,\n",
       " 0,\n",
       " 0,\n",
       " 0,\n",
       " 0,\n",
       " 0,\n",
       " 0,\n",
       " 0,\n",
       " 0,\n",
       " 0,\n",
       " 0,\n",
       " 0,\n",
       " 0,\n",
       " 0,\n",
       " 0,\n",
       " 0,\n",
       " 0,\n",
       " 0,\n",
       " 0,\n",
       " 0,\n",
       " 0,\n",
       " 0,\n",
       " 0,\n",
       " 0,\n",
       " 0,\n",
       " 0,\n",
       " 0,\n",
       " 0,\n",
       " 0,\n",
       " 0,\n",
       " 0,\n",
       " 0,\n",
       " 0,\n",
       " 1,\n",
       " 1,\n",
       " 1,\n",
       " 1,\n",
       " 1,\n",
       " 1,\n",
       " 1,\n",
       " 1,\n",
       " 1,\n",
       " 1,\n",
       " 1,\n",
       " 1,\n",
       " 1,\n",
       " 1,\n",
       " 1,\n",
       " 1,\n",
       " 1,\n",
       " 1,\n",
       " 1,\n",
       " 1,\n",
       " 1,\n",
       " 1,\n",
       " 1,\n",
       " 1,\n",
       " 1,\n",
       " 1,\n",
       " 1,\n",
       " 1,\n",
       " 1,\n",
       " 1,\n",
       " 1,\n",
       " 1,\n",
       " 1,\n",
       " 1,\n",
       " 1,\n",
       " 1,\n",
       " 1,\n",
       " 1,\n",
       " 1,\n",
       " 1]"
      ]
     },
     "execution_count": 32,
     "metadata": {},
     "output_type": "execute_result"
    }
   ],
   "source": [
    "def get_note_from_guest_client(note_id):\n",
    "    try:\n",
    "        return guest_client.get_note(note_id)\n",
    "    except openreview.OpenReviewException as e:\n",
    "        print(index, note_id, e.args[0].get('name'))\n",
    "        if 'NotFoundError' in e.args[0].get('name'):\n",
    "            return 0\n",
    "        elif 'RateLimitError' in e.args[0].get('name'):\n",
    "            return 1\n",
    "        else:\n",
    "            raise e\n",
    "\n",
    "\n",
    "openreview.tools.concurrent_requests(get_note_from_guest_client, array_of_strings)\n",
    "# for index, id in enumerate(array_of_strings):\n",
    "#     get_note_from_guest_client(index, id)"
   ]
  },
  {
   "cell_type": "code",
   "execution_count": 10,
   "id": "157f0025",
   "metadata": {},
   "outputs": [
    {
     "name": "stdout",
     "output_type": "stream",
     "text": [
      "RateLimit-Remaining 116\n"
     ]
    },
    {
     "data": {
      "text/plain": [
       "[]"
      ]
     },
     "execution_count": 10,
     "metadata": {},
     "output_type": "execute_result"
    }
   ],
   "source": [
    "guest_client.get_notes(invitation='OpenReview.net/Support/-/Request')"
   ]
  },
  {
   "cell_type": "code",
   "execution_count": 15,
   "id": "cb99377c",
   "metadata": {},
   "outputs": [
    {
     "name": "stdout",
     "output_type": "stream",
     "text": [
      "RateLimit-Remaining 111\n"
     ]
    },
    {
     "data": {
      "text/plain": [
       "Group(id = 'everyone',parent = None,invitation = None,cdate = None,ddate = None,tcdate = None,tmdate = None,writers = None,members = [],readers = ['everyone'],nonreaders = [],signatures = ['openreview.net'],signatories = None,anonids = None,web = None,impersonators = None,domain = None,deanonymizers = None,host = None,details = {'writable': False})"
      ]
     },
     "execution_count": 15,
     "metadata": {},
     "output_type": "execute_result"
    }
   ],
   "source": [
    "guest_client.get_group('everyone')"
   ]
  },
  {
   "cell_type": "code",
   "execution_count": 24,
   "id": "dbd15aa9",
   "metadata": {},
   "outputs": [
    {
     "name": "stdout",
     "output_type": "stream",
     "text": [
      "RateLimit-Remaining 102\n"
     ]
    },
    {
     "data": {
      "text/plain": [
       "[Note(id = 'ZIPFBxA8E-',original = None,number = 1,cdate = 1705519712123,pdate = None,odate = None,mdate = None,tcdate = 1705519712123,tmdate = 1705519724092,ddate = None,content = {'title': 'Paper title', 'abstract': 'This is an abstract', 'authorids': ['~Author_One1'], 'authors': ['Author One'], 'pdf': 'https://openreview.net', 'requested_editors': ['editor-submission@agora.net', 'editor-submission-2@agora.net'], 'paperhash': 'one|paper_title', 'assigned_editors': ['article_editor@agora.net'], 'assigned_reviewers': ['reviewer@agora.net', 'reviewer2@agora.net']},forum = 'ZIPFBxA8E-',referent = None,invitation = '-Agora/COVID-19/-/Article',replyto = None,readers = ['everyone'],nonreaders = [],signatures = ['~Author_One1'],writers = ['openreview.net/Support'],details = {'writable': False})]"
      ]
     },
     "execution_count": 24,
     "metadata": {},
     "output_type": "execute_result"
    }
   ],
   "source": [
    "guest_client.get_notes(id='ZIPFBxA8E-')"
   ]
  },
  {
   "cell_type": "code",
   "execution_count": 17,
   "id": "f40eeaea",
   "metadata": {},
   "outputs": [
    {
     "ename": "AttributeError",
     "evalue": "type object 'Journal' has no attribute 'check_new_profiles'",
     "output_type": "error",
     "traceback": [
      "\u001b[0;31m---------------------------------------------------------------------------\u001b[0m",
      "\u001b[0;31mAttributeError\u001b[0m                            Traceback (most recent call last)",
      "\u001b[1;32m/Users/melisabok/Venue Local.ipynb Cell 7\u001b[0m in \u001b[0;36m<cell line: 1>\u001b[0;34m()\u001b[0m\n\u001b[0;32m----> <a href='vscode-notebook-cell:/Users/melisabok/Venue%20Local.ipynb#Y124sZmlsZQ%3D%3D?line=0'>1</a>\u001b[0m openreview\u001b[39m.\u001b[39;49mjournal\u001b[39m.\u001b[39;49mJournal\u001b[39m.\u001b[39;49mcheck_new_profiles(client, support_group_id \u001b[39m=\u001b[39m \u001b[39m'\u001b[39m\u001b[39mopenreview.net/Support\u001b[39m\u001b[39m'\u001b[39m)\n",
      "\u001b[0;31mAttributeError\u001b[0m: type object 'Journal' has no attribute 'check_new_profiles'"
     ]
    }
   ],
   "source": [
    "openreview.journal.Journal.check_new_profiles(client, support_group_id = 'openreview.net/Support')"
   ]
  },
  {
   "cell_type": "code",
   "execution_count": 8,
   "id": "8bf3e8c0",
   "metadata": {},
   "outputs": [
    {
     "ename": "NameError",
     "evalue": "name 'client_v1' is not defined",
     "output_type": "error",
     "traceback": [
      "\u001b[0;31m---------------------------------------------------------------------------\u001b[0m",
      "\u001b[0;31mNameError\u001b[0m                                 Traceback (most recent call last)",
      "\u001b[1;32m/Users/melisabok/Venue Local.ipynb Cell 8\u001b[0m in \u001b[0;36m<cell line: 1>\u001b[0;34m()\u001b[0m\n\u001b[0;32m----> <a href='vscode-notebook-cell:/Users/melisabok/Venue%20Local.ipynb#Y123sZmlsZQ%3D%3D?line=0'>1</a>\u001b[0m client_v1\u001b[39m.\u001b[39mimpersonate(\u001b[39m'\u001b[39m\u001b[39maclweb.org/ACL/ARR/2021/September\u001b[39m\u001b[39m'\u001b[39m)\n",
      "\u001b[0;31mNameError\u001b[0m: name 'client_v1' is not defined"
     ]
    }
   ],
   "source": [
    "client_v1.impersonate('aclweb.org/ACL/ARR/2021/September')"
   ]
  },
  {
   "cell_type": "code",
   "execution_count": 11,
   "id": "e3a2e8c3",
   "metadata": {},
   "outputs": [
    {
     "data": {
      "text/plain": [
       "{'groups': [{'id': 'peter@mail.com',\n",
       "   'message': {'id': 'JO53b2XwR',\n",
       "    'delivered': False,\n",
       "    'cdate': 1704317495990,\n",
       "    'content': {'from': 'openreview@local.openreview.net',\n",
       "     'fromname': 'OpenReview',\n",
       "     'to': 'peter@mail.com',\n",
       "     'replyTo': None,\n",
       "     'subject': 'ACL ARR 2021/September has been created',\n",
       "     'text': 'ACL ARR 2021/September has been created',\n",
       "     'sendAt': 1704317496},\n",
       "    'tauthor': 'aclweb.org/ACL/ARR/2021/September',\n",
       "    '_id': '6595d23750645916bda73a6d'}}]}"
      ]
     },
     "execution_count": 11,
     "metadata": {},
     "output_type": "execute_result"
    }
   ],
   "source": [
    "\n",
    "client_v1.post_message(\n",
    "    subject='ACL ARR 2021/September has been created',\n",
    "    recipients=['peter@mail.com'],\n",
    "    message='ACL ARR 2021/September has been created'\n",
    ")\n"
   ]
  },
  {
   "cell_type": "code",
   "execution_count": 12,
   "id": "860b8d86",
   "metadata": {},
   "outputs": [
    {
     "ename": "OpenReviewException",
     "evalue": "{'name': 'Error', 'message': 'Max Papers allowed reached for Reviewer ICMLFive', 'status': 400, 'details': {'reqId': '2024-01-03-7408'}}",
     "output_type": "error",
     "traceback": [
      "\u001b[0;31m---------------------------------------------------------------------------\u001b[0m",
      "\u001b[0;31mHTTPError\u001b[0m                                 Traceback (most recent call last)",
      "File \u001b[0;32m~/openreview/openreview-py/openreview/api/client.py:113\u001b[0m, in \u001b[0;36mOpenReviewClient.__handle_response\u001b[0;34m(self, response)\u001b[0m\n\u001b[1;32m    112\u001b[0m \u001b[39mtry\u001b[39;00m:\n\u001b[0;32m--> 113\u001b[0m     response\u001b[39m.\u001b[39;49mraise_for_status()\n\u001b[1;32m    114\u001b[0m     \u001b[39mreturn\u001b[39;00m response\n",
      "File \u001b[0;32m~/openreview/py-3.8/lib/python3.8/site-packages/requests/models.py:960\u001b[0m, in \u001b[0;36mResponse.raise_for_status\u001b[0;34m(self)\u001b[0m\n\u001b[1;32m    959\u001b[0m \u001b[39mif\u001b[39;00m http_error_msg:\n\u001b[0;32m--> 960\u001b[0m     \u001b[39mraise\u001b[39;00m HTTPError(http_error_msg, response\u001b[39m=\u001b[39m\u001b[39mself\u001b[39m)\n",
      "\u001b[0;31mHTTPError\u001b[0m: 400 Client Error: Bad Request for url: http://localhost:3001/edges",
      "\nDuring handling of the above exception, another exception occurred:\n",
      "\u001b[0;31mOpenReviewException\u001b[0m                       Traceback (most recent call last)",
      "\u001b[1;32m/Users/melisabok/Venue Local.ipynb Cell 3\u001b[0m in \u001b[0;36m<cell line: 5>\u001b[0;34m()\u001b[0m\n\u001b[1;32m      <a href='vscode-notebook-cell:/Users/melisabok/Venue%20Local.ipynb#Y120sZmlsZQ%3D%3D?line=1'>2</a>\u001b[0m anon_group_id \u001b[39m=\u001b[39m ac_client\u001b[39m.\u001b[39mget_groups(prefix\u001b[39m=\u001b[39m\u001b[39m'\u001b[39m\u001b[39mICML.cc/2023/Conference/Submission47/Area_Chair_\u001b[39m\u001b[39m'\u001b[39m, signatory\u001b[39m=\u001b[39m\u001b[39m'\u001b[39m\u001b[39m~AC_ICMLOne1\u001b[39m\u001b[39m'\u001b[39m)[\u001b[39m0\u001b[39m]\u001b[39m.\u001b[39mid\n\u001b[1;32m      <a href='vscode-notebook-cell:/Users/melisabok/Venue%20Local.ipynb#Y120sZmlsZQ%3D%3D?line=3'>4</a>\u001b[0m \u001b[39m## add a reviewer with max quota an get an error\u001b[39;00m\n\u001b[0;32m----> <a href='vscode-notebook-cell:/Users/melisabok/Venue%20Local.ipynb#Y120sZmlsZQ%3D%3D?line=4'>5</a>\u001b[0m ac_client\u001b[39m.\u001b[39;49mpost_edge(\n\u001b[1;32m      <a href='vscode-notebook-cell:/Users/melisabok/Venue%20Local.ipynb#Y120sZmlsZQ%3D%3D?line=5'>6</a>\u001b[0m     openreview\u001b[39m.\u001b[39;49mapi\u001b[39m.\u001b[39;49mEdge(invitation\u001b[39m=\u001b[39;49m\u001b[39m'\u001b[39;49m\u001b[39mICML.cc/2023/Conference/Reviewers/-/Proposed_Assignment\u001b[39;49m\u001b[39m'\u001b[39;49m,\n\u001b[1;32m      <a href='vscode-notebook-cell:/Users/melisabok/Venue%20Local.ipynb#Y120sZmlsZQ%3D%3D?line=6'>7</a>\u001b[0m         signatures\u001b[39m=\u001b[39;49m[anon_group_id],\n\u001b[1;32m      <a href='vscode-notebook-cell:/Users/melisabok/Venue%20Local.ipynb#Y120sZmlsZQ%3D%3D?line=7'>8</a>\u001b[0m         head\u001b[39m=\u001b[39;49m\u001b[39m'\u001b[39;49m\u001b[39m1Ew6LhzAH1\u001b[39;49m\u001b[39m'\u001b[39;49m,\n\u001b[1;32m      <a href='vscode-notebook-cell:/Users/melisabok/Venue%20Local.ipynb#Y120sZmlsZQ%3D%3D?line=8'>9</a>\u001b[0m         tail\u001b[39m=\u001b[39;49m\u001b[39m'\u001b[39;49m\u001b[39m~Reviewer_ICMLFive1\u001b[39;49m\u001b[39m'\u001b[39;49m,\n\u001b[1;32m     <a href='vscode-notebook-cell:/Users/melisabok/Venue%20Local.ipynb#Y120sZmlsZQ%3D%3D?line=9'>10</a>\u001b[0m         label\u001b[39m=\u001b[39;49m\u001b[39m'\u001b[39;49m\u001b[39mreviewer-matching\u001b[39;49m\u001b[39m'\u001b[39;49m,\n\u001b[1;32m     <a href='vscode-notebook-cell:/Users/melisabok/Venue%20Local.ipynb#Y120sZmlsZQ%3D%3D?line=10'>11</a>\u001b[0m         weight\u001b[39m=\u001b[39;49m\u001b[39m1\u001b[39;49m\n\u001b[1;32m     <a href='vscode-notebook-cell:/Users/melisabok/Venue%20Local.ipynb#Y120sZmlsZQ%3D%3D?line=11'>12</a>\u001b[0m ))\n",
      "File \u001b[0;32m~/openreview/openreview-py/openreview/api/client.py:1461\u001b[0m, in \u001b[0;36mOpenReviewClient.post_edge\u001b[0;34m(self, edge)\u001b[0m\n\u001b[1;32m   1457\u001b[0m \u001b[39m\"\"\"\u001b[39;00m\n\u001b[1;32m   1458\u001b[0m \u001b[39mPosts the edge. Upon success, returns the posted Edge object.\u001b[39;00m\n\u001b[1;32m   1459\u001b[0m \u001b[39m\"\"\"\u001b[39;00m\n\u001b[1;32m   1460\u001b[0m response \u001b[39m=\u001b[39m \u001b[39mself\u001b[39m\u001b[39m.\u001b[39msession\u001b[39m.\u001b[39mpost(\u001b[39mself\u001b[39m\u001b[39m.\u001b[39medges_url, json \u001b[39m=\u001b[39m edge\u001b[39m.\u001b[39mto_json(), headers \u001b[39m=\u001b[39m \u001b[39mself\u001b[39m\u001b[39m.\u001b[39mheaders)\n\u001b[0;32m-> 1461\u001b[0m response \u001b[39m=\u001b[39m \u001b[39mself\u001b[39;49m\u001b[39m.\u001b[39;49m__handle_response(response)\n\u001b[1;32m   1463\u001b[0m \u001b[39mreturn\u001b[39;00m Edge\u001b[39m.\u001b[39mfrom_json(response\u001b[39m.\u001b[39mjson())\n",
      "File \u001b[0;32m~/openreview/openreview-py/openreview/api/client.py:128\u001b[0m, in \u001b[0;36mOpenReviewClient.__handle_response\u001b[0;34m(self, response)\u001b[0m\n\u001b[1;32m    123\u001b[0m \u001b[39melse\u001b[39;00m:\n\u001b[1;32m    124\u001b[0m     error \u001b[39m=\u001b[39m {\n\u001b[1;32m    125\u001b[0m         \u001b[39m'\u001b[39m\u001b[39mname\u001b[39m\u001b[39m'\u001b[39m: \u001b[39m'\u001b[39m\u001b[39mError\u001b[39m\u001b[39m'\u001b[39m,\n\u001b[1;32m    126\u001b[0m         \u001b[39m'\u001b[39m\u001b[39mmessage\u001b[39m\u001b[39m'\u001b[39m: response\u001b[39m.\u001b[39mreason\n\u001b[1;32m    127\u001b[0m     }\n\u001b[0;32m--> 128\u001b[0m \u001b[39mraise\u001b[39;00m OpenReviewException(error)\n",
      "\u001b[0;31mOpenReviewException\u001b[0m: {'name': 'Error', 'message': 'Max Papers allowed reached for Reviewer ICMLFive', 'status': 400, 'details': {'reqId': '2024-01-03-7408'}}"
     ]
    }
   ],
   "source": [
    "ac_client = openreview.api.OpenReviewClient(username='ac1@icml.cc', password='Or$3cur3P@ssw0rd')\n",
    "anon_group_id = ac_client.get_groups(prefix='ICML.cc/2023/Conference/Submission47/Area_Chair_', signatory='~AC_ICMLOne1')[0].id\n",
    "\n",
    "## add a reviewer with max quota an get an error\n",
    "ac_client.post_edge(\n",
    "    openreview.api.Edge(invitation='ICML.cc/2023/Conference/Reviewers/-/Proposed_Assignment',\n",
    "        signatures=[anon_group_id],\n",
    "        head='1Ew6LhzAH1',\n",
    "        tail='~Reviewer_ICMLFive1',\n",
    "        label='reviewer-matching',\n",
    "        weight=1\n",
    "))"
   ]
  },
  {
   "cell_type": "code",
   "execution_count": 11,
   "id": "81ce8a6b",
   "metadata": {},
   "outputs": [
    {
     "data": {
      "text/plain": [
       "'ICML.cc/2023/Conference/Submission1/Area_Chair_2ge5'"
      ]
     },
     "execution_count": 11,
     "metadata": {},
     "output_type": "execute_result"
    }
   ],
   "source": [
    "anon_group_id"
   ]
  },
  {
   "cell_type": "code",
   "execution_count": 3,
   "id": "050f9b32",
   "metadata": {},
   "outputs": [],
   "source": [
    "conference = openreview.helpers.get_conference(client_v1, 'N1M74KyF_r')"
   ]
  },
  {
   "cell_type": "code",
   "execution_count": 4,
   "id": "b7d67018",
   "metadata": {},
   "outputs": [
    {
     "data": {
      "text/plain": [
       "2023"
      ]
     },
     "execution_count": 4,
     "metadata": {},
     "output_type": "execute_result"
    }
   ],
   "source": [
    "conference.year"
   ]
  },
  {
   "cell_type": "code",
   "execution_count": 5,
   "id": "e09d5164",
   "metadata": {},
   "outputs": [
    {
     "data": {
      "text/plain": [
       "2024"
      ]
     },
     "execution_count": 5,
     "metadata": {},
     "output_type": "execute_result"
    }
   ],
   "source": [
    "datetime.datetime.now().year"
   ]
  },
  {
   "cell_type": "code",
   "execution_count": 22,
   "id": "89165f22",
   "metadata": {},
   "outputs": [
    {
     "data": {
      "text/plain": [
       "Edge(id = 'ETRSaUUu6VrTEx',invitation = 'TMLR/Reviewers/-/Assignment',domain = 'TMLR',head = 'FCzzLfwvtP',tail = '~Melisa_Bok1',weight = 1,label = None,cdate = 1702405264772,ddate = None,readers = ['TMLR', 'TMLR/Paper1/Action_Editors', '~Melisa_Bok1'],nonreaders = ['TMLR/Paper1/Authors'],writers = ['TMLR', 'TMLR/Paper1/Action_Editors'],signatures = ['TMLR'],tcdate = 1702405264772,tmdate = 1702405264772,tddate = None,tauthor = 'openreview.net')"
      ]
     },
     "execution_count": 22,
     "metadata": {},
     "output_type": "execute_result"
    }
   ],
   "source": [
    "client.post_edge(openreview.api.Edge(\n",
    "    invitation='TMLR/Reviewers/-/Assignment',\n",
    "    head='FCzzLfwvtP',\n",
    "    tail='~Melisa_Bok1',\n",
    "    weight = 1,\n",
    "    signatures=['TMLR']\n",
    "))"
   ]
  },
  {
   "cell_type": "code",
   "execution_count": 19,
   "metadata": {},
   "outputs": [
    {
     "ename": "OpenReviewException",
     "evalue": "{'name': 'Error', 'message': \"Your name doesn't match with the value to replace\", 'status': 400, 'details': {'reqId': '2023-11-29-184'}}",
     "output_type": "error",
     "traceback": [
      "\u001b[0;31m---------------------------------------------------------------------------\u001b[0m",
      "\u001b[0;31mHTTPError\u001b[0m                                 Traceback (most recent call last)",
      "File \u001b[0;32m~/openreview/openreview-py/openreview/api/client.py:112\u001b[0m, in \u001b[0;36mOpenReviewClient.__handle_response\u001b[0;34m(self, response)\u001b[0m\n\u001b[1;32m    111\u001b[0m \u001b[39mtry\u001b[39;00m:\n\u001b[0;32m--> 112\u001b[0m     response\u001b[39m.\u001b[39;49mraise_for_status()\n\u001b[1;32m    113\u001b[0m     \u001b[39mreturn\u001b[39;00m response\n",
      "File \u001b[0;32m~/openreview/py-3.8/lib/python3.8/site-packages/requests/models.py:960\u001b[0m, in \u001b[0;36mResponse.raise_for_status\u001b[0;34m(self)\u001b[0m\n\u001b[1;32m    959\u001b[0m \u001b[39mif\u001b[39;00m http_error_msg:\n\u001b[0;32m--> 960\u001b[0m     \u001b[39mraise\u001b[39;00m HTTPError(http_error_msg, response\u001b[39m=\u001b[39m\u001b[39mself\u001b[39m)\n",
      "\u001b[0;31mHTTPError\u001b[0m: 400 Client Error: Bad Request for url: http://localhost:3001/notes/edits",
      "\nDuring handling of the above exception, another exception occurred:\n",
      "\u001b[0;31mOpenReviewException\u001b[0m                       Traceback (most recent call last)",
      "\u001b[1;32m/Users/melisabok/Venue Local.ipynb Cell 3\u001b[0m in \u001b[0;36m<cell line: 1>\u001b[0;34m()\u001b[0m\n\u001b[0;32m----> <a href='vscode-notebook-cell:/Users/melisabok/Venue%20Local.ipynb#Y112sZmlsZQ%3D%3D?line=0'>1</a>\u001b[0m edit \u001b[39m=\u001b[39m client\u001b[39m.\u001b[39;49mpost_note_edit(\n\u001b[1;32m      <a href='vscode-notebook-cell:/Users/melisabok/Venue%20Local.ipynb#Y112sZmlsZQ%3D%3D?line=1'>2</a>\u001b[0m     invitation \u001b[39m=\u001b[39;49m \u001b[39m'\u001b[39;49m\u001b[39mDBLP.org/-/Author_Coreference\u001b[39;49m\u001b[39m'\u001b[39;49m,\n\u001b[1;32m      <a href='vscode-notebook-cell:/Users/melisabok/Venue%20Local.ipynb#Y112sZmlsZQ%3D%3D?line=2'>3</a>\u001b[0m     signatures \u001b[39m=\u001b[39;49m [\u001b[39m'\u001b[39;49m\u001b[39m~Haw-Shiuan_Chang1\u001b[39;49m\u001b[39m'\u001b[39;49m],\n\u001b[1;32m      <a href='vscode-notebook-cell:/Users/melisabok/Venue%20Local.ipynb#Y112sZmlsZQ%3D%3D?line=3'>4</a>\u001b[0m     note \u001b[39m=\u001b[39;49m openreview\u001b[39m.\u001b[39;49mapi\u001b[39m.\u001b[39;49mNote(\n\u001b[1;32m      <a href='vscode-notebook-cell:/Users/melisabok/Venue%20Local.ipynb#Y112sZmlsZQ%3D%3D?line=4'>5</a>\u001b[0m         \u001b[39mid\u001b[39;49m \u001b[39m=\u001b[39;49m \u001b[39m'\u001b[39;49m\u001b[39mnQYFZqRH0U\u001b[39;49m\u001b[39m'\u001b[39;49m,\n\u001b[1;32m      <a href='vscode-notebook-cell:/Users/melisabok/Venue%20Local.ipynb#Y112sZmlsZQ%3D%3D?line=5'>6</a>\u001b[0m         content\u001b[39m=\u001b[39;49m{\n\u001b[1;32m      <a href='vscode-notebook-cell:/Users/melisabok/Venue%20Local.ipynb#Y112sZmlsZQ%3D%3D?line=6'>7</a>\u001b[0m             \u001b[39m'\u001b[39;49m\u001b[39mauthorids\u001b[39;49m\u001b[39m'\u001b[39;49m: {\n\u001b[1;32m      <a href='vscode-notebook-cell:/Users/melisabok/Venue%20Local.ipynb#Y112sZmlsZQ%3D%3D?line=7'>8</a>\u001b[0m                 \u001b[39m'\u001b[39;49m\u001b[39mvalue\u001b[39;49m\u001b[39m'\u001b[39;49m: {\n\u001b[1;32m      <a href='vscode-notebook-cell:/Users/melisabok/Venue%20Local.ipynb#Y112sZmlsZQ%3D%3D?line=8'>9</a>\u001b[0m                     \u001b[39m'\u001b[39;49m\u001b[39mreplace\u001b[39;49m\u001b[39m'\u001b[39;49m: { \u001b[39m'\u001b[39;49m\u001b[39mindex\u001b[39;49m\u001b[39m'\u001b[39;49m: \u001b[39m3\u001b[39;49m, \u001b[39m'\u001b[39;49m\u001b[39mvalue\u001b[39;49m\u001b[39m'\u001b[39;49m: \u001b[39m'\u001b[39;49m\u001b[39m~Haw-Shiuan_Chang1\u001b[39;49m\u001b[39m'\u001b[39;49m }\n\u001b[1;32m     <a href='vscode-notebook-cell:/Users/melisabok/Venue%20Local.ipynb#Y112sZmlsZQ%3D%3D?line=9'>10</a>\u001b[0m                 }\n\u001b[1;32m     <a href='vscode-notebook-cell:/Users/melisabok/Venue%20Local.ipynb#Y112sZmlsZQ%3D%3D?line=10'>11</a>\u001b[0m             }\n\u001b[1;32m     <a href='vscode-notebook-cell:/Users/melisabok/Venue%20Local.ipynb#Y112sZmlsZQ%3D%3D?line=11'>12</a>\u001b[0m         }\n\u001b[1;32m     <a href='vscode-notebook-cell:/Users/melisabok/Venue%20Local.ipynb#Y112sZmlsZQ%3D%3D?line=12'>13</a>\u001b[0m     )\n\u001b[1;32m     <a href='vscode-notebook-cell:/Users/melisabok/Venue%20Local.ipynb#Y112sZmlsZQ%3D%3D?line=13'>14</a>\u001b[0m )\n",
      "File \u001b[0;32m~/openreview/openreview-py/openreview/api/client.py:1862\u001b[0m, in \u001b[0;36mOpenReviewClient.post_note_edit\u001b[0;34m(self, invitation, signatures, note, readers, writers, nonreaders)\u001b[0m\n\u001b[1;32m   1859\u001b[0m     edit_json[\u001b[39m'\u001b[39m\u001b[39mnonreaders\u001b[39m\u001b[39m'\u001b[39m] \u001b[39m=\u001b[39m nonreaders\n\u001b[1;32m   1861\u001b[0m \u001b[39mif\u001b[39;00m content \u001b[39mis\u001b[39;00m \u001b[39mnot\u001b[39;00m \u001b[39mNone\u001b[39;00m:\n\u001b[0;32m-> 1862\u001b[0m     edit_json[\u001b[39m'\u001b[39m\u001b[39mcontent\u001b[39m\u001b[39m'\u001b[39m] \u001b[39m=\u001b[39m content\n\u001b[1;32m   1864\u001b[0m response \u001b[39m=\u001b[39m \u001b[39mself\u001b[39m\u001b[39m.\u001b[39msession\u001b[39m.\u001b[39mpost(\u001b[39mself\u001b[39m\u001b[39m.\u001b[39mnote_edits_url, json \u001b[39m=\u001b[39m edit_json, headers \u001b[39m=\u001b[39m \u001b[39mself\u001b[39m\u001b[39m.\u001b[39mheaders)\n\u001b[1;32m   1865\u001b[0m response \u001b[39m=\u001b[39m \u001b[39mself\u001b[39m\u001b[39m.\u001b[39m__handle_response(response)\n",
      "File \u001b[0;32m~/openreview/openreview-py/openreview/api/client.py:127\u001b[0m, in \u001b[0;36mOpenReviewClient.__handle_response\u001b[0;34m(self, response)\u001b[0m\n\u001b[1;32m    122\u001b[0m \u001b[39melse\u001b[39;00m:\n\u001b[1;32m    123\u001b[0m     error \u001b[39m=\u001b[39m {\n\u001b[1;32m    124\u001b[0m         \u001b[39m'\u001b[39m\u001b[39mname\u001b[39m\u001b[39m'\u001b[39m: \u001b[39m'\u001b[39m\u001b[39mError\u001b[39m\u001b[39m'\u001b[39m,\n\u001b[1;32m    125\u001b[0m         \u001b[39m'\u001b[39m\u001b[39mmessage\u001b[39m\u001b[39m'\u001b[39m: response\u001b[39m.\u001b[39mreason\n\u001b[1;32m    126\u001b[0m     }\n\u001b[0;32m--> 127\u001b[0m \u001b[39mraise\u001b[39;00m OpenReviewException(error)\n",
      "\u001b[0;31mOpenReviewException\u001b[0m: {'name': 'Error', 'message': \"Your name doesn't match with the value to replace\", 'status': 400, 'details': {'reqId': '2023-11-29-184'}}"
     ]
    }
   ],
   "source": [
    "edit = client.post_note_edit(\n",
    "    invitation = 'DBLP.org/-/Author_Coreference',\n",
    "    signatures = ['~Haw-Shiuan_Chang1'],\n",
    "    note = openreview.api.Note(\n",
    "        id = 'nQYFZqRH0U',\n",
    "        content={\n",
    "            'authorids': {\n",
    "                'value': {\n",
    "                    'replace': { 'index': 3, 'value': '~Haw-Shiuan_Chang1' }\n",
    "                }\n",
    "            }\n",
    "        }\n",
    "    )\n",
    ")"
   ]
  },
  {
   "cell_type": "code",
   "execution_count": 7,
   "id": "34af76cd",
   "metadata": {},
   "outputs": [
    {
     "ename": "OpenReviewException",
     "evalue": "{'name': 'TokenExpiredError', 'message': 'Token has expired. Please log in again.', 'status': 401, 'details': {'email': 'openreview.net', 'profileId': '~Super_User1', 'reqId': '2023-11-15-2039'}}",
     "output_type": "error",
     "traceback": [
      "\u001b[0;31m---------------------------------------------------------------------------\u001b[0m",
      "\u001b[0;31mHTTPError\u001b[0m                                 Traceback (most recent call last)",
      "File \u001b[0;32m~/openreview/openreview-py/openreview/openreview.py:115\u001b[0m, in \u001b[0;36mClient.__handle_response\u001b[0;34m(self, response)\u001b[0m\n\u001b[1;32m    114\u001b[0m \u001b[39mtry\u001b[39;00m:\n\u001b[0;32m--> 115\u001b[0m     response\u001b[39m.\u001b[39;49mraise_for_status()\n\u001b[1;32m    116\u001b[0m     \u001b[39mreturn\u001b[39;00m response\n",
      "File \u001b[0;32m~/openreview/py-3.8/lib/python3.8/site-packages/requests/models.py:960\u001b[0m, in \u001b[0;36mResponse.raise_for_status\u001b[0;34m(self)\u001b[0m\n\u001b[1;32m    959\u001b[0m \u001b[39mif\u001b[39;00m http_error_msg:\n\u001b[0;32m--> 960\u001b[0m     \u001b[39mraise\u001b[39;00m HTTPError(http_error_msg, response\u001b[39m=\u001b[39m\u001b[39mself\u001b[39m)\n",
      "\u001b[0;31mHTTPError\u001b[0m: 401 Client Error: Unauthorized for url: http://localhost:3000/profile/moderate",
      "\nDuring handling of the above exception, another exception occurred:\n",
      "\u001b[0;31mOpenReviewException\u001b[0m                       Traceback (most recent call last)",
      "\u001b[1;32m/Users/melisabok/Venue Local.ipynb Cell 3\u001b[0m in \u001b[0;36m<cell line: 1>\u001b[0;34m()\u001b[0m\n\u001b[0;32m----> <a href='vscode-notebook-cell:/Users/melisabok/Venue%20Local.ipynb#Y111sZmlsZQ%3D%3D?line=0'>1</a>\u001b[0m client_v1\u001b[39m.\u001b[39;49mmoderate_profile(\u001b[39m'\u001b[39;49m\u001b[39m~Min_Shi5\u001b[39;49m\u001b[39m'\u001b[39;49m, \u001b[39m'\u001b[39;49m\u001b[39mActive\u001b[39;49m\u001b[39m'\u001b[39;49m)\n",
      "File \u001b[0;32m~/openreview/openreview-py/openreview/openreview.py:644\u001b[0m, in \u001b[0;36mClient.moderate_profile\u001b[0;34m(self, profile_id, decision)\u001b[0m\n\u001b[1;32m    627\u001b[0m \u001b[39m\"\"\"\u001b[39;00m\n\u001b[1;32m    628\u001b[0m \u001b[39mUpdates a Profile\u001b[39;00m\n\u001b[1;32m    629\u001b[0m \n\u001b[0;32m   (...)\u001b[0m\n\u001b[1;32m    634\u001b[0m \u001b[39m:rtype: Profile\u001b[39;00m\n\u001b[1;32m    635\u001b[0m \u001b[39m\"\"\"\u001b[39;00m\n\u001b[1;32m    636\u001b[0m response \u001b[39m=\u001b[39m \u001b[39mself\u001b[39m\u001b[39m.\u001b[39msession\u001b[39m.\u001b[39mpost(\n\u001b[1;32m    637\u001b[0m     \u001b[39mself\u001b[39m\u001b[39m.\u001b[39mprofiles_moderate,\n\u001b[1;32m    638\u001b[0m     json \u001b[39m=\u001b[39m {\n\u001b[0;32m   (...)\u001b[0m\n\u001b[1;32m    641\u001b[0m     },\n\u001b[1;32m    642\u001b[0m     headers \u001b[39m=\u001b[39m \u001b[39mself\u001b[39m\u001b[39m.\u001b[39mheaders)\n\u001b[0;32m--> 644\u001b[0m response \u001b[39m=\u001b[39m \u001b[39mself\u001b[39;49m\u001b[39m.\u001b[39;49m__handle_response(response)\n\u001b[1;32m    645\u001b[0m \u001b[39mreturn\u001b[39;00m Profile\u001b[39m.\u001b[39mfrom_json(response\u001b[39m.\u001b[39mjson())\n",
      "File \u001b[0;32m~/openreview/openreview-py/openreview/openreview.py:130\u001b[0m, in \u001b[0;36mClient.__handle_response\u001b[0;34m(self, response)\u001b[0m\n\u001b[1;32m    125\u001b[0m \u001b[39melse\u001b[39;00m:\n\u001b[1;32m    126\u001b[0m     error \u001b[39m=\u001b[39m {\n\u001b[1;32m    127\u001b[0m         \u001b[39m'\u001b[39m\u001b[39mname\u001b[39m\u001b[39m'\u001b[39m: \u001b[39m'\u001b[39m\u001b[39mError\u001b[39m\u001b[39m'\u001b[39m,\n\u001b[1;32m    128\u001b[0m         \u001b[39m'\u001b[39m\u001b[39mmessage\u001b[39m\u001b[39m'\u001b[39m: response\u001b[39m.\u001b[39mreason\n\u001b[1;32m    129\u001b[0m     }\n\u001b[0;32m--> 130\u001b[0m \u001b[39mraise\u001b[39;00m OpenReviewException(error)\n",
      "\u001b[0;31mOpenReviewException\u001b[0m: {'name': 'TokenExpiredError', 'message': 'Token has expired. Please log in again.', 'status': 401, 'details': {'email': 'openreview.net', 'profileId': '~Super_User1', 'reqId': '2023-11-15-2039'}}"
     ]
    }
   ],
   "source": [
    "client_v1.moderate_profile('~Min_Shi5', 'Active')"
   ]
  },
  {
   "cell_type": "code",
   "execution_count": 5,
   "id": "fbcc5ceb",
   "metadata": {},
   "outputs": [],
   "source": [
    "profiles= openreview.tools.get_profiles(client, ['~First_Last3'], with_relations=True)"
   ]
  },
  {
   "cell_type": "code",
   "execution_count": 6,
   "id": "b7152140",
   "metadata": {},
   "outputs": [
    {
     "data": {
      "text/plain": [
       "{'id': '~First_Last3',\n",
       " 'domains': {'cmu.edu', 'qq.com'},\n",
       " 'emails': {'user2@qq.com'},\n",
       " 'relations': {'~First_Last2', '~SomeFirstName_User1'},\n",
       " 'publications': set()}"
      ]
     },
     "execution_count": 6,
     "metadata": {},
     "output_type": "execute_result"
    }
   ],
   "source": [
    "openreview.tools.get_profile_info(profiles[0])"
   ]
  },
  {
   "cell_type": "code",
   "execution_count": 12,
   "id": "c28b9c04",
   "metadata": {},
   "outputs": [
    {
     "ename": "OpenReviewException",
     "evalue": "{'name': 'Error', 'message': 'Max Papers allowed reached for Reviewer ICMLFive', 'status': 400, 'details': {'reqId': '2023-11-08-7384'}}",
     "output_type": "error",
     "traceback": [
      "\u001b[0;31m---------------------------------------------------------------------------\u001b[0m",
      "\u001b[0;31mHTTPError\u001b[0m                                 Traceback (most recent call last)",
      "File \u001b[0;32m~/openreview/openreview-py/openreview/api/client.py:112\u001b[0m, in \u001b[0;36mOpenReviewClient.__handle_response\u001b[0;34m(self, response)\u001b[0m\n\u001b[1;32m    111\u001b[0m \u001b[39mtry\u001b[39;00m:\n\u001b[0;32m--> 112\u001b[0m     response\u001b[39m.\u001b[39;49mraise_for_status()\n\u001b[1;32m    113\u001b[0m     \u001b[39mreturn\u001b[39;00m response\n",
      "File \u001b[0;32m~/openreview/py-3.8/lib/python3.8/site-packages/requests/models.py:960\u001b[0m, in \u001b[0;36mResponse.raise_for_status\u001b[0;34m(self)\u001b[0m\n\u001b[1;32m    959\u001b[0m \u001b[39mif\u001b[39;00m http_error_msg:\n\u001b[0;32m--> 960\u001b[0m     \u001b[39mraise\u001b[39;00m HTTPError(http_error_msg, response\u001b[39m=\u001b[39m\u001b[39mself\u001b[39m)\n",
      "\u001b[0;31mHTTPError\u001b[0m: 400 Client Error: Bad Request for url: http://localhost:3001/edges",
      "\nDuring handling of the above exception, another exception occurred:\n",
      "\u001b[0;31mOpenReviewException\u001b[0m                       Traceback (most recent call last)",
      "\u001b[1;32m/Users/melisabok/Venue Local.ipynb Cell 3\u001b[0m in \u001b[0;36m<cell line: 1>\u001b[0;34m()\u001b[0m\n\u001b[0;32m----> <a href='vscode-notebook-cell:/Users/melisabok/Venue%20Local.ipynb#Y105sZmlsZQ%3D%3D?line=0'>1</a>\u001b[0m client\u001b[39m.\u001b[39;49mpost_edge(\n\u001b[1;32m      <a href='vscode-notebook-cell:/Users/melisabok/Venue%20Local.ipynb#Y105sZmlsZQ%3D%3D?line=1'>2</a>\u001b[0m openreview\u001b[39m.\u001b[39;49mapi\u001b[39m.\u001b[39;49mEdge(invitation\u001b[39m=\u001b[39;49m\u001b[39m'\u001b[39;49m\u001b[39mICML.cc/2023/Conference/Reviewers/-/Proposed_Assignment\u001b[39;49m\u001b[39m'\u001b[39;49m,\n\u001b[1;32m      <a href='vscode-notebook-cell:/Users/melisabok/Venue%20Local.ipynb#Y105sZmlsZQ%3D%3D?line=2'>3</a>\u001b[0m     signatures\u001b[39m=\u001b[39;49m[\u001b[39m'\u001b[39;49m\u001b[39mICML.cc/2023/Conference\u001b[39;49m\u001b[39m'\u001b[39;49m],\n\u001b[1;32m      <a href='vscode-notebook-cell:/Users/melisabok/Venue%20Local.ipynb#Y105sZmlsZQ%3D%3D?line=3'>4</a>\u001b[0m     head\u001b[39m=\u001b[39;49m\u001b[39m'\u001b[39;49m\u001b[39mMk5eP0jhbp\u001b[39;49m\u001b[39m'\u001b[39;49m,\n\u001b[1;32m      <a href='vscode-notebook-cell:/Users/melisabok/Venue%20Local.ipynb#Y105sZmlsZQ%3D%3D?line=4'>5</a>\u001b[0m     tail\u001b[39m=\u001b[39;49m\u001b[39m'\u001b[39;49m\u001b[39m~Reviewer_ICMLFive1\u001b[39;49m\u001b[39m'\u001b[39;49m,\n\u001b[1;32m      <a href='vscode-notebook-cell:/Users/melisabok/Venue%20Local.ipynb#Y105sZmlsZQ%3D%3D?line=5'>6</a>\u001b[0m     label\u001b[39m=\u001b[39;49m\u001b[39m'\u001b[39;49m\u001b[39mreviewer-matching\u001b[39;49m\u001b[39m'\u001b[39;49m,\n\u001b[1;32m      <a href='vscode-notebook-cell:/Users/melisabok/Venue%20Local.ipynb#Y105sZmlsZQ%3D%3D?line=6'>7</a>\u001b[0m     weight\u001b[39m=\u001b[39;49m\u001b[39m1\u001b[39;49m\n\u001b[1;32m      <a href='vscode-notebook-cell:/Users/melisabok/Venue%20Local.ipynb#Y105sZmlsZQ%3D%3D?line=7'>8</a>\u001b[0m ))\n",
      "File \u001b[0;32m~/openreview/openreview-py/openreview/api/client.py:1434\u001b[0m, in \u001b[0;36mOpenReviewClient.post_edge\u001b[0;34m(self, edge)\u001b[0m\n\u001b[1;32m   1430\u001b[0m \u001b[39m\"\"\"\u001b[39;00m\n\u001b[1;32m   1431\u001b[0m \u001b[39mPosts the edge. Upon success, returns the posted Edge object.\u001b[39;00m\n\u001b[1;32m   1432\u001b[0m \u001b[39m\"\"\"\u001b[39;00m\n\u001b[1;32m   1433\u001b[0m response \u001b[39m=\u001b[39m \u001b[39mself\u001b[39m\u001b[39m.\u001b[39msession\u001b[39m.\u001b[39mpost(\u001b[39mself\u001b[39m\u001b[39m.\u001b[39medges_url, json \u001b[39m=\u001b[39m edge\u001b[39m.\u001b[39mto_json(), headers \u001b[39m=\u001b[39m \u001b[39mself\u001b[39m\u001b[39m.\u001b[39mheaders)\n\u001b[0;32m-> 1434\u001b[0m response \u001b[39m=\u001b[39m \u001b[39mself\u001b[39;49m\u001b[39m.\u001b[39;49m__handle_response(response)\n\u001b[1;32m   1436\u001b[0m \u001b[39mreturn\u001b[39;00m Edge\u001b[39m.\u001b[39mfrom_json(response\u001b[39m.\u001b[39mjson())\n",
      "File \u001b[0;32m~/openreview/openreview-py/openreview/api/client.py:127\u001b[0m, in \u001b[0;36mOpenReviewClient.__handle_response\u001b[0;34m(self, response)\u001b[0m\n\u001b[1;32m    122\u001b[0m \u001b[39melse\u001b[39;00m:\n\u001b[1;32m    123\u001b[0m     error \u001b[39m=\u001b[39m {\n\u001b[1;32m    124\u001b[0m         \u001b[39m'\u001b[39m\u001b[39mname\u001b[39m\u001b[39m'\u001b[39m: \u001b[39m'\u001b[39m\u001b[39mError\u001b[39m\u001b[39m'\u001b[39m,\n\u001b[1;32m    125\u001b[0m         \u001b[39m'\u001b[39m\u001b[39mmessage\u001b[39m\u001b[39m'\u001b[39m: response\u001b[39m.\u001b[39mreason\n\u001b[1;32m    126\u001b[0m     }\n\u001b[0;32m--> 127\u001b[0m \u001b[39mraise\u001b[39;00m OpenReviewException(error)\n",
      "\u001b[0;31mOpenReviewException\u001b[0m: {'name': 'Error', 'message': 'Max Papers allowed reached for Reviewer ICMLFive', 'status': 400, 'details': {'reqId': '2023-11-08-7384'}}"
     ]
    }
   ],
   "source": [
    "client.post_edge(\n",
    "openreview.api.Edge(invitation='ICML.cc/2023/Conference/Reviewers/-/Proposed_Assignment',\n",
    "    signatures=['ICML.cc/2023/Conference'],\n",
    "    head='Mk5eP0jhbp',\n",
    "    tail='~Reviewer_ICMLFive1',\n",
    "    label='reviewer-matching',\n",
    "    weight=1\n",
    "))"
   ]
  },
  {
   "cell_type": "code",
   "execution_count": 16,
   "id": "e7a3d7f4",
   "metadata": {},
   "outputs": [],
   "source": [
    "edit = client.get_group_edit('K5crdMCrE7')"
   ]
  },
  {
   "cell_type": "code",
   "execution_count": 19,
   "id": "348ac8e5",
   "metadata": {},
   "outputs": [],
   "source": [
    "def process(client, edit, invitation):\n",
    "\n",
    "    domain = client.get_group(edit.domain)\n",
    "    venue_id = domain.id\n",
    "    invited_group = client.get_group(invitation.edit['group']['id'])\n",
    "    recruitment_subject = invited_group.content['recruitment_subject']['value']\n",
    "    recruitment_template = invited_group.content['recruitment_template']['value']\n",
    "    reduced_load = invited_group.content.get('reduced_load', {}).get('value')\n",
    "    allow_overlap = invited_group.content.get('allow_overlap', {}).get('value')\n",
    "    contact_email = domain.content['contact']['value']\n",
    "\n",
    "    committee_name = invitation.content['committee_name']['value']\n",
    "    official_committee_roles = invitation.content['official_committee_roles']['value']\n",
    "    committee_roles = official_committee_roles if (committee_name in official_committee_roles and not allow_overlap) else [committee_name]\n",
    "\n",
    "    invitee_details = edit.content['inviteeDetails']['value'].strip().split('\\n')\n",
    "\n",
    "    recruitment_status = {\n",
    "        'invited': [],\n",
    "        'already_invited': {},\n",
    "        'already_member': {},\n",
    "        'errors': {}\n",
    "    }\n",
    "    \n",
    "    invitee_emails = []\n",
    "    invitee_names = []\n",
    "    for invitee in invitee_details:\n",
    "        if invitee:\n",
    "            details = [i.strip() for i in invitee.split(',') if i]\n",
    "            if len(details) == 1:\n",
    "                email = details[0][1:] if details[0].startswith('(') else details[0]\n",
    "                name = None\n",
    "            else:\n",
    "                email = details[0][1:] if details[0].startswith('(') else details[0]\n",
    "                name = details[1][:-1] if details[1].endswith(')') else details[1]\n",
    "            invitee_emails.append(email)\n",
    "            invitee_names.append(name)\n",
    "\n",
    "    for index, email in enumerate(invitee_emails):\n",
    "        profile_emails = []\n",
    "        profile = None\n",
    "        is_profile_id = email.startswith('~')\n",
    "        invalid_profile_id = False\n",
    "        no_profile_found = False\n",
    "        if is_profile_id:\n",
    "            try:\n",
    "                profile = openreview.tools.get_profile(client, email)\n",
    "            except openreview.OpenReviewException as e:\n",
    "                error_string = repr(e)\n",
    "                if 'ValidationError' in error_string:\n",
    "                    invalid_profile_id = True\n",
    "                else:\n",
    "                    if error_string not in recruitment_status['errors']:\n",
    "                        recruitment_status['errors'][error_string] = []\n",
    "                    recruitment_status['errors'][error_string].append(email)\n",
    "                    continue\n",
    "            if not profile:\n",
    "                no_profile_found = True\n",
    "            profile_emails = profile.content['emails'] if profile else []\n",
    "\n",
    "        memberships = [g.id for g in client.get_groups(member=email, prefix=venue_id)] if openreview.tools.get_group(client, email) else []\n",
    "        invited_roles = [f'{venue_id}/{role}/Invited' for role in committee_roles]\n",
    "        member_roles = [f'{venue_id}/{role}' for role in committee_roles]\n",
    "\n",
    "        invited_group_ids=list(set(invited_roles) & set(memberships))\n",
    "        member_group_ids=list(set(member_roles) & set(memberships))\n",
    "\n",
    "        if profile and not profile_emails:\n",
    "            if 'profiles_without_email' not in recruitment_status['errors']:\n",
    "                recruitment_status['errors']['profiles_without_email'] = []\n",
    "            recruitment_status['errors']['profiles_without_email'].append(email)\n",
    "        elif invalid_profile_id:\n",
    "            if 'invalid_profile_ids' not in recruitment_status['errors']:\n",
    "                recruitment_status['errors']['invalid_profile_ids'] = []\n",
    "            recruitment_status['errors']['invalid_profile_ids'].append(email)\n",
    "        elif no_profile_found:\n",
    "            if 'profile_not_found' not in recruitment_status['errors']:\n",
    "                recruitment_status['errors']['profile_not_found'] = []\n",
    "            recruitment_status['errors']['profile_not_found'].append(email)\n",
    "        elif invited_group_ids:\n",
    "            invited_group_id=invited_group_ids[0]\n",
    "            if invited_group_id not in recruitment_status['already_invited']:\n",
    "                recruitment_status['already_invited'][invited_group_id] = [] \n",
    "            recruitment_status['already_invited'][invited_group_id].append(email)\n",
    "        elif member_group_ids:\n",
    "            member_group_id = member_group_ids[0]\n",
    "            if member_group_id not in recruitment_status['already_member']:\n",
    "                recruitment_status['already_member'][member_group_id] = []\n",
    "            recruitment_status['already_member'][member_group_id].append(email)\n",
    "        else:\n",
    "            name = invitee_names[index] if (invitee_names and index < len(invitee_names)) else None\n",
    "            if not name and not is_profile_id:\n",
    "                name = 'invitee'\n",
    "            try:\n",
    "                openreview.tools.recruit_reviewer(client, email, name,\n",
    "                    '1234',\n",
    "                    f'{venue_id}/{committee_name}/-/Recruitment',\n",
    "                    recruitment_template,\n",
    "                    recruitment_subject,\n",
    "                    f'{venue_id}/{committee_name}/Invited',\n",
    "                    contact_email,\n",
    "                    verbose=False)\n",
    "                recruitment_status['invited'].append(email)\n",
    "            except Exception as e:\n",
    "                error_string = repr(e)\n",
    "\n",
    "    print(\"Invited users:\", len(recruitment_status['invited']))\n",
    "\n",
    "    # add recruitment status to edit content\n",
    "    if recruitment_status['invited']:\n",
    "        edit.content['invitedStatus'] = {\n",
    "            'value': recruitment_status['invited']\n",
    "        }\n",
    "    if recruitment_status['already_invited']:\n",
    "        edit.content['alreadyInvitedStatus'] = {\n",
    "            'value': recruitment_status['already_invited']\n",
    "        }\n",
    "    if recruitment_status['already_member']:\n",
    "        edit.content['alreadyMemberStatus'] = {\n",
    "            'value': recruitment_status['already_member']\n",
    "        }\n",
    "    if recruitment_status['errors']:\n",
    "        edit.content['errorStatus'] = {\n",
    "            'value': recruitment_status['errors']\n",
    "        }\n",
    "    client.post_edit(edit)\n"
   ]
  },
  {
   "cell_type": "code",
   "execution_count": 12,
   "id": "a13c9865",
   "metadata": {},
   "outputs": [],
   "source": [
    "edit = client.post_group_edit(\n",
    "        invitation='Venue.cc/Reviewers/Invited/-/Recruitment',\n",
    "        content={\n",
    "            'inviteeDetails': { 'value':  'reviewer2@venue.cc, Reviewer VenueTwo\\n~Reviewer_VenueThree1' }\n",
    "        },\n",
    "        group=openreview.api.Group()\n",
    "    )"
   ]
  },
  {
   "cell_type": "code",
   "execution_count": 24,
   "id": "7df22e1b",
   "metadata": {},
   "outputs": [
    {
     "ename": "OpenReviewException",
     "evalue": "{'name': 'ForbiddenError', 'message': 'User Super User is not reader of ~Reviewer_VenueThree1', 'status': 403, 'details': {'user': '~Super_User1', 'reqId': '2023-10-24-160'}}",
     "output_type": "error",
     "traceback": [
      "\u001b[0;31m---------------------------------------------------------------------------\u001b[0m",
      "\u001b[0;31mHTTPError\u001b[0m                                 Traceback (most recent call last)",
      "File \u001b[0;32m~/openreview/openreview-py/openreview/api/client.py:112\u001b[0m, in \u001b[0;36mOpenReviewClient.__handle_response\u001b[0;34m(self, response)\u001b[0m\n\u001b[1;32m    111\u001b[0m \u001b[39mtry\u001b[39;00m:\n\u001b[0;32m--> 112\u001b[0m     response\u001b[39m.\u001b[39;49mraise_for_status()\n\u001b[1;32m    113\u001b[0m     \u001b[39mreturn\u001b[39;00m response\n",
      "File \u001b[0;32m~/openreview/py-3.8/lib/python3.8/site-packages/requests/models.py:960\u001b[0m, in \u001b[0;36mResponse.raise_for_status\u001b[0;34m(self)\u001b[0m\n\u001b[1;32m    959\u001b[0m \u001b[39mif\u001b[39;00m http_error_msg:\n\u001b[0;32m--> 960\u001b[0m     \u001b[39mraise\u001b[39;00m HTTPError(http_error_msg, response\u001b[39m=\u001b[39m\u001b[39mself\u001b[39m)\n",
      "\u001b[0;31mHTTPError\u001b[0m: 403 Client Error: Forbidden for url: http://localhost:3001/groups?id=~Reviewer_VenueThree1",
      "\nDuring handling of the above exception, another exception occurred:\n",
      "\u001b[0;31mOpenReviewException\u001b[0m                       Traceback (most recent call last)",
      "\u001b[1;32m/Users/melisabok/Venue Local.ipynb Cell 6\u001b[0m in \u001b[0;36m<cell line: 1>\u001b[0;34m()\u001b[0m\n\u001b[0;32m----> <a href='vscode-notebook-cell:/Users/melisabok/Venue%20Local.ipynb#Y104sZmlsZQ%3D%3D?line=0'>1</a>\u001b[0m client\u001b[39m.\u001b[39;49mget_group(\u001b[39m'\u001b[39;49m\u001b[39m~Reviewer_VenueThree1\u001b[39;49m\u001b[39m'\u001b[39;49m)\n",
      "File \u001b[0;32m~/openreview/openreview-py/openreview/api/client.py:264\u001b[0m, in \u001b[0;36mOpenReviewClient.get_group\u001b[0;34m(self, id)\u001b[0m\n\u001b[1;32m    250\u001b[0m \u001b[39m\"\"\"\u001b[39;00m\n\u001b[1;32m    251\u001b[0m \u001b[39mGet a single Group by id if available\u001b[39;00m\n\u001b[1;32m    252\u001b[0m \n\u001b[0;32m   (...)\u001b[0m\n\u001b[1;32m    261\u001b[0m \u001b[39m>>> group = client.get_group('your-email@domain.com')\u001b[39;00m\n\u001b[1;32m    262\u001b[0m \u001b[39m\"\"\"\u001b[39;00m\n\u001b[1;32m    263\u001b[0m response \u001b[39m=\u001b[39m \u001b[39mself\u001b[39m\u001b[39m.\u001b[39msession\u001b[39m.\u001b[39mget(\u001b[39mself\u001b[39m\u001b[39m.\u001b[39mgroups_url, params \u001b[39m=\u001b[39m {\u001b[39m'\u001b[39m\u001b[39mid\u001b[39m\u001b[39m'\u001b[39m:\u001b[39mid\u001b[39m}, headers \u001b[39m=\u001b[39m \u001b[39mself\u001b[39m\u001b[39m.\u001b[39mheaders)\n\u001b[0;32m--> 264\u001b[0m response \u001b[39m=\u001b[39m \u001b[39mself\u001b[39;49m\u001b[39m.\u001b[39;49m__handle_response(response)\n\u001b[1;32m    265\u001b[0m g \u001b[39m=\u001b[39m response\u001b[39m.\u001b[39mjson()[\u001b[39m'\u001b[39m\u001b[39mgroups\u001b[39m\u001b[39m'\u001b[39m][\u001b[39m0\u001b[39m]\n\u001b[1;32m    266\u001b[0m group \u001b[39m=\u001b[39m Group\u001b[39m.\u001b[39mfrom_json(g)\n",
      "File \u001b[0;32m~/openreview/openreview-py/openreview/api/client.py:127\u001b[0m, in \u001b[0;36mOpenReviewClient.__handle_response\u001b[0;34m(self, response)\u001b[0m\n\u001b[1;32m    122\u001b[0m \u001b[39melse\u001b[39;00m:\n\u001b[1;32m    123\u001b[0m     error \u001b[39m=\u001b[39m {\n\u001b[1;32m    124\u001b[0m         \u001b[39m'\u001b[39m\u001b[39mname\u001b[39m\u001b[39m'\u001b[39m: \u001b[39m'\u001b[39m\u001b[39mError\u001b[39m\u001b[39m'\u001b[39m,\n\u001b[1;32m    125\u001b[0m         \u001b[39m'\u001b[39m\u001b[39mmessage\u001b[39m\u001b[39m'\u001b[39m: response\u001b[39m.\u001b[39mreason\n\u001b[1;32m    126\u001b[0m     }\n\u001b[0;32m--> 127\u001b[0m \u001b[39mraise\u001b[39;00m OpenReviewException(error)\n",
      "\u001b[0;31mOpenReviewException\u001b[0m: {'name': 'ForbiddenError', 'message': 'User Super User is not reader of ~Reviewer_VenueThree1', 'status': 403, 'details': {'user': '~Super_User1', 'reqId': '2023-10-24-160'}}"
     ]
    }
   ],
   "source": [
    "client.get_group('~Reviewer_VenueThree1')"
   ]
  },
  {
   "cell_type": "code",
   "execution_count": 22,
   "id": "b164b675",
   "metadata": {},
   "outputs": [
    {
     "ename": "AttributeError",
     "evalue": "'Edit' object has no attribute 'content'",
     "output_type": "error",
     "traceback": [
      "\u001b[0;31m---------------------------------------------------------------------------\u001b[0m",
      "\u001b[0;31mAttributeError\u001b[0m                            Traceback (most recent call last)",
      "\u001b[1;32m/Users/melisabok/Venue Local.ipynb Cell 6\u001b[0m in \u001b[0;36m<cell line: 1>\u001b[0;34m()\u001b[0m\n\u001b[0;32m----> <a href='vscode-notebook-cell:/Users/melisabok/Venue%20Local.ipynb#Y103sZmlsZQ%3D%3D?line=0'>1</a>\u001b[0m process(client, edit, client\u001b[39m.\u001b[39;49mget_invitation(\u001b[39m'\u001b[39;49m\u001b[39mVenue.cc/Reviewers/Invited/-/Recruitment\u001b[39;49m\u001b[39m'\u001b[39;49m))\n",
      "\u001b[1;32m/Users/melisabok/Venue Local.ipynb Cell 6\u001b[0m in \u001b[0;36mprocess\u001b[0;34m(client, edit, invitation)\u001b[0m\n\u001b[1;32m     <a href='vscode-notebook-cell:/Users/melisabok/Venue%20Local.ipynb#Y103sZmlsZQ%3D%3D?line=12'>13</a>\u001b[0m official_committee_roles \u001b[39m=\u001b[39m invitation\u001b[39m.\u001b[39mcontent[\u001b[39m'\u001b[39m\u001b[39mofficial_committee_roles\u001b[39m\u001b[39m'\u001b[39m][\u001b[39m'\u001b[39m\u001b[39mvalue\u001b[39m\u001b[39m'\u001b[39m]\n\u001b[1;32m     <a href='vscode-notebook-cell:/Users/melisabok/Venue%20Local.ipynb#Y103sZmlsZQ%3D%3D?line=13'>14</a>\u001b[0m committee_roles \u001b[39m=\u001b[39m official_committee_roles \u001b[39mif\u001b[39;00m (committee_name \u001b[39min\u001b[39;00m official_committee_roles \u001b[39mand\u001b[39;00m \u001b[39mnot\u001b[39;00m allow_overlap) \u001b[39melse\u001b[39;00m [committee_name]\n\u001b[0;32m---> <a href='vscode-notebook-cell:/Users/melisabok/Venue%20Local.ipynb#Y103sZmlsZQ%3D%3D?line=15'>16</a>\u001b[0m invitee_details \u001b[39m=\u001b[39m edit\u001b[39m.\u001b[39;49mcontent[\u001b[39m'\u001b[39m\u001b[39minviteeDetails\u001b[39m\u001b[39m'\u001b[39m][\u001b[39m'\u001b[39m\u001b[39mvalue\u001b[39m\u001b[39m'\u001b[39m]\u001b[39m.\u001b[39mstrip()\u001b[39m.\u001b[39msplit(\u001b[39m'\u001b[39m\u001b[39m\\n\u001b[39;00m\u001b[39m'\u001b[39m)\n\u001b[1;32m     <a href='vscode-notebook-cell:/Users/melisabok/Venue%20Local.ipynb#Y103sZmlsZQ%3D%3D?line=17'>18</a>\u001b[0m recruitment_status \u001b[39m=\u001b[39m {\n\u001b[1;32m     <a href='vscode-notebook-cell:/Users/melisabok/Venue%20Local.ipynb#Y103sZmlsZQ%3D%3D?line=18'>19</a>\u001b[0m     \u001b[39m'\u001b[39m\u001b[39minvited\u001b[39m\u001b[39m'\u001b[39m: [],\n\u001b[1;32m     <a href='vscode-notebook-cell:/Users/melisabok/Venue%20Local.ipynb#Y103sZmlsZQ%3D%3D?line=19'>20</a>\u001b[0m     \u001b[39m'\u001b[39m\u001b[39malready_invited\u001b[39m\u001b[39m'\u001b[39m: {},\n\u001b[1;32m     <a href='vscode-notebook-cell:/Users/melisabok/Venue%20Local.ipynb#Y103sZmlsZQ%3D%3D?line=20'>21</a>\u001b[0m     \u001b[39m'\u001b[39m\u001b[39malready_member\u001b[39m\u001b[39m'\u001b[39m: {},\n\u001b[1;32m     <a href='vscode-notebook-cell:/Users/melisabok/Venue%20Local.ipynb#Y103sZmlsZQ%3D%3D?line=21'>22</a>\u001b[0m     \u001b[39m'\u001b[39m\u001b[39merrors\u001b[39m\u001b[39m'\u001b[39m: {}\n\u001b[1;32m     <a href='vscode-notebook-cell:/Users/melisabok/Venue%20Local.ipynb#Y103sZmlsZQ%3D%3D?line=22'>23</a>\u001b[0m }\n\u001b[1;32m     <a href='vscode-notebook-cell:/Users/melisabok/Venue%20Local.ipynb#Y103sZmlsZQ%3D%3D?line=24'>25</a>\u001b[0m invitee_emails \u001b[39m=\u001b[39m []\n",
      "\u001b[0;31mAttributeError\u001b[0m: 'Edit' object has no attribute 'content'"
     ]
    }
   ],
   "source": [
    "process(client, edit, client.get_invitation('Venue.cc/Reviewers/Invited/-/Recruitment'))"
   ]
  },
  {
   "cell_type": "code",
   "execution_count": 14,
   "id": "01e8996f",
   "metadata": {},
   "outputs": [
    {
     "data": {
      "text/plain": [
       "'P2SFBM9SmU'"
      ]
     },
     "execution_count": 14,
     "metadata": {},
     "output_type": "execute_result"
    }
   ],
   "source": [
    "edit['id']"
   ]
  },
  {
   "cell_type": "code",
   "execution_count": 9,
   "id": "75abcf9f",
   "metadata": {},
   "outputs": [
    {
     "data": {
      "text/plain": [
       "{'token': 'eyJhbGciOiJIUzI1NiIsInR5cCI6IkpXVCJ9.eyJ1c2VyIjp7ImlkIjoiVmVudWUuY2MiLCJwcm9maWxlIjp7ImlkIjoiflN1cGVyX1VzZXIxIiwiZnVsbG5hbWUiOiJTdXBlciBVc2VyIiwiZmlyc3QiOiJTdXBlciIsImxhc3QiOiJVc2VyIiwiZW1haWxzIjpbIm9wZW5yZXZpZXcubmV0Il0sInByZWZlcnJlZEVtYWlsIjoiaW5mb0BvcGVucmV2aWV3Lm5ldCIsInVzZXJuYW1lcyI6WyJ-U3VwZXJfVXNlcjEiXSwicHJlZmVycmVkSWQiOiJ-U3VwZXJfVXNlcjEiLCJzdGF0ZSI6IkFjdGl2ZSJ9LCJpbXBlcnNvbmF0b3IiOnsiaWQiOiJvcGVucmV2aWV3Lm5ldCIsInByb2ZpbGUiOnsiaWQiOiJ-U3VwZXJfVXNlcjEiLCJmdWxsbmFtZSI6IlN1cGVyIFVzZXIiLCJmaXJzdCI6IlN1cGVyIiwibGFzdCI6IlVzZXIiLCJlbWFpbHMiOlsib3BlbnJldmlldy5uZXQiXSwicHJlZmVycmVkRW1haWwiOiJpbmZvQG9wZW5yZXZpZXcubmV0IiwidXNlcm5hbWVzIjpbIn5TdXBlcl9Vc2VyMSJdLCJwcmVmZXJyZWRJZCI6In5TdXBlcl9Vc2VyMSIsInN0YXRlIjoiQWN0aXZlIn0sImlzU3VwZXJVc2VyIjp0cnVlfX0sImlhdCI6MTY5ODE3OTc0NywiZXhwIjoxNjk4MjY2MTQ3LCJpc3MiOiJvcGVucmV2aWV3In0.oshFsE_V7ypPP3ujNWaPw5_7aB_9nOL4giSlij9e56k',\n",
       " 'user': {'id': 'Venue.cc',\n",
       "  'profile': {'id': '~Super_User1',\n",
       "   'fullname': 'Super User',\n",
       "   'first': 'Super',\n",
       "   'last': 'User',\n",
       "   'emails': ['openreview.net'],\n",
       "   'preferredEmail': 'info@openreview.net',\n",
       "   'usernames': ['~Super_User1'],\n",
       "   'preferredId': '~Super_User1',\n",
       "   'state': 'Active'},\n",
       "  'impersonator': {'id': 'openreview.net',\n",
       "   'profile': {'id': '~Super_User1',\n",
       "    'fullname': 'Super User',\n",
       "    'first': 'Super',\n",
       "    'last': 'User',\n",
       "    'emails': ['openreview.net'],\n",
       "    'preferredEmail': 'info@openreview.net',\n",
       "    'usernames': ['~Super_User1'],\n",
       "    'preferredId': '~Super_User1',\n",
       "    'state': 'Active'},\n",
       "   'isSuperUser': True}}}"
      ]
     },
     "execution_count": 9,
     "metadata": {},
     "output_type": "execute_result"
    }
   ],
   "source": [
    "client.impersonate('Venue.cc')"
   ]
  },
  {
   "cell_type": "code",
   "execution_count": 11,
   "id": "8a79a28f",
   "metadata": {},
   "outputs": [
    {
     "data": {
      "text/plain": [
       "[]"
      ]
     },
     "execution_count": 11,
     "metadata": {},
     "output_type": "execute_result"
    }
   ],
   "source": [
    "client.get_groups(member='~Reviewer_VenueThree1', prefix='Venue.cc')"
   ]
  },
  {
   "cell_type": "code",
   "execution_count": 3,
   "id": "d3900ee9",
   "metadata": {},
   "outputs": [],
   "source": [
    "venue = openreview.helpers.get_conference(client_v1, 'vDVgA3kxt2')"
   ]
  },
  {
   "cell_type": "code",
   "execution_count": null,
   "id": "eb89c8d7",
   "metadata": {},
   "outputs": [],
   "source": []
  },
  {
   "cell_type": "code",
   "execution_count": 5,
   "id": "52d1478c",
   "metadata": {},
   "outputs": [],
   "source": [
    "invitation_builder = openreview.arr.InvitationBuilder(venue)\n"
   ]
  },
  {
   "cell_type": "code",
   "execution_count": 6,
   "id": "22da8de7",
   "metadata": {},
   "outputs": [],
   "source": [
    "invitation_builder.set_preprint_release_submission_invitation()"
   ]
  },
  {
   "cell_type": "markdown",
   "id": "b0ef1dad",
   "metadata": {},
   "source": []
  },
  {
   "cell_type": "code",
   "execution_count": 3,
   "id": "42d61c04",
   "metadata": {},
   "outputs": [],
   "source": [
    "edit = client.get_note_edit('RVNKbn1Dez')"
   ]
  },
  {
   "cell_type": "code",
   "execution_count": 4,
   "id": "96fb3414",
   "metadata": {},
   "outputs": [
    {
     "ename": "AttributeError",
     "evalue": "'NoneType' object has no attribute 'items'",
     "output_type": "error",
     "traceback": [
      "\u001b[0;31m---------------------------------------------------------------------------\u001b[0m",
      "\u001b[0;31mAttributeError\u001b[0m                            Traceback (most recent call last)",
      "\u001b[1;32m/Users/melisabok/Venue Local.ipynb Cell 4\u001b[0m in \u001b[0;36m<cell line: 3>\u001b[0;34m()\u001b[0m\n\u001b[1;32m      <a href='vscode-notebook-cell:/Users/melisabok/Venue%20Local.ipynb#X54sZmlsZQ%3D%3D?line=0'>1</a>\u001b[0m SUPPORT_GROUP \u001b[39m=\u001b[39m \u001b[39m'\u001b[39m\u001b[39mopenreview.net/Support\u001b[39m\u001b[39m'\u001b[39m\n\u001b[0;32m----> <a href='vscode-notebook-cell:/Users/melisabok/Venue%20Local.ipynb#X54sZmlsZQ%3D%3D?line=2'>3</a>\u001b[0m journal \u001b[39m=\u001b[39m openreview\u001b[39m.\u001b[39;49mjournal\u001b[39m.\u001b[39;49mJournalRequest\u001b[39m.\u001b[39;49mget_journal(client, edit\u001b[39m.\u001b[39;49mnote\u001b[39m.\u001b[39;49mid, setup\u001b[39m=\u001b[39;49m\u001b[39mTrue\u001b[39;49;00m)\n\u001b[1;32m      <a href='vscode-notebook-cell:/Users/melisabok/Venue%20Local.ipynb#X54sZmlsZQ%3D%3D?line=3'>4</a>\u001b[0m journal_request \u001b[39m=\u001b[39m openreview\u001b[39m.\u001b[39mjournal\u001b[39m.\u001b[39mJournalRequest(client, SUPPORT_GROUP)\n\u001b[1;32m      <a href='vscode-notebook-cell:/Users/melisabok/Venue%20Local.ipynb#X54sZmlsZQ%3D%3D?line=4'>5</a>\u001b[0m journal_request\u001b[39m.\u001b[39msetup_journal_group(edit\u001b[39m.\u001b[39mnote\u001b[39m.\u001b[39mid)\n",
      "File \u001b[0;32m~/openreview/openreview-py/openreview/journal/journal_request/journal_request.py:27\u001b[0m, in \u001b[0;36mJournalRequest.get_journal\u001b[0;34m(JournalRequest, client, journal_request_id, setup)\u001b[0m\n\u001b[1;32m     24\u001b[0m journal\u001b[39m.\u001b[39mrequest_form_id \u001b[39m=\u001b[39m journal_request_id\n\u001b[1;32m     26\u001b[0m \u001b[39mif\u001b[39;00m setup:\n\u001b[0;32m---> 27\u001b[0m     journal\u001b[39m.\u001b[39;49msetup(support_role, editors\u001b[39m=\u001b[39;49meditors, assignment_delay\u001b[39m=\u001b[39;49massignment_delay)\n\u001b[1;32m     29\u001b[0m \u001b[39mreturn\u001b[39;00m journal\n",
      "File \u001b[0;32m~/openreview/openreview-py/openreview/journal/journal.py:362\u001b[0m, in \u001b[0;36mJournal.setup\u001b[0;34m(self, support_role, editors, assignment_delay)\u001b[0m\n\u001b[1;32m    360\u001b[0m \u001b[39mdef\u001b[39;00m \u001b[39msetup\u001b[39m(\u001b[39mself\u001b[39m, support_role, editors\u001b[39m=\u001b[39m[], assignment_delay\u001b[39m=\u001b[39m\u001b[39m5\u001b[39m):\n\u001b[1;32m    361\u001b[0m     \u001b[39mself\u001b[39m\u001b[39m.\u001b[39minvitation_builder\u001b[39m.\u001b[39mset_meta_invitation()\n\u001b[0;32m--> 362\u001b[0m     \u001b[39mself\u001b[39;49m\u001b[39m.\u001b[39;49mgroup_builder\u001b[39m.\u001b[39;49mset_groups(support_role, editors)\n\u001b[1;32m    363\u001b[0m     \u001b[39mself\u001b[39m\u001b[39m.\u001b[39minvitation_builder\u001b[39m.\u001b[39mset_invitations(assignment_delay)\n\u001b[1;32m    364\u001b[0m     \u001b[39mself\u001b[39m\u001b[39m.\u001b[39mgroup_builder\u001b[39m.\u001b[39mset_group_variable(\u001b[39mself\u001b[39m\u001b[39m.\u001b[39mget_action_editors_id(), \u001b[39m'\u001b[39m\u001b[39mREVIEWER_REPORT_ID\u001b[39m\u001b[39m'\u001b[39m, \u001b[39mself\u001b[39m\u001b[39m.\u001b[39mget_reviewer_report_form())\n",
      "File \u001b[0;32m~/openreview/openreview-py/openreview/journal/group.py:87\u001b[0m, in \u001b[0;36mGroupBuilder.set_groups\u001b[0;34m(self, support_role, editors)\u001b[0m\n\u001b[1;32m     84\u001b[0m \u001b[39mif\u001b[39;00m \u001b[39mself\u001b[39m\u001b[39m.\u001b[39mjournal\u001b[39m.\u001b[39mget_website_url(\u001b[39m'\u001b[39m\u001b[39mvideos\u001b[39m\u001b[39m'\u001b[39m):\n\u001b[1;32m     85\u001b[0m     content[\u001b[39m'\u001b[39m\u001b[39mvideos_url\u001b[39m\u001b[39m'\u001b[39m] \u001b[39m=\u001b[39m { \u001b[39m'\u001b[39m\u001b[39mvalue\u001b[39m\u001b[39m'\u001b[39m: \u001b[39mself\u001b[39m\u001b[39m.\u001b[39mjournal\u001b[39m.\u001b[39mget_website_url(\u001b[39m'\u001b[39m\u001b[39mvideos\u001b[39m\u001b[39m'\u001b[39m) }\n\u001b[0;32m---> 87\u001b[0m update_content \u001b[39m=\u001b[39m \u001b[39mself\u001b[39;49m\u001b[39m.\u001b[39;49mget_update_content(venue_group\u001b[39m.\u001b[39;49mcontent, content)\n\u001b[1;32m     88\u001b[0m \u001b[39mif\u001b[39;00m update_content:\n\u001b[1;32m     89\u001b[0m     \u001b[39mself\u001b[39m\u001b[39m.\u001b[39mclient\u001b[39m.\u001b[39mpost_group_edit(\n\u001b[1;32m     90\u001b[0m         invitation \u001b[39m=\u001b[39m \u001b[39mself\u001b[39m\u001b[39m.\u001b[39mjournal\u001b[39m.\u001b[39mget_meta_invitation_id(),\n\u001b[1;32m     91\u001b[0m         readers \u001b[39m=\u001b[39m [venue_id],\n\u001b[0;32m   (...)\u001b[0m\n\u001b[1;32m     97\u001b[0m         )\n\u001b[1;32m     98\u001b[0m     )            \n",
      "File \u001b[0;32m~/openreview/openreview-py/openreview/journal/group.py:33\u001b[0m, in \u001b[0;36mGroupBuilder.get_update_content\u001b[0;34m(self, current_content, new_content)\u001b[0m\n\u001b[1;32m     30\u001b[0m \u001b[39mdef\u001b[39;00m \u001b[39mget_update_content\u001b[39m(\u001b[39mself\u001b[39m, current_content, new_content):\n\u001b[1;32m     31\u001b[0m     update_content \u001b[39m=\u001b[39m {}\n\u001b[0;32m---> 33\u001b[0m     \u001b[39mfor\u001b[39;00m key, value \u001b[39min\u001b[39;00m current_content\u001b[39m.\u001b[39;49mitems():\n\u001b[1;32m     34\u001b[0m         \u001b[39mif\u001b[39;00m key \u001b[39min\u001b[39;00m new_content \u001b[39mand\u001b[39;00m value \u001b[39m!=\u001b[39m new_content[key]:\n\u001b[1;32m     35\u001b[0m             update_content[key] \u001b[39m=\u001b[39m new_content[key]\n",
      "\u001b[0;31mAttributeError\u001b[0m: 'NoneType' object has no attribute 'items'"
     ]
    }
   ],
   "source": [
    "SUPPORT_GROUP = 'openreview.net/Support'\n",
    "\n",
    "journal = openreview.journal.JournalRequest.get_journal(client, edit.note.id, setup=True)\n",
    "journal_request = openreview.journal.JournalRequest(client, SUPPORT_GROUP)\n",
    "journal_request.setup_journal_group(edit.note.id)\n",
    "journal_request.setup_comment_invitation(edit.note.id, journal.get_action_editors_id())\n",
    "journal_request.setup_recruitment_invitations(edit.note.id)\n",
    "journal_request.setup_recruitment_by_action_editors(edit.note.id)"
   ]
  },
  {
   "cell_type": "code",
   "execution_count": 4,
   "id": "cb2f3d29",
   "metadata": {},
   "outputs": [
    {
     "data": {
      "text/plain": [
       "{'groups': [{'id': '~AC_ICMLTwo1',\n",
       "   'message': {'id': 'S3hhVQLTeZ1g',\n",
       "    'delivered': False,\n",
       "    'cdate': 1691515281982,\n",
       "    'content': {'from': 'openreview@local.openreview.net',\n",
       "     'fromname': 'OpenReview',\n",
       "     'to': 'ac2@icml.cc',\n",
       "     'replyTo': None,\n",
       "     'subject': 'test',\n",
       "     'text': 'test',\n",
       "     'sendAt': 1691515282},\n",
       "    'tauthor': 'openreview.net',\n",
       "    'referrer': 'ICML.cc/2023/Conference/Submission1/Area_Chairs',\n",
       "    '_id': '64d2799172995fb4c8a893dd'}}]}"
      ]
     },
     "execution_count": 4,
     "metadata": {},
     "output_type": "execute_result"
    }
   ],
   "source": [
    "client.post_message(recipients=['~AC_ICMLTwo1'], subject='test', message='test', parentGroup='ICML.cc/2023/Conference/Submission1/Area_Chairs')"
   ]
  },
  {
   "cell_type": "code",
   "execution_count": 4,
   "id": "78f14df2",
   "metadata": {},
   "outputs": [],
   "source": [
    "group = client.get_group('ICML.cc/2023/Conference/Submission1/Area_Chairs')"
   ]
  },
  {
   "cell_type": "code",
   "execution_count": 8,
   "id": "237f1179",
   "metadata": {},
   "outputs": [
    {
     "name": "stdout",
     "output_type": "stream",
     "text": [
      "add members ['~AC_ICMLTwo1']\n"
     ]
    },
    {
     "data": {
      "text/plain": [
       "Group(id = 'ICML.cc/2023/Conference/Submission1/Area_Chairs',invitation = None,invitations = ['ICML.cc/2023/Conference/Area_Chairs/-/Submission_Group', 'ICML.cc/2023/Conference/-/Edit'],content = None,cdate = 1691443074603,ddate = None,tcdate = 1691443074603,tmdate = 1691453713860,writers = ['ICML.cc/2023/Conference'],members = [],readers = ['ICML.cc/2023/Conference', 'ICML.cc/2023/Conference/Program_Chairs', 'ICML.cc/2023/Conference/Submission1/Senior_Area_Chairs', 'ICML.cc/2023/Conference/Submission1/Area_Chairs', 'ICML.cc/2023/Conference/Submission1/Reviewers'],nonreaders = ['ICML.cc/2023/Conference/Submission1/Authors'],signatures = ['ICML.cc/2023/Conference'],signatories = ['ICML.cc/2023/Conference'],anonids = True,web = None,impersonators = None,host = None,domain = 'ICML.cc/2023/Conference',parent = 'ICML.cc/2023/Conference/Submission1',deanonymizers = ['ICML.cc/2023/Conference', 'ICML.cc/2023/Conference/Program_Chairs', 'ICML.cc/2023/Conference/Submission1/Senior_Area_Chairs', 'ICML.cc/2023/Conference/Submission1/Area_Chairs', 'ICML.cc/2023/Conference/Submission1/Reviewers'],details = {'writable': True},anon_members = [])"
      ]
     },
     "execution_count": 8,
     "metadata": {},
     "output_type": "execute_result"
    }
   ],
   "source": [
    "client.add_members_to_group('ICML.cc/2023/Conference/Submission1/Area_Chairs', ['~AC_ICMLTwo1'])"
   ]
  },
  {
   "cell_type": "code",
   "execution_count": 5,
   "id": "81730693",
   "metadata": {},
   "outputs": [
    {
     "data": {
      "text/plain": [
       "[]"
      ]
     },
     "execution_count": 5,
     "metadata": {},
     "output_type": "execute_result"
    }
   ],
   "source": [
    "group.members"
   ]
  },
  {
   "cell_type": "code",
   "execution_count": 6,
   "id": "52d303cc",
   "metadata": {},
   "outputs": [
    {
     "data": {
      "text/plain": [
       "[]"
      ]
     },
     "execution_count": 6,
     "metadata": {},
     "output_type": "execute_result"
    }
   ],
   "source": [
    "group.anon_members"
   ]
  },
  {
   "cell_type": "code",
   "execution_count": 5,
   "id": "259816a4",
   "metadata": {},
   "outputs": [
    {
     "name": "stdout",
     "output_type": "stream",
     "text": [
      "anonids_by_member {'~AC_ICMLOne1': 'ICML.cc/2023/Conference/Submission1/Area_Chair_Enux'}\n",
      "members_to_remove ['ICML.cc/2023/Conference/Submission1/Area_Chair_Enux']\n"
     ]
    },
    {
     "data": {
      "text/plain": [
       "Group(id = 'ICML.cc/2023/Conference/Submission1/Area_Chairs',invitation = None,invitations = ['ICML.cc/2023/Conference/Area_Chairs/-/Submission_Group', 'ICML.cc/2023/Conference/-/Edit'],content = None,cdate = 1691421875056,ddate = None,tcdate = 1691421875056,tmdate = 1691422543137,writers = ['ICML.cc/2023/Conference'],members = [],readers = ['ICML.cc/2023/Conference', 'ICML.cc/2023/Conference/Program_Chairs', 'ICML.cc/2023/Conference/Submission1/Senior_Area_Chairs', 'ICML.cc/2023/Conference/Submission1/Area_Chairs', 'ICML.cc/2023/Conference/Submission1/Reviewers'],nonreaders = ['ICML.cc/2023/Conference/Submission1/Authors'],signatures = ['ICML.cc/2023/Conference'],signatories = ['ICML.cc/2023/Conference'],anonids = True,web = None,impersonators = None,host = None,domain = 'ICML.cc/2023/Conference',parent = 'ICML.cc/2023/Conference/Submission1',deanonymizers = ['ICML.cc/2023/Conference', 'ICML.cc/2023/Conference/Program_Chairs', 'ICML.cc/2023/Conference/Submission1/Senior_Area_Chairs', 'ICML.cc/2023/Conference/Submission1/Area_Chairs', 'ICML.cc/2023/Conference/Submission1/Reviewers'],details = {'writable': True})"
      ]
     },
     "execution_count": 5,
     "metadata": {},
     "output_type": "execute_result"
    }
   ],
   "source": [
    "client.remove_members_from_group('ICML.cc/2023/Conference/Submission1/Area_Chairs', '~AC_ICMLOne1')"
   ]
  },
  {
   "cell_type": "code",
   "execution_count": 3,
   "id": "411b9ea7",
   "metadata": {},
   "outputs": [],
   "source": [
    "edge = client.get_edge('db4ArsmwPeK8LS')"
   ]
  },
  {
   "cell_type": "code",
   "execution_count": 8,
   "id": "ccd3c03d",
   "metadata": {},
   "outputs": [
    {
     "data": {
      "text/plain": [
       "Edge(id = 'db4ArsmwPeK8LS',invitation = 'ICML.cc/2023/Conference/Area_Chairs/-/Assignment',domain = 'ICML.cc/2023/Conference',head = 'cYnCK0HzQx',tail = '~AC_ICMLOne1',weight = 1,label = None,cdate = 1691181408807,ddate = None,readers = ['ICML.cc/2023/Conference', 'ICML.cc/2023/Conference/Submission2/Senior_Area_Chairs', '~AC_ICMLOne1'],nonreaders = ['ICML.cc/2023/Conference/Submission2/Authors'],writers = ['ICML.cc/2023/Conference', 'ICML.cc/2023/Conference/Submission2/Senior_Area_Chairs'],signatures = ['ICML.cc/2023/Conference/Program_Chairs'],tcdate = 1691181408807,tmdate = 1691416156000,tddate = None,tauthor = 'pc@icml.cc')"
      ]
     },
     "execution_count": 8,
     "metadata": {},
     "output_type": "execute_result"
    }
   ],
   "source": [
    "#edge.ddate = 1691181408807\n",
    "edge.ddate = {'delete': True}\n",
    "\n",
    "client.post_edge(edge)"
   ]
  },
  {
   "cell_type": "code",
   "execution_count": 3,
   "id": "abd13fae",
   "metadata": {},
   "outputs": [
    {
     "data": {
      "text/plain": [
       "Group(id = 'ICML.cc/2023/Conference/Submission1/Area_Chairs',invitation = None,invitations = ['ICML.cc/2023/Conference/Area_Chairs/-/Submission_Group', 'ICML.cc/2023/Conference/-/Edit'],content = None,cdate = 1691181331456,ddate = None,tcdate = 1691181331456,tmdate = 1691181554552,writers = ['ICML.cc/2023/Conference'],members = [],readers = ['ICML.cc/2023/Conference', 'ICML.cc/2023/Conference/Program_Chairs', 'ICML.cc/2023/Conference/Submission1/Senior_Area_Chairs', 'ICML.cc/2023/Conference/Submission1/Area_Chairs', 'ICML.cc/2023/Conference/Submission1/Reviewers'],nonreaders = ['ICML.cc/2023/Conference/Submission1/Authors'],signatures = ['ICML.cc/2023/Conference'],signatories = ['ICML.cc/2023/Conference'],anonids = True,web = None,impersonators = None,host = None,domain = 'ICML.cc/2023/Conference',parent = 'ICML.cc/2023/Conference/Submission1',deanonymizers = ['ICML.cc/2023/Conference', 'ICML.cc/2023/Conference/Program_Chairs', 'ICML.cc/2023/Conference/Submission1/Senior_Area_Chairs', 'ICML.cc/2023/Conference/Submission1/Area_Chairs', 'ICML.cc/2023/Conference/Submission1/Reviewers'],details = {'writable': True})"
      ]
     },
     "execution_count": 3,
     "metadata": {},
     "output_type": "execute_result"
    }
   ],
   "source": [
    "client.remove_members_from_group('ICML.cc/2023/Conference/Submission1/Area_Chairs', '~AC_ICMLOne1')"
   ]
  },
  {
   "cell_type": "code",
   "execution_count": 6,
   "id": "a36f7c93",
   "metadata": {},
   "outputs": [],
   "source": [
    "invitation = client.get_invitation('ACM.org/TheWebConf/2024/Conference/Econ_Area_Chairs/-/Proposed_Assignment')"
   ]
  },
  {
   "cell_type": "code",
   "execution_count": 12,
   "id": "5f4b1c1a",
   "metadata": {},
   "outputs": [
    {
     "data": {
      "text/plain": [
       "{'track': 'Economics, Online Markets, and Human Computation'}"
      ]
     },
     "execution_count": 12,
     "metadata": {},
     "output_type": "execute_result"
    }
   ],
   "source": [
    "invitation.edit.get('head', {}).get('param', {}).get('withContent')"
   ]
  },
  {
   "cell_type": "code",
   "execution_count": 4,
   "id": "2f14bd40",
   "metadata": {},
   "outputs": [],
   "source": [
    "venue = openreview.helpers.get_conference(client_v1, 'R13pgrCxJ6', setup=False)"
   ]
  },
  {
   "cell_type": "code",
   "execution_count": 5,
   "id": "50de37ec",
   "metadata": {},
   "outputs": [
    {
     "name": "stdout",
     "output_type": "stream",
     "text": [
      "committee_name Econ_Area_Chairs\n",
      "roles ['Area_Chairs', 'Econ_Area_Chairs', 'Graph_Area_Chairs', 'RespWeb_Area_Chairs', 'Search_Area_Chairs', 'Security_Area_Chairs', 'Semantics_Area_Chairs', 'Social_Area_Chairs', 'Systems_Area_Chairs', 'RecSys_Area_Chairs', 'Mining_Area_Chairs', 'COI_Area_Chairs']\n",
      "False\n",
      "is_area_chair True\n"
     ]
    }
   ],
   "source": [
    "venue.invitation_builder.set_assignment_invitation('ACM.org/TheWebConf/2024/Conference/Econ_Area_Chairs')"
   ]
  },
  {
   "cell_type": "code",
   "execution_count": 5,
   "id": "e2d67536",
   "metadata": {},
   "outputs": [
    {
     "name": "stdout",
     "output_type": "stream",
     "text": [
      "Can not retrieve invitation {'name': 'NotFoundError', 'message': 'The Invitation ACM.org/TheWebConf/2024/Conference/COI_Area_Chairs/-/Proposed_Assignment_Recruitment was not found', 'status': 404, 'details': {'value': 'ACM.org/TheWebConf/2024/Conference/COI_Area_Chairs/-/Proposed_Assignment_Recruitment', 'reqId': '2023-07-19-8084'}}\n"
     ]
    },
    {
     "name": "stderr",
     "output_type": "stream",
     "text": [
      "Getting V2 Notes:  99%|█████████▉| 100/101 [00:00<00:00, 11986.12it/s]\n"
     ]
    },
    {
     "name": "stdout",
     "output_type": "stream",
     "text": [
      "PROPOSED ASSIGNMENT INVITTION ACM.org/TheWebConf/2024/Conference/COI_Area_Chairs/-/Proposed_Assignment\n",
      "PROPOSED ASSIGNMENTS {'BAcqwFEr0a': [{'id': 'buLjBH9672UiiT', 'domain': 'ACM.org/TheWebConf/2024/Conference', 'invitation': 'ACM.org/TheWebConf/2024/Conference/COI_Area_Chairs/-/Proposed_Assignment', 'label': 'ac-assignment', 'weight': 1, 'head': 'BAcqwFEr0a', 'tail': '~AC_WebChairTwentyOne1', 'signatures': ['ACM.org/TheWebConf/2024/Conference'], 'readers': ['ACM.org/TheWebConf/2024/Conference', '~AC_WebChairTwentyOne1'], 'writers': ['ACM.org/TheWebConf/2024/Conference'], 'nonreaders': [], 'cdate': 1689791256182, 'tcdate': 1689791256182, 'tmdate': 1689791256182, 'tauthor': 'pc@webconf.org'}], 'NkUg1HfXLU': [{'id': 'y72w0yBcO0Goc4', 'domain': 'ACM.org/TheWebConf/2024/Conference', 'invitation': 'ACM.org/TheWebConf/2024/Conference/COI_Area_Chairs/-/Proposed_Assignment', 'label': 'ac-assignment', 'weight': 1, 'head': 'NkUg1HfXLU', 'tail': '~AC_WebChairTwentyOne1', 'signatures': ['ACM.org/TheWebConf/2024/Conference'], 'readers': ['ACM.org/TheWebConf/2024/Conference', '~AC_WebChairTwentyOne1'], 'writers': ['ACM.org/TheWebConf/2024/Conference'], 'nonreaders': [], 'cdate': 1689791249921, 'tcdate': 1689791249921, 'tmdate': 1689791249921, 'tauthor': 'pc@webconf.org'}]}\n"
     ]
    },
    {
     "name": "stderr",
     "output_type": "stream",
     "text": [
      "Gathering Responses:   0%|          | 0/101 [00:00<?, ?it/s]"
     ]
    },
    {
     "name": "stdout",
     "output_type": "stream",
     "text": [
      "assignment not found 02PdAQP1Qy\n",
      "assignment not found 0dGgfRwI5R\n",
      "assignment not found 1Opw05Kq0G\n",
      "assignment not found 328jpxSBY2\n",
      "assignment not found 39v64VUfrH\n",
      "assignment not found 3Uyy19cp7V\n",
      "assignment not found 4YFn6zavdD\n",
      "assignment not found 6X33PsCX0g\n",
      "assignment not found 7LVA0ayGF6\n",
      "assignment not found 8LrWFQfe38\n",
      "assignment not found 9TW1xFP5kf\n",
      "assignment not found 9czD8Y64rS\n",
      "assignment not found A8FwfGEOEB\n",
      "assignment not found A6YGO7YTo9\n",
      "assignment not found AjbCC2nt6d\n",
      "assignment not found CfkdqVbnGH\n",
      "assignment not found DWWfoUONtS\n",
      "assignment not found El8wKzdi14\n",
      "assignment not found EwM1WpHwQE\n",
      "assignment not found Fc8UKzFOiv\n",
      "assignment not found Fi4eWP0XJl\n",
      "assignment not found Fq0pwc5TWl\n",
      "assignment not found HO2UkNY3JC\n",
      "assignment not found HnvNfvcma3\n",
      "assignment not found G3frUWd543\n",
      "assignment not found IhIquAoCRc\n",
      "assignment not found IxUWC77Bo7\n",
      "assignment not found KFfEFz5ePc\n",
      "assignment not found IkqG3vRsRx\n",
      "assignment not found Ki8YmDormF\n",
      "assignment not found L5dDo0ePOi\n",
      "assignment not found LL43WsEQRs\n",
      "assignment not found LWJ4UJpIeJ\n",
      "assignment not found LwXhRnjAvV\n",
      "assignment not found Mg2Z9etRNb\n",
      "assignment not found MwdBXhKAkg\n",
      "assignment not found ODMRIk2g70\n",
      "assignment not found PtHnJ5lFgI\n",
      "assignment not found Q59TDjpV1S\n",
      "assignment not found RAlGpF6naT\n",
      "assignment not found RKJjP1lJNX\n",
      "assignment not found RS2wm2PJiu\n",
      "assignment not found RtDO9pIEFv\n",
      "assignment not found RtrVQGcVuS\n",
      "assignment not found SGgmRD8F3q\n",
      "assignment not found SK1QIko5tV\n",
      "assignment not found SN5vbYVx63\n",
      "assignment not found SRsfSheu6r\n",
      "assignment not found UTPXnd4cGW\n",
      "assignment not found Udo0b8CbRm\n",
      "assignment not found UXhwvjWpc3\n",
      "assignment not found UhOjkvk0dB\n",
      "assignment not found UqtJ3mSAIy\n",
      "assignment not found VEXC9bw4I2\n",
      "assignment not found VhUzu2KbDu\n",
      "assignment not found WRPuVmUtrn\n",
      "assignment not found WSyt5OnPtH\n",
      "assignment not found WZ0wbrIUx4\n",
      "assignment not found aU3C2GB2fk\n",
      "assignment not found aethGrUTx1\n",
      "assignment not found bKkcUIs7Lc\n",
      "assignment not found bLWSpnFFps\n",
      "assignment not found bNsRJxTWG2\n",
      "assignment not found c23exG14MS\n",
      "assignment not found ccrEDSBMaQ\n",
      "assignment not found eKFKkU5Wrf\n",
      "assignment not found fGKdazyR4z\n",
      "assignment not found gEqaQ8Qgky\n",
      "assignment not found gUMr6ldLc4\n",
      "assignment not found j3bfgBYMp1\n",
      "assignment not found j50SFXrtzg\n",
      "assignment not found j9vQjb8RTY\n",
      "assignment not found kZDFuXTBDi\n",
      "assignment not found ldaaRDA2Ks\n",
      "assignment not found mebcRJkoee\n",
      "assignment not found mgYAzz9I2S\n",
      "assignment not found nLbBlUtxBs\n",
      "assignment not found npePJ3ZN9d\n",
      "assignment not found o04hVHDk0q\n",
      "assignment not found o6zz1KBddY\n",
      "assignment not found pHw9SosL9p\n",
      "assignment not found pnyKVeGr7D\n",
      "assignment not found ppl67Jz7sW\n",
      "assignment not found qmC6zxIHqk\n",
      "assignment not found pR43XdDb6p\n",
      "assignment not found r6B09RtLjc\n",
      "assignment not found qnyMGJ60Gp\n",
      "assignment not found r98BwO8GsL\n",
      "assignment not found rX5kdcBGVP\n",
      "assignment not found sLfJNRWzwQ\n",
      "assignment not found u6DeKAezIW\n",
      "assignment not found v1EMpA6eQC\n",
      "assignment not found uTRSN8Ju4B\n",
      "assignment not found zIUSdI5kcZ\n",
      "assignment not found w07FVyx6XJ\n",
      "assignment not found x2VpM0e5Yq\n",
      "assignment not found vaGJQhHbSw\n",
      "assignment not found z95r5Xt1jN\n",
      "assignment not found xwKhgbyUWi\n"
     ]
    },
    {
     "name": "stderr",
     "output_type": "stream",
     "text": [
      "Gathering Responses: 100%|██████████| 101/101 [00:00<00:00, 789.66it/s]\n"
     ]
    },
    {
     "name": "stdout",
     "output_type": "stream",
     "text": [
      "Posting assignment edges 2\n"
     ]
    },
    {
     "name": "stderr",
     "output_type": "stream",
     "text": [
      "100%|██████████| 1/1 [00:00<00:00, 25.86it/s]\n"
     ]
    }
   ],
   "source": [
    "venue.set_assignments(assignment_title='ac-assignment', committee_id=f'ACM.org/TheWebConf/2024/Conference/COI_Area_Chairs')"
   ]
  },
  {
   "cell_type": "code",
   "execution_count": 4,
   "id": "68a3e7d0-6de8-4c97-82c7-ee6f3d6a1649",
   "metadata": {},
   "outputs": [
    {
     "data": {
      "text/plain": [
       "{'id': 'fJ9gNfYexw',\n",
       " 'domain': 'ICML.cc/2023/Conference',\n",
       " 'cdate': 1688753047203,\n",
       " 'tcdate': 1688753047203,\n",
       " 'mdate': 1688753047203,\n",
       " 'tmdate': 1688753047203,\n",
       " 'tauthor': 'openreview.net',\n",
       " 'signatures': ['ICML.cc/2023/Conference'],\n",
       " 'readers': ['ICML.cc/2023/Conference'],\n",
       " 'writers': ['ICML.cc/2023/Conference'],\n",
       " 'invitation': 'ICML.cc/2023/Conference/-/Edit',\n",
       " 'note': {'id': 'KUc8zBMmmK',\n",
       "  'number': 100,\n",
       "  'mdate': 1688753047203,\n",
       "  'tmdate': 1688753047203,\n",
       "  'forum': 'KUc8zBMmmK',\n",
       "  'content': {'supplementary_material': {'value': {'delete': True}}}}}"
      ]
     },
     "execution_count": 4,
     "metadata": {},
     "output_type": "execute_result"
    }
   ],
   "source": [
    "client.post_note_edit(\n",
    "    invitation = 'ICML.cc/2023/Conference/-/Edit',\n",
    "    readers = ['ICML.cc/2023/Conference'],\n",
    "    writers = ['ICML.cc/2023/Conference'],\n",
    "    signatures = ['ICML.cc/2023/Conference'],\n",
    "    note = openreview.api.Note(\n",
    "        id = 'KUc8zBMmmK',\n",
    "        content = {\n",
    "            'supplementary_material': { 'value': { 'delete': True } }\n",
    "        }\n",
    "    )\n",
    ")"
   ]
  },
  {
   "cell_type": "code",
   "execution_count": null,
   "id": "41c24467-e34d-4c25-a62d-069365c5f795",
   "metadata": {},
   "outputs": [],
   "source": [
    "pc_client_v2.post_note_edit(invitation='ICML.cc/2023/Conference/-/PC_Revision',\n",
    "    signatures=['ICML.cc/2023/Conference/Program_Chairs'],\n",
    "    note=openreview.api.Note(\n",
    "        id = submission.id,\n",
    "        content = {\n",
    "            'title': { 'value': submission.content['title']['value'] + ' Version 2' },\n",
    "            'abstract': submission.content['abstract'],\n",
    "            'authorids': { 'value': submission.content['authorids']['value'] + ['melisa@yahoo.com'] },\n",
    "            'authors': { 'value': submission.content['authors']['value'] + ['Melisa ICML'] },\n",
    "            'keywords': submission.content['keywords'],\n",
    "            'pdf': submission.content['pdf'],\n",
    "            'supplementary_material': { 'value': { 'delete': True } },\n",
    "            'financial_aid': { 'value': submission.content['financial_aid']['value'] },                    \n",
    "        }\n",
    "    ))"
   ]
  },
  {
   "cell_type": "code",
   "execution_count": null,
   "id": "2b0e0f11-3a2d-471c-9b59-690cdd96d445",
   "metadata": {},
   "outputs": [],
   "source": [
    "authors = []\n",
    "authorids = []\n",
    "with open(\"BIG-bench-author-no_PID_all_authors.csv\", 'r') as infile:\n",
    "    reader = csv.reader(infile, delimiter=\",\")\n",
    "    header = next(reader)\n",
    "    for row in reader:\n",
    "        author_first_name = row[0]\n",
    "        author_last_name = row[1]\n",
    "        author_email = row[2]\n",
    "        profile = openreview.tools.get_profile(author_email)\n",
    "        if not profile:\n",
    "            profile = openreview.tools.create_profile(client, author_email, author_first_name, author_last_name, url=\"https://github.com/google/BIG-bench\")\n",
    "        authors.append(profile.get_preferred_name(pretty=True))\n",
    "        authorids.append(profile.get_preferred_name())\n",
    "        \n",
    "pdf_url = client.put_attachment(file_path, invitation='TMLR/-/Submission', name='pdf')\n",
    "client.post_note_edit(\n",
    "    note=openreview.api.Note(\n",
    "        signatures=['~Super_User1'],\n",
    "        content={\n",
    "            'title': { 'value': 'Beyond the Imitation Game: Quantifying and extrapolating the capabilities of language models' },\n",
    "            'abstract': { 'value': \"Language models demonstrate both quantitative improvement and new qualitative capabilities with increasing scale. Despite their potentially transformative impact, these new capabilities are as yet poorly characterized. In order to inform future research, prepare for disruptive new model capabilities, and ameliorate socially harmful effects, it is vital that we understand the present and near-future capabilities and limitations of language models. To address this challenge, we introduce the Beyond the Imitation Game benchmark (BIG- bench). BIG-bench currently consists of 204 tasks, contributed by 445 authors across 132 institutions. Task topics are diverse, drawing problems from linguistics, childhood develop- ment, math, common-sense reasoning, biology, physics, social bias, software development, and beyond. BIG-bench focuses on tasks that are believed to be beyond the capabilities of current language models. We evaluate the behavior of OpenAI’s GPT models, Google- internal dense transformer architectures, and Switch-style sparse transformers on BIG-bench, across model sizes spanning millions to hundreds of billions of parameters. In addition, a team of human expert raters performed all tasks in order to provide a strong baseline. Findings include: model performance and calibration both improve with scale, but are poor in absolute terms (and when compared with rater performance); performance is remarkably similar across model classes, though with benefits from sparsity; tasks that improve gradually and predictably commonly involve a large knowledge or memorization component, whereas tasks that exhibit “breakthrough” behavior at a critical scale often involve multiple steps or components, or brittle metrics; social bias typically increases with scale in settings with ambiguous context, but this can be improved with prompting.\"},\n",
    "            'pdf': {'value': pdf_url },\n",
    "            'competing_interests': { 'value': 'N/A'},\n",
    "            'human_subjects_reporting': { 'value': 'Human evaluation underwent internal legal and ethics approvals.  All participating human raters were employed by Alphabet.'},\n",
    "            'submission_length': { 'value': 'Long submission (more than 12 pages of main content)'},\n",
    "            'authors': { 'value': authors },\n",
    "            'authorids': { 'value': authorids }\n",
    "        }\n",
    ")\n",
    "        \n",
    "            "
   ]
  },
  {
   "cell_type": "code",
   "execution_count": 4,
   "id": "5efe52bd-c5c6-4574-8683-de3efdb870c0",
   "metadata": {},
   "outputs": [],
   "source": [
    "EXPIRE_INVITATION_ID = 'TestVenue.cc/-/Withdraw_Expiration'\n",
    "invitations = client.get_invitations(replyForum='Ln5VRUupRW', invitation=EXPIRE_INVITATION_ID, expired=True)"
   ]
  },
  {
   "cell_type": "code",
   "execution_count": 5,
   "id": "bb27cf02-f911-4d86-88a9-c58f4982a937",
   "metadata": {},
   "outputs": [],
   "source": [
    "now = openreview.tools.datetime_millis(datetime.datetime.utcnow())"
   ]
  },
  {
   "cell_type": "code",
   "execution_count": 13,
   "id": "d23d154e-b1f9-40e5-b221-2a1b411e5106",
   "metadata": {},
   "outputs": [
    {
     "name": "stdout",
     "output_type": "stream",
     "text": [
      "Remove expiration invitation TestVenue.cc/Submission2/-/Withdrawal\n",
      "remove edit DwWM57qKrA\n",
      "Remove expiration invitation TestVenue.cc/Submission2/-/Official_Review\n",
      "Remove expiration invitation TestVenue.cc/Submission2/-/Meta_Review\n",
      "remove edit afR7SKpyNU\n"
     ]
    }
   ],
   "source": [
    "for invitation in invitations:\n",
    "    print(f'Remove expiration invitation {invitation.id}')\n",
    "    edits = client.get_invitation_edits(invitation_id=invitation.id)\n",
    "    for edit in edits:\n",
    "        if edit.invitations == EXPIRE_INVITATION_ID:\n",
    "            print(f'remove edit {edit.id}')\n",
    "            edit.ddate = now\n",
    "            client.post_edit(edit)"
   ]
  },
  {
   "cell_type": "code",
   "execution_count": 6,
   "id": "9d63d0b0-ec51-4347-a5a1-cc89d0942f07",
   "metadata": {},
   "outputs": [],
   "source": [
    "edits = client.get_invitation_edits(invitation_id='TestVenue.cc/Submission2/-/Official_Review')#, invitation=EXPIRE_INVITATION_ID)"
   ]
  },
  {
   "cell_type": "code",
   "execution_count": 7,
   "id": "0d954ef2-dd5e-4c29-aa53-d8bb3b0808d7",
   "metadata": {},
   "outputs": [
    {
     "data": {
      "text/plain": [
       "2"
      ]
     },
     "execution_count": 7,
     "metadata": {},
     "output_type": "execute_result"
    }
   ],
   "source": [
    "len(edits)"
   ]
  },
  {
   "cell_type": "code",
   "execution_count": 8,
   "id": "eb2ec8eb-772e-42cf-8178-9b966d14c3fa",
   "metadata": {},
   "outputs": [],
   "source": [
    "edit = edits[0]"
   ]
  },
  {
   "cell_type": "code",
   "execution_count": 9,
   "id": "17ccb775-5ba5-4915-916e-a113da9a4ff6",
   "metadata": {},
   "outputs": [
    {
     "data": {
      "text/plain": [
       "Edit(id = '7BLULW4bmD',invitations = 'TestVenue.cc/-/Withdraw_Expiration',cdate = 1665005118824,ddate = None,readers = ['TestVenue.cc'],nonreaders = None,writers = ['TestVenue.cc'],signatures = ['TestVenue.cc'],note = None,invitation = Invitation(id = 'TestVenue.cc/Submission2/-/Official_Review',invitations = None,domain = None,cdate = None,ddate = None,duedate = None,expdate = 1665005118804,readers = None,nonreaders = None,writers = None,invitees = None,noninvitees = None,signatures = ['TestVenue.cc'],minReplies = None,maxReplies = None,edit = None,edge = None,type = 'Note',tcdate = None,tmdate = 1665005118824,bulk = None,details = None,reply_forum_views = None,web = None,process = None,preprocess = None,date_processes = None,content = None),tauthor = 'TestVenue.cc')"
      ]
     },
     "execution_count": 9,
     "metadata": {},
     "output_type": "execute_result"
    }
   ],
   "source": [
    "edit"
   ]
  },
  {
   "cell_type": "code",
   "execution_count": 10,
   "id": "b2758ad8-af73-43d4-b62f-f68132a961fa",
   "metadata": {},
   "outputs": [],
   "source": [
    "edit.ddate = now\n",
    "#edit.invitation.mdate = None"
   ]
  },
  {
   "cell_type": "code",
   "execution_count": 11,
   "id": "bb2e7edd-dd01-44df-965d-961138e569e3",
   "metadata": {},
   "outputs": [
    {
     "data": {
      "text/plain": [
       "Edit(id = 'jcJY9FsvKp',invitations = 'TestVenue.cc/-/Withdraw_Expiration',cdate = 1665000245415,ddate = 1665000670332,readers = ['TestVenue.cc'],nonreaders = None,writers = ['TestVenue.cc'],signatures = ['TestVenue.cc'],note = None,invitation = Invitation(id = 'TestVenue.cc/Submission2/-/Official_Review',invitations = None,domain = None,cdate = None,ddate = None,duedate = None,expdate = 1665000245397,readers = None,nonreaders = None,writers = None,invitees = None,noninvitees = None,signatures = ['TestVenue.cc'],minReplies = None,maxReplies = None,edit = None,edge = None,type = 'Note',tcdate = None,tmdate = 1665000245415,bulk = None,details = None,reply_forum_views = None,web = None,process = None,preprocess = None,date_processes = None,content = None,mdate = None),tauthor = 'TestVenue.cc')"
      ]
     },
     "execution_count": 11,
     "metadata": {},
     "output_type": "execute_result"
    }
   ],
   "source": [
    "edit"
   ]
  },
  {
   "cell_type": "code",
   "execution_count": 11,
   "id": "0a375b6d-b508-4d63-ab40-444d156c94bb",
   "metadata": {},
   "outputs": [],
   "source": [
    "res = client.post_edit(edit)"
   ]
  },
  {
   "cell_type": "code",
   "execution_count": 12,
   "id": "6fc2772d-a2be-4ae5-8b9f-c28b0891c13f",
   "metadata": {},
   "outputs": [
    {
     "data": {
      "text/plain": [
       "{'id': '7BLULW4bmD',\n",
       " 'domain': 'TestVenue.cc',\n",
       " 'invitations': 'TestVenue.cc/-/Withdraw_Expiration',\n",
       " 'cdate': 1665005118824,\n",
       " 'tcdate': 1665005118824,\n",
       " 'mdate': 1665005187643,\n",
       " 'tmdate': 1665005187643,\n",
       " 'ddate': 1665005172493,\n",
       " 'tauthor': 'openreview.net',\n",
       " 'signatures': ['TestVenue.cc'],\n",
       " 'readers': ['TestVenue.cc'],\n",
       " 'writers': ['TestVenue.cc'],\n",
       " 'invitation': {'id': 'TestVenue.cc/Submission2/-/Official_Review',\n",
       "  'mdate': 1665005187643,\n",
       "  'tmdate': 1665005187643,\n",
       "  'expdate': 1665005118804,\n",
       "  'signatures': ['TestVenue.cc']}}"
      ]
     },
     "execution_count": 12,
     "metadata": {},
     "output_type": "execute_result"
    }
   ],
   "source": [
    "res"
   ]
  },
  {
   "cell_type": "code",
   "execution_count": 18,
   "id": "7d84ebe2-66f1-4681-9663-4ded5e3b8ce4",
   "metadata": {},
   "outputs": [
    {
     "data": {
      "text/plain": [
       "[Edit(id = 'oXP4jM1Xyd',invitations = None,cdate = 1665006582525,ddate = None,readers = ['TestVenue.cc'],nonreaders = None,writers = ['TestVenue.cc'],signatures = ['TestVenue.cc'],note = Note(id = 'brODhzZpTi',number = 2,cdate = None,mdate = 1665006582525,tcdate = None,tmdate = 1665006582525,ddate = None,content = {'venue': {'value': 'TestVenue Withdrawn Submission'}, 'venueid': {'value': 'TestVenue.cc/Withdrawn_Submission'}, 'authors': {'readers': {'delete': True}}, 'authorids': {'readers': {'delete': True}}},forum = None,replyto = None,readers = None,nonreaders = None,signatures = None,writers = None,details = None,invitations = None,domain = None),invitation = 'TestVenue.cc/-/Withdrawn_Submission',tauthor = 'TestVenue.cc'),\n",
       " Edit(id = 'oEHwnTb6fq',invitations = None,cdate = 1665006576215,ddate = None,readers = ['TestVenue.cc'],nonreaders = None,writers = ['TestVenue.cc'],signatures = ['TestVenue.cc'],note = Note(id = 'brODhzZpTi',number = 2,cdate = None,mdate = 1665006576215,tcdate = None,tmdate = 1665006576215,ddate = None,content = None,forum = None,replyto = None,readers = ['everyone'],nonreaders = None,signatures = None,writers = None,details = None,invitations = None,domain = None),invitation = 'TestVenue.cc/-/Edit',tauthor = 'openreview.net'),\n",
       " Edit(id = 'vQVkajaCIc',invitations = None,cdate = 1665006575959,ddate = None,readers = ['TestVenue.cc'],nonreaders = None,writers = ['TestVenue.cc'],signatures = ['TestVenue.cc'],note = Note(id = 'brODhzZpTi',number = 2,cdate = None,mdate = 1665006575959,tcdate = None,tmdate = 1665006575959,ddate = None,content = None,forum = None,replyto = None,readers = ['TestVenue.cc', 'TestVenue.cc/Area_Chairs', 'TestVenue.cc/Reviewers', 'TestVenue.cc/Submission2/Authors'],nonreaders = None,signatures = None,writers = None,details = None,invitations = None,domain = None),invitation = 'TestVenue.cc/-/Edit',tauthor = 'openreview.net'),\n",
       " Edit(id = 'j0pNxtdm1n',invitations = None,cdate = 1665006575314,ddate = None,readers = ['TestVenue.cc', 'TestVenue.cc/Submission2/Authors'],nonreaders = None,writers = ['TestVenue.cc', 'TestVenue.cc/Submission2/Authors'],signatures = ['~Celeste_MartinezEleven1'],note = Note(id = 'brODhzZpTi',number = 2,cdate = 1665006575314,mdate = 1665006575314,tcdate = 1665006575314,tmdate = 1665006575314,ddate = None,content = {'title': {'value': 'Paper 2 Title'}, 'abstract': {'value': 'Paper abstract'}, 'authors': {'value': ['Celeste MartinezEleven'], 'readers': ['TestVenue.cc', 'TestVenue.cc/Submission2/Authors']}, 'authorids': {'value': ['~Celeste_MartinezEleven1'], 'readers': ['TestVenue.cc', 'TestVenue.cc/Submission2/Authors']}, 'pdf': {'value': '/pdf/pppppppppppppppppppppppppppppppppppppppp.pdf'}, 'keywords': {'value': ['aa']}, 'venue': {'value': 'TestVenue Submission'}, 'venueid': {'value': 'TestVenue.cc/Submission'}},forum = 'brODhzZpTi',replyto = None,readers = ['TestVenue.cc', 'TestVenue.cc/Submission2/Authors'],nonreaders = None,signatures = ['TestVenue.cc/Submission2/Authors'],writers = ['TestVenue.cc', 'TestVenue.cc/Submission2/Authors'],details = None,invitations = None,domain = None),invitation = 'TestVenue.cc/-/Submission',tauthor = 'celeste@maileleven.com')]"
      ]
     },
     "execution_count": 18,
     "metadata": {},
     "output_type": "execute_result"
    }
   ],
   "source": [
    "client.get_note_edits(note_id='brODhzZpTi')"
   ]
  },
  {
   "cell_type": "code",
   "execution_count": 15,
   "id": "323f5188-2a43-4ac6-8e12-50756c2e621a",
   "metadata": {},
   "outputs": [
    {
     "data": {
      "text/plain": [
       "{'token': 'eyJhbGciOiJIUzI1NiIsInR5cCI6IkpXVCJ9.eyJ1c2VyIjp7ImlkIjoiVGVzdFZlbnVlLmNjIiwicHJvZmlsZSI6eyJpZCI6In5TdXBlcl9Vc2VyMSIsImZpcnN0IjoiU3VwZXIiLCJsYXN0IjoiVXNlciIsImVtYWlscyI6WyJvcGVucmV2aWV3Lm5ldCJdLCJwcmVmZXJyZWRFbWFpbCI6ImluZm9Ab3BlbnJldmlldy5uZXQiLCJ1c2VybmFtZXMiOlsiflN1cGVyX1VzZXIxIl0sInByZWZlcnJlZElkIjoiflN1cGVyX1VzZXIxIiwic3RhdGUiOiJBY3RpdmUifSwiaW1wZXJzb25hdG9yIjp7ImlkIjoib3BlbnJldmlldy5uZXQiLCJwcm9maWxlIjp7ImlkIjoiflN1cGVyX1VzZXIxIiwiZmlyc3QiOiJTdXBlciIsImxhc3QiOiJVc2VyIiwiZW1haWxzIjpbIm9wZW5yZXZpZXcubmV0Il0sInByZWZlcnJlZEVtYWlsIjoiaW5mb0BvcGVucmV2aWV3Lm5ldCIsInVzZXJuYW1lcyI6WyJ-U3VwZXJfVXNlcjEiXSwicHJlZmVycmVkSWQiOiJ-U3VwZXJfVXNlcjEiLCJzdGF0ZSI6IkFjdGl2ZSJ9LCJpc1N1cGVyVXNlciI6dHJ1ZX19LCJpYXQiOjE2NjUwMDYzODksImV4cCI6MTY2NTA5Mjc4OSwiaXNzIjoib3BlbnJldmlldyJ9.BiN3VK0_otbvoCSZqvhIg7iQx9-2huj0yDiTprBxgOc',\n",
       " 'user': {'id': 'TestVenue.cc',\n",
       "  'profile': {'id': '~Super_User1',\n",
       "   'first': 'Super',\n",
       "   'last': 'User',\n",
       "   'emails': ['openreview.net'],\n",
       "   'preferredEmail': 'info@openreview.net',\n",
       "   'usernames': ['~Super_User1'],\n",
       "   'preferredId': '~Super_User1',\n",
       "   'state': 'Active'},\n",
       "  'impersonator': {'id': 'openreview.net',\n",
       "   'profile': {'id': '~Super_User1',\n",
       "    'first': 'Super',\n",
       "    'last': 'User',\n",
       "    'emails': ['openreview.net'],\n",
       "    'preferredEmail': 'info@openreview.net',\n",
       "    'usernames': ['~Super_User1'],\n",
       "    'preferredId': '~Super_User1',\n",
       "    'state': 'Active'},\n",
       "   'isSuperUser': True}}}"
      ]
     },
     "execution_count": 15,
     "metadata": {},
     "output_type": "execute_result"
    }
   ],
   "source": [
    "client.impersonate('TestVenue.cc')"
   ]
  },
  {
   "cell_type": "code",
   "execution_count": 3,
   "id": "856b8471-6a8b-4b55-a6ac-2ae1318eda88",
   "metadata": {},
   "outputs": [],
   "source": [
    "edits = client.get_note_edits(note_id='GELuVFJW0X', invitation='TestVenue.cc/-/Withdrawn_Submission')"
   ]
  },
  {
   "cell_type": "code",
   "execution_count": 4,
   "id": "bd9aa7b2-c6c9-4f95-be22-0166f66437b5",
   "metadata": {},
   "outputs": [
    {
     "data": {
      "text/plain": [
       "1"
      ]
     },
     "execution_count": 4,
     "metadata": {},
     "output_type": "execute_result"
    }
   ],
   "source": [
    "len(edits)"
   ]
  },
  {
   "cell_type": "code",
   "execution_count": 5,
   "id": "00133907-0216-47cd-88a5-7b65a055415d",
   "metadata": {},
   "outputs": [],
   "source": [
    "edit = edits[0]"
   ]
  },
  {
   "cell_type": "code",
   "execution_count": 6,
   "id": "593ade1e-2747-47f7-bf0a-cbc47b422a32",
   "metadata": {},
   "outputs": [
    {
     "name": "stdout",
     "output_type": "stream",
     "text": [
      "{'cdate': 1665076315365,\n",
      " 'ddate': None,\n",
      " 'id': '3PVMnvuuX4',\n",
      " 'invitation': 'TestVenue.cc/-/Withdrawn_Submission',\n",
      " 'invitations': None,\n",
      " 'nonreaders': None,\n",
      " 'note': Note(id = 'GELuVFJW0X',number = 2,cdate = None,mdate = 1665076315365,tcdate = None,tmdate = 1665076315365,ddate = None,content = {'venue': {'value': 'TestVenue Withdrawn Submission'}, 'venueid': {'value': 'TestVenue.cc/Withdrawn_Submission'}, 'authors': {'readers': {'delete': True}}, 'authorids': {'readers': {'delete': True}}},forum = None,replyto = None,readers = None,nonreaders = None,signatures = None,writers = None,details = None,invitations = None,domain = None),\n",
      " 'readers': ['TestVenue.cc'],\n",
      " 'signatures': ['TestVenue.cc'],\n",
      " 'tauthor': 'TestVenue.cc',\n",
      " 'writers': ['TestVenue.cc']}\n"
     ]
    }
   ],
   "source": [
    "print(edit)"
   ]
  },
  {
   "cell_type": "code",
   "execution_count": 7,
   "id": "bddbcfa8-e5b5-4063-b2cf-83f58681469f",
   "metadata": {},
   "outputs": [],
   "source": [
    "now = openreview.tools.datetime_millis(datetime.datetime.utcnow())"
   ]
  },
  {
   "cell_type": "code",
   "execution_count": 9,
   "id": "3bdb4195-96e8-474d-a587-d8ecab168eac",
   "metadata": {},
   "outputs": [
    {
     "ename": "ConnectionError",
     "evalue": "('Connection aborted.', RemoteDisconnected('Remote end closed connection without response'))",
     "output_type": "error",
     "traceback": [
      "\u001b[0;31m---------------------------------------------------------------------------\u001b[0m",
      "\u001b[0;31mRemoteDisconnected\u001b[0m                        Traceback (most recent call last)",
      "File \u001b[0;32m~/openreview/py-3.8/lib/python3.8/site-packages/urllib3/connectionpool.py:703\u001b[0m, in \u001b[0;36mHTTPConnectionPool.urlopen\u001b[0;34m(self, method, url, body, headers, retries, redirect, assert_same_host, timeout, pool_timeout, release_conn, chunked, body_pos, **response_kw)\u001b[0m\n\u001b[1;32m    702\u001b[0m \u001b[38;5;66;03m# Make the request on the httplib connection object.\u001b[39;00m\n\u001b[0;32m--> 703\u001b[0m httplib_response \u001b[38;5;241m=\u001b[39m \u001b[38;5;28;43mself\u001b[39;49m\u001b[38;5;241;43m.\u001b[39;49m\u001b[43m_make_request\u001b[49m\u001b[43m(\u001b[49m\n\u001b[1;32m    704\u001b[0m \u001b[43m    \u001b[49m\u001b[43mconn\u001b[49m\u001b[43m,\u001b[49m\n\u001b[1;32m    705\u001b[0m \u001b[43m    \u001b[49m\u001b[43mmethod\u001b[49m\u001b[43m,\u001b[49m\n\u001b[1;32m    706\u001b[0m \u001b[43m    \u001b[49m\u001b[43murl\u001b[49m\u001b[43m,\u001b[49m\n\u001b[1;32m    707\u001b[0m \u001b[43m    \u001b[49m\u001b[43mtimeout\u001b[49m\u001b[38;5;241;43m=\u001b[39;49m\u001b[43mtimeout_obj\u001b[49m\u001b[43m,\u001b[49m\n\u001b[1;32m    708\u001b[0m \u001b[43m    \u001b[49m\u001b[43mbody\u001b[49m\u001b[38;5;241;43m=\u001b[39;49m\u001b[43mbody\u001b[49m\u001b[43m,\u001b[49m\n\u001b[1;32m    709\u001b[0m \u001b[43m    \u001b[49m\u001b[43mheaders\u001b[49m\u001b[38;5;241;43m=\u001b[39;49m\u001b[43mheaders\u001b[49m\u001b[43m,\u001b[49m\n\u001b[1;32m    710\u001b[0m \u001b[43m    \u001b[49m\u001b[43mchunked\u001b[49m\u001b[38;5;241;43m=\u001b[39;49m\u001b[43mchunked\u001b[49m\u001b[43m,\u001b[49m\n\u001b[1;32m    711\u001b[0m \u001b[43m\u001b[49m\u001b[43m)\u001b[49m\n\u001b[1;32m    713\u001b[0m \u001b[38;5;66;03m# If we're going to release the connection in ``finally:``, then\u001b[39;00m\n\u001b[1;32m    714\u001b[0m \u001b[38;5;66;03m# the response doesn't need to know about the connection. Otherwise\u001b[39;00m\n\u001b[1;32m    715\u001b[0m \u001b[38;5;66;03m# it will also try to release it and we'll have a double-release\u001b[39;00m\n\u001b[1;32m    716\u001b[0m \u001b[38;5;66;03m# mess.\u001b[39;00m\n",
      "File \u001b[0;32m~/openreview/py-3.8/lib/python3.8/site-packages/urllib3/connectionpool.py:449\u001b[0m, in \u001b[0;36mHTTPConnectionPool._make_request\u001b[0;34m(self, conn, method, url, timeout, chunked, **httplib_request_kw)\u001b[0m\n\u001b[1;32m    445\u001b[0m         \u001b[38;5;28;01mexcept\u001b[39;00m \u001b[38;5;167;01mBaseException\u001b[39;00m \u001b[38;5;28;01mas\u001b[39;00m e:\n\u001b[1;32m    446\u001b[0m             \u001b[38;5;66;03m# Remove the TypeError from the exception chain in\u001b[39;00m\n\u001b[1;32m    447\u001b[0m             \u001b[38;5;66;03m# Python 3 (including for exceptions like SystemExit).\u001b[39;00m\n\u001b[1;32m    448\u001b[0m             \u001b[38;5;66;03m# Otherwise it looks like a bug in the code.\u001b[39;00m\n\u001b[0;32m--> 449\u001b[0m             \u001b[43msix\u001b[49m\u001b[38;5;241;43m.\u001b[39;49m\u001b[43mraise_from\u001b[49m\u001b[43m(\u001b[49m\u001b[43me\u001b[49m\u001b[43m,\u001b[49m\u001b[43m \u001b[49m\u001b[38;5;28;43;01mNone\u001b[39;49;00m\u001b[43m)\u001b[49m\n\u001b[1;32m    450\u001b[0m \u001b[38;5;28;01mexcept\u001b[39;00m (SocketTimeout, BaseSSLError, SocketError) \u001b[38;5;28;01mas\u001b[39;00m e:\n",
      "File \u001b[0;32m<string>:3\u001b[0m, in \u001b[0;36mraise_from\u001b[0;34m(value, from_value)\u001b[0m\n",
      "File \u001b[0;32m~/openreview/py-3.8/lib/python3.8/site-packages/urllib3/connectionpool.py:444\u001b[0m, in \u001b[0;36mHTTPConnectionPool._make_request\u001b[0;34m(self, conn, method, url, timeout, chunked, **httplib_request_kw)\u001b[0m\n\u001b[1;32m    443\u001b[0m \u001b[38;5;28;01mtry\u001b[39;00m:\n\u001b[0;32m--> 444\u001b[0m     httplib_response \u001b[38;5;241m=\u001b[39m \u001b[43mconn\u001b[49m\u001b[38;5;241;43m.\u001b[39;49m\u001b[43mgetresponse\u001b[49m\u001b[43m(\u001b[49m\u001b[43m)\u001b[49m\n\u001b[1;32m    445\u001b[0m \u001b[38;5;28;01mexcept\u001b[39;00m \u001b[38;5;167;01mBaseException\u001b[39;00m \u001b[38;5;28;01mas\u001b[39;00m e:\n\u001b[1;32m    446\u001b[0m     \u001b[38;5;66;03m# Remove the TypeError from the exception chain in\u001b[39;00m\n\u001b[1;32m    447\u001b[0m     \u001b[38;5;66;03m# Python 3 (including for exceptions like SystemExit).\u001b[39;00m\n\u001b[1;32m    448\u001b[0m     \u001b[38;5;66;03m# Otherwise it looks like a bug in the code.\u001b[39;00m\n",
      "File \u001b[0;32m/Applications/Xcode.app/Contents/Developer/Library/Frameworks/Python3.framework/Versions/3.8/lib/python3.8/http/client.py:1344\u001b[0m, in \u001b[0;36mHTTPConnection.getresponse\u001b[0;34m(self)\u001b[0m\n\u001b[1;32m   1343\u001b[0m \u001b[38;5;28;01mtry\u001b[39;00m:\n\u001b[0;32m-> 1344\u001b[0m     \u001b[43mresponse\u001b[49m\u001b[38;5;241;43m.\u001b[39;49m\u001b[43mbegin\u001b[49m\u001b[43m(\u001b[49m\u001b[43m)\u001b[49m\n\u001b[1;32m   1345\u001b[0m \u001b[38;5;28;01mexcept\u001b[39;00m \u001b[38;5;167;01mConnectionError\u001b[39;00m:\n",
      "File \u001b[0;32m/Applications/Xcode.app/Contents/Developer/Library/Frameworks/Python3.framework/Versions/3.8/lib/python3.8/http/client.py:307\u001b[0m, in \u001b[0;36mHTTPResponse.begin\u001b[0;34m(self)\u001b[0m\n\u001b[1;32m    306\u001b[0m \u001b[38;5;28;01mwhile\u001b[39;00m \u001b[38;5;28;01mTrue\u001b[39;00m:\n\u001b[0;32m--> 307\u001b[0m     version, status, reason \u001b[38;5;241m=\u001b[39m \u001b[38;5;28;43mself\u001b[39;49m\u001b[38;5;241;43m.\u001b[39;49m\u001b[43m_read_status\u001b[49m\u001b[43m(\u001b[49m\u001b[43m)\u001b[49m\n\u001b[1;32m    308\u001b[0m     \u001b[38;5;28;01mif\u001b[39;00m status \u001b[38;5;241m!=\u001b[39m CONTINUE:\n",
      "File \u001b[0;32m/Applications/Xcode.app/Contents/Developer/Library/Frameworks/Python3.framework/Versions/3.8/lib/python3.8/http/client.py:276\u001b[0m, in \u001b[0;36mHTTPResponse._read_status\u001b[0;34m(self)\u001b[0m\n\u001b[1;32m    273\u001b[0m \u001b[38;5;28;01mif\u001b[39;00m \u001b[38;5;129;01mnot\u001b[39;00m line:\n\u001b[1;32m    274\u001b[0m     \u001b[38;5;66;03m# Presumably, the server closed the connection before\u001b[39;00m\n\u001b[1;32m    275\u001b[0m     \u001b[38;5;66;03m# sending a valid response.\u001b[39;00m\n\u001b[0;32m--> 276\u001b[0m     \u001b[38;5;28;01mraise\u001b[39;00m RemoteDisconnected(\u001b[38;5;124m\"\u001b[39m\u001b[38;5;124mRemote end closed connection without\u001b[39m\u001b[38;5;124m\"\u001b[39m\n\u001b[1;32m    277\u001b[0m                              \u001b[38;5;124m\"\u001b[39m\u001b[38;5;124m response\u001b[39m\u001b[38;5;124m\"\u001b[39m)\n\u001b[1;32m    278\u001b[0m \u001b[38;5;28;01mtry\u001b[39;00m:\n",
      "\u001b[0;31mRemoteDisconnected\u001b[0m: Remote end closed connection without response",
      "\nDuring handling of the above exception, another exception occurred:\n",
      "\u001b[0;31mProtocolError\u001b[0m                             Traceback (most recent call last)",
      "File \u001b[0;32m~/openreview/py-3.8/lib/python3.8/site-packages/requests/adapters.py:440\u001b[0m, in \u001b[0;36mHTTPAdapter.send\u001b[0;34m(self, request, stream, timeout, verify, cert, proxies)\u001b[0m\n\u001b[1;32m    439\u001b[0m \u001b[38;5;28;01mif\u001b[39;00m \u001b[38;5;129;01mnot\u001b[39;00m chunked:\n\u001b[0;32m--> 440\u001b[0m     resp \u001b[38;5;241m=\u001b[39m \u001b[43mconn\u001b[49m\u001b[38;5;241;43m.\u001b[39;49m\u001b[43murlopen\u001b[49m\u001b[43m(\u001b[49m\n\u001b[1;32m    441\u001b[0m \u001b[43m        \u001b[49m\u001b[43mmethod\u001b[49m\u001b[38;5;241;43m=\u001b[39;49m\u001b[43mrequest\u001b[49m\u001b[38;5;241;43m.\u001b[39;49m\u001b[43mmethod\u001b[49m\u001b[43m,\u001b[49m\n\u001b[1;32m    442\u001b[0m \u001b[43m        \u001b[49m\u001b[43murl\u001b[49m\u001b[38;5;241;43m=\u001b[39;49m\u001b[43murl\u001b[49m\u001b[43m,\u001b[49m\n\u001b[1;32m    443\u001b[0m \u001b[43m        \u001b[49m\u001b[43mbody\u001b[49m\u001b[38;5;241;43m=\u001b[39;49m\u001b[43mrequest\u001b[49m\u001b[38;5;241;43m.\u001b[39;49m\u001b[43mbody\u001b[49m\u001b[43m,\u001b[49m\n\u001b[1;32m    444\u001b[0m \u001b[43m        \u001b[49m\u001b[43mheaders\u001b[49m\u001b[38;5;241;43m=\u001b[39;49m\u001b[43mrequest\u001b[49m\u001b[38;5;241;43m.\u001b[39;49m\u001b[43mheaders\u001b[49m\u001b[43m,\u001b[49m\n\u001b[1;32m    445\u001b[0m \u001b[43m        \u001b[49m\u001b[43mredirect\u001b[49m\u001b[38;5;241;43m=\u001b[39;49m\u001b[38;5;28;43;01mFalse\u001b[39;49;00m\u001b[43m,\u001b[49m\n\u001b[1;32m    446\u001b[0m \u001b[43m        \u001b[49m\u001b[43massert_same_host\u001b[49m\u001b[38;5;241;43m=\u001b[39;49m\u001b[38;5;28;43;01mFalse\u001b[39;49;00m\u001b[43m,\u001b[49m\n\u001b[1;32m    447\u001b[0m \u001b[43m        \u001b[49m\u001b[43mpreload_content\u001b[49m\u001b[38;5;241;43m=\u001b[39;49m\u001b[38;5;28;43;01mFalse\u001b[39;49;00m\u001b[43m,\u001b[49m\n\u001b[1;32m    448\u001b[0m \u001b[43m        \u001b[49m\u001b[43mdecode_content\u001b[49m\u001b[38;5;241;43m=\u001b[39;49m\u001b[38;5;28;43;01mFalse\u001b[39;49;00m\u001b[43m,\u001b[49m\n\u001b[1;32m    449\u001b[0m \u001b[43m        \u001b[49m\u001b[43mretries\u001b[49m\u001b[38;5;241;43m=\u001b[39;49m\u001b[38;5;28;43mself\u001b[39;49m\u001b[38;5;241;43m.\u001b[39;49m\u001b[43mmax_retries\u001b[49m\u001b[43m,\u001b[49m\n\u001b[1;32m    450\u001b[0m \u001b[43m        \u001b[49m\u001b[43mtimeout\u001b[49m\u001b[38;5;241;43m=\u001b[39;49m\u001b[43mtimeout\u001b[49m\n\u001b[1;32m    451\u001b[0m \u001b[43m    \u001b[49m\u001b[43m)\u001b[49m\n\u001b[1;32m    453\u001b[0m \u001b[38;5;66;03m# Send the request.\u001b[39;00m\n\u001b[1;32m    454\u001b[0m \u001b[38;5;28;01melse\u001b[39;00m:\n",
      "File \u001b[0;32m~/openreview/py-3.8/lib/python3.8/site-packages/urllib3/connectionpool.py:785\u001b[0m, in \u001b[0;36mHTTPConnectionPool.urlopen\u001b[0;34m(self, method, url, body, headers, retries, redirect, assert_same_host, timeout, pool_timeout, release_conn, chunked, body_pos, **response_kw)\u001b[0m\n\u001b[1;32m    783\u001b[0m     e \u001b[38;5;241m=\u001b[39m ProtocolError(\u001b[38;5;124m\"\u001b[39m\u001b[38;5;124mConnection aborted.\u001b[39m\u001b[38;5;124m\"\u001b[39m, e)\n\u001b[0;32m--> 785\u001b[0m retries \u001b[38;5;241m=\u001b[39m \u001b[43mretries\u001b[49m\u001b[38;5;241;43m.\u001b[39;49m\u001b[43mincrement\u001b[49m\u001b[43m(\u001b[49m\n\u001b[1;32m    786\u001b[0m \u001b[43m    \u001b[49m\u001b[43mmethod\u001b[49m\u001b[43m,\u001b[49m\u001b[43m \u001b[49m\u001b[43murl\u001b[49m\u001b[43m,\u001b[49m\u001b[43m \u001b[49m\u001b[43merror\u001b[49m\u001b[38;5;241;43m=\u001b[39;49m\u001b[43me\u001b[49m\u001b[43m,\u001b[49m\u001b[43m \u001b[49m\u001b[43m_pool\u001b[49m\u001b[38;5;241;43m=\u001b[39;49m\u001b[38;5;28;43mself\u001b[39;49m\u001b[43m,\u001b[49m\u001b[43m \u001b[49m\u001b[43m_stacktrace\u001b[49m\u001b[38;5;241;43m=\u001b[39;49m\u001b[43msys\u001b[49m\u001b[38;5;241;43m.\u001b[39;49m\u001b[43mexc_info\u001b[49m\u001b[43m(\u001b[49m\u001b[43m)\u001b[49m\u001b[43m[\u001b[49m\u001b[38;5;241;43m2\u001b[39;49m\u001b[43m]\u001b[49m\n\u001b[1;32m    787\u001b[0m \u001b[43m\u001b[49m\u001b[43m)\u001b[49m\n\u001b[1;32m    788\u001b[0m retries\u001b[38;5;241m.\u001b[39msleep()\n",
      "File \u001b[0;32m~/openreview/py-3.8/lib/python3.8/site-packages/urllib3/util/retry.py:550\u001b[0m, in \u001b[0;36mRetry.increment\u001b[0;34m(self, method, url, response, error, _pool, _stacktrace)\u001b[0m\n\u001b[1;32m    549\u001b[0m \u001b[38;5;28;01mif\u001b[39;00m read \u001b[38;5;129;01mis\u001b[39;00m \u001b[38;5;28;01mFalse\u001b[39;00m \u001b[38;5;129;01mor\u001b[39;00m \u001b[38;5;129;01mnot\u001b[39;00m \u001b[38;5;28mself\u001b[39m\u001b[38;5;241m.\u001b[39m_is_method_retryable(method):\n\u001b[0;32m--> 550\u001b[0m     \u001b[38;5;28;01mraise\u001b[39;00m \u001b[43msix\u001b[49m\u001b[38;5;241;43m.\u001b[39;49m\u001b[43mreraise\u001b[49m\u001b[43m(\u001b[49m\u001b[38;5;28;43mtype\u001b[39;49m\u001b[43m(\u001b[49m\u001b[43merror\u001b[49m\u001b[43m)\u001b[49m\u001b[43m,\u001b[49m\u001b[43m \u001b[49m\u001b[43merror\u001b[49m\u001b[43m,\u001b[49m\u001b[43m \u001b[49m\u001b[43m_stacktrace\u001b[49m\u001b[43m)\u001b[49m\n\u001b[1;32m    551\u001b[0m \u001b[38;5;28;01melif\u001b[39;00m read \u001b[38;5;129;01mis\u001b[39;00m \u001b[38;5;129;01mnot\u001b[39;00m \u001b[38;5;28;01mNone\u001b[39;00m:\n",
      "File \u001b[0;32m~/openreview/py-3.8/lib/python3.8/site-packages/urllib3/packages/six.py:769\u001b[0m, in \u001b[0;36mreraise\u001b[0;34m(tp, value, tb)\u001b[0m\n\u001b[1;32m    768\u001b[0m \u001b[38;5;28;01mif\u001b[39;00m value\u001b[38;5;241m.\u001b[39m__traceback__ \u001b[38;5;129;01mis\u001b[39;00m \u001b[38;5;129;01mnot\u001b[39;00m tb:\n\u001b[0;32m--> 769\u001b[0m     \u001b[38;5;28;01mraise\u001b[39;00m value\u001b[38;5;241m.\u001b[39mwith_traceback(tb)\n\u001b[1;32m    770\u001b[0m \u001b[38;5;28;01mraise\u001b[39;00m value\n",
      "File \u001b[0;32m~/openreview/py-3.8/lib/python3.8/site-packages/urllib3/connectionpool.py:703\u001b[0m, in \u001b[0;36mHTTPConnectionPool.urlopen\u001b[0;34m(self, method, url, body, headers, retries, redirect, assert_same_host, timeout, pool_timeout, release_conn, chunked, body_pos, **response_kw)\u001b[0m\n\u001b[1;32m    702\u001b[0m \u001b[38;5;66;03m# Make the request on the httplib connection object.\u001b[39;00m\n\u001b[0;32m--> 703\u001b[0m httplib_response \u001b[38;5;241m=\u001b[39m \u001b[38;5;28;43mself\u001b[39;49m\u001b[38;5;241;43m.\u001b[39;49m\u001b[43m_make_request\u001b[49m\u001b[43m(\u001b[49m\n\u001b[1;32m    704\u001b[0m \u001b[43m    \u001b[49m\u001b[43mconn\u001b[49m\u001b[43m,\u001b[49m\n\u001b[1;32m    705\u001b[0m \u001b[43m    \u001b[49m\u001b[43mmethod\u001b[49m\u001b[43m,\u001b[49m\n\u001b[1;32m    706\u001b[0m \u001b[43m    \u001b[49m\u001b[43murl\u001b[49m\u001b[43m,\u001b[49m\n\u001b[1;32m    707\u001b[0m \u001b[43m    \u001b[49m\u001b[43mtimeout\u001b[49m\u001b[38;5;241;43m=\u001b[39;49m\u001b[43mtimeout_obj\u001b[49m\u001b[43m,\u001b[49m\n\u001b[1;32m    708\u001b[0m \u001b[43m    \u001b[49m\u001b[43mbody\u001b[49m\u001b[38;5;241;43m=\u001b[39;49m\u001b[43mbody\u001b[49m\u001b[43m,\u001b[49m\n\u001b[1;32m    709\u001b[0m \u001b[43m    \u001b[49m\u001b[43mheaders\u001b[49m\u001b[38;5;241;43m=\u001b[39;49m\u001b[43mheaders\u001b[49m\u001b[43m,\u001b[49m\n\u001b[1;32m    710\u001b[0m \u001b[43m    \u001b[49m\u001b[43mchunked\u001b[49m\u001b[38;5;241;43m=\u001b[39;49m\u001b[43mchunked\u001b[49m\u001b[43m,\u001b[49m\n\u001b[1;32m    711\u001b[0m \u001b[43m\u001b[49m\u001b[43m)\u001b[49m\n\u001b[1;32m    713\u001b[0m \u001b[38;5;66;03m# If we're going to release the connection in ``finally:``, then\u001b[39;00m\n\u001b[1;32m    714\u001b[0m \u001b[38;5;66;03m# the response doesn't need to know about the connection. Otherwise\u001b[39;00m\n\u001b[1;32m    715\u001b[0m \u001b[38;5;66;03m# it will also try to release it and we'll have a double-release\u001b[39;00m\n\u001b[1;32m    716\u001b[0m \u001b[38;5;66;03m# mess.\u001b[39;00m\n",
      "File \u001b[0;32m~/openreview/py-3.8/lib/python3.8/site-packages/urllib3/connectionpool.py:449\u001b[0m, in \u001b[0;36mHTTPConnectionPool._make_request\u001b[0;34m(self, conn, method, url, timeout, chunked, **httplib_request_kw)\u001b[0m\n\u001b[1;32m    445\u001b[0m         \u001b[38;5;28;01mexcept\u001b[39;00m \u001b[38;5;167;01mBaseException\u001b[39;00m \u001b[38;5;28;01mas\u001b[39;00m e:\n\u001b[1;32m    446\u001b[0m             \u001b[38;5;66;03m# Remove the TypeError from the exception chain in\u001b[39;00m\n\u001b[1;32m    447\u001b[0m             \u001b[38;5;66;03m# Python 3 (including for exceptions like SystemExit).\u001b[39;00m\n\u001b[1;32m    448\u001b[0m             \u001b[38;5;66;03m# Otherwise it looks like a bug in the code.\u001b[39;00m\n\u001b[0;32m--> 449\u001b[0m             \u001b[43msix\u001b[49m\u001b[38;5;241;43m.\u001b[39;49m\u001b[43mraise_from\u001b[49m\u001b[43m(\u001b[49m\u001b[43me\u001b[49m\u001b[43m,\u001b[49m\u001b[43m \u001b[49m\u001b[38;5;28;43;01mNone\u001b[39;49;00m\u001b[43m)\u001b[49m\n\u001b[1;32m    450\u001b[0m \u001b[38;5;28;01mexcept\u001b[39;00m (SocketTimeout, BaseSSLError, SocketError) \u001b[38;5;28;01mas\u001b[39;00m e:\n",
      "File \u001b[0;32m<string>:3\u001b[0m, in \u001b[0;36mraise_from\u001b[0;34m(value, from_value)\u001b[0m\n",
      "File \u001b[0;32m~/openreview/py-3.8/lib/python3.8/site-packages/urllib3/connectionpool.py:444\u001b[0m, in \u001b[0;36mHTTPConnectionPool._make_request\u001b[0;34m(self, conn, method, url, timeout, chunked, **httplib_request_kw)\u001b[0m\n\u001b[1;32m    443\u001b[0m \u001b[38;5;28;01mtry\u001b[39;00m:\n\u001b[0;32m--> 444\u001b[0m     httplib_response \u001b[38;5;241m=\u001b[39m \u001b[43mconn\u001b[49m\u001b[38;5;241;43m.\u001b[39;49m\u001b[43mgetresponse\u001b[49m\u001b[43m(\u001b[49m\u001b[43m)\u001b[49m\n\u001b[1;32m    445\u001b[0m \u001b[38;5;28;01mexcept\u001b[39;00m \u001b[38;5;167;01mBaseException\u001b[39;00m \u001b[38;5;28;01mas\u001b[39;00m e:\n\u001b[1;32m    446\u001b[0m     \u001b[38;5;66;03m# Remove the TypeError from the exception chain in\u001b[39;00m\n\u001b[1;32m    447\u001b[0m     \u001b[38;5;66;03m# Python 3 (including for exceptions like SystemExit).\u001b[39;00m\n\u001b[1;32m    448\u001b[0m     \u001b[38;5;66;03m# Otherwise it looks like a bug in the code.\u001b[39;00m\n",
      "File \u001b[0;32m/Applications/Xcode.app/Contents/Developer/Library/Frameworks/Python3.framework/Versions/3.8/lib/python3.8/http/client.py:1344\u001b[0m, in \u001b[0;36mHTTPConnection.getresponse\u001b[0;34m(self)\u001b[0m\n\u001b[1;32m   1343\u001b[0m \u001b[38;5;28;01mtry\u001b[39;00m:\n\u001b[0;32m-> 1344\u001b[0m     \u001b[43mresponse\u001b[49m\u001b[38;5;241;43m.\u001b[39;49m\u001b[43mbegin\u001b[49m\u001b[43m(\u001b[49m\u001b[43m)\u001b[49m\n\u001b[1;32m   1345\u001b[0m \u001b[38;5;28;01mexcept\u001b[39;00m \u001b[38;5;167;01mConnectionError\u001b[39;00m:\n",
      "File \u001b[0;32m/Applications/Xcode.app/Contents/Developer/Library/Frameworks/Python3.framework/Versions/3.8/lib/python3.8/http/client.py:307\u001b[0m, in \u001b[0;36mHTTPResponse.begin\u001b[0;34m(self)\u001b[0m\n\u001b[1;32m    306\u001b[0m \u001b[38;5;28;01mwhile\u001b[39;00m \u001b[38;5;28;01mTrue\u001b[39;00m:\n\u001b[0;32m--> 307\u001b[0m     version, status, reason \u001b[38;5;241m=\u001b[39m \u001b[38;5;28;43mself\u001b[39;49m\u001b[38;5;241;43m.\u001b[39;49m\u001b[43m_read_status\u001b[49m\u001b[43m(\u001b[49m\u001b[43m)\u001b[49m\n\u001b[1;32m    308\u001b[0m     \u001b[38;5;28;01mif\u001b[39;00m status \u001b[38;5;241m!=\u001b[39m CONTINUE:\n",
      "File \u001b[0;32m/Applications/Xcode.app/Contents/Developer/Library/Frameworks/Python3.framework/Versions/3.8/lib/python3.8/http/client.py:276\u001b[0m, in \u001b[0;36mHTTPResponse._read_status\u001b[0;34m(self)\u001b[0m\n\u001b[1;32m    273\u001b[0m \u001b[38;5;28;01mif\u001b[39;00m \u001b[38;5;129;01mnot\u001b[39;00m line:\n\u001b[1;32m    274\u001b[0m     \u001b[38;5;66;03m# Presumably, the server closed the connection before\u001b[39;00m\n\u001b[1;32m    275\u001b[0m     \u001b[38;5;66;03m# sending a valid response.\u001b[39;00m\n\u001b[0;32m--> 276\u001b[0m     \u001b[38;5;28;01mraise\u001b[39;00m RemoteDisconnected(\u001b[38;5;124m\"\u001b[39m\u001b[38;5;124mRemote end closed connection without\u001b[39m\u001b[38;5;124m\"\u001b[39m\n\u001b[1;32m    277\u001b[0m                              \u001b[38;5;124m\"\u001b[39m\u001b[38;5;124m response\u001b[39m\u001b[38;5;124m\"\u001b[39m)\n\u001b[1;32m    278\u001b[0m \u001b[38;5;28;01mtry\u001b[39;00m:\n",
      "\u001b[0;31mProtocolError\u001b[0m: ('Connection aborted.', RemoteDisconnected('Remote end closed connection without response'))",
      "\nDuring handling of the above exception, another exception occurred:\n",
      "\u001b[0;31mConnectionError\u001b[0m                           Traceback (most recent call last)",
      "Input \u001b[0;32mIn [9]\u001b[0m, in \u001b[0;36m<cell line: 3>\u001b[0;34m()\u001b[0m\n\u001b[1;32m      1\u001b[0m edit\u001b[38;5;241m.\u001b[39mddate \u001b[38;5;241m=\u001b[39m now\n\u001b[1;32m      2\u001b[0m edit\u001b[38;5;241m.\u001b[39mnote\u001b[38;5;241m.\u001b[39mmdate \u001b[38;5;241m=\u001b[39m \u001b[38;5;28;01mNone\u001b[39;00m\n\u001b[0;32m----> 3\u001b[0m \u001b[43mclient\u001b[49m\u001b[38;5;241;43m.\u001b[39;49m\u001b[43mpost_edit\u001b[49m\u001b[43m(\u001b[49m\u001b[43medit\u001b[49m\u001b[43m)\u001b[49m\n",
      "File \u001b[0;32m~/openreview/openreview-py/openreview/api/client.py:1724\u001b[0m, in \u001b[0;36mOpenReviewClient.post_edit\u001b[0;34m(self, edit)\u001b[0m\n\u001b[1;32m   1722\u001b[0m     response \u001b[38;5;241m=\u001b[39m requests\u001b[38;5;241m.\u001b[39mpost(\u001b[38;5;28mself\u001b[39m\u001b[38;5;241m.\u001b[39mnote_edits_url, json \u001b[38;5;241m=\u001b[39m edit_json, headers \u001b[38;5;241m=\u001b[39m \u001b[38;5;28mself\u001b[39m\u001b[38;5;241m.\u001b[39mheaders)\n\u001b[1;32m   1723\u001b[0m \u001b[38;5;28;01mif\u001b[39;00m \u001b[38;5;124m'\u001b[39m\u001b[38;5;124minvitation\u001b[39m\u001b[38;5;124m'\u001b[39m \u001b[38;5;129;01min\u001b[39;00m edit_json:\n\u001b[0;32m-> 1724\u001b[0m     response \u001b[38;5;241m=\u001b[39m \u001b[43mrequests\u001b[49m\u001b[38;5;241;43m.\u001b[39;49m\u001b[43mpost\u001b[49m\u001b[43m(\u001b[49m\u001b[38;5;28;43mself\u001b[39;49m\u001b[38;5;241;43m.\u001b[39;49m\u001b[43minvitation_edits_url\u001b[49m\u001b[43m,\u001b[49m\u001b[43m \u001b[49m\u001b[43mjson\u001b[49m\u001b[43m \u001b[49m\u001b[38;5;241;43m=\u001b[39;49m\u001b[43m \u001b[49m\u001b[43medit_json\u001b[49m\u001b[43m,\u001b[49m\u001b[43m \u001b[49m\u001b[43mheaders\u001b[49m\u001b[43m \u001b[49m\u001b[38;5;241;43m=\u001b[39;49m\u001b[43m \u001b[49m\u001b[38;5;28;43mself\u001b[39;49m\u001b[38;5;241;43m.\u001b[39;49m\u001b[43mheaders\u001b[49m\u001b[43m)\u001b[49m\n\u001b[1;32m   1726\u001b[0m response \u001b[38;5;241m=\u001b[39m \u001b[38;5;28mself\u001b[39m\u001b[38;5;241m.\u001b[39m__handle_response(response)\n\u001b[1;32m   1728\u001b[0m \u001b[38;5;28;01mreturn\u001b[39;00m response\u001b[38;5;241m.\u001b[39mjson()\n",
      "File \u001b[0;32m~/openreview/py-3.8/lib/python3.8/site-packages/requests/api.py:117\u001b[0m, in \u001b[0;36mpost\u001b[0;34m(url, data, json, **kwargs)\u001b[0m\n\u001b[1;32m    105\u001b[0m \u001b[38;5;28;01mdef\u001b[39;00m \u001b[38;5;21mpost\u001b[39m(url, data\u001b[38;5;241m=\u001b[39m\u001b[38;5;28;01mNone\u001b[39;00m, json\u001b[38;5;241m=\u001b[39m\u001b[38;5;28;01mNone\u001b[39;00m, \u001b[38;5;241m*\u001b[39m\u001b[38;5;241m*\u001b[39mkwargs):\n\u001b[1;32m    106\u001b[0m     \u001b[38;5;124mr\u001b[39m\u001b[38;5;124;03m\"\"\"Sends a POST request.\u001b[39;00m\n\u001b[1;32m    107\u001b[0m \n\u001b[1;32m    108\u001b[0m \u001b[38;5;124;03m    :param url: URL for the new :class:`Request` object.\u001b[39;00m\n\u001b[0;32m   (...)\u001b[0m\n\u001b[1;32m    114\u001b[0m \u001b[38;5;124;03m    :rtype: requests.Response\u001b[39;00m\n\u001b[1;32m    115\u001b[0m \u001b[38;5;124;03m    \"\"\"\u001b[39;00m\n\u001b[0;32m--> 117\u001b[0m     \u001b[38;5;28;01mreturn\u001b[39;00m \u001b[43mrequest\u001b[49m\u001b[43m(\u001b[49m\u001b[38;5;124;43m'\u001b[39;49m\u001b[38;5;124;43mpost\u001b[39;49m\u001b[38;5;124;43m'\u001b[39;49m\u001b[43m,\u001b[49m\u001b[43m \u001b[49m\u001b[43murl\u001b[49m\u001b[43m,\u001b[49m\u001b[43m \u001b[49m\u001b[43mdata\u001b[49m\u001b[38;5;241;43m=\u001b[39;49m\u001b[43mdata\u001b[49m\u001b[43m,\u001b[49m\u001b[43m \u001b[49m\u001b[43mjson\u001b[49m\u001b[38;5;241;43m=\u001b[39;49m\u001b[43mjson\u001b[49m\u001b[43m,\u001b[49m\u001b[43m \u001b[49m\u001b[38;5;241;43m*\u001b[39;49m\u001b[38;5;241;43m*\u001b[39;49m\u001b[43mkwargs\u001b[49m\u001b[43m)\u001b[49m\n",
      "File \u001b[0;32m~/openreview/py-3.8/lib/python3.8/site-packages/requests/api.py:61\u001b[0m, in \u001b[0;36mrequest\u001b[0;34m(method, url, **kwargs)\u001b[0m\n\u001b[1;32m     57\u001b[0m \u001b[38;5;66;03m# By using the 'with' statement we are sure the session is closed, thus we\u001b[39;00m\n\u001b[1;32m     58\u001b[0m \u001b[38;5;66;03m# avoid leaving sockets open which can trigger a ResourceWarning in some\u001b[39;00m\n\u001b[1;32m     59\u001b[0m \u001b[38;5;66;03m# cases, and look like a memory leak in others.\u001b[39;00m\n\u001b[1;32m     60\u001b[0m \u001b[38;5;28;01mwith\u001b[39;00m sessions\u001b[38;5;241m.\u001b[39mSession() \u001b[38;5;28;01mas\u001b[39;00m session:\n\u001b[0;32m---> 61\u001b[0m     \u001b[38;5;28;01mreturn\u001b[39;00m \u001b[43msession\u001b[49m\u001b[38;5;241;43m.\u001b[39;49m\u001b[43mrequest\u001b[49m\u001b[43m(\u001b[49m\u001b[43mmethod\u001b[49m\u001b[38;5;241;43m=\u001b[39;49m\u001b[43mmethod\u001b[49m\u001b[43m,\u001b[49m\u001b[43m \u001b[49m\u001b[43murl\u001b[49m\u001b[38;5;241;43m=\u001b[39;49m\u001b[43murl\u001b[49m\u001b[43m,\u001b[49m\u001b[43m \u001b[49m\u001b[38;5;241;43m*\u001b[39;49m\u001b[38;5;241;43m*\u001b[39;49m\u001b[43mkwargs\u001b[49m\u001b[43m)\u001b[49m\n",
      "File \u001b[0;32m~/openreview/py-3.8/lib/python3.8/site-packages/requests/sessions.py:529\u001b[0m, in \u001b[0;36mSession.request\u001b[0;34m(self, method, url, params, data, headers, cookies, files, auth, timeout, allow_redirects, proxies, hooks, stream, verify, cert, json)\u001b[0m\n\u001b[1;32m    524\u001b[0m send_kwargs \u001b[38;5;241m=\u001b[39m {\n\u001b[1;32m    525\u001b[0m     \u001b[38;5;124m'\u001b[39m\u001b[38;5;124mtimeout\u001b[39m\u001b[38;5;124m'\u001b[39m: timeout,\n\u001b[1;32m    526\u001b[0m     \u001b[38;5;124m'\u001b[39m\u001b[38;5;124mallow_redirects\u001b[39m\u001b[38;5;124m'\u001b[39m: allow_redirects,\n\u001b[1;32m    527\u001b[0m }\n\u001b[1;32m    528\u001b[0m send_kwargs\u001b[38;5;241m.\u001b[39mupdate(settings)\n\u001b[0;32m--> 529\u001b[0m resp \u001b[38;5;241m=\u001b[39m \u001b[38;5;28;43mself\u001b[39;49m\u001b[38;5;241;43m.\u001b[39;49m\u001b[43msend\u001b[49m\u001b[43m(\u001b[49m\u001b[43mprep\u001b[49m\u001b[43m,\u001b[49m\u001b[43m \u001b[49m\u001b[38;5;241;43m*\u001b[39;49m\u001b[38;5;241;43m*\u001b[39;49m\u001b[43msend_kwargs\u001b[49m\u001b[43m)\u001b[49m\n\u001b[1;32m    531\u001b[0m \u001b[38;5;28;01mreturn\u001b[39;00m resp\n",
      "File \u001b[0;32m~/openreview/py-3.8/lib/python3.8/site-packages/requests/sessions.py:645\u001b[0m, in \u001b[0;36mSession.send\u001b[0;34m(self, request, **kwargs)\u001b[0m\n\u001b[1;32m    642\u001b[0m start \u001b[38;5;241m=\u001b[39m preferred_clock()\n\u001b[1;32m    644\u001b[0m \u001b[38;5;66;03m# Send the request\u001b[39;00m\n\u001b[0;32m--> 645\u001b[0m r \u001b[38;5;241m=\u001b[39m \u001b[43madapter\u001b[49m\u001b[38;5;241;43m.\u001b[39;49m\u001b[43msend\u001b[49m\u001b[43m(\u001b[49m\u001b[43mrequest\u001b[49m\u001b[43m,\u001b[49m\u001b[43m \u001b[49m\u001b[38;5;241;43m*\u001b[39;49m\u001b[38;5;241;43m*\u001b[39;49m\u001b[43mkwargs\u001b[49m\u001b[43m)\u001b[49m\n\u001b[1;32m    647\u001b[0m \u001b[38;5;66;03m# Total elapsed time of the request (approximately)\u001b[39;00m\n\u001b[1;32m    648\u001b[0m elapsed \u001b[38;5;241m=\u001b[39m preferred_clock() \u001b[38;5;241m-\u001b[39m start\n",
      "File \u001b[0;32m~/openreview/py-3.8/lib/python3.8/site-packages/requests/adapters.py:501\u001b[0m, in \u001b[0;36mHTTPAdapter.send\u001b[0;34m(self, request, stream, timeout, verify, cert, proxies)\u001b[0m\n\u001b[1;32m    498\u001b[0m             \u001b[38;5;28;01mraise\u001b[39;00m\n\u001b[1;32m    500\u001b[0m \u001b[38;5;28;01mexcept\u001b[39;00m (ProtocolError, socket\u001b[38;5;241m.\u001b[39merror) \u001b[38;5;28;01mas\u001b[39;00m err:\n\u001b[0;32m--> 501\u001b[0m     \u001b[38;5;28;01mraise\u001b[39;00m \u001b[38;5;167;01mConnectionError\u001b[39;00m(err, request\u001b[38;5;241m=\u001b[39mrequest)\n\u001b[1;32m    503\u001b[0m \u001b[38;5;28;01mexcept\u001b[39;00m MaxRetryError \u001b[38;5;28;01mas\u001b[39;00m e:\n\u001b[1;32m    504\u001b[0m     \u001b[38;5;28;01mif\u001b[39;00m \u001b[38;5;28misinstance\u001b[39m(e\u001b[38;5;241m.\u001b[39mreason, ConnectTimeoutError):\n\u001b[1;32m    505\u001b[0m         \u001b[38;5;66;03m# TODO: Remove this in 3.0.0: see #2811\u001b[39;00m\n",
      "\u001b[0;31mConnectionError\u001b[0m: ('Connection aborted.', RemoteDisconnected('Remote end closed connection without response'))"
     ]
    }
   ],
   "source": [
    "edit.ddate = now\n",
    "edit.note.mdate = None\n",
    "client.post_edit(edit)"
   ]
  },
  {
   "cell_type": "code",
   "execution_count": null,
   "id": "82b859f7-8fca-4cb6-bef0-0fd49460c05d",
   "metadata": {},
   "outputs": [],
   "source": [
    "import requests\n",
    "\n",
    "response = requests.post('http://10.128.0.33:9100/latex/fragment', json = {'latex': 'Understanding $\\bldsym{\\delta}$-Function'})\n",
    "\n",
    "if response != 200:\n",
    "    raise openreview.OpenReviewException(\"Failure!!!!\")\n",
    "else:\n",
    "    raise openreview.OpenReviewException(\"Success!!\")"
   ]
  }
 ],
 "metadata": {
  "kernelspec": {
   "display_name": "Python 3",
   "language": "python",
   "name": "python3"
  },
  "language_info": {
   "codemirror_mode": {
    "name": "ipython",
    "version": 3
   },
   "file_extension": ".py",
   "mimetype": "text/x-python",
   "name": "python",
   "nbconvert_exporter": "python",
   "pygments_lexer": "ipython3",
   "version": "3.13.0"
  }
 },
 "nbformat": 4,
 "nbformat_minor": 5
}
