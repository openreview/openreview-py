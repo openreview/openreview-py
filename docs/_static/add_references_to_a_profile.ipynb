{
 "cells": [
  {
   "cell_type": "code",
   "execution_count": 1,
   "metadata": {
    "collapsed": true
   },
   "outputs": [],
   "source": [
    "import openreview"
   ]
  },
  {
   "cell_type": "code",
   "execution_count": 2,
   "metadata": {
    "collapsed": true
   },
   "outputs": [],
   "source": [
    "client = openreview.Client(baseurl = 'https://dev.openreview.net', username = \"OpenReview.net\")"
   ]
  },
  {
   "cell_type": "code",
   "execution_count": 8,
   "metadata": {
    "collapsed": true
   },
   "outputs": [],
   "source": [
    "## Add dblp link\n",
    "updated_profile = client.update_profile(openreview.Profile(referent = '~Melisa_TestBok1',\n",
    "                   invitation = '~/-/invitation',\n",
    "                   signatures = ['~Melisa_TestBok1'],\n",
    "                   content = {\n",
    "                    'dblp': 'http://dblp.org/mbok'\n",
    "                  }))"
   ]
  },
  {
   "cell_type": "code",
   "execution_count": 9,
   "metadata": {
    "collapsed": false
   },
   "outputs": [
    {
     "name": "stdout",
     "output_type": "stream",
     "text": [
      "{'active': True,\n",
      " 'content': {u'dblp': u'http://dblp.org/mbok',\n",
      "             u'emails': [u'melisabok@gmail.com',\n",
      "                         u'mbok@cs.umass.edu',\n",
      "                         u'mbok@iesl.cs.umass.edu',\n",
      "                         u'mbok@umass.edu'],\n",
      "             u'history': [{u'end': None,\n",
      "                           u'institution': {u'domain': u'cs.umass.edu',\n",
      "                                            u'name': u'Department of Computer Science, University of Massachusetts, Amherst'},\n",
      "                           u'position': u'MS student',\n",
      "                           u'start': None}],\n",
      "             u'homepage': u'http://melisa.homepage.do',\n",
      "             u'names': [{u'first': u'Melisa',\n",
      "                         u'last': u'TestBok',\n",
      "                         u'middle': u'',\n",
      "                         u'preferred': False,\n",
      "                         u'username': u'~Melisa_TestBok1'},\n",
      "                        {u'first': u'Melisa',\n",
      "                         u'last': u'Bok',\n",
      "                         u'middle': u'',\n",
      "                         u'preferred': False,\n",
      "                         u'username': u'~Melisa_Bok1'},\n",
      "                        {u'first': u'Melisa',\n",
      "                         u'last': u'B\\xf6k',\n",
      "                         u'middle': u'',\n",
      "                         u'preferred': False,\n",
      "                         u'username': u'~Melisa_B\\xf6k1'},\n",
      "                        {u'first': u'Test',\n",
      "                         u'last': u'Test',\n",
      "                         u'middle': u'',\n",
      "                         u'preferred': True,\n",
      "                         u'username': u'~Test_Test2'}],\n",
      "             u'preferredEmail': u'melisabok@gmail.com',\n",
      "             u'relations': [{u'email': u'spector@cs.umass.edu',\n",
      "                             u'end': None,\n",
      "                             u'name': u'Michael Spector',\n",
      "                             u'relation': u'Coworker',\n",
      "                             u'start': 2016}]},\n",
      " 'id': u'~Melisa_TestBok1',\n",
      " 'invitation': u'~/-/profiles',\n",
      " 'metaContent': {u'dblp': {u'signatures': [u'~Melisa_TestBok1']},\n",
      "                 u'emails': [{u'signatures': [u'OpenReview.net']},\n",
      "                             {u'signatures': [u'OpenReview.net']},\n",
      "                             {u'signatures': [u'OpenReview.net']},\n",
      "                             {u'signatures': [u'OpenReview.net']}],\n",
      "                 u'history': [{u'signatures': [u'OpenReview.net']}],\n",
      "                 u'homepage': {u'signatures': [u'~Melisa_TestBok1']},\n",
      "                 u'names': [{u'signatures': [u'OpenReview.net']},\n",
      "                            {u'signatures': [u'OpenReview.net']},\n",
      "                            {u'signatures': [u'OpenReview.net']},\n",
      "                            {u'signatures': [u'OpenReview.net']}],\n",
      "                 u'preferredEmail': {u'signatures': [u'OpenReview.net']},\n",
      "                 u'relations': [{u'signatures': [u'OpenReview.net']}]},\n",
      " 'nonreaders': [],\n",
      " 'number': None,\n",
      " 'password': {u'hash': u'xHo6/RNV2paKYBKnf1mRS0DqL6r8LHcNtsMkOe99b373qBVsWf8WfLfs+RitjQ/oa8h/6mBUhu2pgeNaR75jaJna',\n",
      "              u'hashMethod': u'pbkdf2',\n",
      "              u'keyLength': 66,\n",
      "              u'salt': u'sQrjCMo6GROCndwx5zhzGiVwuUvVUHJdPjtT95dOZwLt4Jv2Pz18JAEv8D2kRzgPne',\n",
      "              u'workUnits': 60},\n",
      " 'readers': [u'OpenReview.net', u'~Melisa_TestBok1'],\n",
      " 'referent': None,\n",
      " 'signatures': [u'~Melisa_TestBok1'],\n",
      " 'tauthor': u'OpenReview.net',\n",
      " 'tcdate': 1473703013000,\n",
      " 'tmdate': 1532981538899,\n",
      " 'writers': [u'OpenReview.net']}\n"
     ]
    }
   ],
   "source": [
    "print updated_profile"
   ]
  },
  {
   "cell_type": "code",
   "execution_count": 10,
   "metadata": {
    "collapsed": false
   },
   "outputs": [],
   "source": [
    "references = client.get_references(referent = '~Melisa_TestBok1')"
   ]
  },
  {
   "cell_type": "code",
   "execution_count": 11,
   "metadata": {
    "collapsed": false
   },
   "outputs": [
    {
     "name": "stdout",
     "output_type": "stream",
     "text": [
      "{'cdate': 1532981560472,\n",
      " 'content': {u'dblp': u'http://dblp.org/mbok'},\n",
      " 'ddate': None,\n",
      " 'forum': None,\n",
      " 'forumContent': None,\n",
      " 'id': u'Hkj7-g647',\n",
      " 'invitation': u'~/-/invitation',\n",
      " 'metaContent': None,\n",
      " 'nonreaders': [],\n",
      " 'number': None,\n",
      " 'original': None,\n",
      " 'overwriting': None,\n",
      " 'readers': [u'OpenReview.net', u'OpenReview.net'],\n",
      " 'referent': u'~Melisa_TestBok1',\n",
      " 'replyto': None,\n",
      " 'signatures': [u'~Melisa_TestBok1'],\n",
      " 'tauthor': u'OpenReview.net',\n",
      " 'tcdate': 1532981538899,\n",
      " 'writers': []}\n"
     ]
    }
   ],
   "source": [
    "print references[0]"
   ]
  },
  {
   "cell_type": "code",
   "execution_count": 12,
   "metadata": {
    "collapsed": true
   },
   "outputs": [],
   "source": [
    "## Add history record\n",
    "updated_profile = client.update_profile(openreview.Profile(referent = '~Melisa_TestBok1',\n",
    "                   invitation = '~/-/invitation',\n",
    "                   signatures = ['~Melisa_TestBok1'],\n",
    "                   content = {\n",
    "                    'history': {\n",
    "                       'position': 'Developer',\n",
    "                       'institution': { 'name': 'UBA', 'domain': 'uba.ar'},\n",
    "                       'start': 2000,\n",
    "                       'end': 2006\n",
    "                    }\n",
    "                  }))"
   ]
  },
  {
   "cell_type": "code",
   "execution_count": 13,
   "metadata": {
    "collapsed": false
   },
   "outputs": [
    {
     "name": "stdout",
     "output_type": "stream",
     "text": [
      "{'active': True,\n",
      " 'content': {u'dblp': u'http://dblp.org/mbok',\n",
      "             u'emails': [u'melisabok@gmail.com',\n",
      "                         u'mbok@cs.umass.edu',\n",
      "                         u'mbok@iesl.cs.umass.edu',\n",
      "                         u'mbok@umass.edu'],\n",
      "             u'history': [{u'end': None,\n",
      "                           u'institution': {u'domain': u'cs.umass.edu',\n",
      "                                            u'name': u'Department of Computer Science, University of Massachusetts, Amherst'},\n",
      "                           u'position': u'MS student',\n",
      "                           u'start': None},\n",
      "                          {u'end': 2006,\n",
      "                           u'institution': {u'domain': u'uba.ar',\n",
      "                                            u'name': u'UBA'},\n",
      "                           u'position': u'Developer',\n",
      "                           u'start': 2000}],\n",
      "             u'homepage': u'http://melisa.homepage.do',\n",
      "             u'names': [{u'first': u'Melisa',\n",
      "                         u'last': u'TestBok',\n",
      "                         u'middle': u'',\n",
      "                         u'preferred': False,\n",
      "                         u'username': u'~Melisa_TestBok1'},\n",
      "                        {u'first': u'Melisa',\n",
      "                         u'last': u'Bok',\n",
      "                         u'middle': u'',\n",
      "                         u'preferred': False,\n",
      "                         u'username': u'~Melisa_Bok1'},\n",
      "                        {u'first': u'Melisa',\n",
      "                         u'last': u'B\\xf6k',\n",
      "                         u'middle': u'',\n",
      "                         u'preferred': False,\n",
      "                         u'username': u'~Melisa_B\\xf6k1'},\n",
      "                        {u'first': u'Test',\n",
      "                         u'last': u'Test',\n",
      "                         u'middle': u'',\n",
      "                         u'preferred': True,\n",
      "                         u'username': u'~Test_Test2'}],\n",
      "             u'preferredEmail': u'melisabok@gmail.com',\n",
      "             u'relations': [{u'email': u'spector@cs.umass.edu',\n",
      "                             u'end': None,\n",
      "                             u'name': u'Michael Spector',\n",
      "                             u'relation': u'Coworker',\n",
      "                             u'start': 2016}]},\n",
      " 'id': u'~Melisa_TestBok1',\n",
      " 'invitation': u'~/-/profiles',\n",
      " 'metaContent': {u'dblp': {u'signatures': [u'~Melisa_TestBok1']},\n",
      "                 u'emails': [{u'signatures': [u'OpenReview.net']},\n",
      "                             {u'signatures': [u'OpenReview.net']},\n",
      "                             {u'signatures': [u'OpenReview.net']},\n",
      "                             {u'signatures': [u'OpenReview.net']}],\n",
      "                 u'history': [{u'signatures': [u'OpenReview.net']},\n",
      "                              {u'signatures': [u'~Melisa_TestBok1']}],\n",
      "                 u'homepage': {u'signatures': [u'~Melisa_TestBok1']},\n",
      "                 u'names': [{u'signatures': [u'OpenReview.net']},\n",
      "                            {u'signatures': [u'OpenReview.net']},\n",
      "                            {u'signatures': [u'OpenReview.net']},\n",
      "                            {u'signatures': [u'OpenReview.net']}],\n",
      "                 u'preferredEmail': {u'signatures': [u'OpenReview.net']},\n",
      "                 u'relations': [{u'signatures': [u'OpenReview.net']}]},\n",
      " 'nonreaders': [],\n",
      " 'number': None,\n",
      " 'password': {u'hash': u'xHo6/RNV2paKYBKnf1mRS0DqL6r8LHcNtsMkOe99b373qBVsWf8WfLfs+RitjQ/oa8h/6mBUhu2pgeNaR75jaJna',\n",
      "              u'hashMethod': u'pbkdf2',\n",
      "              u'keyLength': 66,\n",
      "              u'salt': u'sQrjCMo6GROCndwx5zhzGiVwuUvVUHJdPjtT95dOZwLt4Jv2Pz18JAEv8D2kRzgPne',\n",
      "              u'workUnits': 60},\n",
      " 'readers': [u'OpenReview.net', u'~Melisa_TestBok1'],\n",
      " 'referent': None,\n",
      " 'signatures': [u'~Melisa_TestBok1'],\n",
      " 'tauthor': u'OpenReview.net',\n",
      " 'tcdate': 1473703013000,\n",
      " 'tmdate': 1532981728516,\n",
      " 'writers': [u'OpenReview.net']}\n"
     ]
    }
   ],
   "source": [
    "print updated_profile"
   ]
  },
  {
   "cell_type": "code",
   "execution_count": 16,
   "metadata": {
    "collapsed": true
   },
   "outputs": [],
   "source": [
    "## Add email\n",
    "updated_profile = client.update_profile(openreview.Profile(referent = '~Melisa_TestBok1',\n",
    "                   invitation = '~/-/invitation',\n",
    "                   signatures = ['~Melisa_TestBok1'],\n",
    "                   content = {\n",
    "                    'emails': 'test@mail.com'\n",
    "                  }))"
   ]
  },
  {
   "cell_type": "code",
   "execution_count": 17,
   "metadata": {
    "collapsed": false
   },
   "outputs": [
    {
     "name": "stdout",
     "output_type": "stream",
     "text": [
      "{'active': True,\n",
      " 'content': {u'dblp': u'http://dblp.org/mbok',\n",
      "             u'emails': [u'melisabok@gmail.com',\n",
      "                         u'mbok@cs.umass.edu',\n",
      "                         u'mbok@iesl.cs.umass.edu',\n",
      "                         u'mbok@umass.edu',\n",
      "                         u'test@mail.com'],\n",
      "             u'history': [{u'end': None,\n",
      "                           u'institution': {u'domain': u'cs.umass.edu',\n",
      "                                            u'name': u'Department of Computer Science, University of Massachusetts, Amherst'},\n",
      "                           u'position': u'MS student',\n",
      "                           u'start': None},\n",
      "                          {u'end': 2006,\n",
      "                           u'institution': {u'domain': u'uba.ar',\n",
      "                                            u'name': u'UBA'},\n",
      "                           u'position': u'Developer',\n",
      "                           u'start': 2000}],\n",
      "             u'homepage': u'http://melisa.homepage.do',\n",
      "             u'names': [{u'first': u'Melisa',\n",
      "                         u'last': u'TestBok',\n",
      "                         u'middle': u'',\n",
      "                         u'preferred': False,\n",
      "                         u'username': u'~Melisa_TestBok1'},\n",
      "                        {u'first': u'Melisa',\n",
      "                         u'last': u'Bok',\n",
      "                         u'middle': u'',\n",
      "                         u'preferred': False,\n",
      "                         u'username': u'~Melisa_Bok1'},\n",
      "                        {u'first': u'Melisa',\n",
      "                         u'last': u'B\\xf6k',\n",
      "                         u'middle': u'',\n",
      "                         u'preferred': False,\n",
      "                         u'username': u'~Melisa_B\\xf6k1'},\n",
      "                        {u'first': u'Test',\n",
      "                         u'last': u'Test',\n",
      "                         u'middle': u'',\n",
      "                         u'preferred': True,\n",
      "                         u'username': u'~Test_Test2'}],\n",
      "             u'preferredEmail': u'melisabok@gmail.com',\n",
      "             u'relations': [{u'email': u'spector@cs.umass.edu',\n",
      "                             u'end': None,\n",
      "                             u'name': u'Michael Spector',\n",
      "                             u'relation': u'Coworker',\n",
      "                             u'start': 2016}]},\n",
      " 'id': u'~Melisa_TestBok1',\n",
      " 'invitation': u'~/-/profiles',\n",
      " 'metaContent': {u'dblp': {u'signatures': [u'~Melisa_TestBok1']},\n",
      "                 u'emails': [{u'signatures': [u'OpenReview.net']},\n",
      "                             {u'signatures': [u'OpenReview.net']},\n",
      "                             {u'signatures': [u'OpenReview.net']},\n",
      "                             {u'signatures': [u'OpenReview.net']},\n",
      "                             {u'signatures': [u'~Melisa_TestBok1']}],\n",
      "                 u'history': [{u'signatures': [u'OpenReview.net']},\n",
      "                              {u'signatures': [u'~Melisa_TestBok1']}],\n",
      "                 u'homepage': {u'signatures': [u'~Melisa_TestBok1']},\n",
      "                 u'names': [{u'signatures': [u'OpenReview.net']},\n",
      "                            {u'signatures': [u'OpenReview.net']},\n",
      "                            {u'signatures': [u'OpenReview.net']},\n",
      "                            {u'signatures': [u'OpenReview.net']}],\n",
      "                 u'preferredEmail': {u'signatures': [u'OpenReview.net']},\n",
      "                 u'relations': [{u'signatures': [u'OpenReview.net']}]},\n",
      " 'nonreaders': [],\n",
      " 'number': None,\n",
      " 'password': {u'hash': u'xHo6/RNV2paKYBKnf1mRS0DqL6r8LHcNtsMkOe99b373qBVsWf8WfLfs+RitjQ/oa8h/6mBUhu2pgeNaR75jaJna',\n",
      "              u'hashMethod': u'pbkdf2',\n",
      "              u'keyLength': 66,\n",
      "              u'salt': u'sQrjCMo6GROCndwx5zhzGiVwuUvVUHJdPjtT95dOZwLt4Jv2Pz18JAEv8D2kRzgPne',\n",
      "              u'workUnits': 60},\n",
      " 'readers': [u'OpenReview.net', u'~Melisa_TestBok1'],\n",
      " 'referent': None,\n",
      " 'signatures': [u'~Melisa_TestBok1'],\n",
      " 'tauthor': u'OpenReview.net',\n",
      " 'tcdate': 1473703013000,\n",
      " 'tmdate': 1532981821940,\n",
      " 'writers': [u'OpenReview.net']}\n"
     ]
    }
   ],
   "source": [
    "print updated_profile"
   ]
  },
  {
   "cell_type": "code",
   "execution_count": 22,
   "metadata": {
    "collapsed": false
   },
   "outputs": [],
   "source": [
    "# Remove email\n",
    "updated_profile = client.update_profile(openreview.Profile(referent = '~Melisa_TestBok1',\n",
    "                   invitation = '~/-/invitation',\n",
    "                   signatures = ['~Melisa_TestBok1'],\n",
    "                   content = {},                                        \n",
    "                   metaContent = {\n",
    "                    'emails': { 'values': ['test@mail.com'], 'weights': [-1] }\n",
    "                  }))"
   ]
  },
  {
   "cell_type": "code",
   "execution_count": 23,
   "metadata": {
    "collapsed": false
   },
   "outputs": [
    {
     "name": "stdout",
     "output_type": "stream",
     "text": [
      "{'active': True,\n",
      " 'content': {u'dblp': u'http://dblp.org/mbok',\n",
      "             u'emails': [u'melisabok@gmail.com',\n",
      "                         u'mbok@cs.umass.edu',\n",
      "                         u'mbok@iesl.cs.umass.edu',\n",
      "                         u'mbok@umass.edu'],\n",
      "             u'history': [{u'end': None,\n",
      "                           u'institution': {u'domain': u'cs.umass.edu',\n",
      "                                            u'name': u'Department of Computer Science, University of Massachusetts, Amherst'},\n",
      "                           u'position': u'MS student',\n",
      "                           u'start': None},\n",
      "                          {u'end': 2006,\n",
      "                           u'institution': {u'domain': u'uba.ar',\n",
      "                                            u'name': u'UBA'},\n",
      "                           u'position': u'Developer',\n",
      "                           u'start': 2000}],\n",
      "             u'homepage': u'http://melisa.homepage.do',\n",
      "             u'names': [{u'first': u'Melisa',\n",
      "                         u'last': u'TestBok',\n",
      "                         u'middle': u'',\n",
      "                         u'preferred': False,\n",
      "                         u'username': u'~Melisa_TestBok1'},\n",
      "                        {u'first': u'Melisa',\n",
      "                         u'last': u'Bok',\n",
      "                         u'middle': u'',\n",
      "                         u'preferred': False,\n",
      "                         u'username': u'~Melisa_Bok1'},\n",
      "                        {u'first': u'Melisa',\n",
      "                         u'last': u'B\\xf6k',\n",
      "                         u'middle': u'',\n",
      "                         u'preferred': False,\n",
      "                         u'username': u'~Melisa_B\\xf6k1'},\n",
      "                        {u'first': u'Test',\n",
      "                         u'last': u'Test',\n",
      "                         u'middle': u'',\n",
      "                         u'preferred': True,\n",
      "                         u'username': u'~Test_Test2'}],\n",
      "             u'preferredEmail': u'melisabok@gmail.com',\n",
      "             u'relations': [{u'email': u'spector@cs.umass.edu',\n",
      "                             u'end': None,\n",
      "                             u'name': u'Michael Spector',\n",
      "                             u'relation': u'Coworker',\n",
      "                             u'start': 2016}]},\n",
      " 'id': u'~Melisa_TestBok1',\n",
      " 'invitation': u'~/-/profiles',\n",
      " 'metaContent': {u'dblp': {u'signatures': [u'~Melisa_TestBok1']},\n",
      "                 u'emails': [{u'signatures': [u'OpenReview.net']},\n",
      "                             {u'signatures': [u'OpenReview.net']},\n",
      "                             {u'signatures': [u'OpenReview.net']},\n",
      "                             {u'signatures': [u'OpenReview.net']}],\n",
      "                 u'history': [{u'signatures': [u'OpenReview.net']},\n",
      "                              {u'signatures': [u'~Melisa_TestBok1']}],\n",
      "                 u'homepage': {u'signatures': [u'~Melisa_TestBok1']},\n",
      "                 u'names': [{u'signatures': [u'OpenReview.net']},\n",
      "                            {u'signatures': [u'OpenReview.net']},\n",
      "                            {u'signatures': [u'OpenReview.net']},\n",
      "                            {u'signatures': [u'OpenReview.net']}],\n",
      "                 u'preferredEmail': {u'signatures': [u'OpenReview.net']},\n",
      "                 u'relations': [{u'signatures': [u'OpenReview.net']}]},\n",
      " 'nonreaders': [],\n",
      " 'number': None,\n",
      " 'password': {u'hash': u'xHo6/RNV2paKYBKnf1mRS0DqL6r8LHcNtsMkOe99b373qBVsWf8WfLfs+RitjQ/oa8h/6mBUhu2pgeNaR75jaJna',\n",
      "              u'hashMethod': u'pbkdf2',\n",
      "              u'keyLength': 66,\n",
      "              u'salt': u'sQrjCMo6GROCndwx5zhzGiVwuUvVUHJdPjtT95dOZwLt4Jv2Pz18JAEv8D2kRzgPne',\n",
      "              u'workUnits': 60},\n",
      " 'readers': [u'OpenReview.net', u'~Melisa_TestBok1'],\n",
      " 'referent': None,\n",
      " 'signatures': [u'~Melisa_TestBok1'],\n",
      " 'tauthor': u'OpenReview.net',\n",
      " 'tcdate': 1473703013000,\n",
      " 'tmdate': 1532981966755,\n",
      " 'writers': [u'OpenReview.net']}\n"
     ]
    }
   ],
   "source": [
    "print updated_profile"
   ]
  },
  {
   "cell_type": "code",
   "execution_count": 24,
   "metadata": {
    "collapsed": true
   },
   "outputs": [],
   "source": [
    "references = client.get_references(referent = '~Melisa_TestBok1')"
   ]
  },
  {
   "cell_type": "code",
   "execution_count": 25,
   "metadata": {
    "collapsed": false
   },
   "outputs": [
    {
     "name": "stdout",
     "output_type": "stream",
     "text": [
      "{'cdate': 1532981993098,\n",
      " 'content': {},\n",
      " 'ddate': None,\n",
      " 'forum': None,\n",
      " 'forumContent': None,\n",
      " 'id': u'H1vCfxaNX',\n",
      " 'invitation': u'~/-/invitation',\n",
      " 'metaContent': {u'emails': {u'values': [u'test@mail.com'], u'weights': [-1]}},\n",
      " 'nonreaders': [],\n",
      " 'number': None,\n",
      " 'original': None,\n",
      " 'overwriting': None,\n",
      " 'readers': [u'OpenReview.net', u'OpenReview.net'],\n",
      " 'referent': u'~Melisa_TestBok1',\n",
      " 'replyto': None,\n",
      " 'signatures': [u'~Melisa_TestBok1'],\n",
      " 'tauthor': u'OpenReview.net',\n",
      " 'tcdate': 1532981966755,\n",
      " 'writers': []}\n"
     ]
    }
   ],
   "source": [
    "print references[0]"
   ]
  },
  {
   "cell_type": "code",
   "execution_count": null,
   "metadata": {
    "collapsed": true
   },
   "outputs": [],
   "source": []
  }
 ],
 "metadata": {
  "kernelspec": {
   "display_name": "Python 2",
   "language": "python",
   "name": "python2"
  },
  "language_info": {
   "codemirror_mode": {
    "name": "ipython",
    "version": 2
   },
   "file_extension": ".py",
   "mimetype": "text/x-python",
   "name": "python",
   "nbconvert_exporter": "python",
   "pygments_lexer": "ipython2",
   "version": "2.7.9"
  }
 },
 "nbformat": 4,
 "nbformat_minor": 0
}
