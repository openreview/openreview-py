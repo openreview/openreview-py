{
 "cells": [
  {
   "cell_type": "code",
   "execution_count": null,
   "metadata": {},
   "outputs": [],
   "source": [
    "import openreview\n",
    "import icml\n",
    "\n",
    "client = openreview.Client()"
   ]
  },
  {
   "cell_type": "code",
   "execution_count": null,
   "metadata": {},
   "outputs": [],
   "source": [
    "# post the groups in the conference's path\n",
    "icml_groups = openreview.tools.build_groups(icml.conference.id)\n",
    "for group in icml_groups:\n",
    "    try:\n",
    "        existing_group = client.get_group(group.id)\n",
    "    except openreview.OpenReviewException as e:\n",
    "        posted_group = client.post_group(group)\n",
    "        print(posted_group.id)"
   ]
  },
  {
   "cell_type": "code",
   "execution_count": null,
   "metadata": {},
   "outputs": [],
   "source": [
    "# post the conference group with updated parameters\n",
    "client.post_group(icml.conference)"
   ]
  },
  {
   "cell_type": "markdown",
   "metadata": {},
   "source": [
    "### Features\n",
    "\n",
    "- Reviewer and Area Chair recruitment\n",
    "- Double-blind Paper Submission\n",
    "- Area Chair and Reviewer bidding\n",
    "- Areachair recommendations for reviewers\n",
    "- Reviewer assignment\n",
    "- Reviews and Comments\n",
    "- Area chair and Program chair console(s)\n",
    "\n",
    "### To Do Features\n",
    "- Reviewer and area chair reviewer matching browser\n"
   ]
  },
  {
   "cell_type": "markdown",
   "metadata": {},
   "source": [
    "### Reviewer and Area Chair recruitment"
   ]
  },
  {
   "cell_type": "code",
   "execution_count": null,
   "metadata": {},
   "outputs": [],
   "source": [
    "# post reviewer groups that we can use to track those that were invited, \n",
    "# and those that accepted or declined the invitation.\n",
    "\n",
    "icml.reviewers.members = [\n",
    "    'redreviewer@openreview.net',\n",
    "    'bluereviewer@openreview.net',\n",
    "    'greenreviewer@openreview.net'\n",
    "]\n",
    "\n",
    "client.post_group(icml.reviewers)\n",
    "client.post_group(icml.reviewers_invited)\n",
    "client.post_group(icml.reviewers_declined)"
   ]
  },
  {
   "cell_type": "code",
   "execution_count": null,
   "metadata": {},
   "outputs": [],
   "source": [
    "# do the same for area chairs.\n",
    "icml.area_chairs.members = ['icmlareachair@openreview.net']\n",
    "\n",
    "client.post_group(icml.area_chairs)\n",
    "client.post_group(icml.area_chairs_invited)\n",
    "client.post_group(icml.area_chairs_declined)"
   ]
  },
  {
   "cell_type": "code",
   "execution_count": null,
   "metadata": {},
   "outputs": [],
   "source": [
    "# post the recruitment invitations\n",
    "client.post_invitation(icml.recruit_reviewers)\n",
    "client.post_invitation(icml.recruit_area_chairs)"
   ]
  },
  {
   "cell_type": "code",
   "execution_count": null,
   "metadata": {
    "collapsed": true
   },
   "outputs": [],
   "source": [
    "# define some potential reviewers and area chairs\n",
    "rev_email = 'icmlreviewer@openreview.net'\n",
    "rev_firstname = 'ICML Reviewer'"
   ]
  },
  {
   "cell_type": "code",
   "execution_count": null,
   "metadata": {},
   "outputs": [],
   "source": [
    "# deploy reviewer invitation\n",
    "openreview.tools.recruit_reviewer(client, rev_email, rev_firstname,\n",
    "                                 hash_seed = icml.HASH_SEED,\n",
    "                                 recruit_reviewers_id = icml.RECRUIT_REVIEWERS_ID,\n",
    "                                 recruit_message = icml.RECRUIT_REVIEWERS_MESSAGE,\n",
    "                                 recruit_message_subj = icml.RECRUIT_MESSAGE_SUBJ,\n",
    "                                 reviewers_invited_id = icml.REVIEWERS_INVITED_ID\n",
    "                                 )"
   ]
  },
  {
   "cell_type": "markdown",
   "metadata": {},
   "source": [
    "### Double-blind Paper Submission"
   ]
  },
  {
   "cell_type": "code",
   "execution_count": null,
   "metadata": {
    "collapsed": true
   },
   "outputs": [],
   "source": [
    "# post the submission and blind submission invitations\n",
    "posted_submission_inv = client.post_invitation(icml.submission_inv)\n",
    "posted_blind_inv = client.post_invitation(icml.blind_submission_inv)"
   ]
  },
  {
   "cell_type": "markdown",
   "metadata": {},
   "source": [
    "The following section is for the ICML demo.\n",
    "\n",
    "It collects papers from ICLR 2018 and posts them as if they were ICML submissions."
   ]
  },
  {
   "cell_type": "code",
   "execution_count": null,
   "metadata": {},
   "outputs": [],
   "source": [
    "# collect old ICLR papers and post them\n",
    "old_iclr_papers = client.get_notes(invitation='ICLR.cc/2018/Conference/-/Submission', limit=20)\n",
    "print len(old_iclr_papers)"
   ]
  },
  {
   "cell_type": "code",
   "execution_count": null,
   "metadata": {},
   "outputs": [],
   "source": [
    "# post the ICLR papers\n",
    "for paper in old_iclr_papers:\n",
    "    paper.writers.remove('ICLR.cc/2018/Conference')\n",
    "    paper.writers.append('ICML.cc/2019/Conference')\n",
    "    if 'TL;DR' in paper.content:\n",
    "        paper.content.pop('TL;DR')\n",
    "    \n",
    "    posted_submission = client.post_note(openreview.Note(**{\n",
    "        'writers': paper.writers,\n",
    "        'readers': [icml.CONFERENCE_ID] + paper.content['authorids'] + paper.signatures,\n",
    "        'content': paper.content,\n",
    "        'invitation': icml.SUBMISSION_ID\n",
    "    }))\n",
    "    print posted_submission.content['title']\n",
    "    "
   ]
  },
  {
   "cell_type": "markdown",
   "metadata": {},
   "source": [
    "### Area Chair and Reviewer bidding"
   ]
  },
  {
   "cell_type": "code",
   "execution_count": null,
   "metadata": {},
   "outputs": [],
   "source": [
    "# OpenReview lets area chairs and reviewers (and whoever else) bid on papers.\n",
    "icml.add_bid.invitees = [icml.REVIEWERS_ID, icml.AREA_CHAIRS_ID]\n",
    "client.post_invitation(icml.add_bid)"
   ]
  },
  {
   "cell_type": "markdown",
   "metadata": {},
   "source": [
    "### Reviewer recommendations from area chairs"
   ]
  },
  {
   "cell_type": "code",
   "execution_count": null,
   "metadata": {},
   "outputs": [],
   "source": [
    "# get all currently submitted papers\n",
    "icml_submissions = openreview.tools.get_all_notes(client, icml.BLIND_SUBMISSION_ID)\n",
    "\n",
    "# Add reviewer rec tag invitation to the last five papers\n",
    "for paper in icml_submissions[0:5]:\n",
    "    rec_inv = openreview.invitations.from_template(icml.ac_recommendation_template, paper)\n",
    "    rec_inv.invitees = ['icmlareachair@openreview.net']\n",
    "    posted_inv = client.post_invitation(rec_inv)\n",
    "    print posted_inv.id"
   ]
  },
  {
   "cell_type": "code",
   "execution_count": null,
   "metadata": {},
   "outputs": [],
   "source": [
    "# convert reviewers to canonical identities\n",
    "\n",
    "reviewers_group = client.get_group(icml.REVIEWERS_ID)\n",
    "for member in reviewers_group.members:\n",
    "    if '@' in member:\n",
    "        profile = client.get_profile(member)\n",
    "        client.remove_members_from_group(reviewers_group, member)\n",
    "        client.add_members_to_group(reviewers_group, profile.id)\n",
    "        "
   ]
  },
  {
   "cell_type": "markdown",
   "metadata": {},
   "source": [
    "### Official Reviews, Official Comments, and Open Comments"
   ]
  },
  {
   "cell_type": "code",
   "execution_count": null,
   "metadata": {},
   "outputs": [],
   "source": [
    "# get all currently submitted papers\n",
    "icml_submissions = openreview.tools.get_all_notes(client, icml.BLIND_SUBMISSION_ID)\n",
    "\n",
    "# assign some papers\n",
    "for paper in icml_submissions[0:5] + [icml_submissions[-1]]:\n",
    "    openreview.tools.assign(client, paper.number, icml.CONFERENCE_ID,\n",
    "        reviewer_to_add = 'icmlreviewer@openreview.net',\n",
    "        parent_label = 'Reviewers',\n",
    "        individual_label = 'AnonReviewer',\n",
    "        individual_group_params = {\n",
    "            'readers': [icml.AREA_CHAIRS_ID]\n",
    "        })\n",
    "    openreview.tools.assign(client, paper.number, icml.CONFERENCE_ID,\n",
    "        reviewer_to_add = 'icmlareachair@openreview.net',\n",
    "        parent_label = 'Area_Chairs',\n",
    "        individual_label = 'Area_Chair')"
   ]
  },
  {
   "cell_type": "code",
   "execution_count": null,
   "metadata": {},
   "outputs": [],
   "source": [
    "# get all currently submitted papers\n",
    "icml_submissions = openreview.tools.get_all_notes(client, icml.BLIND_SUBMISSION_ID)\n",
    "\n",
    "# enable reviews\n",
    "for paper in icml_submissions:\n",
    "    client.post_invitation(openreview.invitations.from_template(icml.official_review_template, paper))\n",
    "    client.post_invitation(openreview.invitations.from_template(icml.official_comment_template, paper))\n",
    "    client.post_invitation(openreview.invitations.from_template(icml.meta_review_template, paper))"
   ]
  },
  {
   "cell_type": "code",
   "execution_count": null,
   "metadata": {
    "collapsed": true
   },
   "outputs": [],
   "source": [
    "# get all currently submitted papers\n",
    "icml_submissions = openreview.tools.get_all_notes(client, icml.BLIND_SUBMISSION_ID)\n",
    "\n",
    "for paper in icml_submissions:\n",
    "    metadata_params = {\n",
    "        'forum': paper.id,\n",
    "        'replyto': paper.id,\n",
    "        'invitation': icml.REVIEWER_METADATA_ID,\n",
    "        'readers': {\n",
    "            'values': [\n",
    "                icml.CONFERENCE_ID\n",
    "            ]\n",
    "        },\n",
    "        'writers': {\n",
    "            'values': [icml.CONFERENCE_ID]\n",
    "        },\n",
    "        'signatures': {\n",
    "            'values': [icml.CONFERENCE_ID]},\n",
    "        'content': {\n",
    "            'groups': {\n",
    "                icml.REVIEWERS_ID: [\n",
    "                    {\n",
    "                        'scores': {'affinity': 1.0},\n",
    "                        'constraints': {'cmtConflict': '-inf'},\n",
    "                        'userId': '~Red_Reviewer1'\n",
    "                    },\n",
    "                    {\n",
    "                        'scores': {'affinity': 1.0},\n",
    "                        'constraints': {'cmtConflict': '-inf'},\n",
    "                        'userId': '~Blue_Reviewer1'\n",
    "                    },\n",
    "                    {\n",
    "                        'scores': {'affinity': 1.0},\n",
    "                        'constraints': {'cmtConflict': '-inf'},\n",
    "                        'userId': '~Green_Reviewer1'\n",
    "                    },\n",
    "                    {\n",
    "                        'scores': {'affinity': 1.0},\n",
    "                        'constraints': {'cmtConflict': '-inf'},\n",
    "                        'userId': '~ICML_Reviewer1'\n",
    "                    }\n",
    "                ]\n",
    "            }\n",
    "        }\n",
    "    }"
   ]
  },
  {
   "cell_type": "code",
   "execution_count": null,
   "metadata": {
    "collapsed": true
   },
   "outputs": [],
   "source": [
    "import random\n",
    "\n",
    "client.post_invitation(icml.assignment_inv)\n",
    "\n",
    "for paper in icml_submissions:\n",
    "    finalscore = random.random()\n",
    "    assignment_params = {\n",
    "        'invitation': icml.ASSIGNMENT_INV_ID,\n",
    "        'readers': [icml.CONFERENCE_ID],\n",
    "        'writers': [icml.CONFERENCE_ID],\n",
    "        'signatures': [icml.CONFERENCE_ID],\n",
    "        'forum': paper.id,\n",
    "        'replyto': paper.id,\n",
    "        'content': {\n",
    "            'label': 'reviewers',\n",
    "            'assignedGroups': [\n",
    "                {\n",
    "                    \"finalScore\": 1.0,\n",
    "                    \"scores\": {\n",
    "                        \"affinity\": 1.0\n",
    "                    },\n",
    "                    \"constraints\": {},\n",
    "                    \"userId\": \"~Red_Reviewer1\"\n",
    "                },\n",
    "            ],\n",
    "            'alternateGroups': [\n",
    "                {\n",
    "                    \"finalScore\": random.random(),\n",
    "                    \"scores\": {\n",
    "                        \"affinity\": random.random()\n",
    "                    },\n",
    "                    \"constraints\": {'conflict': '-inf'},\n",
    "                    \"userId\": \"~Blue_Reviewer1\"\n",
    "                },\n",
    "                {\n",
    "                    \"finalScore\": random.random(),\n",
    "                    \"scores\": {\n",
    "                        \"affinity\": random.random()\n",
    "                    },\n",
    "                    \"constraints\": {},\n",
    "                    \"userId\": \"~Green_Reviewer1\"\n",
    "                },\n",
    "                {\n",
    "                    \"finalScore\": random.random(),\n",
    "                    \"scores\": {\n",
    "                        \"affinity\": random.random()\n",
    "                    },\n",
    "                    \"constraints\": {},\n",
    "                    \"userId\": \"~ICML_Reviewer1\"\n",
    "                },\n",
    "            ]\n",
    "        }   \n",
    "    }\n",
    "    \n",
    "    client.post_note(openreview.Note(**assignment_params))\n"
   ]
  },
  {
   "cell_type": "code",
   "execution_count": null,
   "metadata": {
    "collapsed": true
   },
   "outputs": [],
   "source": [
    "client.post_invitation(icml.config_inv)\n",
    "config_note = client.post_note(openreview.Note(**{\n",
    "    'invitation': icml.CONFIG_INV_ID,\n",
    "    'readers': [icml.CONFERENCE_ID],\n",
    "    'writers': [icml.CONFERENCE_ID],\n",
    "    'signatures': [icml.CONFERENCE_ID],\n",
    "    'content': {\n",
    "        'label': 'reviewers',\n",
    "        'configuration': {\n",
    "            'minusers': 1,\n",
    "            'maxusers': 1,\n",
    "            'minpapers': 0,\n",
    "            'maxpapers': 8,\n",
    "            'alternates': 5,\n",
    "            'weights': {\n",
    "                'affinity': 1.0,\n",
    "                'acRecommendation': 3.0,\n",
    "                'bidScore': 1.0\n",
    "            }\n",
    "        },\n",
    "        'constraints': {},\n",
    "        'paper_invitation': icml.BLIND_SUBMISSION_ID,\n",
    "        'metadata_invitation': icml.REVIEWER_METADATA_ID,\n",
    "        'assignment_invitation': icml.ASSIGNMENT_INV_ID,\n",
    "        'match_group': icml.REVIEWERS_ID,\n",
    "        'status': 'complete' # 'queued', 'processing', 'complete' or 'error'\n",
    "    }\n",
    "}))"
   ]
  },
  {
   "cell_type": "code",
   "execution_count": null,
   "metadata": {
    "collapsed": true
   },
   "outputs": [],
   "source": []
  }
 ],
 "metadata": {
  "kernelspec": {
   "display_name": "Python 2",
   "language": "python",
   "name": "python2"
  },
  "language_info": {
   "codemirror_mode": {
    "name": "ipython",
    "version": 2
   },
   "file_extension": ".py",
   "mimetype": "text/x-python",
   "name": "python",
   "nbconvert_exporter": "python",
   "pygments_lexer": "ipython2",
   "version": "2.7.15"
  }
 },
 "nbformat": 4,
 "nbformat_minor": 2
}
