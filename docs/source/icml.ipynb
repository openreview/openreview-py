{
 "cells": [
  {
   "cell_type": "markdown",
   "metadata": {},
   "source": [
    "## Demo Workshop\n",
    "\n",
    "This is a demo script. This script captures creation of a new conference on OpenReview system.\n",
    "\n",
    "Following are the steps and brief explanations:\n"
   ]
  },
  {
   "cell_type": "markdown",
   "metadata": {},
   "source": [
    "### Login as an Administrator"
   ]
  },
  {
   "cell_type": "code",
   "execution_count": 1,
   "metadata": {},
   "outputs": [],
   "source": [
    "import openreview\n",
    "import icml\n",
    "\n",
    "client = openreview.Client(baseurl='https://dev.openreview.net',username=<Admin username>,password=<Admin password>)"
   ]
  },
  {
   "cell_type": "markdown",
   "metadata": {},
   "source": [
    "### Create a Group object for the new conference and post this Group object\n",
    "\n",
    "A hierarchical structure is recommended for conferences. \n",
    "As an example, to create a conference for ICML 201,we start by creating a root group for this conference with \"id\" = \"ICML.cc\". \n",
    "We, then, proceed to making subgroups with id = \"ICML.cc/2019\" and \"ICML.cc/2019/Conference\".\n",
    "\n",
    "Note that the web field for the conference is a JS file."
   ]
  },
  {
   "cell_type": "code",
   "execution_count": 12,
   "metadata": {},
   "outputs": [
    {
     "name": "stdout",
     "output_type": "stream",
     "text": [
      "{'cdate': 1531336263548,\n",
      " 'ddate': None,\n",
      " 'id': u'ICML.cc',\n",
      " 'members': [],\n",
      " 'nonreaders': [],\n",
      " 'readers': [u'everyone'],\n",
      " 'signatories': [u'ICML.cc'],\n",
      " 'signatures': [u'OpenReview.net'],\n",
      " 'web': None,\n",
      " 'writers': [u'OpenReview.net']}\n"
     ]
    }
   ],
   "source": [
    "print client.post_group(openreview.Group(id = 'ICML.cc', \n",
    "                                         readers = ['everyone'], \n",
    "                                         writers = ['OpenReview.net'], \n",
    "                                         signatories = ['ICML.cc'], \n",
    "                                         signatures = ['OpenReview.net']))"
   ]
  },
  {
   "cell_type": "code",
   "execution_count": 13,
   "metadata": {},
   "outputs": [
    {
     "name": "stdout",
     "output_type": "stream",
     "text": [
      "{'cdate': 1531336337516,\n",
      " 'ddate': None,\n",
      " 'id': u'ICML.cc/2019',\n",
      " 'members': [],\n",
      " 'nonreaders': [],\n",
      " 'readers': [u'everyone'],\n",
      " 'signatories': [u'ICML.cc/2019'],\n",
      " 'signatures': [u'OpenReview.net'],\n",
      " 'web': None,\n",
      " 'writers': [u'OpenReview.net']}\n"
     ]
    }
   ],
   "source": [
    "print client.post_group(openreview.Group(id = 'ICML.cc/2019', \n",
    "                                         readers = ['everyone'], \n",
    "                                         writers = ['OpenReview.net'], \n",
    "                                         signatories = ['ICML.cc/2019'], \n",
    "                                         signatures = ['OpenReview.net']))"
   ]
  },
  {
   "cell_type": "code",
   "execution_count": 18,
   "metadata": {},
   "outputs": [
    {
     "name": "stdout",
     "output_type": "stream",
     "text": [
      "{'cdate': 1531339441440,\n",
      " 'ddate': None,\n",
      " 'id': u'ICML.cc/2019/Conference',\n",
      " 'members': [],\n",
      " 'nonreaders': [],\n",
      " 'readers': [u'everyone'],\n",
      " 'signatories': [u'ICML.cc/2019/Conference'],\n",
      " 'signatures': [u'OpenReview.net'],\n",
      " 'web': u'\\n// ------------------------------------\\n// Basic venue homepage template\\n//\\n// This webfield displays the conference header (#header), the submit button (#invitation),\\n// and a list of all submitted papers (#notes).\\n// ------------------------------------\\n\\n// Constants\\nvar CONFERENCE = \"ICML.cc/2019/Conference\";\\nvar INVITATION = CONFERENCE + \\'/-/Submission\\';\\nvar SUBJECT_AREAS = [\\n  // Add conference specific subject areas here\\n];\\nvar BUFFER = 1000 * 60 * 30;  // 30 minutes\\nvar PAGE_SIZE = 50;\\n\\nvar paperDisplayOptions = {\\n  pdfLink: true,\\n  replyCount: true,\\n  showContents: true\\n};\\n\\n// Main is the entry point to the webfield code and runs everything\\nfunction main() {\\n  Webfield.ui.setup(\\'#group-container\\', CONFERENCE);  // required\\n\\n  renderConferenceHeader();\\n\\n  load().then(render).then(function() {\\n    Webfield.setupAutoLoading(INVITATION, PAGE_SIZE, paperDisplayOptions);\\n  });\\n}\\n\\n// RenderConferenceHeader renders the static info at the top of the page. Since that content\\n// never changes, put it in its own function\\nfunction renderConferenceHeader() {\\n  Webfield.ui.venueHeader({\\n    title: \"ICML \",\\n    subtitle: \"Recent Advances in Ubiquitous Computing\",\\n    location: \"University of Rostock, Germany\",\\n    date: \"2017, August 04\",\\n    website: \"https://studip.uni-rostock.de/seminar_main.php?auswahl=c9b2fd0a6f525ce968d41d737de3ccb5\",\\n    instructions: null,  // Add any custom instructions here. Accepts HTML\\n    deadline: \"Submission Deadline: 2017, June 15th at 11:59 pm (CEST) \"\\n  });\\n\\n  Webfield.ui.spinner(\\'#notes\\');\\n}\\n\\n// Load makes all the API calls needed to get the data to render the page\\n// It returns a jQuery deferred object: https://api.jquery.com/category/deferred-object/\\nfunction load() {\\n  var invitationP = Webfield.api.getSubmissionInvitation(INVITATION, {deadlineBuffer: BUFFER});\\n  var notesP = Webfield.api.getSubmissions(INVITATION, {pageSize: PAGE_SIZE});\\n\\n  return $.when(invitationP, notesP);\\n}\\n\\n// Render is called when all the data is finished being loaded from the server\\n// It should also be called when the page needs to be refreshed, for example after a user\\n// submits a new paper.\\nfunction render(invitation, notes) {\\n  // Display submission button and form\\n  $(\\'#invitation\\').empty();\\n  Webfield.ui.submissionButton(invitation, user, {\\n    onNoteCreated: function() {\\n      // Callback funtion to be run when a paper has successfully been submitted (required)\\n      load().then(render).then(function() {\\n        Webfield.setupAutoLoading(INVITATION, PAGE_SIZE, paperDisplayOptions);\\n      });\\n    }\\n  });\\n\\n  // Display the list of all submitted papers\\n  $(\\'#notes\\').empty();\\n  Webfield.ui.submissionList(notes, {\\n    heading: \\'Submitted Papers\\',\\n    displayOptions: paperDisplayOptions,\\n    search: {\\n      enabled: true,\\n      subjectAreas: SUBJECT_AREAS,\\n      onResults: function(searchResults) {\\n        Webfield.ui.searchResults(searchResults, paperDisplayOptions);\\n        Webfield.disableAutoLoading();\\n      },\\n      onReset: function() {\\n        Webfield.ui.searchResults(notes, paperDisplayOptions);\\n        Webfield.setupAutoLoading(INVITATION, PAGE_SIZE, paperDisplayOptions);\\n      }\\n    }\\n  });\\n}\\n\\n// Go!\\nmain();\\n\\n',\n",
      " 'writers': [u'OpenReview.net']}\n"
     ]
    }
   ],
   "source": [
    "print client.post_group(openreview.Group(id = 'ICML.cc/2019/Conference', \n",
    "                                         readers = ['everyone'], \n",
    "                                         writers = ['OpenReview.net'], \n",
    "                                         signatories = ['ICML.cc/2019/Conference'], \n",
    "                                         signatures = ['OpenReview.net'],\n",
    "                                         web = <path to file containing the js code for the webfield>))"
   ]
  },
  {
   "cell_type": "markdown",
   "metadata": {},
   "source": [
    "### Create a Submission Invitation for this conference"
   ]
  },
  {
   "cell_type": "code",
   "execution_count": 17,
   "metadata": {},
   "outputs": [
    {
     "name": "stdout",
     "output_type": "stream",
     "text": [
      "{'cdate': 1531339106644,\n",
      " 'ddate': None,\n",
      " 'duedate': 1562875092000,\n",
      " 'id': u'ICML.cc/2019/Conference/-/Submission',\n",
      " 'invitees': [u'everyone'],\n",
      " 'multiReply': None,\n",
      " 'noninvitees': [],\n",
      " 'nonreaders': [],\n",
      " 'process': None,\n",
      " 'rdate': None,\n",
      " 'readers': [u'everyone'],\n",
      " 'reply': {u'content': {u'abstract': {u'description': u'Abstract of paper.',\n",
      "                                      u'order': 4,\n",
      "                                      u'required': True,\n",
      "                                      u'value-regex': u'[\\\\S\\\\s]{1,5000}'},\n",
      "                        u'authorids': {u'description': u\"Comma separated list of author email addresses, lowercased, in the same order as above. For authors with existing OpenReview accounts, please make sure that the provided email address(es) match those listed in the author's profile. Please provide real emails; identities will be anonymized.\",\n",
      "                                       u'order': 3,\n",
      "                                       u'required': True,\n",
      "                                       u'values-regex': u'([a-z0-9_\\\\-\\\\.]{2,}@[a-z0-9_\\\\-\\\\.]{2,}\\\\.[a-z]{2,},){0,}([a-z0-9_\\\\-\\\\.]{2,}@[a-z0-9_\\\\-\\\\.]{2,}\\\\.[a-z]{2,})'},\n",
      "                        u'authors': {u'description': u'Comma separated list of author names. Please provide real names; identities will be anonymized.',\n",
      "                                     u'order': 2,\n",
      "                                     u'required': True,\n",
      "                                     u'values-regex': u'[^;,\\\\n]+(,[^,\\\\n]+)*'},\n",
      "                        u'pdf': {u'description': u'Upload a PDF file that ends with .pdf',\n",
      "                                 u'order': 5,\n",
      "                                 u'required': True,\n",
      "                                 u'value-regex': u'upload'},\n",
      "                        u'title': {u'description': u'Title of paper.',\n",
      "                                   u'order': 1,\n",
      "                                   u'required': True,\n",
      "                                   u'value-regex': u'.{1,250}'}},\n",
      "           u'forum': None,\n",
      "           u'readers': {u'description': u'The users who will be allowed to read the above content.',\n",
      "                        u'values': [u'everyone']},\n",
      "           u'replyto': None,\n",
      "           u'signatures': {u'description': u'Your authorized identity to be associated with the above content.',\n",
      "                           u'values-regex': u'~.*'},\n",
      "           u'writers': {u'values-regex': u'~.*'}},\n",
      " 'signatures': [u'ICML.cc/2019/Conference'],\n",
      " 'taskCompletionCount': None,\n",
      " 'transform': None,\n",
      " 'web': None,\n",
      " 'writers': [u'ICML.cc/2019/Conference']}\n"
     ]
    }
   ],
   "source": [
    "print client.post_invitation(openreview.Invitation(id = 'ICML.cc/2019/Conference/-/Submission', \n",
    "                                            readers = ['everyone'],\n",
    "                                            writers = ['ICML.cc/2019/Conference'],\n",
    "                                            signatures = ['ICML.cc/2019/Conference'],\n",
    "                                            invitees = ['everyone'],\n",
    "                                            duedate = 1562875092000,\n",
    "                                            reply = {\n",
    "                                                    'forum': None,\n",
    "                                                    'replyto': None,\n",
    "                                                    'readers': {\n",
    "                                                        'description': 'The users who will be allowed to read the above content.',\n",
    "                                                        'values': ['everyone']\n",
    "                                                    },\n",
    "                                                    'signatures': {\n",
    "                                                        'description': 'Your authorized identity to be associated with the above content.',\n",
    "                                                        'values-regex': '~.*'\n",
    "                                                    },\n",
    "                                                    'writers': {\n",
    "                                                        'values-regex': '~.*'\n",
    "                                                    },\n",
    "                                                    'content':{\n",
    "                                                        'title': {\n",
    "                                                            'description': 'Title of paper.',\n",
    "                                                            'order': 1,\n",
    "                                                            'value-regex': '.{1,250}',\n",
    "                                                            'required':True\n",
    "                                                        },\n",
    "                                                        'authors': {\n",
    "                                                            'description': 'Comma separated list of author names. Please provide real names; identities will be anonymized.',\n",
    "                                                            'order': 2,\n",
    "                                                            'values-regex': \"[^;,\\\\n]+(,[^,\\\\n]+)*\",\n",
    "                                                            'required':True\n",
    "                                                        },\n",
    "                                                        'authorids': {\n",
    "                                                            'description': 'Comma separated list of author email addresses, lowercased, in the same order as above. For authors with existing OpenReview accounts, please make sure that the provided email address(es) match those listed in the author\\'s profile. Please provide real emails; identities will be anonymized.',\n",
    "                                                            'order': 3,\n",
    "                                                            'values-regex': \"([a-z0-9_\\-\\.]{2,}@[a-z0-9_\\-\\.]{2,}\\.[a-z]{2,},){0,}([a-z0-9_\\-\\.]{2,}@[a-z0-9_\\-\\.]{2,}\\.[a-z]{2,})\",\n",
    "                                                            'required':True\n",
    "                                                        },\n",
    "                                                        'abstract': {\n",
    "                                                            'description': 'Abstract of paper.',\n",
    "                                                            'order': 4,\n",
    "                                                            'value-regex': '[\\\\S\\\\s]{1,5000}',\n",
    "                                                            'required':True\n",
    "                                                        },\n",
    "                                                        'pdf': {\n",
    "                                                            'description': 'Upload a PDF file that ends with .pdf',\n",
    "                                                            'order': 5,\n",
    "                                                            'value-regex': 'upload',\n",
    "                                                            'required':True\n",
    "                                                        }\n",
    "                                                    }\n",
    "\n",
    "                                            }))"
   ]
  },
  {
   "cell_type": "markdown",
   "metadata": {},
   "source": [
    "### Create a Comment Invitation using this submission invitation"
   ]
  },
  {
   "cell_type": "code",
   "execution_count": 23,
   "metadata": {},
   "outputs": [
    {
     "name": "stdout",
     "output_type": "stream",
     "text": [
      "{'cdate': 1531340152826,\n",
      " 'ddate': None,\n",
      " 'duedate': None,\n",
      " 'id': u'ICML.cc/2019/Conference/-/Comment',\n",
      " 'invitees': [u'everyone'],\n",
      " 'multiReply': None,\n",
      " 'noninvitees': [],\n",
      " 'nonreaders': [],\n",
      " 'process': None,\n",
      " 'rdate': None,\n",
      " 'readers': [u'everyone'],\n",
      " 'reply': {u'content': {u'comment': {u'description': u'Comment',\n",
      "                                     u'order': 2,\n",
      "                                     u'value-regex': u'.{0,1000}'},\n",
      "                        u'title': {u'description': u'Comment title',\n",
      "                                   u'order': 1,\n",
      "                                   u'value-regex': u'.*'}},\n",
      "           u'invitation': u'ICML.cc/2019/Conference/-/Submission',\n",
      "           u'readers': {u'values': [u'everyone']},\n",
      "           u'signatures': {u'values-regex': u'\\\\(anonymous\\\\)|~.*'},\n",
      "           u'writers': {u'values-regex': u'\\\\(anonymous\\\\)|~.*'}},\n",
      " 'signatures': [u'ICML.cc/2019/Conference'],\n",
      " 'taskCompletionCount': None,\n",
      " 'transform': None,\n",
      " 'web': None,\n",
      " 'writers': [u'ICML.cc/2019/Conference']}\n"
     ]
    }
   ],
   "source": [
    "print client.post_invitation(openreview.Invitation(id = 'ICML.cc/2019/Conference/-/Comment',\n",
    "                                                   readers = ['everyone'],\n",
    "                                                   writers = ['ICML.cc/2019/Conference'],\n",
    "                                                   signatures = ['ICML.cc/2019/Conference'],\n",
    "                                                   invitees = ['everyone'],\n",
    "                                                    reply = {\n",
    "                                                            'invitation': 'ICML.cc/2019/Conference/-/Submission',\n",
    "                                                            'content': {\n",
    "                                                                'title': {\n",
    "                                                                    'description': 'Comment title',\n",
    "                                                                    'order': 1,\n",
    "                                                                    'value-regex': '.*'\n",
    "                                                                },\n",
    "                                                                'comment': {\n",
    "                                                                    'description': 'Comment',\n",
    "                                                                    'order': 2,\n",
    "                                                                    'value-regex': '.{0,1000}'\n",
    "                                                                }\n",
    "                                                            },\n",
    "                                                            'readers': {\n",
    "                                                                'values': ['everyone']\n",
    "                                                            },\n",
    "                                                            'signatures': {\n",
    "                                                                'values-regex': '\\\\(anonymous\\\\)|~.*'\n",
    "                                                            },\n",
    "                                                            'writers': {\n",
    "                                                                'values-regex': '\\\\(anonymous\\\\)|~.*'\n",
    "                                                            }\n",
    "                                                    }))"
   ]
  }
 ],
 "metadata": {
  "kernelspec": {
   "display_name": "Python 2",
   "language": "python",
   "name": "python2"
  },
  "language_info": {
   "codemirror_mode": {
    "name": "ipython",
    "version": 2
   },
   "file_extension": ".py",
   "mimetype": "text/x-python",
   "name": "python",
   "nbconvert_exporter": "python",
   "pygments_lexer": "ipython2",
   "version": "2.7.15"
  }
 },
 "nbformat": 4,
 "nbformat_minor": 2
}
