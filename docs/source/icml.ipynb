{
 "cells": [
  {
   "cell_type": "code",
   "execution_count": 1,
   "metadata": {},
   "outputs": [],
   "source": [
    "import openreview\n",
    "import icml\n",
    "\n",
    "client = openreview.Client(baseurl='https://dev.openreview.net',username='OpenReview.net',password='OpenReview_dev')"
   ]
  },
  {
   "cell_type": "code",
   "execution_count": 12,
   "metadata": {},
   "outputs": [
    {
     "name": "stdout",
     "output_type": "stream",
     "text": [
      "{'cdate': 1531336263548,\n",
      " 'ddate': None,\n",
      " 'id': u'ICML.cc',\n",
      " 'members': [],\n",
      " 'nonreaders': [],\n",
      " 'readers': [u'everyone'],\n",
      " 'signatories': [u'ICML.cc'],\n",
      " 'signatures': [u'OpenReview.net'],\n",
      " 'web': None,\n",
      " 'writers': [u'OpenReview.net']}\n"
     ]
    }
   ],
   "source": [
    "print client.post_group(openreview.Group(id = 'ICML.cc', \n",
    "                                         readers = ['everyone'], \n",
    "                                         writers = ['OpenReview.net'], \n",
    "                                         signatories = ['ICML.cc'], \n",
    "                                         signatures = ['OpenReview.net']))"
   ]
  },
  {
   "cell_type": "code",
   "execution_count": 13,
   "metadata": {},
   "outputs": [
    {
     "name": "stdout",
     "output_type": "stream",
     "text": [
      "{'cdate': 1531336337516,\n",
      " 'ddate': None,\n",
      " 'id': u'ICML.cc/2019',\n",
      " 'members': [],\n",
      " 'nonreaders': [],\n",
      " 'readers': [u'everyone'],\n",
      " 'signatories': [u'ICML.cc/2019'],\n",
      " 'signatures': [u'OpenReview.net'],\n",
      " 'web': None,\n",
      " 'writers': [u'OpenReview.net']}\n"
     ]
    }
   ],
   "source": [
    "print client.post_group(openreview.Group(id = 'ICML.cc/2019', \n",
    "                                         readers = ['everyone'], \n",
    "                                         writers = ['OpenReview.net'], \n",
    "                                         signatories = ['ICML.cc/2019'], \n",
    "                                         signatures = ['OpenReview.net']))"
   ]
  },
  {
   "cell_type": "code",
   "execution_count": 18,
   "metadata": {},
   "outputs": [
    {
     "name": "stdout",
     "output_type": "stream",
     "text": [
      "{'cdate': 1531339441440,\n",
      " 'ddate': None,\n",
      " 'id': u'ICML.cc/2019/Conference',\n",
      " 'members': [],\n",
      " 'nonreaders': [],\n",
      " 'readers': [u'everyone'],\n",
      " 'signatories': [u'ICML.cc/2019/Conference'],\n",
      " 'signatures': [u'OpenReview.net'],\n",
      " 'web': u'\\n// ------------------------------------\\n// Basic venue homepage template\\n//\\n// This webfield displays the conference header (#header), the submit button (#invitation),\\n// and a list of all submitted papers (#notes).\\n// ------------------------------------\\n\\n// Constants\\nvar CONFERENCE = \"ICML.cc/2019/Conference\";\\nvar INVITATION = CONFERENCE + \\'/-/Submission\\';\\nvar SUBJECT_AREAS = [\\n  // Add conference specific subject areas here\\n];\\nvar BUFFER = 1000 * 60 * 30;  // 30 minutes\\nvar PAGE_SIZE = 50;\\n\\nvar paperDisplayOptions = {\\n  pdfLink: true,\\n  replyCount: true,\\n  showContents: true\\n};\\n\\n// Main is the entry point to the webfield code and runs everything\\nfunction main() {\\n  Webfield.ui.setup(\\'#group-container\\', CONFERENCE);  // required\\n\\n  renderConferenceHeader();\\n\\n  load().then(render).then(function() {\\n    Webfield.setupAutoLoading(INVITATION, PAGE_SIZE, paperDisplayOptions);\\n  });\\n}\\n\\n// RenderConferenceHeader renders the static info at the top of the page. Since that content\\n// never changes, put it in its own function\\nfunction renderConferenceHeader() {\\n  Webfield.ui.venueHeader({\\n    title: \"ICML \",\\n    subtitle: \"Recent Advances in Ubiquitous Computing\",\\n    location: \"University of Rostock, Germany\",\\n    date: \"2017, August 04\",\\n    website: \"https://studip.uni-rostock.de/seminar_main.php?auswahl=c9b2fd0a6f525ce968d41d737de3ccb5\",\\n    instructions: null,  // Add any custom instructions here. Accepts HTML\\n    deadline: \"Submission Deadline: 2017, June 15th at 11:59 pm (CEST) \"\\n  });\\n\\n  Webfield.ui.spinner(\\'#notes\\');\\n}\\n\\n// Load makes all the API calls needed to get the data to render the page\\n// It returns a jQuery deferred object: https://api.jquery.com/category/deferred-object/\\nfunction load() {\\n  var invitationP = Webfield.api.getSubmissionInvitation(INVITATION, {deadlineBuffer: BUFFER});\\n  var notesP = Webfield.api.getSubmissions(INVITATION, {pageSize: PAGE_SIZE});\\n\\n  return $.when(invitationP, notesP);\\n}\\n\\n// Render is called when all the data is finished being loaded from the server\\n// It should also be called when the page needs to be refreshed, for example after a user\\n// submits a new paper.\\nfunction render(invitation, notes) {\\n  // Display submission button and form\\n  $(\\'#invitation\\').empty();\\n  Webfield.ui.submissionButton(invitation, user, {\\n    onNoteCreated: function() {\\n      // Callback funtion to be run when a paper has successfully been submitted (required)\\n      load().then(render).then(function() {\\n        Webfield.setupAutoLoading(INVITATION, PAGE_SIZE, paperDisplayOptions);\\n      });\\n    }\\n  });\\n\\n  // Display the list of all submitted papers\\n  $(\\'#notes\\').empty();\\n  Webfield.ui.submissionList(notes, {\\n    heading: \\'Submitted Papers\\',\\n    displayOptions: paperDisplayOptions,\\n    search: {\\n      enabled: true,\\n      subjectAreas: SUBJECT_AREAS,\\n      onResults: function(searchResults) {\\n        Webfield.ui.searchResults(searchResults, paperDisplayOptions);\\n        Webfield.disableAutoLoading();\\n      },\\n      onReset: function() {\\n        Webfield.ui.searchResults(notes, paperDisplayOptions);\\n        Webfield.setupAutoLoading(INVITATION, PAGE_SIZE, paperDisplayOptions);\\n      }\\n    }\\n  });\\n}\\n\\n// Go!\\nmain();\\n\\n',\n",
      " 'writers': [u'OpenReview.net']}\n"
     ]
    }
   ],
   "source": [
    "print client.post_group(openreview.Group(id = 'ICML.cc/2019/Conference', \n",
    "                                         readers = ['everyone'], \n",
    "                                         writers = ['OpenReview.net'], \n",
    "                                         signatories = ['ICML.cc/2019/Conference'], \n",
    "                                         signatures = ['OpenReview.net'],\n",
    "                                         web = '/Users/muniyal/openreview-scripts/venues/ICML.cc/2019/Conference/webfield/basic_homepage.js'))"
   ]
  },
  {
   "cell_type": "code",
   "execution_count": 17,
   "metadata": {},
   "outputs": [
    {
     "name": "stdout",
     "output_type": "stream",
     "text": [
      "{'cdate': 1531339106644,\n",
      " 'ddate': None,\n",
      " 'duedate': 1562875092000,\n",
      " 'id': u'ICML.cc/2019/Conference/-/Submission',\n",
      " 'invitees': [u'everyone'],\n",
      " 'multiReply': None,\n",
      " 'noninvitees': [],\n",
      " 'nonreaders': [],\n",
      " 'process': None,\n",
      " 'rdate': None,\n",
      " 'readers': [u'everyone'],\n",
      " 'reply': {u'content': {u'abstract': {u'description': u'Abstract of paper.',\n",
      "                                      u'order': 4,\n",
      "                                      u'required': True,\n",
      "                                      u'value-regex': u'[\\\\S\\\\s]{1,5000}'},\n",
      "                        u'authorids': {u'description': u\"Comma separated list of author email addresses, lowercased, in the same order as above. For authors with existing OpenReview accounts, please make sure that the provided email address(es) match those listed in the author's profile. Please provide real emails; identities will be anonymized.\",\n",
      "                                       u'order': 3,\n",
      "                                       u'required': True,\n",
      "                                       u'values-regex': u'([a-z0-9_\\\\-\\\\.]{2,}@[a-z0-9_\\\\-\\\\.]{2,}\\\\.[a-z]{2,},){0,}([a-z0-9_\\\\-\\\\.]{2,}@[a-z0-9_\\\\-\\\\.]{2,}\\\\.[a-z]{2,})'},\n",
      "                        u'authors': {u'description': u'Comma separated list of author names. Please provide real names; identities will be anonymized.',\n",
      "                                     u'order': 2,\n",
      "                                     u'required': True,\n",
      "                                     u'values-regex': u'[^;,\\\\n]+(,[^,\\\\n]+)*'},\n",
      "                        u'pdf': {u'description': u'Upload a PDF file that ends with .pdf',\n",
      "                                 u'order': 5,\n",
      "                                 u'required': True,\n",
      "                                 u'value-regex': u'upload'},\n",
      "                        u'title': {u'description': u'Title of paper.',\n",
      "                                   u'order': 1,\n",
      "                                   u'required': True,\n",
      "                                   u'value-regex': u'.{1,250}'}},\n",
      "           u'forum': None,\n",
      "           u'readers': {u'description': u'The users who will be allowed to read the above content.',\n",
      "                        u'values': [u'everyone']},\n",
      "           u'replyto': None,\n",
      "           u'signatures': {u'description': u'Your authorized identity to be associated with the above content.',\n",
      "                           u'values-regex': u'~.*'},\n",
      "           u'writers': {u'values-regex': u'~.*'}},\n",
      " 'signatures': [u'ICML.cc/2019/Conference'],\n",
      " 'taskCompletionCount': None,\n",
      " 'transform': None,\n",
      " 'web': None,\n",
      " 'writers': [u'ICML.cc/2019/Conference']}\n"
     ]
    }
   ],
   "source": [
    "print client.post_invitation(openreview.Invitation(id = 'ICML.cc/2019/Conference/-/Submission', \n",
    "                                            readers = ['everyone'],\n",
    "                                            writers = ['ICML.cc/2019/Conference'],\n",
    "                                            signatures = ['ICML.cc/2019/Conference'],\n",
    "                                            invitees = ['everyone'],\n",
    "                                            duedate = 1562875092000,\n",
    "                                            reply = {\n",
    "                                                    'forum': None,\n",
    "                                                    'replyto': None,\n",
    "                                                    'readers': {\n",
    "                                                        'description': 'The users who will be allowed to read the above content.',\n",
    "                                                        'values': ['everyone']\n",
    "                                                    },\n",
    "                                                    'signatures': {\n",
    "                                                        'description': 'Your authorized identity to be associated with the above content.',\n",
    "                                                        'values-regex': '~.*'\n",
    "                                                    },\n",
    "                                                    'writers': {\n",
    "                                                        'values-regex': '~.*'\n",
    "                                                    },\n",
    "                                                    'content':{\n",
    "                                                        'title': {\n",
    "                                                            'description': 'Title of paper.',\n",
    "                                                            'order': 1,\n",
    "                                                            'value-regex': '.{1,250}',\n",
    "                                                            'required':True\n",
    "                                                        },\n",
    "                                                        'authors': {\n",
    "                                                            'description': 'Comma separated list of author names. Please provide real names; identities will be anonymized.',\n",
    "                                                            'order': 2,\n",
    "                                                            'values-regex': \"[^;,\\\\n]+(,[^,\\\\n]+)*\",\n",
    "                                                            'required':True\n",
    "                                                        },\n",
    "                                                        'authorids': {\n",
    "                                                            'description': 'Comma separated list of author email addresses, lowercased, in the same order as above. For authors with existing OpenReview accounts, please make sure that the provided email address(es) match those listed in the author\\'s profile. Please provide real emails; identities will be anonymized.',\n",
    "                                                            'order': 3,\n",
    "                                                            'values-regex': \"([a-z0-9_\\-\\.]{2,}@[a-z0-9_\\-\\.]{2,}\\.[a-z]{2,},){0,}([a-z0-9_\\-\\.]{2,}@[a-z0-9_\\-\\.]{2,}\\.[a-z]{2,})\",\n",
    "                                                            'required':True\n",
    "                                                        },\n",
    "                                                        'abstract': {\n",
    "                                                            'description': 'Abstract of paper.',\n",
    "                                                            'order': 4,\n",
    "                                                            'value-regex': '[\\\\S\\\\s]{1,5000}',\n",
    "                                                            'required':True\n",
    "                                                        },\n",
    "                                                        'pdf': {\n",
    "                                                            'description': 'Upload a PDF file that ends with .pdf',\n",
    "                                                            'order': 5,\n",
    "                                                            'value-regex': 'upload',\n",
    "                                                            'required':True\n",
    "                                                        }\n",
    "                                                    }\n",
    "\n",
    "                                            }))"
   ]
  },
  {
   "cell_type": "code",
   "execution_count": 23,
   "metadata": {},
   "outputs": [
    {
     "name": "stdout",
     "output_type": "stream",
     "text": [
      "{'cdate': 1531340152826,\n",
      " 'ddate': None,\n",
      " 'duedate': None,\n",
      " 'id': u'ICML.cc/2019/Conference/-/Comment',\n",
      " 'invitees': [u'everyone'],\n",
      " 'multiReply': None,\n",
      " 'noninvitees': [],\n",
      " 'nonreaders': [],\n",
      " 'process': None,\n",
      " 'rdate': None,\n",
      " 'readers': [u'everyone'],\n",
      " 'reply': {u'content': {u'comment': {u'description': u'Comment',\n",
      "                                     u'order': 2,\n",
      "                                     u'value-regex': u'.{0,1000}'},\n",
      "                        u'title': {u'description': u'Comment title',\n",
      "                                   u'order': 1,\n",
      "                                   u'value-regex': u'.*'}},\n",
      "           u'invitation': u'ICML.cc/2019/Conference/-/Submission',\n",
      "           u'readers': {u'values': [u'everyone']},\n",
      "           u'signatures': {u'values-regex': u'\\\\(anonymous\\\\)|~.*'},\n",
      "           u'writers': {u'values-regex': u'\\\\(anonymous\\\\)|~.*'}},\n",
      " 'signatures': [u'ICML.cc/2019/Conference'],\n",
      " 'taskCompletionCount': None,\n",
      " 'transform': None,\n",
      " 'web': None,\n",
      " 'writers': [u'ICML.cc/2019/Conference']}\n"
     ]
    }
   ],
   "source": [
    "print client.post_invitation(openreview.Invitation(id = 'ICML.cc/2019/Conference/-/Comment',\n",
    "                                                   readers = ['everyone'],\n",
    "                                                   writers = ['ICML.cc/2019/Conference'],\n",
    "                                                   signatures = ['ICML.cc/2019/Conference'],\n",
    "                                                   invitees = ['everyone'],\n",
    "                                                    reply = {\n",
    "                                                            'invitation': 'ICML.cc/2019/Conference/-/Submission',\n",
    "                                                            'content': {\n",
    "                                                                'title': {\n",
    "                                                                    'description': 'Comment title',\n",
    "                                                                    'order': 1,\n",
    "                                                                    'value-regex': '.*'\n",
    "                                                                },\n",
    "                                                                'comment': {\n",
    "                                                                    'description': 'Comment',\n",
    "                                                                    'order': 2,\n",
    "                                                                    'value-regex': '.{0,1000}'\n",
    "                                                                }\n",
    "                                                            },\n",
    "                                                            'readers': {\n",
    "                                                                'values': ['everyone']\n",
    "                                                            },\n",
    "                                                            'signatures': {\n",
    "                                                                'values-regex': '\\\\(anonymous\\\\)|~.*'\n",
    "                                                            },\n",
    "                                                            'writers': {\n",
    "                                                                'values-regex': '\\\\(anonymous\\\\)|~.*'\n",
    "                                                            }\n",
    "                                                    }))"
   ]
  },
  {
   "cell_type": "code",
   "execution_count": null,
   "metadata": {},
   "outputs": [],
   "source": [
    "# post the groups in the conference's path\n",
    "icml_groups = openreview.tools.build_groups(icml.conference.id)\n",
    "for group in icml_groups:\n",
    "    try:\n",
    "        existing_group = client.get_group(group.id)\n",
    "    except openreview.OpenReviewException as e:\n",
    "        posted_group = client.post_group(group)\n",
    "        print(posted_group.id)"
   ]
  },
  {
   "cell_type": "code",
   "execution_count": null,
   "metadata": {},
   "outputs": [],
   "source": [
    "# post the conference group with updated parameters\n",
    "client.post_group(icml.conference)"
   ]
  },
  {
   "cell_type": "markdown",
   "metadata": {},
   "source": [
    "### Features\n",
    "\n",
    "- Reviewer and Area Chair recruitment\n",
    "- Double-blind Paper Submission\n",
    "- Area Chair and Reviewer bidding\n",
    "- Areachair recommendations for reviewers\n",
    "- Reviewer assignment\n",
    "- Reviews and Comments\n",
    "- Area chair and Program chair console(s)\n",
    "\n",
    "### To Do Features\n",
    "- Reviewer and area chair reviewer matching browser\n"
   ]
  },
  {
   "cell_type": "markdown",
   "metadata": {},
   "source": [
    "### Reviewer and Area Chair recruitment"
   ]
  },
  {
   "cell_type": "code",
   "execution_count": null,
   "metadata": {},
   "outputs": [],
   "source": [
    "# post reviewer groups that we can use to track those that were invited, \n",
    "# and those that accepted or declined the invitation.\n",
    "\n",
    "icml.reviewers.members = [\n",
    "    'redreviewer@openreview.net',\n",
    "    'bluereviewer@openreview.net',\n",
    "    'greenreviewer@openreview.net'\n",
    "]\n",
    "\n",
    "client.post_group(icml.reviewers)\n",
    "client.post_group(icml.reviewers_invited)\n",
    "client.post_group(icml.reviewers_declined)"
   ]
  },
  {
   "cell_type": "code",
   "execution_count": null,
   "metadata": {},
   "outputs": [],
   "source": [
    "# do the same for area chairs.\n",
    "icml.area_chairs.members = ['icmlareachair@openreview.net']\n",
    "\n",
    "client.post_group(icml.area_chairs)\n",
    "client.post_group(icml.area_chairs_invited)\n",
    "client.post_group(icml.area_chairs_declined)"
   ]
  },
  {
   "cell_type": "code",
   "execution_count": null,
   "metadata": {},
   "outputs": [],
   "source": [
    "# post the recruitment invitations\n",
    "client.post_invitation(icml.recruit_reviewers)\n",
    "client.post_invitation(icml.recruit_area_chairs)"
   ]
  },
  {
   "cell_type": "code",
   "execution_count": null,
   "metadata": {},
   "outputs": [],
   "source": [
    "# define some potential reviewers and area chairs\n",
    "rev_email = 'icmlreviewer@openreview.net'\n",
    "rev_firstname = 'ICML Reviewer'"
   ]
  },
  {
   "cell_type": "code",
   "execution_count": null,
   "metadata": {},
   "outputs": [],
   "source": [
    "# deploy reviewer invitation\n",
    "openreview.tools.recruit_reviewer(client, rev_email, rev_firstname,\n",
    "                                 hash_seed = icml.HASH_SEED,\n",
    "                                 recruit_reviewers_id = icml.RECRUIT_REVIEWERS_ID,\n",
    "                                 recruit_message = icml.RECRUIT_REVIEWERS_MESSAGE,\n",
    "                                 recruit_message_subj = icml.RECRUIT_MESSAGE_SUBJ,\n",
    "                                 reviewers_invited_id = icml.REVIEWERS_INVITED_ID\n",
    "                                 )"
   ]
  },
  {
   "cell_type": "markdown",
   "metadata": {},
   "source": [
    "### Double-blind Paper Submission"
   ]
  },
  {
   "cell_type": "code",
   "execution_count": null,
   "metadata": {},
   "outputs": [],
   "source": [
    "# post the submission and blind submission invitations\n",
    "posted_submission_inv = client.post_invitation(icml.submission_inv)\n",
    "posted_blind_inv = client.post_invitation(icml.blind_submission_inv)"
   ]
  },
  {
   "cell_type": "markdown",
   "metadata": {},
   "source": [
    "The following section is for the ICML demo.\n",
    "\n",
    "It collects papers from ICLR 2018 and posts them as if they were ICML submissions."
   ]
  },
  {
   "cell_type": "code",
   "execution_count": null,
   "metadata": {},
   "outputs": [],
   "source": [
    "# collect old ICLR papers and post them\n",
    "old_iclr_papers = client.get_notes(invitation='ICLR.cc/2018/Conference/-/Submission', limit=20)\n",
    "print len(old_iclr_papers)"
   ]
  },
  {
   "cell_type": "code",
   "execution_count": null,
   "metadata": {},
   "outputs": [],
   "source": [
    "# post the ICLR papers\n",
    "for paper in old_iclr_papers:\n",
    "    paper.writers.remove('ICLR.cc/2018/Conference')\n",
    "    paper.writers.append('ICML.cc/2019/Conference')\n",
    "    if 'TL;DR' in paper.content:\n",
    "        paper.content.pop('TL;DR')\n",
    "    \n",
    "    posted_submission = client.post_note(openreview.Note(**{\n",
    "        'writers': paper.writers,\n",
    "        'readers': [icml.CONFERENCE_ID] + paper.content['authorids'] + paper.signatures,\n",
    "        'content': paper.content,\n",
    "        'invitation': icml.SUBMISSION_ID\n",
    "    }))\n",
    "    print posted_submission.content['title']\n",
    "    "
   ]
  },
  {
   "cell_type": "markdown",
   "metadata": {},
   "source": [
    "### Area Chair and Reviewer bidding"
   ]
  },
  {
   "cell_type": "code",
   "execution_count": null,
   "metadata": {},
   "outputs": [],
   "source": [
    "# OpenReview lets area chairs and reviewers (and whoever else) bid on papers.\n",
    "icml.add_bid.invitees = [icml.REVIEWERS_ID, icml.AREA_CHAIRS_ID]\n",
    "client.post_invitation(icml.add_bid)"
   ]
  },
  {
   "cell_type": "markdown",
   "metadata": {},
   "source": [
    "### Reviewer recommendations from area chairs"
   ]
  },
  {
   "cell_type": "code",
   "execution_count": null,
   "metadata": {},
   "outputs": [],
   "source": [
    "# get all currently submitted papers\n",
    "icml_submissions = openreview.tools.get_all_notes(client, icml.BLIND_SUBMISSION_ID)\n",
    "\n",
    "# Add reviewer rec tag invitation to the last five papers\n",
    "for paper in icml_submissions[0:5]:\n",
    "    rec_inv = openreview.invitations.from_template(icml.ac_recommendation_template, paper)\n",
    "    rec_inv.invitees = ['icmlareachair@openreview.net']\n",
    "    posted_inv = client.post_invitation(rec_inv)\n",
    "    print posted_inv.id"
   ]
  },
  {
   "cell_type": "code",
   "execution_count": null,
   "metadata": {},
   "outputs": [],
   "source": [
    "# convert reviewers to canonical identities\n",
    "\n",
    "reviewers_group = client.get_group(icml.REVIEWERS_ID)\n",
    "for member in reviewers_group.members:\n",
    "    if '@' in member:\n",
    "        profile = client.get_profile(member)\n",
    "        client.remove_members_from_group(reviewers_group, member)\n",
    "        client.add_members_to_group(reviewers_group, profile.id)\n",
    "        "
   ]
  },
  {
   "cell_type": "markdown",
   "metadata": {},
   "source": [
    "### Official Reviews, Official Comments, and Open Comments"
   ]
  },
  {
   "cell_type": "code",
   "execution_count": null,
   "metadata": {},
   "outputs": [],
   "source": [
    "# get all currently submitted papers\n",
    "icml_submissions = openreview.tools.get_all_notes(client, icml.BLIND_SUBMISSION_ID)\n",
    "\n",
    "# assign some papers\n",
    "for paper in icml_submissions[0:5] + [icml_submissions[-1]]:\n",
    "    openreview.tools.assign(client, paper.number, icml.CONFERENCE_ID,\n",
    "        reviewer_to_add = 'icmlreviewer@openreview.net',\n",
    "        parent_label = 'Reviewers',\n",
    "        individual_label = 'AnonReviewer',\n",
    "        individual_group_params = {\n",
    "            'readers': [icml.AREA_CHAIRS_ID]\n",
    "        })\n",
    "    openreview.tools.assign(client, paper.number, icml.CONFERENCE_ID,\n",
    "        reviewer_to_add = 'icmlareachair@openreview.net',\n",
    "        parent_label = 'Area_Chairs',\n",
    "        individual_label = 'Area_Chair')"
   ]
  },
  {
   "cell_type": "code",
   "execution_count": null,
   "metadata": {},
   "outputs": [],
   "source": [
    "# get all currently submitted papers\n",
    "icml_submissions = openreview.tools.get_all_notes(client, icml.BLIND_SUBMISSION_ID)\n",
    "\n",
    "# enable reviews\n",
    "for paper in icml_submissions:\n",
    "    client.post_invitation(openreview.invitations.from_template(icml.official_review_template, paper))\n",
    "    client.post_invitation(openreview.invitations.from_template(icml.official_comment_template, paper))\n",
    "    client.post_invitation(openreview.invitations.from_template(icml.meta_review_template, paper))"
   ]
  },
  {
   "cell_type": "code",
   "execution_count": null,
   "metadata": {},
   "outputs": [],
   "source": [
    "# get all currently submitted papers\n",
    "icml_submissions = openreview.tools.get_all_notes(client, icml.BLIND_SUBMISSION_ID)\n",
    "\n",
    "for paper in icml_submissions:\n",
    "    metadata_params = {\n",
    "        'forum': paper.id,\n",
    "        'replyto': paper.id,\n",
    "        'invitation': icml.REVIEWER_METADATA_ID,\n",
    "        'readers': {\n",
    "            'values': [\n",
    "                icml.CONFERENCE_ID\n",
    "            ]\n",
    "        },\n",
    "        'writers': {\n",
    "            'values': [icml.CONFERENCE_ID]\n",
    "        },\n",
    "        'signatures': {\n",
    "            'values': [icml.CONFERENCE_ID]},\n",
    "        'content': {\n",
    "            'groups': {\n",
    "                icml.REVIEWERS_ID: [\n",
    "                    {\n",
    "                        'scores': {'affinity': 1.0},\n",
    "                        'constraints': {'cmtConflict': '-inf'},\n",
    "                        'userId': '~Red_Reviewer1'\n",
    "                    },\n",
    "                    {\n",
    "                        'scores': {'affinity': 1.0},\n",
    "                        'constraints': {'cmtConflict': '-inf'},\n",
    "                        'userId': '~Blue_Reviewer1'\n",
    "                    },\n",
    "                    {\n",
    "                        'scores': {'affinity': 1.0},\n",
    "                        'constraints': {'cmtConflict': '-inf'},\n",
    "                        'userId': '~Green_Reviewer1'\n",
    "                    },\n",
    "                    {\n",
    "                        'scores': {'affinity': 1.0},\n",
    "                        'constraints': {'cmtConflict': '-inf'},\n",
    "                        'userId': '~ICML_Reviewer1'\n",
    "                    }\n",
    "                ]\n",
    "            }\n",
    "        }\n",
    "    }"
   ]
  },
  {
   "cell_type": "code",
   "execution_count": null,
   "metadata": {},
   "outputs": [],
   "source": [
    "import random\n",
    "\n",
    "client.post_invitation(icml.assignment_inv)\n",
    "\n",
    "for paper in icml_submissions:\n",
    "    finalscore = random.random()\n",
    "    assignment_params = {\n",
    "        'invitation': icml.ASSIGNMENT_INV_ID,\n",
    "        'readers': [icml.CONFERENCE_ID],\n",
    "        'writers': [icml.CONFERENCE_ID],\n",
    "        'signatures': [icml.CONFERENCE_ID],\n",
    "        'forum': paper.id,\n",
    "        'replyto': paper.id,\n",
    "        'content': {\n",
    "            'label': 'reviewers',\n",
    "            'assignedGroups': [\n",
    "                {\n",
    "                    \"finalScore\": 1.0,\n",
    "                    \"scores\": {\n",
    "                        \"affinity\": 1.0\n",
    "                    },\n",
    "                    \"constraints\": {},\n",
    "                    \"userId\": \"~Red_Reviewer1\"\n",
    "                },\n",
    "            ],\n",
    "            'alternateGroups': [\n",
    "                {\n",
    "                    \"finalScore\": random.random(),\n",
    "                    \"scores\": {\n",
    "                        \"affinity\": random.random()\n",
    "                    },\n",
    "                    \"constraints\": {'conflict': '-inf'},\n",
    "                    \"userId\": \"~Blue_Reviewer1\"\n",
    "                },\n",
    "                {\n",
    "                    \"finalScore\": random.random(),\n",
    "                    \"scores\": {\n",
    "                        \"affinity\": random.random()\n",
    "                    },\n",
    "                    \"constraints\": {},\n",
    "                    \"userId\": \"~Green_Reviewer1\"\n",
    "                },\n",
    "                {\n",
    "                    \"finalScore\": random.random(),\n",
    "                    \"scores\": {\n",
    "                        \"affinity\": random.random()\n",
    "                    },\n",
    "                    \"constraints\": {},\n",
    "                    \"userId\": \"~ICML_Reviewer1\"\n",
    "                },\n",
    "            ]\n",
    "        }   \n",
    "    }\n",
    "    \n",
    "    client.post_note(openreview.Note(**assignment_params))\n"
   ]
  },
  {
   "cell_type": "code",
   "execution_count": null,
   "metadata": {},
   "outputs": [],
   "source": [
    "client.post_invitation(icml.config_inv)\n",
    "config_note = client.post_note(openreview.Note(**{\n",
    "    'invitation': icml.CONFIG_INV_ID,\n",
    "    'readers': [icml.CONFERENCE_ID],\n",
    "    'writers': [icml.CONFERENCE_ID],\n",
    "    'signatures': [icml.CONFERENCE_ID],\n",
    "    'content': {\n",
    "        'label': 'reviewers',\n",
    "        'configuration': {\n",
    "            'minusers': 1,\n",
    "            'maxusers': 1,\n",
    "            'minpapers': 0,\n",
    "            'maxpapers': 8,\n",
    "            'alternates': 5,\n",
    "            'weights': {\n",
    "                'affinity': 1.0,\n",
    "                'acRecommendation': 3.0,\n",
    "                'bidScore': 1.0\n",
    "            }\n",
    "        },\n",
    "        'constraints': {},\n",
    "        'paper_invitation': icml.BLIND_SUBMISSION_ID,\n",
    "        'metadata_invitation': icml.REVIEWER_METADATA_ID,\n",
    "        'assignment_invitation': icml.ASSIGNMENT_INV_ID,\n",
    "        'match_group': icml.REVIEWERS_ID,\n",
    "        'status': 'complete' # 'queued', 'processing', 'complete' or 'error'\n",
    "    }\n",
    "}))"
   ]
  },
  {
   "cell_type": "code",
   "execution_count": null,
   "metadata": {},
   "outputs": [],
   "source": []
  }
 ],
 "metadata": {
  "kernelspec": {
   "display_name": "Python 2",
   "language": "python",
   "name": "python2"
  },
  "language_info": {
   "codemirror_mode": {
    "name": "ipython",
    "version": 2
   },
   "file_extension": ".py",
   "mimetype": "text/x-python",
   "name": "python",
   "nbconvert_exporter": "python",
   "pygments_lexer": "ipython2",
   "version": "2.7.15"
  }
 },
 "nbformat": 4,
 "nbformat_minor": 2
}
